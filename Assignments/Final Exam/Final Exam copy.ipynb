{
 "cells": [
  {
   "cell_type": "code",
   "execution_count": 1,
   "metadata": {},
   "outputs": [],
   "source": [
    "import pandas as pd\n",
    "import numpy as np\n",
    "import matplotlib.pyplot as plt\n",
    "#filter warnings\n",
    "import warnings\n",
    "warnings.filterwarnings(\"ignore\")\n",
    "\n",
    "# Load the data\n",
    "dist = pd.read_csv('mwm_dist.csv')\n",
    "dist.drop(['Status'], axis=1, inplace=True)\n",
    "dist = dist[['OriginInd', 'DestinationInd', 'Distance', 'Time']]\n",
    "dist.sort_values(by=['OriginInd', 'DestinationInd'], inplace=True)\n",
    "dist.reset_index(drop=True, inplace=True)\n",
    "hosp = pd.read_csv('mwm_hosp.csv')"
   ]
  },
  {
   "cell_type": "code",
   "execution_count": 3,
   "metadata": {},
   "outputs": [
    {
     "data": {
      "text/html": [
       "<div>\n",
       "<style scoped>\n",
       "    .dataframe tbody tr th:only-of-type {\n",
       "        vertical-align: middle;\n",
       "    }\n",
       "\n",
       "    .dataframe tbody tr th {\n",
       "        vertical-align: top;\n",
       "    }\n",
       "\n",
       "    .dataframe thead th {\n",
       "        text-align: right;\n",
       "    }\n",
       "</style>\n",
       "<table border=\"1\" class=\"dataframe\">\n",
       "  <thead>\n",
       "    <tr style=\"text-align: right;\">\n",
       "      <th></th>\n",
       "      <th>OriginInd</th>\n",
       "      <th>DestinationInd</th>\n",
       "      <th>Distance</th>\n",
       "      <th>Time</th>\n",
       "    </tr>\n",
       "  </thead>\n",
       "  <tbody>\n",
       "    <tr>\n",
       "      <th>0</th>\n",
       "      <td>0</td>\n",
       "      <td>0</td>\n",
       "      <td>0</td>\n",
       "      <td>0</td>\n",
       "    </tr>\n",
       "    <tr>\n",
       "      <th>1</th>\n",
       "      <td>0</td>\n",
       "      <td>1</td>\n",
       "      <td>34949</td>\n",
       "      <td>1775</td>\n",
       "    </tr>\n",
       "    <tr>\n",
       "      <th>2</th>\n",
       "      <td>0</td>\n",
       "      <td>2</td>\n",
       "      <td>32397</td>\n",
       "      <td>1802</td>\n",
       "    </tr>\n",
       "    <tr>\n",
       "      <th>3</th>\n",
       "      <td>0</td>\n",
       "      <td>3</td>\n",
       "      <td>63731</td>\n",
       "      <td>2829</td>\n",
       "    </tr>\n",
       "    <tr>\n",
       "      <th>4</th>\n",
       "      <td>0</td>\n",
       "      <td>4</td>\n",
       "      <td>49704</td>\n",
       "      <td>2707</td>\n",
       "    </tr>\n",
       "    <tr>\n",
       "      <th>...</th>\n",
       "      <td>...</td>\n",
       "      <td>...</td>\n",
       "      <td>...</td>\n",
       "      <td>...</td>\n",
       "    </tr>\n",
       "    <tr>\n",
       "      <th>13919</th>\n",
       "      <td>117</td>\n",
       "      <td>113</td>\n",
       "      <td>42257</td>\n",
       "      <td>2569</td>\n",
       "    </tr>\n",
       "    <tr>\n",
       "      <th>13920</th>\n",
       "      <td>117</td>\n",
       "      <td>114</td>\n",
       "      <td>8183</td>\n",
       "      <td>1221</td>\n",
       "    </tr>\n",
       "    <tr>\n",
       "      <th>13921</th>\n",
       "      <td>117</td>\n",
       "      <td>115</td>\n",
       "      <td>50469</td>\n",
       "      <td>2718</td>\n",
       "    </tr>\n",
       "    <tr>\n",
       "      <th>13922</th>\n",
       "      <td>117</td>\n",
       "      <td>116</td>\n",
       "      <td>14849</td>\n",
       "      <td>1785</td>\n",
       "    </tr>\n",
       "    <tr>\n",
       "      <th>13923</th>\n",
       "      <td>117</td>\n",
       "      <td>117</td>\n",
       "      <td>0</td>\n",
       "      <td>0</td>\n",
       "    </tr>\n",
       "  </tbody>\n",
       "</table>\n",
       "<p>13924 rows × 4 columns</p>\n",
       "</div>"
      ],
      "text/plain": [
       "       OriginInd  DestinationInd  Distance  Time\n",
       "0              0               0         0     0\n",
       "1              0               1     34949  1775\n",
       "2              0               2     32397  1802\n",
       "3              0               3     63731  2829\n",
       "4              0               4     49704  2707\n",
       "...          ...             ...       ...   ...\n",
       "13919        117             113     42257  2569\n",
       "13920        117             114      8183  1221\n",
       "13921        117             115     50469  2718\n",
       "13922        117             116     14849  1785\n",
       "13923        117             117         0     0\n",
       "\n",
       "[13924 rows x 4 columns]"
      ]
     },
     "execution_count": 3,
     "metadata": {},
     "output_type": "execute_result"
    }
   ],
   "source": [
    "dist"
   ]
  },
  {
   "cell_type": "code",
   "execution_count": 4,
   "metadata": {},
   "outputs": [
    {
     "data": {
      "text/html": [
       "<div>\n",
       "<style scoped>\n",
       "    .dataframe tbody tr th:only-of-type {\n",
       "        vertical-align: middle;\n",
       "    }\n",
       "\n",
       "    .dataframe tbody tr th {\n",
       "        vertical-align: top;\n",
       "    }\n",
       "\n",
       "    .dataframe thead th {\n",
       "        text-align: right;\n",
       "    }\n",
       "</style>\n",
       "<table border=\"1\" class=\"dataframe\">\n",
       "  <thead>\n",
       "    <tr style=\"text-align: right;\">\n",
       "      <th></th>\n",
       "      <th>HospitalID</th>\n",
       "      <th>Name</th>\n",
       "      <th>latitude</th>\n",
       "      <th>longitude</th>\n",
       "    </tr>\n",
       "  </thead>\n",
       "  <tbody>\n",
       "    <tr>\n",
       "      <th>0</th>\n",
       "      <td>0</td>\n",
       "      <td>MWM Headquarters</td>\n",
       "      <td>34.213938</td>\n",
       "      <td>-118.445018</td>\n",
       "    </tr>\n",
       "    <tr>\n",
       "      <th>1</th>\n",
       "      <td>1</td>\n",
       "      <td>Verdugo Hills Hospital</td>\n",
       "      <td>34.204530</td>\n",
       "      <td>-118.216024</td>\n",
       "    </tr>\n",
       "    <tr>\n",
       "      <th>2</th>\n",
       "      <td>2</td>\n",
       "      <td>Barlow Respiratory Hospital - Los Angeles (Mai...</td>\n",
       "      <td>34.075693</td>\n",
       "      <td>-118.248312</td>\n",
       "    </tr>\n",
       "    <tr>\n",
       "      <th>3</th>\n",
       "      <td>3</td>\n",
       "      <td>Glendora Community Hospital</td>\n",
       "      <td>34.127307</td>\n",
       "      <td>-117.865075</td>\n",
       "    </tr>\n",
       "    <tr>\n",
       "      <th>4</th>\n",
       "      <td>4</td>\n",
       "      <td>Providence Little Company Of Mary Medical Cent...</td>\n",
       "      <td>33.838634</td>\n",
       "      <td>-118.357113</td>\n",
       "    </tr>\n",
       "    <tr>\n",
       "      <th>...</th>\n",
       "      <td>...</td>\n",
       "      <td>...</td>\n",
       "      <td>...</td>\n",
       "      <td>...</td>\n",
       "    </tr>\n",
       "    <tr>\n",
       "      <th>113</th>\n",
       "      <td>113</td>\n",
       "      <td>PIH Health Hospital - Downey</td>\n",
       "      <td>33.969794</td>\n",
       "      <td>-118.049255</td>\n",
       "    </tr>\n",
       "    <tr>\n",
       "      <th>114</th>\n",
       "      <td>114</td>\n",
       "      <td>Saint Vincent Medical Center</td>\n",
       "      <td>34.063818</td>\n",
       "      <td>-118.273655</td>\n",
       "    </tr>\n",
       "    <tr>\n",
       "      <th>115</th>\n",
       "      <td>115</td>\n",
       "      <td>San Dimas Community Hospital</td>\n",
       "      <td>34.097612</td>\n",
       "      <td>-117.834659</td>\n",
       "    </tr>\n",
       "    <tr>\n",
       "      <th>116</th>\n",
       "      <td>116</td>\n",
       "      <td>Southern California Hospital at Culver City</td>\n",
       "      <td>34.023195</td>\n",
       "      <td>-118.396943</td>\n",
       "    </tr>\n",
       "    <tr>\n",
       "      <th>117</th>\n",
       "      <td>117</td>\n",
       "      <td>Southern California Hospital at Hollywood</td>\n",
       "      <td>34.096445</td>\n",
       "      <td>-118.325144</td>\n",
       "    </tr>\n",
       "  </tbody>\n",
       "</table>\n",
       "<p>118 rows × 4 columns</p>\n",
       "</div>"
      ],
      "text/plain": [
       "     HospitalID                                               Name   latitude  \\\n",
       "0             0                                   MWM Headquarters  34.213938   \n",
       "1             1                             Verdugo Hills Hospital  34.204530   \n",
       "2             2  Barlow Respiratory Hospital - Los Angeles (Mai...  34.075693   \n",
       "3             3                        Glendora Community Hospital  34.127307   \n",
       "4             4  Providence Little Company Of Mary Medical Cent...  33.838634   \n",
       "..          ...                                                ...        ...   \n",
       "113         113                       PIH Health Hospital - Downey  33.969794   \n",
       "114         114                       Saint Vincent Medical Center  34.063818   \n",
       "115         115                       San Dimas Community Hospital  34.097612   \n",
       "116         116        Southern California Hospital at Culver City  34.023195   \n",
       "117         117          Southern California Hospital at Hollywood  34.096445   \n",
       "\n",
       "      longitude  \n",
       "0   -118.445018  \n",
       "1   -118.216024  \n",
       "2   -118.248312  \n",
       "3   -117.865075  \n",
       "4   -118.357113  \n",
       "..          ...  \n",
       "113 -118.049255  \n",
       "114 -118.273655  \n",
       "115 -117.834659  \n",
       "116 -118.396943  \n",
       "117 -118.325144  \n",
       "\n",
       "[118 rows x 4 columns]"
      ]
     },
     "execution_count": 4,
     "metadata": {},
     "output_type": "execute_result"
    }
   ],
   "source": [
    "hosp"
   ]
  },
  {
   "cell_type": "markdown",
   "metadata": {},
   "source": [
    "Part 1a"
   ]
  },
  {
   "cell_type": "code",
   "execution_count": 5,
   "metadata": {},
   "outputs": [
    {
     "name": "stdout",
     "output_type": "stream",
     "text": [
      "The hospital farthest from the depot is Antelope Valley Hospital with a distance of 90167.00 km\n"
     ]
    }
   ],
   "source": [
    "a = dist.loc[dist['OriginInd'] == 0, 'Distance'].idxmax()\n",
    "\n",
    "print(f'The hospital farthest from the depot is {hosp.loc[a, \"Name\"]} with a distance of {dist.loc[a, \"Distance\"]:.2f} km')"
   ]
  },
  {
   "cell_type": "markdown",
   "metadata": {},
   "source": [
    "Part 1b"
   ]
  },
  {
   "cell_type": "code",
   "execution_count": 6,
   "metadata": {},
   "outputs": [
    {
     "name": "stdout",
     "output_type": "stream",
     "text": [
      "The hospital farthest from the depot is Mission Community Hospital with a distance of 2141.00 km\n"
     ]
    }
   ],
   "source": [
    "b = dist.loc[(dist['OriginInd'] == 0) & (dist['DestinationInd'] != 0), 'Distance'].idxmin()\n",
    "\n",
    "print(f'The hospital farthest from the depot is {hosp.loc[b, \"Name\"]} with a distance of {dist.loc[b, \"Distance\"]:.2f} km')"
   ]
  },
  {
   "cell_type": "markdown",
   "metadata": {},
   "source": [
    "Part 1c"
   ]
  },
  {
   "cell_type": "code",
   "execution_count": 7,
   "metadata": {},
   "outputs": [],
   "source": [
    "def transport_cost(distance):\n",
    "    return 0.1 * distance + 5000"
   ]
  },
  {
   "cell_type": "code",
   "execution_count": 8,
   "metadata": {},
   "outputs": [],
   "source": [
    "#Consider the following heuristic. Starting from MWM’s depot, the next hospital in the sequence is the closest one in distance to the truck’s current location. After all of the hospitals have been visited, the truck travels back to the depot.\n",
    "# What is the cost of the route produced by this heuristic?\n",
    "\n",
    "def heuristic1(dist, hosp):\n",
    "    hospitals = list(hosp.HospitalID.values)\n",
    "    visited = [0]\n",
    "    distance = 0\n",
    "    hospitals.pop(0)\n",
    "    for i in range(len(hospitals)):\n",
    "        next_idx = dist.loc[(dist['DestinationInd'] != 0) & (dist['OriginInd'] == visited[-1]) & (dist['DestinationInd'].isin(hospitals)) & (dist['OriginInd'] != dist['DestinationInd']), 'Distance'].idxmin()\n",
    "        next_hosp = dist.loc[next_idx, 'DestinationInd']\n",
    "        distance += dist.loc[next_idx, 'Distance']\n",
    "        visited.append(next_hosp)\n",
    "        hospitals.pop(hospitals.index(next_hosp))\n",
    "    distance += dist.loc[(dist['OriginInd'] == visited[-1]) & (dist['DestinationInd'] == 0), 'Distance'].values[0]\n",
    "    return distance, visited"
   ]
  },
  {
   "cell_type": "code",
   "execution_count": 9,
   "metadata": {},
   "outputs": [],
   "source": [
    "a, b = heuristic1(dist, hosp)"
   ]
  },
  {
   "cell_type": "code",
   "execution_count": 10,
   "metadata": {},
   "outputs": [
    {
     "data": {
      "text/plain": [
       "94553.90000000001"
      ]
     },
     "execution_count": 10,
     "metadata": {},
     "output_type": "execute_result"
    }
   ],
   "source": [
    "transport_cost(a)"
   ]
  },
  {
   "cell_type": "markdown",
   "metadata": {},
   "source": [
    "Part 1d"
   ]
  },
  {
   "cell_type": "code",
   "execution_count": 11,
   "metadata": {},
   "outputs": [],
   "source": [
    "# Consider the following alternate heuristic: create a random ordering of the 117 hospitals, and visit the hospitals in that sequence before returning to the depot. Simulate this heuristic 100 times, and save the cost of each simulation. (Set your random seed to 50 beforehand.)\n",
    "# What is the average cost of this heuristic over the 100 simulations? What is the best (= lowest) cost that this heuristic attains over the 100 simulations?\n",
    "\n",
    "def get_distances(dist, sequence):\n",
    "    distance = 0\n",
    "    for i in range(len(sequence) - 1):\n",
    "        distance += dist.loc[(dist['OriginInd'] == sequence[i]) & (dist['DestinationInd'] == sequence[i+1]), 'Distance'].values[0]\n",
    "    return distance\n",
    "\n",
    "np.random.seed(50)\n",
    "cost = []\n",
    "\n",
    "for i in range(100):\n",
    "    sequence = np.random.permutation(range(1, 118))\n",
    "    sequence = np.insert(sequence, 0, 0)\n",
    "    sequence = np.append(sequence, 0)\n",
    "    distance = get_distances(dist, sequence)\n",
    "    cost.append(transport_cost(distance))"
   ]
  },
  {
   "cell_type": "markdown",
   "metadata": {},
   "source": []
  },
  {
   "cell_type": "markdown",
   "metadata": {},
   "source": []
  },
  {
   "cell_type": "code",
   "execution_count": null,
   "metadata": {},
   "outputs": [
    {
     "ename": "TypeError",
     "evalue": "unsupported operand type(s) for -: 'bool' and 'NoneType'",
     "output_type": "error",
     "traceback": [
      "\u001b[0;31m---------------------------------------------------------------------------\u001b[0m",
      "\u001b[0;31mTypeError\u001b[0m                                 Traceback (most recent call last)",
      "File \u001b[0;32msrc/gurobipy/callback.pxi:208\u001b[0m, in \u001b[0;36mgurobipy.CallbackClass.callback\u001b[0;34m()\u001b[0m\n",
      "Cell \u001b[0;32mIn[39], line 28\u001b[0m, in \u001b[0;36meliminateSubtours\u001b[0;34m(model, where)\u001b[0m\n\u001b[1;32m     26\u001b[0m \u001b[38;5;28;01mif\u001b[39;00m (\u001b[38;5;28mlen\u001b[39m(subtour_list) \u001b[38;5;241m>\u001b[39m \u001b[38;5;241m1\u001b[39m):\n\u001b[1;32m     27\u001b[0m     \u001b[38;5;28;01mfor\u001b[39;00m subtour \u001b[38;5;129;01min\u001b[39;00m subtour_list:\n\u001b[0;32m---> 28\u001b[0m         model\u001b[38;5;241m.\u001b[39mcbLazy( \u001b[38;5;28msum\u001b[39m(x[i,j] \u001b[38;5;28;01mfor\u001b[39;00m i \u001b[38;5;129;01min\u001b[39;00m subtour \u001b[38;5;28;01mfor\u001b[39;00m j \u001b[38;5;129;01min\u001b[39;00m subtour \u001b[38;5;28;01mif\u001b[39;00m i \u001b[38;5;241m!=\u001b[39m j) \u001b[38;5;241m<\u001b[39m\u001b[38;5;241m=\u001b[39m (\u001b[38;5;28mlen\u001b[39m(subtour) \u001b[38;5;241m-\u001b[39m \u001b[38;5;241m1\u001b[39m))\n",
      "File \u001b[0;32msrc/gurobipy/model.pxi:6992\u001b[0m, in \u001b[0;36mgurobipy.Model.cbLazy\u001b[0;34m()\u001b[0m\n",
      "\u001b[0;31mTypeError\u001b[0m: unsupported operand type(s) for -: 'bool' and 'NoneType'"
     ]
    },
    {
     "name": "stderr",
     "output_type": "stream",
     "text": [
      "Exception ignored in: 'gurobipy.callbackstub'\n",
      "Traceback (most recent call last):\n",
      "  File \"src/gurobipy/callback.pxi\", line 208, in gurobipy.CallbackClass.callback\n",
      "  File \"/var/folders/v0/zsfpxhv11w53vl0c98l6h02m0000gq/T/ipykernel_62873/4006092872.py\", line 28, in eliminateSubtours\n",
      "  File \"src/gurobipy/model.pxi\", line 6992, in gurobipy.Model.cbLazy\n",
      "TypeError: unsupported operand type(s) for -: 'bool' and 'NoneType'\n"
     ]
    },
    {
     "name": "stdout",
     "output_type": "stream",
     "text": [
      "Complete tour:  [117, 32, 5, 58, 1, 84, 103, 90, 31, 33, 41, 98, 16, 71, 0, 20, 95, 73, 43, 25, 63, 74, 21, 15, 52, 83, 19, 68, 28, 6, 112, 65, 70, 116, 24, 78, 62, 17, 96, 55, 114, 12, 9, 51, 45, 57, 108, 35, 4, 48, 14, 69, 89, 111, 80, 11, 26, 34, 27, 42, 23, 61, 46, 86, 37, 53, 110, 30, 18, 113, 13, 40, 8, 85, 109, 36, 66, 101, 88, 22, 87, 115, 3, 82, 7, 81, 50, 104, 59, 100, 49, 102, 97, 99, 39, 64, 107, 67, 47, 76, 94, 92, 38, 44, 79, 60, 54, 77, 93, 29, 75, 2, 105, 106, 91, 56, 10, 72, 117]\n"
     ]
    }
   ],
   "source": [
    "origin_dest_zipped = list(zip(dist['OriginInd'], dist['DestinationInd']))\n",
    "travel_dist_dict = dict( zip(origin_dest_zipped, dist['Distance']) )\n",
    "od_pairs = travel_dist_dict.keys()\n",
    "nHospitals = len(hosp)\n",
    "\n",
    "def getSubtours(sequence):\n",
    "    subtour_list = []\n",
    "    unvisited = list(range(nHospitals))\n",
    "    while ( len(unvisited) > 0 ):\n",
    "        node = unvisited.pop()\n",
    "        subtour = []\n",
    "        subtour.append(node)\n",
    "        next_node = list(filter(lambda t: t[0] == node, sequence))[0][1]\n",
    "        while (next_node in unvisited):\n",
    "            subtour.append(next_node)\n",
    "            unvisited.remove(next_node)\n",
    "            next_node = list(filter(lambda t: t[0] == next_node, sequence))[0][1]\n",
    "        subtour_list.append(subtour)\n",
    "    return subtour_list\n",
    "\n",
    "def eliminateSubtours(model, where):\n",
    "    if (where == GRB.Callback.MIPSOL):\n",
    "        x_val = model.cbGetSolution(x)\n",
    "        sequence = [ (i,j) for (i,j) in od_pairs if x_val[i,j] > 0.5]\n",
    "        subtour_list = getSubtours(sequence)\n",
    "        if (len(subtour_list) > 1):\n",
    "            for subtour in subtour_list:\n",
    "                model.cbLazy( sum(x[i,j] for i in subtour for j in subtour if i != j) <= (len(subtour) - 1))\n",
    "\n",
    "from gurobipy import *\n",
    "\n",
    "m = Model()\n",
    "m.Params.LogToConsole = 0\n",
    "\n",
    "x = m.addVars(od_pairs, vtype = GRB.BINARY)\n",
    "\n",
    "for i in range(nHospitals):\n",
    "    m.addConstr( sum(x[i,j] for j in range(nHospitals) if j != i ) == 1)\n",
    "    m.addConstr( sum(x[j,i] for j in range(nHospitals) if j != i ) == 1)\n",
    "\n",
    "m.setObjective(sum( travel_dist_dict[i,j] * x[i,j] for (i,j) in od_pairs ), GRB.MINIMIZE)\n",
    "\n",
    "m.update()\n",
    "m.params.LazyConstraints = 1\n",
    "m.optimize(eliminateSubtours)\n",
    "\n",
    "sequence = [ (i,j) for (i,j) in od_pairs if x[i,j].x > 0.5]\n",
    "subtour_list = getSubtours(sequence)\n",
    "complete_tour = subtour_list[0]\n",
    "complete_tour.append( complete_tour[0] )\n",
    "print(\"Complete tour: \", complete_tour)"
   ]
  },
  {
   "cell_type": "code",
   "execution_count": null,
   "metadata": {},
   "outputs": [
    {
     "data": {
      "text/plain": [
       "77578.89999999978"
      ]
     },
     "execution_count": 36,
     "metadata": {},
     "output_type": "execute_result"
    }
   ],
   "source": [
    "transport_cost(m.objVal)"
   ]
  },
  {
   "cell_type": "code",
   "execution_count": null,
   "metadata": {},
   "outputs": [
    {
     "name": "stdout",
     "output_type": "stream",
     "text": [
      "Mission Community Hospital\n",
      "Mission City Community Network Inc\n",
      "Northridge Hospital Medical Center\n",
      "West Hills Hospital and Medical Center\n",
      "Kaiser Permanente - Woodland Hills Medical Center\n"
     ]
    }
   ],
   "source": [
    "#first five hospitals starting from 0\n",
    "for hospital in complete_tour[complete_tour.index(0)+1:complete_tour.index(0)+6]:\n",
    "    print(hosp.loc[hospital, \"Name\"])"
   ]
  },
  {
   "cell_type": "markdown",
   "metadata": {},
   "source": [
    "Q2"
   ]
  },
  {
   "cell_type": "code",
   "execution_count": null,
   "metadata": {},
   "outputs": [],
   "source": [
    "# A new bike-share company is interested in selecting docking locations for its bikes in Santa Monica. \n",
    "# There are 42 candidate locations being considered by the bike-share company. \n",
    "# The company has identified 700 potential customers who may be interested in using the service. \n",
    "# The company would like to select exactly 10 locations, but does not know where these locations should be.\n",
    "# The file bikeshare-time.csv contains the walking time between each candidate location (1,. . . ,42) and each potential customer (1, . . . , 700). \n",
    "# The file bikeshare-customer-locations-v2.csv con- tains the locations of the customers, as well as an additional column (walktime) \n",
    "# which will be used in Part 4. The file bikeshare-dock-locations-v2.csv contains the locations of the dock locations, \n",
    "# as well as an additional column (capacity) which will be used in Part 4.\n",
    "\n",
    "bikeshare_dock_locations = pd.read_csv('bikeshare_dock_locations.csv')\n",
    "bikeshare_customer_locations = pd.read_csv('bikeshare_customer_locations.csv')\n",
    "bikeshare_time = pd.read_csv('bikeshare_time.csv', header=None).values"
   ]
  },
  {
   "cell_type": "code",
   "execution_count": null,
   "metadata": {},
   "outputs": [
    {
     "data": {
      "text/html": [
       "<div>\n",
       "<style scoped>\n",
       "    .dataframe tbody tr th:only-of-type {\n",
       "        vertical-align: middle;\n",
       "    }\n",
       "\n",
       "    .dataframe tbody tr th {\n",
       "        vertical-align: top;\n",
       "    }\n",
       "\n",
       "    .dataframe thead th {\n",
       "        text-align: right;\n",
       "    }\n",
       "</style>\n",
       "<table border=\"1\" class=\"dataframe\">\n",
       "  <thead>\n",
       "    <tr style=\"text-align: right;\">\n",
       "      <th></th>\n",
       "      <th>customer</th>\n",
       "      <th>longitude</th>\n",
       "      <th>latitude</th>\n",
       "      <th>walktime</th>\n",
       "    </tr>\n",
       "  </thead>\n",
       "  <tbody>\n",
       "    <tr>\n",
       "      <th>0</th>\n",
       "      <td>1</td>\n",
       "      <td>-118.464515</td>\n",
       "      <td>34.036088</td>\n",
       "      <td>300</td>\n",
       "    </tr>\n",
       "    <tr>\n",
       "      <th>1</th>\n",
       "      <td>2</td>\n",
       "      <td>-118.461880</td>\n",
       "      <td>34.033794</td>\n",
       "      <td>120</td>\n",
       "    </tr>\n",
       "    <tr>\n",
       "      <th>2</th>\n",
       "      <td>3</td>\n",
       "      <td>-118.461481</td>\n",
       "      <td>34.033850</td>\n",
       "      <td>480</td>\n",
       "    </tr>\n",
       "    <tr>\n",
       "      <th>3</th>\n",
       "      <td>4</td>\n",
       "      <td>-118.486521</td>\n",
       "      <td>34.024456</td>\n",
       "      <td>360</td>\n",
       "    </tr>\n",
       "    <tr>\n",
       "      <th>4</th>\n",
       "      <td>5</td>\n",
       "      <td>-118.470259</td>\n",
       "      <td>34.039326</td>\n",
       "      <td>600</td>\n",
       "    </tr>\n",
       "  </tbody>\n",
       "</table>\n",
       "</div>"
      ],
      "text/plain": [
       "   customer   longitude   latitude  walktime\n",
       "0         1 -118.464515  34.036088       300\n",
       "1         2 -118.461880  34.033794       120\n",
       "2         3 -118.461481  34.033850       480\n",
       "3         4 -118.486521  34.024456       360\n",
       "4         5 -118.470259  34.039326       600"
      ]
     },
     "execution_count": 179,
     "metadata": {},
     "output_type": "execute_result"
    }
   ],
   "source": [
    "bikeshare_customer_locations.head()"
   ]
  },
  {
   "cell_type": "code",
   "execution_count": null,
   "metadata": {},
   "outputs": [
    {
     "data": {
      "text/html": [
       "<div>\n",
       "<style scoped>\n",
       "    .dataframe tbody tr th:only-of-type {\n",
       "        vertical-align: middle;\n",
       "    }\n",
       "\n",
       "    .dataframe tbody tr th {\n",
       "        vertical-align: top;\n",
       "    }\n",
       "\n",
       "    .dataframe thead th {\n",
       "        text-align: right;\n",
       "    }\n",
       "</style>\n",
       "<table border=\"1\" class=\"dataframe\">\n",
       "  <thead>\n",
       "    <tr style=\"text-align: right;\">\n",
       "      <th></th>\n",
       "      <th>candidate</th>\n",
       "      <th>longitude</th>\n",
       "      <th>latitude</th>\n",
       "      <th>capacity</th>\n",
       "    </tr>\n",
       "  </thead>\n",
       "  <tbody>\n",
       "    <tr>\n",
       "      <th>0</th>\n",
       "      <td>1</td>\n",
       "      <td>-118.494089</td>\n",
       "      <td>34.019297</td>\n",
       "      <td>60</td>\n",
       "    </tr>\n",
       "    <tr>\n",
       "      <th>1</th>\n",
       "      <td>2</td>\n",
       "      <td>-118.479515</td>\n",
       "      <td>34.012164</td>\n",
       "      <td>70</td>\n",
       "    </tr>\n",
       "    <tr>\n",
       "      <th>2</th>\n",
       "      <td>3</td>\n",
       "      <td>-118.481021</td>\n",
       "      <td>34.029711</td>\n",
       "      <td>50</td>\n",
       "    </tr>\n",
       "    <tr>\n",
       "      <th>3</th>\n",
       "      <td>4</td>\n",
       "      <td>-118.461908</td>\n",
       "      <td>34.017341</td>\n",
       "      <td>60</td>\n",
       "    </tr>\n",
       "    <tr>\n",
       "      <th>4</th>\n",
       "      <td>5</td>\n",
       "      <td>-118.494246</td>\n",
       "      <td>34.037268</td>\n",
       "      <td>80</td>\n",
       "    </tr>\n",
       "  </tbody>\n",
       "</table>\n",
       "</div>"
      ],
      "text/plain": [
       "   candidate   longitude   latitude  capacity\n",
       "0          1 -118.494089  34.019297        60\n",
       "1          2 -118.479515  34.012164        70\n",
       "2          3 -118.481021  34.029711        50\n",
       "3          4 -118.461908  34.017341        60\n",
       "4          5 -118.494246  34.037268        80"
      ]
     },
     "execution_count": 178,
     "metadata": {},
     "output_type": "execute_result"
    }
   ],
   "source": [
    "bikeshare_dock_locations.head()"
   ]
  },
  {
   "cell_type": "code",
   "execution_count": null,
   "metadata": {},
   "outputs": [
    {
     "data": {
      "text/plain": [
       "array([[2946, 2987, 1627, ..., 2245, 1278, 2044],\n",
       "       [1320, 2230,  207, ..., 1294, 3257,  552],\n",
       "       [ 784, 2154, 3041, ..., 1540, 1008,  480],\n",
       "       ...,\n",
       "       [ 755, 2252, 1985, ..., 1765, 1721, 2486],\n",
       "       [ 840, 2678,  255, ...,  291, 3512,  369],\n",
       "       [1173, 1567, 3012, ..., 2523, 2370, 2366]])"
      ]
     },
     "execution_count": 53,
     "metadata": {},
     "output_type": "execute_result"
    }
   ],
   "source": [
    "bikeshare_time"
   ]
  },
  {
   "cell_type": "code",
   "execution_count": null,
   "metadata": {},
   "outputs": [
    {
     "name": "stdout",
     "output_type": "stream",
     "text": [
      "[3, 7, 8, 10, 18, 23, 24, 26, 27, 37]\n"
     ]
    }
   ],
   "source": [
    "# Part 1: Minimizing average distance\n",
    "# The first question that the bike-share company asks is where to locate the 10 docking stations so as to minimize the \n",
    "# average distance of each customer from their closest location.\n",
    "\n",
    "m = bikeshare_customer_locations.shape[0]\n",
    "n = bikeshare_dock_locations.shape[0]\n",
    "\n",
    "from gurobipy import *\n",
    "\n",
    "m1 = Model()\n",
    "m1.Params.LogToConsole = 0\n",
    "\n",
    "x = m1.addVars(n, vtype = GRB.BINARY)\n",
    "y = m1.addVars(n, m, vtype = GRB.BINARY)\n",
    "\n",
    "for j in range(m):\n",
    "    m1.addConstr(sum(y[i,j] for i in range(n)) == 1)\n",
    "    for i in range(n):\n",
    "        m1.addConstr(y[i,j] <= x[i])\n",
    "\n",
    "m1.addConstr( sum(x[i] for i in range(n)) <= 10)\n",
    "m1.setObjective(1.0/m * sum( bikeshare_time[i,j] * y[i,j] for i in range(n) for j in range(m)), GRB.MINIMIZE)\n",
    "\n",
    "m1.update()\n",
    "m1.optimize()\n",
    "\n",
    "locs = [i for i in range(n) if x[i].x > 0.5]\n",
    "print(locs)"
   ]
  },
  {
   "cell_type": "code",
   "execution_count": null,
   "metadata": {},
   "outputs": [
    {
     "data": {
      "text/plain": [
       "487.8099999999998"
      ]
     },
     "execution_count": 56,
     "metadata": {},
     "output_type": "execute_result"
    }
   ],
   "source": [
    "m1.ObjVal"
   ]
  },
  {
   "cell_type": "code",
   "execution_count": null,
   "metadata": {},
   "outputs": [
    {
     "name": "stdout",
     "output_type": "stream",
     "text": [
      "[4, 12, 14, 19, 21, 24, 25, 27, 29, 41]\n"
     ]
    }
   ],
   "source": [
    "# Part 2: Minimizing maximum distance\n",
    "# The bike-share company now considers an alternate strategy to determining the locations of the docking stations, \n",
    "# based on minimizing the maximum walking distance of any customer from their closest docking station.\n",
    "\n",
    "m2 = Model()\n",
    "m2.Params.LogToConsole = 0\n",
    "\n",
    "x = m2.addVars(n, vtype = GRB.BINARY)\n",
    "y = m2.addVars(n,m, vtype = GRB.BINARY)\n",
    "r = m2.addVar()\n",
    "\n",
    "\n",
    "# Add the constraints:\n",
    "for j in range(m):\n",
    "    m2.addConstr(sum(y[i,j] for i in range(n)) == 1) # each customer must be served\n",
    "    for i in range(n):\n",
    "        m2.addConstr(y[i,j] <= x[i]) # a customer j is served by location i only if location i is opened\n",
    "    \n",
    "    m2.addConstr(r >= sum( bikeshare_time[i,j] * y[i,j] for i in range(n)))\n",
    "\n",
    "# Add the constraint that we do not open more than five docking stations\n",
    "m2.addConstr( sum(x[i] for i in range(n)) <= 10)\n",
    "\n",
    "# Set the objective (minimize average walking distance for all customers)\n",
    "m2.setObjective(r, GRB.MINIMIZE)\n",
    "\n",
    "# Solve the problem!\n",
    "m2.update()\n",
    "m2.optimize()\n",
    "\n",
    "locs = [i for i in range(n) if x[i].x > 0.5]\n",
    "print(locs)"
   ]
  },
  {
   "cell_type": "code",
   "execution_count": null,
   "metadata": {},
   "outputs": [
    {
     "data": {
      "text/plain": [
       "1268.0"
      ]
     },
     "execution_count": 61,
     "metadata": {},
     "output_type": "execute_result"
    }
   ],
   "source": [
    "m2.ObjVal"
   ]
  },
  {
   "cell_type": "code",
   "execution_count": null,
   "metadata": {},
   "outputs": [
    {
     "name": "stdout",
     "output_type": "stream",
     "text": [
      "[7, 8, 11, 14, 18, 23, 24, 27, 33, 36]\n"
     ]
    }
   ],
   "source": [
    "# Part 3: Maximizing coverage\n",
    "# From customer surveys, a major concern for many customers is having to walk too far to the closest docking station. \n",
    "# Suppose that the company now wishes to locate its docking stations so as to maximize the number of customers who are within \n",
    "# 10 minutes = 600 seconds of a docking station.\n",
    "\n",
    "coverage_time = 600\n",
    "a_mat = np.asarray([[int(bikeshare_time[i,j] < coverage_time) for j in range(m)] for i in range(n)])\n",
    "\n",
    "# Create the Gurobi model. \n",
    "m3 = Model()\n",
    "m3.Params.LogToConsole = 0\n",
    "\n",
    "x = m3.addVars(n, vtype = GRB.BINARY)\n",
    "z = m3.addVars(m, vtype = GRB.BINARY)\n",
    "\n",
    "# Create coverage constraints: \n",
    "# if z[j] is 1 then for at least one i that covers j, x[i] must be equal to 1.\n",
    "for j in range(m):\n",
    "    m3.addConstr(z[j] <= sum(a_mat[i, j] * x[i] for i in range(n)))\n",
    "\n",
    "m3.addConstr(sum(x[i] for i in range(n)) == 10) \n",
    "\n",
    "\n",
    "m3.setObjective( sum(z[j] for j in range(m) ), GRB.MAXIMIZE)\n",
    "\n",
    "m3.update()\n",
    "m3.optimize()\n",
    "\n",
    "locs = [i for i in range(n) if x[i].x > 0.5]\n",
    "print(locs)"
   ]
  },
  {
   "cell_type": "code",
   "execution_count": null,
   "metadata": {},
   "outputs": [
    {
     "data": {
      "text/plain": [
       "496.0"
      ]
     },
     "execution_count": 71,
     "metadata": {},
     "output_type": "execute_result"
    }
   ],
   "source": [
    "m3.ObjVal"
   ]
  },
  {
   "cell_type": "code",
   "execution_count": null,
   "metadata": {},
   "outputs": [
    {
     "name": "stdout",
     "output_type": "stream",
     "text": [
      "[0, 1, 2, 3, 4, 5, 6, 7, 8, 9]\n"
     ]
    }
   ],
   "source": [
    "# From further customer surveys, the company has determined that each customer will in general use the dock location that is nearest to him/her (requiring the least amount of time to walk to). Each potential customer has indicated to the company the most amount of time that he/she would be willing to walk to reach a dock location. This time varies between 2 and 10 minutes for each customer. The file bikeshare-customer-locations-v2.csv contains the maximum amount of time that each customer has indicated that they would walk (walktime). If the closest dock location is farther in time than this maximum amount, the customer will give up and not retrieve a bike.\n",
    "# An additional concern that the company has recognized is that the candidate sites for the docking stations are limited in capacity. The file bikeshare-dock-locations-v2.csv includes how many bikes will be stored at each candidate location (capacity). If the number of customers who choose to walk to a particular location exceeds the capacity of that location, the customers in excess of the capacity will not be able to obtain a bike.\n",
    "# The company wishes to minimize an objective that captures the sum of two quantities:\n",
    "# • F1: the number of customers who do not obtain a bike (either because a bike is unavailable at their closest dock location, or because the closest dock location was too far); and\n",
    "# • F2: the number of bikes at an open docking station that are unused by any customer.\n",
    "# The company determines that F1 is twice as important as F2, and hence wishes to minimize 2F1 +F2.\n",
    "# a) Write down an abstract formulation of the problem as an integer programming problem. Define the decision variables, constraints and objective function, and any parameters that your formu- lation requires. Explain why your formulation is correct. (Do not formulate any constraints with actual numbers, with the exception of the requirement that 10 docking stations be selected.)\n",
    "# Formulate and solve your problem in Python using Gurobi.\n",
    "\n",
    "walktime = bikeshare_customer_locations['walktime'].values\n",
    "capacity = bikeshare_dock_locations['capacity'].values\n",
    "\n",
    "# Create the Gurobi model.\n",
    "m4 = Model()\n",
    "m4.Params.LogToConsole = 0\n",
    "\n",
    "x = m4.addVars(n, vtype = GRB.BINARY) # location i is opened\n",
    "y = m4.addVars(n,m, vtype = GRB.BINARY) # customer i is served by location j\n",
    "z = m4.addVars(m, vtype = GRB.BINARY) \n",
    "\n",
    "a_mat = np.asarray( [ [int(bikeshare_time[i,j] < walktime[j]) for j in range(m)] for i in range(n)])\n",
    "\n",
    "# Create the constraints\n",
    "for j in range(m):\n",
    "    m4.addConstr( sum(y[i,j] for i in range(n)) == 1) # each customer must be served\n",
    "    for i in range(n):\n",
    "        m4.addConstr( y[i,j] <= x[i] ) # a customer j is served by location i only if location i is opened\n",
    "        m4.addConstr( a_mat[i,j] * x[i] <= z[i] ) # if a customer j is served by location i, then location i must be opened\n",
    "\n",
    "m4.addConstr( sum(x[i] for i in range(n)) == 10) # we must open 10 locations\n",
    "m4.addConstr( sum(z[j] for j in range(m)) <= sum(capacity) ) # the number of customers served must be less than the total capacity\n",
    "\n",
    "# Set the objective\n",
    "m4.setObjective( 2 * sum(z[j] for j in range(m)) + sum( x[i] for i in range(n) ), GRB.MINIMIZE) # minimize the number of customers who do not obtain a bike and the number of unused bikes\n",
    "\n",
    "m4.update()\n",
    "m4.optimize()\n",
    "\n",
    "locs = [i for i in range(n) if x[i].x > 0.5]\n",
    "print(locs)\n",
    "\n",
    "\n",
    "\n",
    "# locs = [i for i in range(n) if x[i].x > 0.5]\n",
    "# print(locs)"
   ]
  },
  {
   "cell_type": "code",
   "execution_count": null,
   "metadata": {},
   "outputs": [
    {
     "data": {
      "text/plain": [
       "30.0"
      ]
     },
     "execution_count": 78,
     "metadata": {},
     "output_type": "execute_result"
    }
   ],
   "source": [
    "m4.ObjVal"
   ]
  },
  {
   "cell_type": "code",
   "execution_count": null,
   "metadata": {},
   "outputs": [
    {
     "data": {
      "text/plain": [
       "700.0"
      ]
     },
     "execution_count": 80,
     "metadata": {},
     "output_type": "execute_result"
    }
   ],
   "source": [
    "# how many customers do not obtain a bike\n",
    "sum(y[i,j].x for i in range(n) for j in range(m) )\n"
   ]
  },
  {
   "cell_type": "markdown",
   "metadata": {},
   "source": [
    "Q3"
   ]
  },
  {
   "cell_type": "code",
   "execution_count": null,
   "metadata": {},
   "outputs": [],
   "source": [
    "# A grocery store chain must decide on how many units to stock of a strawberry product (a 10.5 oz pack of fresh organic strawberries) each week. The product is sold for $6 in the grocery store, and costs $3 per unit to stock. Each unit that is unsold after a week is sold to a processing plant that uses the no longer fresh strawberries to produce strawberry-based products (such as jam). The price at which each unsold unit is sold to the processing plant is $1.5. So as an example, if 5 units of the product are demanded and we have only stocked 3 units, then the profit is\n",
    "# $6 × 3 − $3 × 3 = $9 (1) \n",
    "# On the other hand, if 5 units of the product are demanded and we stocked 7 units, then the profit is\n",
    "# $6×5−$3×7+$1.5×(7−5) = $12. (2)\n",
    "# The grocery store chain is interested in deciding how many units of this strawberry product to stock each week. To aid in this decision, the grocery store has provided a data set, strawberry.csv, containing 200 weeks of demand. For each week, the grocery store has data on the demand for the strawberry product (the column demand), as well as several other covariates. These include:\n",
    "# • app.logins: the number of logins to the grocery store’s app, which provides information about special products and promotions;\n",
    "# • temperature: the average weekly temperature in degrees Fahrenheit;\n",
    "# • prev.demand: the demand for the strawberry product in the previous week; and\n",
    "# • prev.demand.2: the demand for the strawberry product two weeks ago.\n",
    "# Part 1: A constant order quantity\n",
    "# As a first step, the grocery store chain considers ordering the same quantity each week, and assuming that the time-varying factors that provided in the dataset do not affect demand. Before solving the data, split the data as follows: set the training set equal to the first 150 observations and the test set equal to the remaining 50 observations.\n",
    "\n",
    "strawberry = pd.read_csv('strawberry.csv')\n",
    "train = strawberry.iloc[:150]\n",
    "test = strawberry.iloc[150:]"
   ]
  },
  {
   "cell_type": "markdown",
   "metadata": {},
   "source": [
    "Part 1a"
   ]
  },
  {
   "cell_type": "code",
   "execution_count": null,
   "metadata": {},
   "outputs": [
    {
     "data": {
      "text/html": [
       "<div>\n",
       "<style scoped>\n",
       "    .dataframe tbody tr th:only-of-type {\n",
       "        vertical-align: middle;\n",
       "    }\n",
       "\n",
       "    .dataframe tbody tr th {\n",
       "        vertical-align: top;\n",
       "    }\n",
       "\n",
       "    .dataframe thead th {\n",
       "        text-align: right;\n",
       "    }\n",
       "</style>\n",
       "<table border=\"1\" class=\"dataframe\">\n",
       "  <thead>\n",
       "    <tr style=\"text-align: right;\">\n",
       "      <th></th>\n",
       "      <th>week</th>\n",
       "      <th>demand</th>\n",
       "      <th>app.logins</th>\n",
       "      <th>temperature</th>\n",
       "      <th>prev.demand</th>\n",
       "      <th>prev.demand.2</th>\n",
       "    </tr>\n",
       "  </thead>\n",
       "  <tbody>\n",
       "    <tr>\n",
       "      <th>0</th>\n",
       "      <td>1</td>\n",
       "      <td>1540</td>\n",
       "      <td>117</td>\n",
       "      <td>71</td>\n",
       "      <td>220</td>\n",
       "      <td>240</td>\n",
       "    </tr>\n",
       "    <tr>\n",
       "      <th>1</th>\n",
       "      <td>2</td>\n",
       "      <td>1310</td>\n",
       "      <td>2</td>\n",
       "      <td>72</td>\n",
       "      <td>1540</td>\n",
       "      <td>220</td>\n",
       "    </tr>\n",
       "    <tr>\n",
       "      <th>2</th>\n",
       "      <td>3</td>\n",
       "      <td>1425</td>\n",
       "      <td>59</td>\n",
       "      <td>67</td>\n",
       "      <td>1310</td>\n",
       "      <td>1540</td>\n",
       "    </tr>\n",
       "    <tr>\n",
       "      <th>3</th>\n",
       "      <td>4</td>\n",
       "      <td>1325</td>\n",
       "      <td>55</td>\n",
       "      <td>65</td>\n",
       "      <td>1425</td>\n",
       "      <td>1310</td>\n",
       "    </tr>\n",
       "    <tr>\n",
       "      <th>4</th>\n",
       "      <td>5</td>\n",
       "      <td>1399</td>\n",
       "      <td>163</td>\n",
       "      <td>65</td>\n",
       "      <td>1325</td>\n",
       "      <td>1425</td>\n",
       "    </tr>\n",
       "  </tbody>\n",
       "</table>\n",
       "</div>"
      ],
      "text/plain": [
       "   week  demand  app.logins  temperature  prev.demand  prev.demand.2\n",
       "0     1    1540         117           71          220            240\n",
       "1     2    1310           2           72         1540            220\n",
       "2     3    1425          59           67         1310           1540\n",
       "3     4    1325          55           65         1425           1310\n",
       "4     5    1399         163           65         1325           1425"
      ]
     },
     "execution_count": 86,
     "metadata": {},
     "output_type": "execute_result"
    }
   ],
   "source": [
    "strawberry.head()"
   ]
  },
  {
   "cell_type": "code",
   "execution_count": null,
   "metadata": {},
   "outputs": [],
   "source": [
    "def profit(stock, demand):\n",
    "    if stock <= demand:\n",
    "        return 6 * stock - 3 * stock\n",
    "    else:\n",
    "        return 6 * demand - 3 * stock + 1.5 * (stock - demand)"
   ]
  },
  {
   "cell_type": "markdown",
   "metadata": {},
   "source": [
    "a. Formulate the problem of deciding how many units of the strawberry product to stock each week as a cost-based newsvendor problem. What is the demand D? What is the order quantity Q? What are the underage cost cu and the overage cost co for this problem?\n",
    "\n",
    "$\\underset{Q}{minimize} \\quad \\mathbb{E}[c_u(D-Q)^+ + c_o(Q-D)^+]$\n",
    "\n",
    "where\n",
    "\n",
    "Q = order quantity = number of strawberries stocked on a given day\n",
    "\n",
    "D = demand = number of strawberries demanded on a given day\n",
    "\n",
    "$c_o$ = overage cost = cost of selling a single extra strawberry = $1.5\n",
    "\n",
    "$c_u$ = underage cost = cost of buying a single extra strawberry = $3\n",
    "\n",
    "$q = \\frac{c_u}{c_u+c_o}$\n",
    "\n",
    "$\\implies q = \\frac{3}{3+1.5}$\n",
    "\n",
    "$\\implies q = 0.666$"
   ]
  },
  {
   "cell_type": "code",
   "execution_count": null,
   "metadata": {},
   "outputs": [
    {
     "name": "stdout",
     "output_type": "stream",
     "text": [
      "The optimal constant order quantity for training data is 1469\n"
     ]
    }
   ],
   "source": [
    "# b) Calculate the optimal constant order quantity using the training set.\n",
    "\n",
    "print(f'The optimal constant order quantity for training data is {train.demand.quantile(2/3):.0f}')"
   ]
  },
  {
   "cell_type": "code",
   "execution_count": null,
   "metadata": {},
   "outputs": [
    {
     "data": {
      "text/plain": [
       "4074.27"
      ]
     },
     "execution_count": 139,
     "metadata": {},
     "output_type": "execute_result"
    }
   ],
   "source": [
    "# c) Calculate the average profit of this constant order quantity using the training set.\n",
    "\n",
    "train['profit1'] = train.apply(lambda x: profit(train.demand.quantile(2/3), x['demand']), axis=1)\n",
    "train.profit1.mean()"
   ]
  },
  {
   "cell_type": "code",
   "execution_count": null,
   "metadata": {},
   "outputs": [
    {
     "data": {
      "text/plain": [
       "4074.47"
      ]
     },
     "execution_count": 140,
     "metadata": {},
     "output_type": "execute_result"
    }
   ],
   "source": [
    "# d) Calculate the average profit of this constant order quantity using the test set.\n",
    "\n",
    "test['profit1'] = test.apply(lambda x: profit(train.demand.quantile(2/3), x['demand']), axis=1)\n",
    "test.profit1.mean()"
   ]
  },
  {
   "cell_type": "code",
   "execution_count": null,
   "metadata": {},
   "outputs": [
    {
     "data": {
      "image/png": "[encoded data removed]",
      "text/plain": [
       "<Figure size 2000x1000 with 1 Axes>"
      ]
     },
     "metadata": {},
     "output_type": "display_data"
    }
   ],
   "source": [
    "# Part 2: A contextual ordering policy\n",
    "# The grocery store now decides to investigate whether it can achieve higher profits by varying the order quantity each week, \n",
    "# based on the covariates provided in strawberry.csv. Build a regression tree using the training set from Part 1, \n",
    "# with a maximum depth of 3 and a minimum number of observations per leaf of 15.\n",
    "\n",
    "from sklearn.tree import DecisionTreeRegressor\n",
    "from sklearn.tree import plot_tree\n",
    "import matplotlib.pyplot as plt\n",
    "X_train = train[['app.logins', 'temperature', 'prev.demand', 'prev.demand.2']]\n",
    "y_train = train['demand']\n",
    "tree = DecisionTreeRegressor(max_depth=3, min_samples_leaf=15)\n",
    "tree.fit(X_train, y_train)\n",
    "tree_features = X_train.columns[tree.tree_.feature]\n",
    "plt.figure(figsize=(20, 10))\n",
    "plot_tree(tree, feature_names=list(X_train.columns), filled=True, rounded=True, fontsize=10)\n",
    "plt.show()"
   ]
  },
  {
   "cell_type": "markdown",
   "metadata": {},
   "source": [
    "a) Which variables appear in the splits of your tree?\n",
    "\n",
    "My tree splits on the variables 'temperature' and 'prev.demand'"
   ]
  },
  {
   "cell_type": "code",
   "execution_count": null,
   "metadata": {},
   "outputs": [
    {
     "data": {
      "text/plain": [
       "4181.238855105106"
      ]
     },
     "execution_count": 143,
     "metadata": {},
     "output_type": "execute_result"
    }
   ],
   "source": [
    "######## CHECK #########\n",
    "# b) Use your regression tree to propose an ordering policy. \n",
    "# What are the order quantities that your policy prescribes? Under what conditions \n",
    "# (i.e., what values of the covariates in the data) does your policy prescribe those order quantities?\n",
    "\n",
    "train['order2'] = tree.predict(X_train)\n",
    "train['profit2'] = train.apply(lambda x: profit(x['order2'], x['demand']), axis=1)\n",
    "train.profit2.mean()"
   ]
  },
  {
   "cell_type": "code",
   "execution_count": null,
   "metadata": {},
   "outputs": [
    {
     "data": {
      "text/plain": [
       "4159.476402027027"
      ]
     },
     "execution_count": 144,
     "metadata": {},
     "output_type": "execute_result"
    }
   ],
   "source": [
    "# c) Calculate the average profit of this contextual ordering policy using the test set.\n",
    "\n",
    "X_test = test[['app.logins', 'temperature', 'prev.demand', 'prev.demand.2']]\n",
    "test['order2'] = tree.predict(X_test)\n",
    "test['profit2'] = test.apply(lambda x: profit(x['order2'], x['demand']), axis=1)\n",
    "test.profit2.mean()"
   ]
  },
  {
   "cell_type": "code",
   "execution_count": null,
   "metadata": {},
   "outputs": [
    {
     "data": {
      "text/plain": [
       "4180.752823774608"
      ]
     },
     "execution_count": 145,
     "metadata": {},
     "output_type": "execute_result"
    }
   ],
   "source": [
    "# Part 3: A different contextual ordering policy\n",
    "# Using the training set, build a linear regression model to predict the demand using the covariates in your training set from Part 1.\n",
    "# a) Use your linear regression model to propose an ordering policy. Write down an equation for the form of your contextual ordering policy. \n",
    "# (Hint: What assumption is being made about the conditional distribution of demand when one uses a linear regression model?)\n",
    "\n",
    "from sklearn.linear_model import LinearRegression\n",
    "X_train = train[['app.logins', 'temperature', 'prev.demand', 'prev.demand.2']]\n",
    "y_train = train['demand']\n",
    "lin_reg = LinearRegression()\n",
    "lin_reg.fit(X_train, y_train)\n",
    "train['order3'] = lin_reg.predict(X_train)\n",
    "train['profit3'] = train.apply(lambda x: profit(x['order3'], x['demand']), axis=1)\n",
    "train.profit3.mean()"
   ]
  },
  {
   "cell_type": "code",
   "execution_count": null,
   "metadata": {},
   "outputs": [
    {
     "data": {
      "text/plain": [
       "4168.2851038583585"
      ]
     },
     "execution_count": 146,
     "metadata": {},
     "output_type": "execute_result"
    }
   ],
   "source": [
    "# b) Calculate the average profit of this contextual ordering policy using the test set.\n",
    "\n",
    "X_test = test[['app.logins', 'temperature', 'prev.demand', 'prev.demand.2']]\n",
    "test['order3'] = lin_reg.predict(X_test)\n",
    "test['profit3'] = test.apply(lambda x: profit(x['order3'], x['demand']), axis=1)\n",
    "test.profit3.mean()"
   ]
  },
  {
   "cell_type": "code",
   "execution_count": null,
   "metadata": {},
   "outputs": [
    {
     "data": {
      "text/plain": [
       "4246.68"
      ]
     },
     "execution_count": 150,
     "metadata": {},
     "output_type": "execute_result"
    }
   ],
   "source": [
    "# Part 4: An idealized ordering policy\n",
    "# Finally, in this section we will understand the limits of performance for our approaches in Parts 1, 2 and 3. \n",
    "# To do this, let us consider the following idealized policy: suppose that each week, \n",
    "# we could know the demand that would be realized that week, and we could order exactly the demanded quantity of the product.\n",
    "# a) Calculate the average profit of this policy on the test set.\n",
    "\n",
    "test['order4'] = test['demand']\n",
    "test['profit4'] = test.apply(lambda x: profit(x['order4'], x['demand']), axis=1)\n",
    "test.profit4.mean()"
   ]
  },
  {
   "cell_type": "code",
   "execution_count": null,
   "metadata": {},
   "outputs": [
    {
     "data": {
      "text/plain": [
       "(0.49362059129566654, 0.5447715223178587)"
      ]
     },
     "execution_count": 151,
     "metadata": {},
     "output_type": "execute_result"
    }
   ],
   "source": [
    "# b) Consider the coefficient of prescriptiveness, which is defined as\n",
    "# (Rcontextual − Rconstant) / (Ridealized − Rconstant) (3)\n",
    "# where Rconstant, Rcontextual, Ridealized are the average profits corresponding to the constant policy in Part 1, \n",
    "# the contextual policy in either Part 2 or Part 3 and the idealized policy in Part 3.\n",
    "# Calculate the coefficient of prescriptiveness using the test set for the policies in Part 2 and Part 3.\n",
    "\n",
    "Rconstant = test.profit1.mean()\n",
    "Rcontextual = test.profit2.mean()\n",
    "Ridealized = test.profit4.mean()\n",
    "\n",
    "c_p1 = (Rcontextual - Rconstant) / (Ridealized - Rconstant)\n",
    "\n",
    "Rcontextual = test.profit3.mean()\n",
    "\n",
    "c_p2 = (Rcontextual - Rconstant) / (Ridealized - Rconstant)\n",
    "\n",
    "c_p1, c_p2"
   ]
  },
  {
   "cell_type": "markdown",
   "metadata": {},
   "source": [
    "c) The metric above is closely related to another metric that is used to measure the predictive performance of continuous prediction models. What is that metric? How is the coefficient of prescriptiveness similar to that metric?\n",
    "\n",
    "The metric is R^2. The coefficient of prescriptiveness is similar to R^2 in that it measures the proportion of the variance in the dependent variable that is predictable from the independent variables."
   ]
  },
  {
   "cell_type": "markdown",
   "metadata": {},
   "source": [
    "Q4"
   ]
  },
  {
   "cell_type": "code",
   "execution_count": 17,
   "metadata": {},
   "outputs": [
    {
     "data": {
      "text/html": [
       "<div>\n",
       "<style scoped>\n",
       "    .dataframe tbody tr th:only-of-type {\n",
       "        vertical-align: middle;\n",
       "    }\n",
       "\n",
       "    .dataframe tbody tr th {\n",
       "        vertical-align: top;\n",
       "    }\n",
       "\n",
       "    .dataframe thead th {\n",
       "        text-align: right;\n",
       "    }\n",
       "</style>\n",
       "<table border=\"1\" class=\"dataframe\">\n",
       "  <thead>\n",
       "    <tr style=\"text-align: right;\">\n",
       "      <th></th>\n",
       "      <th>r</th>\n",
       "      <th>din</th>\n",
       "      <th>dout</th>\n",
       "      <th>probability</th>\n",
       "    </tr>\n",
       "  </thead>\n",
       "  <tbody>\n",
       "    <tr>\n",
       "      <th>0</th>\n",
       "      <td>Q</td>\n",
       "      <td>1</td>\n",
       "      <td>2</td>\n",
       "      <td>0.018519</td>\n",
       "    </tr>\n",
       "    <tr>\n",
       "      <th>1</th>\n",
       "      <td>Q</td>\n",
       "      <td>1</td>\n",
       "      <td>3</td>\n",
       "      <td>0.011111</td>\n",
       "    </tr>\n",
       "    <tr>\n",
       "      <th>2</th>\n",
       "      <td>Q</td>\n",
       "      <td>1</td>\n",
       "      <td>4</td>\n",
       "      <td>0.011111</td>\n",
       "    </tr>\n",
       "    <tr>\n",
       "      <th>3</th>\n",
       "      <td>Q</td>\n",
       "      <td>1</td>\n",
       "      <td>5</td>\n",
       "      <td>0.007407</td>\n",
       "    </tr>\n",
       "    <tr>\n",
       "      <th>4</th>\n",
       "      <td>Q</td>\n",
       "      <td>1</td>\n",
       "      <td>6</td>\n",
       "      <td>0.007407</td>\n",
       "    </tr>\n",
       "    <tr>\n",
       "      <th>...</th>\n",
       "      <td>...</td>\n",
       "      <td>...</td>\n",
       "      <td>...</td>\n",
       "      <td>...</td>\n",
       "    </tr>\n",
       "    <tr>\n",
       "      <th>79</th>\n",
       "      <td>C</td>\n",
       "      <td>5</td>\n",
       "      <td>7</td>\n",
       "      <td>0.003704</td>\n",
       "    </tr>\n",
       "    <tr>\n",
       "      <th>80</th>\n",
       "      <td>C</td>\n",
       "      <td>5</td>\n",
       "      <td>8</td>\n",
       "      <td>0.003704</td>\n",
       "    </tr>\n",
       "    <tr>\n",
       "      <th>81</th>\n",
       "      <td>C</td>\n",
       "      <td>6</td>\n",
       "      <td>7</td>\n",
       "      <td>0.003704</td>\n",
       "    </tr>\n",
       "    <tr>\n",
       "      <th>82</th>\n",
       "      <td>C</td>\n",
       "      <td>6</td>\n",
       "      <td>8</td>\n",
       "      <td>0.003704</td>\n",
       "    </tr>\n",
       "    <tr>\n",
       "      <th>83</th>\n",
       "      <td>C</td>\n",
       "      <td>7</td>\n",
       "      <td>8</td>\n",
       "      <td>0.000000</td>\n",
       "    </tr>\n",
       "  </tbody>\n",
       "</table>\n",
       "<p>84 rows × 4 columns</p>\n",
       "</div>"
      ],
      "text/plain": [
       "    r  din  dout  probability\n",
       "0   Q    1     2     0.018519\n",
       "1   Q    1     3     0.011111\n",
       "2   Q    1     4     0.011111\n",
       "3   Q    1     5     0.007407\n",
       "4   Q    1     6     0.007407\n",
       ".. ..  ...   ...          ...\n",
       "79  C    5     7     0.003704\n",
       "80  C    5     8     0.003704\n",
       "81  C    6     7     0.003704\n",
       "82  C    6     8     0.003704\n",
       "83  C    7     8     0.000000\n",
       "\n",
       "[84 rows x 4 columns]"
      ]
     },
     "execution_count": 17,
     "metadata": {},
     "output_type": "execute_result"
    }
   ],
   "source": [
    "# A luxury hotel is preparing to allow for reservations for a particular period in September. \n",
    "# The hotel has three different room types, distinguished by the type of bed: Queen, King, and California King. \n",
    "# There are 50 Queen (Q) rooms, 50 King (K) rooms and 20 California King (C) rooms. \n",
    "# For convenience, let us use r to denote the room type, which satisfies r ∈ {Q, K, C}.\n",
    "# The hotel is interested in managing reservations over the period 9/11/2023 to 9/18/2023, which is a period of 8 days. \n",
    "# For convenience, let us use the index d to denote the day, which can range from 1 (Monday 9/11/2023) to 8 (Monday 9/18/2023). \n",
    "# We would like to model customers in the following way:\n",
    "# • Customers can check-in on any day din ∈ {1, . . . , 7}.\n",
    "# • Customers can check-out on any day dout ∈ {din + 1, . . . , 8}.\n",
    "# A customer type is denoted by the tuple (r, din, dout), where r ∈ {Q, K, C}. The data frame hotel-probability.csv is provided, \n",
    "# which provides the likelihood of a customer request being of a particular type – i.e., a particular tuple (r, din, dout) – \n",
    "# over a 4 hour period. In each period, there is at most one reservation, if a reservation occurs at all. \n",
    "# We will assume that a customer can request a reservation over the 90 days that precede 9/11/2023. \n",
    "# Therefore, a customer request can occur in anyperiodt=1,...,T,whereT =90×(24/4)=540.\n",
    "# In addition, the following is known about the pricing structure for this period in time:\n",
    "# • Queen rooms are charged at a base price of $200 per night, King rooms at a base price of\n",
    "# $250 a night, and California King rooms at a base price of $300 a night.\n",
    "# • For any type of room, the fee for Thursday night, Friday night, Saturday night (d = 4, 5, 6)\n",
    "# incurs an additional 15% markup.\n",
    "# For example, suppose that we accept a reservation of type (Q, 2, 6). This customer checks in on Tuesday (d = 2) \n",
    "# and checks out on Saturday (d = 6). Therefore, the customer stays four nights. \n",
    "# The total price charged to the customer for this reservation is\n",
    "# $200+$200+$200×1.15+$200×1.15 = $860\n",
    "\n",
    "hotel_prob = pd.read_csv('hotel_prob.csv')\n",
    "hotel_prob"
   ]
  },
  {
   "cell_type": "code",
   "execution_count": 18,
   "metadata": {},
   "outputs": [],
   "source": [
    "def pricing(r, din, dout):\n",
    "    if r == 'Q':\n",
    "        base = 200\n",
    "    elif r == 'K':\n",
    "        base = 250\n",
    "    else:\n",
    "        base = 300\n",
    "    price = 0\n",
    "    for d in range(din, dout):\n",
    "        if d in [4, 5, 6]:\n",
    "            price += base * 1.15\n",
    "        else:\n",
    "            price += base\n",
    "    return price"
   ]
  },
  {
   "cell_type": "code",
   "execution_count": 19,
   "metadata": {},
   "outputs": [
    {
     "data": {
      "text/plain": [
       "0.3222222239999999"
      ]
     },
     "execution_count": 19,
     "metadata": {},
     "output_type": "execute_result"
    }
   ],
   "source": [
    "# Part 1: Understanding the data\n",
    "# a) What is the probability that the hotel receives a reservation for a Queen room (with any check-in / check-out dates) \n",
    "# in a given (4 hour) period?\n",
    "\n",
    "hotel_prob.loc[hotel_prob['r'] == 'Q', 'probability'].sum()"
   ]
  },
  {
   "cell_type": "code",
   "execution_count": 20,
   "metadata": {},
   "outputs": [
    {
     "data": {
      "text/plain": [
       "0.014814815"
      ]
     },
     "execution_count": 20,
     "metadata": {},
     "output_type": "execute_result"
    }
   ],
   "source": [
    "# b) What is the probability that the hotel receives a reservation that checks in on Thursday 9/14/2023 and checks out on Sunday 9/17/2023 \n",
    "# (with any kind of room) in a given (4 hour) period?\n",
    "\n",
    "hotel_prob.loc[(hotel_prob['din'] == 4) & (hotel_prob['dout'] == 7), 'probability'].sum()"
   ]
  },
  {
   "cell_type": "code",
   "execution_count": 21,
   "metadata": {},
   "outputs": [
    {
     "data": {
      "text/plain": [
       "0.259259247"
      ]
     },
     "execution_count": 21,
     "metadata": {},
     "output_type": "execute_result"
    }
   ],
   "source": [
    "# c) What is the probability that there is no request in a given (4 hour) period?\n",
    "\n",
    "1 - hotel_prob['probability'].sum()"
   ]
  },
  {
   "cell_type": "code",
   "execution_count": 22,
   "metadata": {},
   "outputs": [
    {
     "data": {
      "text/plain": [
       "5.99999994"
      ]
     },
     "execution_count": 22,
     "metadata": {},
     "output_type": "execute_result"
    }
   ],
   "source": [
    "# d) Over the 90 day horizon, what is the expected value of the number of requests for a California King room, with check-in on Friday 9/15/2023 (d = 5) and check-out on Saturday 9/16/2023 (d = 6)?\n",
    "T = 540\n",
    "hotel_prob.loc[(hotel_prob['r'] == 'C') & (hotel_prob['din'] == 5) & (hotel_prob['dout'] == 6), 'probability'].sum() * T"
   ]
  },
  {
   "cell_type": "code",
   "execution_count": 23,
   "metadata": {},
   "outputs": [
    {
     "name": "stdout",
     "output_type": "stream",
     "text": [
      "172140.0017788\n",
      "ell: Q, day: 1, booking: 15.999999979999998\n",
      "ell: Q, day: 2, booking: 0.0\n",
      "ell: Q, day: 3, booking: 0.0\n",
      "ell: Q, day: 4, booking: 0.0\n",
      "ell: Q, day: 5, booking: 0.0\n",
      "ell: Q, day: 6, booking: 21.999998840000003\n",
      "ell: Q, day: 7, booking: 35.99999888000001\n",
      "ell: K, day: 1, booking: 29.999998940000005\n",
      "ell: K, day: 2, booking: 0.0\n",
      "ell: K, day: 3, booking: 0.0\n",
      "ell: K, day: 4, booking: 0.0\n",
      "ell: K, day: 5, booking: 1.99999886000001\n",
      "ell: K, day: 6, booking: 19.999999220000007\n",
      "ell: K, day: 7, booking: 33.99999926\n",
      "ell: C, day: 1, booking: 2.000000165480742e-08\n",
      "ell: C, day: 2, booking: 0.0\n",
      "ell: C, day: 3, booking: 0.0\n",
      "ell: C, day: 4, booking: 0.0\n",
      "ell: C, day: 5, booking: 0.0\n",
      "ell: C, day: 6, booking: 0.0\n",
      "ell: C, day: 7, booking: 7.999999040000005\n",
      "['Q', 1, 2]: 10.00000026\n",
      "['Q', 1, 3]: 5.99999994\n",
      "['Q', 1, 4]: 5.99999994\n",
      "['Q', 1, 5]: 3.99999978\n",
      "['Q', 1, 6]: 3.99999978\n",
      "['Q', 1, 7]: 2.00000016\n",
      "['Q', 1, 8]: 2.00000016\n",
      "['Q', 2, 3]: 3.9999997799999987\n",
      "['Q', 2, 4]: 6.0000004800000015\n",
      "['Q', 2, 5]: 6.000000259999996\n",
      "['Q', 2, 6]: 3.99999978\n",
      "['Q', 2, 7]: 3.99999978\n",
      "['Q', 2, 8]: 2.00000016\n",
      "['Q', 3, 4]: 0.0\n",
      "['Q', 3, 5]: 0.0\n",
      "['Q', 3, 6]: 3.99999978\n",
      "['Q', 3, 7]: 3.99999978\n",
      "['Q', 3, 8]: 2.00000016\n",
      "['Q', 4, 5]: 0.0\n",
      "['Q', 4, 6]: 8.0000001\n",
      "['Q', 4, 7]: 2.00000016\n",
      "['Q', 4, 8]: 2.00000016\n",
      "['Q', 5, 6]: 5.999999719999996\n",
      "['Q', 5, 7]: 2.00000016\n",
      "['Q', 5, 8]: 2.00000016\n",
      "['Q', 6, 7]: 2.00000016\n",
      "['Q', 6, 8]: 2.00000016\n",
      "['Q', 7, 8]: 2.00000016\n",
      "['K', 1, 2]: 8.0000001\n",
      "['K', 1, 3]: 2.00000016\n",
      "['K', 1, 4]: 2.00000016\n",
      "['K', 1, 5]: 2.00000016\n",
      "['K', 1, 6]: 2.00000016\n",
      "['K', 1, 7]: 2.00000016\n",
      "['K', 1, 8]: 2.00000016\n",
      "['K', 2, 3]: 19.99999814000001\n",
      "['K', 2, 4]: 10.00000026\n",
      "['K', 2, 5]: 2.00000016\n",
      "['K', 2, 6]: 2.00000016\n",
      "['K', 2, 7]: 2.00000016\n",
      "['K', 2, 8]: 2.00000016\n",
      "['K', 3, 4]: 15.999997820000011\n",
      "['K', 3, 5]: 0.0\n",
      "['K', 3, 6]: 2.00000016\n",
      "['K', 3, 7]: 2.00000016\n",
      "['K', 3, 8]: 2.00000016\n",
      "['K', 4, 5]: 13.999998200000011\n",
      "['K', 4, 6]: 8.0000001\n",
      "['K', 4, 7]: 3.99999978\n",
      "['K', 4, 8]: 2.00000016\n",
      "['K', 5, 6]: 8.0000001\n",
      "['K', 5, 7]: 3.99999978\n",
      "['K', 5, 8]: 3.99999978\n",
      "['K', 6, 7]: 2.00000016\n",
      "['K', 6, 8]: 2.00000016\n",
      "['K', 7, 8]: 2.00000016\n",
      "['C', 1, 2]: 3.99999978\n",
      "['C', 1, 3]: 3.99999978\n",
      "['C', 1, 4]: 3.99999978\n",
      "['C', 1, 5]: 2.00000016\n",
      "['C', 1, 6]: 2.00000016\n",
      "['C', 1, 7]: 2.00000016\n",
      "['C', 1, 8]: 2.00000016\n",
      "['C', 2, 3]: 1.0799999978772234e-06\n",
      "['C', 2, 4]: 0.0\n",
      "['C', 2, 5]: 0.0\n",
      "['C', 2, 6]: 1.9999985600000052\n",
      "['C', 2, 7]: 0.0\n",
      "['C', 2, 8]: 2.00000016\n",
      "['C', 3, 4]: 2.0000006999999984\n",
      "['C', 3, 5]: 0.0\n",
      "['C', 3, 6]: 0.0\n",
      "['C', 3, 7]: 0.0\n",
      "['C', 3, 8]: 2.00000016\n",
      "['C', 4, 5]: 2.00000016\n",
      "['C', 4, 6]: 0.0\n",
      "['C', 4, 7]: 2.00000016\n",
      "['C', 4, 8]: 2.00000016\n",
      "['C', 5, 6]: 0.0\n",
      "['C', 5, 7]: 2.00000016\n",
      "['C', 5, 8]: 2.00000016\n",
      "['C', 6, 7]: 1.9999985600000052\n",
      "['C', 6, 8]: 2.00000016\n",
      "['C', 7, 8]: 0.0\n"
     ]
    }
   ],
   "source": [
    "# Part 2: Determining an optimal static allocation\n",
    "# a) Using the information given, formulate a linear programming problem to determine how many requests of each type – \n",
    "# each tuple (r,d1,d2) – to accept over the 90 day horizon. Describe your decision variables, \n",
    "# the constraints and your objective function. Describe any coefficients or right hand side values in your constraints. \n",
    "# Do not formulate your problem with any actual numbers. (Hint: what is a “resource” in this problem? \n",
    "# How many resources are there? Which resources are consumed by, for example, accepting the request in Part 1(d)?)\n",
    "\n",
    "# b) Implement and solve your linear program in Python using Gurobi. What is the optimal revenue?\n",
    "\n",
    "import numpy as np\n",
    "\n",
    "nItineraries = hotel_prob.shape[0]\n",
    "nLegs = ['Q', 'K', 'C']\n",
    "nDays = [1, 2, 3, 4, 5, 6, 7]\n",
    "\n",
    "# Let's assume we have the following seats on the legs:\n",
    "B = np.array([50, 50, 20])\n",
    "\n",
    "# Assume we are selling over 750 periods. (Again, can think\n",
    "# of these as days or smaller periods than days, e.g., 12hr/6hr/2hr periods.)\n",
    "T = 540\n",
    "\n",
    "# Below is a list of lists. Each element is a list\n",
    "# that specifies which legs are used in the itinerary. We'll\n",
    "# use this when we define our constraints for the LP momentarily.\n",
    "itineraries_to_legs = hotel_prob[['r', 'din', 'dout']].drop_duplicates()\n",
    "itineraries_to_legs = [list(itineraries) for itineraries in itineraries_to_legs.values]\n",
    "\n",
    "revenue = np.array(hotel_prob.apply(lambda x: pricing(x['r'], x['din'], x['dout']), axis=1))\n",
    "probability = np.array(hotel_prob.probability)\n",
    "\n",
    "forecast = T * probability\n",
    "\n",
    "# Formulate the LP:\n",
    "from gurobipy import * \n",
    "\n",
    "# Create the model and the decision variables.\n",
    "m = Model()\n",
    "m.Params.LogToConsole = 0\n",
    "\n",
    "x = m.addVars(nItineraries, lb = 0, ub = forecast)\n",
    "\n",
    "# Define the constraints.\n",
    "# Notice how the itineraries_to_legs list is used to define the constraint;\n",
    "# for each leg ell, only add up those x[i]'s for which the itinerary i uses leg ell. \n",
    "leg_capacity_constrs = {}\n",
    "for ell in nLegs:\n",
    "    for day in nDays:\n",
    "        leg_capacity_constrs[(nLegs.index(ell), nDays.index(day))] = m.addConstr(sum(x[i] for i in range(nItineraries) if ((ell in itineraries_to_legs[i]) and (day >= itineraries_to_legs[i][1]) and (day < itineraries_to_legs[i][2]))) <= B[nLegs.index(ell)])\n",
    "\n",
    "# Specify the objective\n",
    "m.setObjective( sum(revenue[i] * x[i] for i in range(nItineraries)), GRB.MAXIMIZE)\n",
    "\n",
    "# Solve \n",
    "m.update()\n",
    "m.optimize()\n",
    "\n",
    "# Save the LP objective\n",
    "LP_obj = m.objval\n",
    "\n",
    "# Display the static allocation\n",
    "# print( [x[i].x for i in range(nItineraries)])\n",
    "# print( forecast)\n",
    "print(LP_obj)\n",
    "\n",
    "for ell in nLegs:\n",
    "    for day in nDays:\n",
    "        print(f'ell: {ell}, day: {day}, booking: {leg_capacity_constrs[(nLegs.index(ell), nDays.index(day))].slack}')\n",
    "\n",
    "for i in itineraries_to_legs:\n",
    "    print(f'{i}: {x[itineraries_to_legs.index(i)].x}')"
   ]
  },
  {
   "cell_type": "code",
   "execution_count": 24,
   "metadata": {},
   "outputs": [
    {
     "name": "stdout",
     "output_type": "stream",
     "text": [
      "['K', 2, 3]: 19.99999814000001\n",
      "['K', 3, 4]: 15.999997820000011\n",
      "['K', 4, 5]: 13.999998200000011\n",
      "['Q', 1, 2]: 10.00000026\n",
      "['K', 2, 4]: 10.00000026\n"
     ]
    }
   ],
   "source": [
    "# c) What are the top five request types in terms of the number of accepted requests in the optimal solution?\n",
    "\n",
    "top5 = sorted(range(len(x)), key=lambda i: x[i].x, reverse=True)[:5]\n",
    "for i in top5:\n",
    "    print(f'{itineraries_to_legs[i]}: {x[i].x}')"
   ]
  },
  {
   "cell_type": "code",
   "execution_count": 25,
   "metadata": {},
   "outputs": [
    {
     "name": "stdout",
     "output_type": "stream",
     "text": [
      "ell: Q, day: 1, revenue: 0.0\n",
      "ell: Q, day: 2, revenue: 200.0\n",
      "ell: Q, day: 3, revenue: 200.0\n",
      "ell: Q, day: 4, revenue: 230.0\n",
      "ell: Q, day: 5, revenue: 229.99999999999997\n",
      "ell: Q, day: 6, revenue: 0.0\n",
      "ell: Q, day: 7, revenue: 0.0\n",
      "ell: K, day: 1, revenue: 0.0\n",
      "ell: K, day: 2, revenue: 250.0\n",
      "ell: K, day: 3, revenue: 250.0\n",
      "ell: K, day: 4, revenue: 287.5\n",
      "ell: K, day: 5, revenue: 0.0\n",
      "ell: K, day: 6, revenue: 0.0\n",
      "ell: K, day: 7, revenue: 0.0\n",
      "ell: C, day: 1, revenue: 0.0\n",
      "ell: C, day: 2, revenue: 300.0\n",
      "ell: C, day: 3, revenue: 300.0\n",
      "ell: C, day: 4, revenue: 345.0\n",
      "ell: C, day: 5, revenue: 345.0\n",
      "ell: C, day: 6, revenue: 345.0\n",
      "ell: C, day: 7, revenue: 0.0\n"
     ]
    }
   ],
   "source": [
    "# d) What are the optimal values of the dual variables for the resource constraints?\n",
    "\n",
    "for ell in nLegs:\n",
    "    for day in nDays:\n",
    "        print(f'ell: {ell}, day: {day}, revenue: {leg_capacity_constrs[(nLegs.index(ell), nDays.index(day))].pi}')"
   ]
  },
  {
   "cell_type": "code",
   "execution_count": 26,
   "metadata": {},
   "outputs": [
    {
     "data": {
      "text/plain": [
       "725.0"
      ]
     },
     "execution_count": 26,
     "metadata": {},
     "output_type": "execute_result"
    }
   ],
   "source": [
    "# e) An assistant manager at the hotel suggests the idea of converting 10 King rooms into Queen rooms. \n",
    "# Without solving another linear program, what is the predicted change in the revenue that would result from this conversion?\n",
    "\n",
    "10 * (sum([leg_capacity_constrs[(0, i)].pi for i in range(7)]) - sum([leg_capacity_constrs[(1, i)].pi for i in range(7)]))"
   ]
  },
  {
   "cell_type": "code",
   "execution_count": 27,
   "metadata": {},
   "outputs": [],
   "source": [
    "# Part 3: Determining an optimal dynamic allocation policy\n",
    "# In this part of the problem, we will consider different dynamic allocation policies. To do this, \n",
    "# we will need to generate random sequences of requests. Set your random number seed to 50. \n",
    "# Generate 100 random sequences of T = 540 requests.\n",
    "\n",
    "np.random.seed(50)\n",
    "T = 540\n",
    "random_sequences = np.random.choice(range(nItineraries + 1), size = (100, T), p = np.append(probability, 1 - probability.sum()))"
   ]
  },
  {
   "cell_type": "code",
   "execution_count": 31,
   "metadata": {},
   "outputs": [
    {
     "name": "stdout",
     "output_type": "stream",
     "text": [
      "Mean myopic revenue:  147472.025\n"
     ]
    }
   ],
   "source": [
    "# a) Currently, the hotel accepts requests on a first-come first-serve basis. \n",
    "# What is the average revenue of this policy over the 100 random requests sequences?\n",
    "\n",
    "nSimulations = 100\n",
    "\n",
    "results_myopic_revenue = np.zeros(nSimulations)\n",
    "\n",
    "for s in range(nSimulations):\n",
    "    total_revenue = 0.0\n",
    "    b = B.copy()\n",
    "    b = np.tile(b, (7, 1)).T\n",
    "    arrival_sequence = random_sequences[s]\n",
    "    \n",
    "    for t in range(T):\n",
    "        # Stop if all seats have been sold:\n",
    "        if ((b == 0).all()):\n",
    "            break\n",
    "        \n",
    "        i = arrival_sequence[t]\n",
    "\n",
    "        if (i < nItineraries):        \n",
    "\n",
    "            r = itineraries_to_legs[i][0]\n",
    "            din = itineraries_to_legs[i][1]\n",
    "            dout = itineraries_to_legs[i][2]\n",
    "            \n",
    "            if dout != 8:\n",
    "                # If there is a free seat on each leg for this itinerary...\n",
    "                if ((b[nLegs.index(r)][nDays.index(din):nDays.index(dout)] > 0).all()):\n",
    "                    # ... accept the request!\n",
    "                    b[nLegs.index(r)][nDays.index(din):nDays.index(dout)] -= 1\n",
    "                    total_revenue += revenue[i]\n",
    "            else:\n",
    "                # If there is a free seat on each leg for this itinerary...\n",
    "                if ((b[nLegs.index(r)][nDays.index(din):] > 0).all()):\n",
    "                    # ... accept the request!\n",
    "                    b[nLegs.index(r)][nDays.index(din):] -= 1\n",
    "                    total_revenue += revenue[i]\n",
    "\n",
    "    \n",
    "    results_myopic_revenue[s] = total_revenue\n",
    "\n",
    "print(\"Mean myopic revenue: \", results_myopic_revenue.mean())"
   ]
  },
  {
   "cell_type": "code",
   "execution_count": 49,
   "metadata": {},
   "outputs": [],
   "source": [
    "# b) Suppose that a request of type (K, 2, 5) arrives at some period t ∈ {1, . . . , T }. \n",
    "# By defining appropriate dual variables for your constraints in your formulation in \n",
    "# Part 2, write down the algebraic expression for the opportunity cost of accepting this request.\n",
    "\n",
    "# The opportunity cost of accepting a request of type (K, 2, 5) is the difference in revenue if we accept the request\n",
    "# and the revenue we would have made if we did not accept the request, which is the dual value of the constraint that\n",
    "# limits the number of King rooms we can accept on day 2.\n",
    "\n",
    "def opportunity_cost(r, din, dout):\n",
    "    if dout != 8:\n",
    "        return sum([leg_capacity_constrs[(nLegs.index(r), i)].pi for i in range(nDays.index(din), nDays.index(dout))])\n",
    "    else:\n",
    "        return sum([leg_capacity_constrs[(nLegs.index(r), i)].pi for i in range(nDays.index(din), 7)])"
   ]
  },
  {
   "cell_type": "code",
   "execution_count": 50,
   "metadata": {},
   "outputs": [
    {
     "data": {
      "text/plain": [
       "1862.5"
      ]
     },
     "execution_count": 50,
     "metadata": {},
     "output_type": "execute_result"
    }
   ],
   "source": [
    "opportunity_cost('K', 2, 5)"
   ]
  },
  {
   "cell_type": "code",
   "execution_count": 46,
   "metadata": {},
   "outputs": [
    {
     "name": "stdout",
     "output_type": "stream",
     "text": [
      "Mean revenue:  163673.975\n"
     ]
    }
   ],
   "source": [
    "# c) Using the insight from (b), implement a dynamic allocation policy for accepting / rejecting requests that uses your linear program \n",
    "# from Part 2 in Python. What is the average revenue of this policy over the 100 random request sequences? \n",
    "# (Note: due to the large number of periods, it may take a couple of minutes for your simulation to run here.)\n",
    "\n",
    "# c) Using the insight from (b), implement a dynamic allocation policy for accepting / rejecting requests that uses your linear program \n",
    "# from Part 2 in Python. What is the average revenue of this policy over the 100 random request sequences? \n",
    "# (Note: due to the large number of periods, it may take a couple of minutes for your simulation to run here.)\n",
    "\n",
    "def bpc(b, t, r, din, dout):\n",
    "    for ell in nLegs:\n",
    "        for day in nDays:\n",
    "            leg_capacity_constrs[(nLegs.index(ell), nDays.index(day))].rhs = b[nLegs.index(ell), nDays.index(day)]\n",
    "\n",
    "    for i in range(nItineraries):\n",
    "        x[i].ub = (T - t) * probability[i]\n",
    "    \n",
    "    m.update()\n",
    "    m.optimize()\n",
    "    \n",
    "    dual_val = opportunity_cost(r, din, dout)\n",
    "    \n",
    "    return dual_val\n",
    "\n",
    "nSimulations = 100\n",
    "\n",
    "results_revenue = np.zeros(nSimulations)\n",
    "\n",
    "for s in range(nSimulations):\n",
    "    total_revenue = 0.0\n",
    "    b = B.copy()\n",
    "    b = np.tile(b, (7, 1)).T\n",
    "    # add a dummy itinerary to the end of the sequence to ensure that the last request is always rejected\n",
    "    # b = np.append(b, np.zeros((3, 1)), axis = 1)\n",
    "\n",
    "    arrival_sequence = random_sequences[s]\n",
    "    \n",
    "    for t in range(T):\n",
    "        # Stop if all seats have been sold:\n",
    "        if ((b == 0).all()):\n",
    "            break\n",
    "        \n",
    "        i = arrival_sequence[t]\n",
    "\n",
    "        if (i < nItineraries):        \n",
    "\n",
    "            r = itineraries_to_legs[i][0]\n",
    "            din = itineraries_to_legs[i][1]\n",
    "            dout = itineraries_to_legs[i][2]\n",
    "\n",
    "            total_bid_price = bpc(b, t, r, din, dout)\n",
    "\n",
    "            if dout != 8:\n",
    "                # If there is a free seat on each leg for this itinerary...\n",
    "                if ((revenue[i] >= total_bid_price) & (b[nLegs.index(r)][nDays.index(din):nDays.index(dout)] > 0).all()):\n",
    "                    # ... accept the request!\n",
    "                    b[nLegs.index(r)][nDays.index(din):nDays.index(dout)] -= 1\n",
    "                    total_revenue += revenue[i]\n",
    "            else:\n",
    "                # If there is a free seat on each leg for this itinerary...\n",
    "                if ((revenue[i] >= total_bid_price) & (b[nLegs.index(r)][nDays.index(din):] > 0).all()):\n",
    "                    # ... accept the request!\n",
    "                    b[nLegs.index(r)][nDays.index(din):] -= 1\n",
    "                    total_revenue += revenue[i]\n",
    "    \n",
    "    results_revenue[s] = total_revenue\n",
    "\n",
    "print(\"Mean revenue: \", results_revenue.mean())"
   ]
  },
  {
   "cell_type": "markdown",
   "metadata": {},
   "source": [
    "<!-- a) What is the probability that the hotel receives a reservation for a Queen room (with any check-in / check-out dates) in a given (4 hour) period? -->\n",
    "\n"
   ]
  },
  {
   "cell_type": "markdown",
   "metadata": {},
   "source": []
  }
 ],
 "metadata": {
  "kernelspec": {
   "display_name": "base",
   "language": "python",
   "name": "python3"
  },
  "language_info": {
   "codemirror_mode": {
    "name": "ipython",
    "version": 3
   },
   "file_extension": ".py",
   "mimetype": "text/x-python",
   "name": "python",
   "nbconvert_exporter": "python",
   "pygments_lexer": "ipython3",
   "version": "3.11.5"
  }
 },
 "nbformat": 4,
 "nbformat_minor": 2
}
