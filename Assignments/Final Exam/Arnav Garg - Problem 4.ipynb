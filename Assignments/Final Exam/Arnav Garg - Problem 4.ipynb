{
 "cells": [
  {
   "cell_type": "markdown",
   "metadata": {},
   "source": [
    "Problem 4"
   ]
  },
  {
   "cell_type": "code",
   "execution_count": 40,
   "metadata": {},
   "outputs": [],
   "source": [
    "import pandas as pd\n",
    "import numpy as np\n",
    "import warnings\n",
    "warnings.filterwarnings(\"ignore\")"
   ]
  },
  {
   "cell_type": "code",
   "execution_count": 41,
   "metadata": {},
   "outputs": [],
   "source": [
    "hotel_prob = pd.read_csv('hotel_prob.csv')"
   ]
  },
  {
   "cell_type": "code",
   "execution_count": 42,
   "metadata": {},
   "outputs": [],
   "source": [
    "def pricing(r, din, dout):\n",
    "    if r == 'Q':\n",
    "        base = 200\n",
    "    elif r == 'K':\n",
    "        base = 250\n",
    "    else:\n",
    "        base = 300\n",
    "    price = 0\n",
    "    for d in range(din, dout):\n",
    "        if d in [4, 5, 6]:\n",
    "            price += base * 1.15\n",
    "        else:\n",
    "            price += base\n",
    "    return price"
   ]
  },
  {
   "cell_type": "code",
   "execution_count": 43,
   "metadata": {},
   "outputs": [
    {
     "name": "stdout",
     "output_type": "stream",
     "text": [
      "The probability that the hotel receives a reservation for a Queen room (with any check-in / check-out dates) in a given (4 hour) period is 0.32\n"
     ]
    }
   ],
   "source": [
    "# Part 1a\n",
    "\n",
    "prob = hotel_prob.loc[hotel_prob['r'] == 'Q', 'probability'].sum()\n",
    "print(f'The probability that the hotel receives a reservation for a Queen room (with any check-in / check-out dates) in a given (4 hour) period is {prob:.2f}')"
   ]
  },
  {
   "cell_type": "code",
   "execution_count": 44,
   "metadata": {},
   "outputs": [
    {
     "name": "stdout",
     "output_type": "stream",
     "text": [
      "The probability that the hotel receives a reservation that checks in on Thursday 9/14/2023 and checks out on Sunday 9/17/2023 (with any kind of room) in a given (4 hour) period is 0.01\n"
     ]
    }
   ],
   "source": [
    "# Part 1b\n",
    "\n",
    "prob = hotel_prob.loc[(hotel_prob['din'] == 4) & (hotel_prob['dout'] == 7), 'probability'].sum()\n",
    "print(f'The probability that the hotel receives a reservation that checks in on Thursday 9/14/2023 and checks out on Sunday 9/17/2023 (with any kind of room) in a given (4 hour) period is {prob:.2f}')"
   ]
  },
  {
   "cell_type": "code",
   "execution_count": 45,
   "metadata": {},
   "outputs": [
    {
     "name": "stdout",
     "output_type": "stream",
     "text": [
      "The probability that there is no request in a given (4 hour) period is 0.26\n"
     ]
    }
   ],
   "source": [
    "# Part 1c\n",
    "\n",
    "prob = 1 - hotel_prob['probability'].sum()\n",
    "print(f'The probability that there is no request in a given (4 hour) period is {prob:.2f}')"
   ]
  },
  {
   "cell_type": "code",
   "execution_count": 46,
   "metadata": {},
   "outputs": [
    {
     "name": "stdout",
     "output_type": "stream",
     "text": [
      "The expected value of the number of requests for a California King room, with check-in on Friday 9/15/2023 (d = 5) and check-out on Saturday 9/16/2023 (d = 6) is 6.00\n"
     ]
    }
   ],
   "source": [
    "# Part 1d\n",
    "\n",
    "T = 540\n",
    "expval = hotel_prob.loc[(hotel_prob['r'] == 'C') & (hotel_prob['din'] == 5) & (hotel_prob['dout'] == 6), 'probability'].sum() * T\n",
    "print(f'The expected value of the number of requests for a California King room, with check-in on Friday 9/15/2023 (d = 5) and check-out on Saturday 9/16/2023 (d = 6) is {expval:.2f}')"
   ]
  },
  {
   "cell_type": "markdown",
   "metadata": {},
   "source": [
    "Part 2a\n",
    "\n",
    "\\begin{align}\n",
    "\n",
    "\\text{maximize}\\quad & \\sum_{i=1}^N r_i x_i \\;\\;\\;\\; \\text{[Objective Function]}\\\\\n",
    "\\text{subject to} \\quad & \\sum_{i=1}^{N} x_i \\cdot \\mathbb{1}_{(\\ell \\in \\text{itineraries}_i) \\wedge (r \\geq \\text{din}_i) \\wedge (r < \\text{dout}_i)} \\leq B_{\\ell} \\quad \\forall d \\in \\{1,\\dots, 7\\}\\;\\;\\;\\; \\text{[Everyday Occupancy Constraint]}\\\\\n",
    "& x_i \\geq 0, \\quad \\forall i \\in \\{1,\\dots, N\\}. \\;\\;\\;\\; \\text{[Non-Negativity Constraint]}\n",
    "\n",
    "\n",
    "\\end{align}\n",
    "\n",
    "where decision variables are given as follows:\n",
    "\n",
    "$r_{i}$ is the revenue from accepting a request of type $i$\n",
    "\n",
    "$x_{i}$ is the number of requests of type $i$ that are accepted\n",
    "\n",
    "$B_{r}$ is the total capacity of room type $r$\n",
    "\n",
    "to maximize the total revenue."
   ]
  },
  {
   "cell_type": "code",
   "execution_count": 47,
   "metadata": {},
   "outputs": [
    {
     "name": "stdout",
     "output_type": "stream",
     "text": [
      "The optimal revenue is:  172140.0017788\n"
     ]
    }
   ],
   "source": [
    "# Part 2b\n",
    "\n",
    "import numpy as np\n",
    "\n",
    "nItineraries = hotel_prob.shape[0]\n",
    "nLegs = ['Q', 'K', 'C']\n",
    "nDays = [1, 2, 3, 4, 5, 6, 7]\n",
    "\n",
    "# Let's assume we have the following seats on the legs:\n",
    "B = np.array([50, 50, 20])\n",
    "\n",
    "# Assume we are selling over 750 periods. (Again, can think\n",
    "# of these as days or smaller periods than days, e.g., 12hr/6hr/2hr periods.)\n",
    "T = 540\n",
    "\n",
    "# Below is a list of lists. Each element is a list\n",
    "# that specifies which legs are used in the itinerary. We'll\n",
    "# use this when we define our constraints for the LP momentarily.\n",
    "itineraries_to_legs = hotel_prob[['r', 'din', 'dout']].drop_duplicates()\n",
    "itineraries_to_legs = [list(itineraries) for itineraries in itineraries_to_legs.values]\n",
    "\n",
    "revenue = np.array(hotel_prob.apply(lambda x: pricing(x['r'], x['din'], x['dout']), axis=1))\n",
    "probability = np.array(hotel_prob.probability)\n",
    "\n",
    "forecast = T * probability\n",
    "\n",
    "# Formulate the LP:\n",
    "from gurobipy import * \n",
    "\n",
    "# Create the model and the decision variables.\n",
    "m = Model()\n",
    "m.Params.LogToConsole = 0\n",
    "\n",
    "x = m.addVars(nItineraries, lb = 0, ub = forecast)\n",
    "\n",
    "# Define the constraints.\n",
    "# Notice how the itineraries_to_legs list is used to define the constraint;\n",
    "# for each leg ell, only add up those x[i]'s for which the itinerary i uses leg ell. \n",
    "leg_capacity_constrs = {}\n",
    "for ell in nLegs:\n",
    "    for day in nDays:\n",
    "        leg_capacity_constrs[(nLegs.index(ell), nDays.index(day))] = m.addConstr(sum(x[i] for i in range(nItineraries) if ((ell in itineraries_to_legs[i]) and (day >= itineraries_to_legs[i][1]) and (day < itineraries_to_legs[i][2]))) <= B[nLegs.index(ell)])\n",
    "\n",
    "# Specify the objective\n",
    "m.setObjective( sum(revenue[i] * x[i] for i in range(nItineraries)), GRB.MAXIMIZE)\n",
    "\n",
    "# Solve \n",
    "m.update()\n",
    "m.optimize()\n",
    "\n",
    "# Save the LP objective\n",
    "LP_obj = m.objval\n",
    "\n",
    "# Display the static allocation\n",
    "# print( [x[i].x for i in range(nItineraries)])\n",
    "# print( forecast)\n",
    "print('The optimal revenue is: ', LP_obj)\n",
    "\n",
    "# for ell in nLegs:\n",
    "#     for day in nDays:\n",
    "#         print(f'ell: {ell}, day: {day}, booking: {leg_capacity_constrs[(nLegs.index(ell), nDays.index(day))].slack}')\n",
    "\n",
    "# for i in itineraries_to_legs:\n",
    "#     print(f'{i}: {x[itineraries_to_legs.index(i)].x}')"
   ]
  },
  {
   "cell_type": "code",
   "execution_count": 48,
   "metadata": {},
   "outputs": [
    {
     "name": "stdout",
     "output_type": "stream",
     "text": [
      "['K', 2, 3]: 19.99999814000001\n",
      "['K', 3, 4]: 15.999997820000011\n",
      "['K', 4, 5]: 13.999998200000011\n",
      "['Q', 1, 2]: 10.00000026\n",
      "['K', 2, 4]: 10.00000026\n"
     ]
    }
   ],
   "source": [
    "# Part 2c\n",
    "\n",
    "top5 = sorted(range(len(x)), key = lambda i: x[i].x, reverse=True)[:5]\n",
    "for i in top5:\n",
    "    print(f'{itineraries_to_legs[i]}: {x[i].x}')"
   ]
  },
  {
   "cell_type": "code",
   "execution_count": 49,
   "metadata": {},
   "outputs": [
    {
     "name": "stdout",
     "output_type": "stream",
     "text": [
      "RoomType: Q, Day: 1, DualVariable: 0.0\n",
      "RoomType: Q, Day: 2, DualVariable: 200.0\n",
      "RoomType: Q, Day: 3, DualVariable: 200.0\n",
      "RoomType: Q, Day: 4, DualVariable: 230.0\n",
      "RoomType: Q, Day: 5, DualVariable: 229.99999999999997\n",
      "RoomType: Q, Day: 6, DualVariable: 0.0\n",
      "RoomType: Q, Day: 7, DualVariable: 0.0\n",
      "RoomType: K, Day: 1, DualVariable: 0.0\n",
      "RoomType: K, Day: 2, DualVariable: 250.0\n",
      "RoomType: K, Day: 3, DualVariable: 250.0\n",
      "RoomType: K, Day: 4, DualVariable: 287.5\n",
      "RoomType: K, Day: 5, DualVariable: 0.0\n",
      "RoomType: K, Day: 6, DualVariable: 0.0\n",
      "RoomType: K, Day: 7, DualVariable: 0.0\n",
      "RoomType: C, Day: 1, DualVariable: 0.0\n",
      "RoomType: C, Day: 2, DualVariable: 300.0\n",
      "RoomType: C, Day: 3, DualVariable: 300.0\n",
      "RoomType: C, Day: 4, DualVariable: 345.0\n",
      "RoomType: C, Day: 5, DualVariable: 345.0\n",
      "RoomType: C, Day: 6, DualVariable: 345.0\n",
      "RoomType: C, Day: 7, DualVariable: 0.0\n"
     ]
    }
   ],
   "source": [
    "# Part 2d\n",
    "\n",
    "for ell in nLegs:\n",
    "    for day in nDays:\n",
    "        print(f'RoomType: {ell}, Day: {day}, DualVariable: {leg_capacity_constrs[(nLegs.index(ell), nDays.index(day))].pi}')"
   ]
  },
  {
   "cell_type": "code",
   "execution_count": 50,
   "metadata": {},
   "outputs": [
    {
     "name": "stdout",
     "output_type": "stream",
     "text": [
      "The predicted change in revenue is $725.00\n"
     ]
    }
   ],
   "source": [
    "# Part2e\n",
    "\n",
    "delta = 10 * (sum([leg_capacity_constrs[(0, i)].pi for i in range(7)]) - sum([leg_capacity_constrs[(1, i)].pi for i in range(7)]))\n",
    "\n",
    "print(f'The predicted change in revenue is ${delta:.2f}')"
   ]
  },
  {
   "cell_type": "code",
   "execution_count": 51,
   "metadata": {},
   "outputs": [],
   "source": [
    "# Part 3\n",
    "\n",
    "np.random.seed(50)\n",
    "T = 540\n",
    "random_sequences = np.random.choice(range(nItineraries + 1), size = (100, T), p = np.append(probability, 1 - probability.sum()))"
   ]
  },
  {
   "cell_type": "code",
   "execution_count": 52,
   "metadata": {},
   "outputs": [
    {
     "name": "stdout",
     "output_type": "stream",
     "text": [
      "Mean myopic revenue:  147472.025\n"
     ]
    }
   ],
   "source": [
    "# Part 3a\n",
    "\n",
    "nSimulations = 100\n",
    "\n",
    "results_myopic_revenue = np.zeros(nSimulations)\n",
    "\n",
    "for s in range(nSimulations):\n",
    "    total_revenue = 0.0\n",
    "    b = B.copy()\n",
    "    b = np.tile(b, (7, 1)).T\n",
    "    arrival_sequence = random_sequences[s]\n",
    "    \n",
    "    for t in range(T):\n",
    "        # Stop if all seats have been sold:\n",
    "        if ((b == 0).all()):\n",
    "            break\n",
    "        \n",
    "        i = arrival_sequence[t]\n",
    "\n",
    "        if (i < nItineraries):        \n",
    "\n",
    "            r = itineraries_to_legs[i][0]\n",
    "            din = itineraries_to_legs[i][1]\n",
    "            dout = itineraries_to_legs[i][2]\n",
    "            \n",
    "            if dout != 8:\n",
    "                # If there is a free seat on each leg for this itinerary...\n",
    "                if ((b[nLegs.index(r)][nDays.index(din):nDays.index(dout)] > 0).all()):\n",
    "                    # ... accept the request!\n",
    "                    b[nLegs.index(r)][nDays.index(din):nDays.index(dout)] -= 1\n",
    "                    total_revenue += revenue[i]\n",
    "            else:\n",
    "                # If there is a free seat on each leg for this itinerary...\n",
    "                if ((b[nLegs.index(r)][nDays.index(din):] > 0).all()):\n",
    "                    # ... accept the request!\n",
    "                    b[nLegs.index(r)][nDays.index(din):] -= 1\n",
    "                    total_revenue += revenue[i]\n",
    "\n",
    "    \n",
    "    results_myopic_revenue[s] = total_revenue\n",
    "\n",
    "print(\"Mean myopic revenue: \", results_myopic_revenue.mean())"
   ]
  },
  {
   "cell_type": "code",
   "execution_count": 53,
   "metadata": {},
   "outputs": [
    {
     "data": {
      "text/plain": [
       "787.5"
      ]
     },
     "execution_count": 53,
     "metadata": {},
     "output_type": "execute_result"
    }
   ],
   "source": [
    "# Part 3b\n",
    "\n",
    "def opportunity_cost(r, din, dout):\n",
    "    if dout != 8:\n",
    "        return sum([leg_capacity_constrs[(nLegs.index(r), i)].pi for i in range(nDays.index(din), nDays.index(dout))])\n",
    "    else:\n",
    "        return sum([leg_capacity_constrs[(nLegs.index(r), i)].pi for i in range(nDays.index(din), 7)])\n",
    "    \n",
    "opportunity_cost('K', 2, 5)"
   ]
  },
  {
   "cell_type": "code",
   "execution_count": 54,
   "metadata": {},
   "outputs": [
    {
     "name": "stdout",
     "output_type": "stream",
     "text": [
      "Mean revenue:  163673.975\n"
     ]
    }
   ],
   "source": [
    "# Part 3c\n",
    "\n",
    "def bpc(b, t, r, din, dout):\n",
    "    for ell in nLegs:\n",
    "        for day in nDays:\n",
    "            leg_capacity_constrs[(nLegs.index(ell), nDays.index(day))].rhs = b[nLegs.index(ell), nDays.index(day)]\n",
    "\n",
    "    for i in range(nItineraries):\n",
    "        x[i].ub = (T - t) * probability[i]\n",
    "    \n",
    "    m.update()\n",
    "    m.optimize()\n",
    "    \n",
    "    dual_val = opportunity_cost(r, din, dout)\n",
    "    \n",
    "    return dual_val\n",
    "\n",
    "nSimulations = 100\n",
    "\n",
    "results_revenue = np.zeros(nSimulations)\n",
    "\n",
    "for s in range(nSimulations):\n",
    "    total_revenue = 0.0\n",
    "    b = B.copy()\n",
    "    b = np.tile(b, (7, 1)).T\n",
    "    # add a dummy itinerary to the end of the sequence to ensure that the last request is always rejected\n",
    "    # b = np.append(b, np.zeros((3, 1)), axis = 1)\n",
    "\n",
    "    arrival_sequence = random_sequences[s]\n",
    "    \n",
    "    for t in range(T):\n",
    "        # Stop if all seats have been sold:\n",
    "        if ((b == 0).all()):\n",
    "            break\n",
    "        \n",
    "        i = arrival_sequence[t]\n",
    "\n",
    "        if (i < nItineraries):        \n",
    "\n",
    "            r = itineraries_to_legs[i][0]\n",
    "            din = itineraries_to_legs[i][1]\n",
    "            dout = itineraries_to_legs[i][2]\n",
    "\n",
    "            total_bid_price = bpc(b, t, r, din, dout)\n",
    "\n",
    "            if dout != 8:\n",
    "                # If there is a free seat on each leg for this itinerary...\n",
    "                if ((revenue[i] >= total_bid_price) & (b[nLegs.index(r)][nDays.index(din):nDays.index(dout)] > 0).all()):\n",
    "                    # ... accept the request!\n",
    "                    b[nLegs.index(r)][nDays.index(din):nDays.index(dout)] -= 1\n",
    "                    total_revenue += revenue[i]\n",
    "            else:\n",
    "                # If there is a free seat on each leg for this itinerary...\n",
    "                if ((revenue[i] >= total_bid_price) & (b[nLegs.index(r)][nDays.index(din):] > 0).all()):\n",
    "                    # ... accept the request!\n",
    "                    b[nLegs.index(r)][nDays.index(din):] -= 1\n",
    "                    total_revenue += revenue[i]\n",
    "    \n",
    "    results_revenue[s] = total_revenue\n",
    "\n",
    "print(\"Mean revenue: \", results_revenue.mean())"
   ]
  },
  {
   "cell_type": "markdown",
   "metadata": {},
   "source": [
    "<!-- a) What is the probability that the hotel receives a reservation for a Queen room (with any check-in / check-out dates) in a given (4 hour) period? -->\n",
    "\n"
   ]
  }
 ],
 "metadata": {
  "kernelspec": {
   "display_name": "base",
   "language": "python",
   "name": "python3"
  },
  "language_info": {
   "codemirror_mode": {
    "name": "ipython",
    "version": 3
   },
   "file_extension": ".py",
   "mimetype": "text/x-python",
   "name": "python",
   "nbconvert_exporter": "python",
   "pygments_lexer": "ipython3",
   "version": "3.11.5"
  }
 },
 "nbformat": 4,
 "nbformat_minor": 2
}
