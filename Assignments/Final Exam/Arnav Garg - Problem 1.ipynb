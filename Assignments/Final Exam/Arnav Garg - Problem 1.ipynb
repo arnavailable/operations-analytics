{
 "cells": [
  {
   "cell_type": "markdown",
   "metadata": {},
   "source": [
    "Problem 1"
   ]
  },
  {
   "cell_type": "code",
   "execution_count": 8,
   "metadata": {},
   "outputs": [],
   "source": [
    "import pandas as pd\n",
    "import numpy as np\n",
    "import warnings\n",
    "warnings.filterwarnings(\"ignore\")"
   ]
  },
  {
   "cell_type": "code",
   "execution_count": 9,
   "metadata": {},
   "outputs": [],
   "source": [
    "dist = pd.read_csv('mwm_dist.csv')\n",
    "dist.drop(['Status'], axis=1, inplace=True)\n",
    "dist = dist[['OriginInd', 'DestinationInd', 'Distance', 'Time']]\n",
    "dist.sort_values(by=['OriginInd', 'DestinationInd'], inplace=True)\n",
    "dist.reset_index(drop=True, inplace=True)\n",
    "hosp = pd.read_csv('mwm_hosp.csv')"
   ]
  },
  {
   "cell_type": "code",
   "execution_count": 10,
   "metadata": {},
   "outputs": [
    {
     "data": {
      "text/plain": [
       "(       OriginInd  DestinationInd  Distance  Time\n",
       " 0              0               0         0     0\n",
       " 1              0               1     34949  1775\n",
       " 2              0               2     32397  1802\n",
       " 3              0               3     63731  2829\n",
       " 4              0               4     49704  2707\n",
       " ...          ...             ...       ...   ...\n",
       " 13919        117             113     42257  2569\n",
       " 13920        117             114      8183  1221\n",
       " 13921        117             115     50469  2718\n",
       " 13922        117             116     14849  1785\n",
       " 13923        117             117         0     0\n",
       " \n",
       " [13924 rows x 4 columns],\n",
       "      HospitalID                                               Name   latitude  \\\n",
       " 0             0                                   MWM Headquarters  34.213938   \n",
       " 1             1                             Verdugo Hills Hospital  34.204530   \n",
       " 2             2  Barlow Respiratory Hospital - Los Angeles (Mai...  34.075693   \n",
       " 3             3                        Glendora Community Hospital  34.127307   \n",
       " 4             4  Providence Little Company Of Mary Medical Cent...  33.838634   \n",
       " ..          ...                                                ...        ...   \n",
       " 113         113                       PIH Health Hospital - Downey  33.969794   \n",
       " 114         114                       Saint Vincent Medical Center  34.063818   \n",
       " 115         115                       San Dimas Community Hospital  34.097612   \n",
       " 116         116        Southern California Hospital at Culver City  34.023195   \n",
       " 117         117          Southern California Hospital at Hollywood  34.096445   \n",
       " \n",
       "       longitude  \n",
       " 0   -118.445018  \n",
       " 1   -118.216024  \n",
       " 2   -118.248312  \n",
       " 3   -117.865075  \n",
       " 4   -118.357113  \n",
       " ..          ...  \n",
       " 113 -118.049255  \n",
       " 114 -118.273655  \n",
       " 115 -117.834659  \n",
       " 116 -118.396943  \n",
       " 117 -118.325144  \n",
       " \n",
       " [118 rows x 4 columns])"
      ]
     },
     "execution_count": 10,
     "metadata": {},
     "output_type": "execute_result"
    }
   ],
   "source": [
    "dist, hosp"
   ]
  },
  {
   "cell_type": "code",
   "execution_count": 11,
   "metadata": {},
   "outputs": [
    {
     "name": "stdout",
     "output_type": "stream",
     "text": [
      "The hospital farthest from the depot is Antelope Valley Hospital with a distance of 90167.00 km\n"
     ]
    }
   ],
   "source": [
    "# Part 1a\n",
    "a = dist.loc[dist['OriginInd'] == 0, 'Distance'].idxmax()\n",
    "print(f'The hospital farthest from the depot is {hosp.loc[a, \"Name\"]} with a distance of {dist.loc[a, \"Distance\"]:.2f} km')"
   ]
  },
  {
   "cell_type": "code",
   "execution_count": 12,
   "metadata": {},
   "outputs": [
    {
     "name": "stdout",
     "output_type": "stream",
     "text": [
      "The hospital farthest from the depot is Mission Community Hospital with a distance of 2141.00 km\n"
     ]
    }
   ],
   "source": [
    "# Part 1b\n",
    "b = dist.loc[(dist['OriginInd'] == 0) & (dist['DestinationInd'] != 0), 'Distance'].idxmin()\n",
    "print(f'The hospital farthest from the depot is {hosp.loc[b, \"Name\"]} with a distance of {dist.loc[b, \"Distance\"]:.2f} km')"
   ]
  },
  {
   "cell_type": "code",
   "execution_count": 13,
   "metadata": {},
   "outputs": [
    {
     "name": "stdout",
     "output_type": "stream",
     "text": [
      "The total transport cost is 94553.90\n"
     ]
    }
   ],
   "source": [
    "# Part 1c\n",
    "def transport_cost(distance):\n",
    "    return 0.1 * distance + 5000\n",
    "\n",
    "def heuristic1(dist, hosp):\n",
    "    hospitals = list(hosp.HospitalID.values)\n",
    "    visited = [0]\n",
    "    distance = 0\n",
    "    hospitals.pop(0)\n",
    "    for i in range(len(hospitals)):\n",
    "        next_idx = dist.loc[(dist['DestinationInd'] != 0) & (dist['OriginInd'] == visited[-1]) & (dist['DestinationInd'].isin(hospitals)) & (dist['OriginInd'] != dist['DestinationInd']), 'Distance'].idxmin()\n",
    "        next_hosp = dist.loc[next_idx, 'DestinationInd']\n",
    "        distance += dist.loc[next_idx, 'Distance']\n",
    "        visited.append(next_hosp)\n",
    "        hospitals.pop(hospitals.index(next_hosp))\n",
    "    distance += dist.loc[(dist['OriginInd'] == visited[-1]) & (dist['DestinationInd'] == 0), 'Distance'].values[0]\n",
    "    return distance, visited\n",
    "\n",
    "a, b = heuristic1(dist, hosp)\n",
    "\n",
    "print(f'The total transport cost is {transport_cost(a):.2f}')"
   ]
  },
  {
   "cell_type": "code",
   "execution_count": 14,
   "metadata": {},
   "outputs": [
    {
     "name": "stdout",
     "output_type": "stream",
     "text": [
      "The average cost of the heuristic is 488934.47\n",
      "The best/lowest cost of the heuristic is 438397.50\n"
     ]
    }
   ],
   "source": [
    "# Part 1d\n",
    "def get_distances(dist, sequence):\n",
    "    distance = 0\n",
    "    for i in range(len(sequence) - 1):\n",
    "        distance += dist.loc[(dist['OriginInd'] == sequence[i]) & (dist['DestinationInd'] == sequence[i+1]), 'Distance'].values[0]\n",
    "    return distance\n",
    "\n",
    "np.random.seed(50)\n",
    "cost = []\n",
    "\n",
    "for i in range(100):\n",
    "    sequence = np.random.permutation(range(1, 118))\n",
    "    sequence = np.insert(sequence, 0, 0)\n",
    "    sequence = np.append(sequence, 0)\n",
    "    distance = get_distances(dist, sequence)\n",
    "    cost.append(transport_cost(distance))\n",
    "\n",
    "print(f'The average cost of the heuristic is {np.mean(cost):.2f}')\n",
    "print(f'The best/lowest cost of the heuristic is {np.min(cost):.2f}')"
   ]
  },
  {
   "cell_type": "markdown",
   "metadata": {},
   "source": [
    "Part 2a\n",
    "\n",
    "\\begin{align}\n",
    "& \\underset{\\mathbf{x}}{\\text{minimize}} & & \\sum_{i=1}^n \\sum_{ \\substack{j=1\\\\ j\\neq i} }^n  d_{i,j} x_{i,j} \\;\\;\\;\\; \\text{[Objective Function]} \\\\\n",
    "& \\text{subject to} & & \\sum_{\\substack{j = 1\\\\j \\neq i}}^n x_{i,j} = 1, \\quad \\forall\\ i\\ \\in \\{1,\\dots,n\\} \\;\\;\\;\\; \\text{[Each hospital has exactly one outgoing path]} \\\\\n",
    "& & & \\sum_{\\substack{j = 1\\\\j \\neq i}}^n x_{j,i} = 1, \\quad \\forall\\ i\\ \\in \\{1,\\dots,n\\} \\;\\;\\;\\; \\text{[Each hospital has exactly one incoming path]} \\\\\n",
    "& & & \\sum_{i \\in S} \\sum_{ \\substack{j \\in S\\\\j\\neq i} } x_{i,j} \\leq |S| - 1, \\quad \\forall \\ S \\subsetneq \\{1,\\dots,n\\}, \\;\\;\\;\\; \\text{[Subtour Elimination Constraint]} \\\\\n",
    "& & & x_{i,j} \\in \\{0,1\\}, \\quad \\forall \\ i,j \\in \\{1,\\dots,n\\}, \\ i \\neq j. \\;\\;\\;\\; \\text{[Binary Constraint]} \n",
    "\\end{align}\n",
    "\n",
    "\n",
    "where decision variables are given as follows:\n",
    "\n",
    "$d_{ij}$ is the travel distance from hospital $i$ to hospital $j$.\n",
    "\n",
    "$x_{ij} = 1$ if if the path from hospital $i$ to hospital $j$ is included in the tour\n",
    "\n",
    "$x_{ij} = 0$ otherwise\n",
    "\n",
    "to minimize total distance travelled."
   ]
  },
  {
   "cell_type": "code",
   "execution_count": 15,
   "metadata": {},
   "outputs": [
    {
     "name": "stdout",
     "output_type": "stream",
     "text": [
      "Set parameter Username\n",
      "Academic license - for non-commercial use only - expires 2025-05-13\n"
     ]
    },
    {
     "ename": "TypeError",
     "evalue": "unsupported operand type(s) for -: 'bool' and 'NoneType'",
     "output_type": "error",
     "traceback": [
      "\u001b[0;31m---------------------------------------------------------------------------\u001b[0m",
      "\u001b[0;31mTypeError\u001b[0m                                 Traceback (most recent call last)",
      "File \u001b[0;32msrc/gurobipy/callback.pxi:208\u001b[0m, in \u001b[0;36mgurobipy.CallbackClass.callback\u001b[0;34m()\u001b[0m\n",
      "Cell \u001b[0;32mIn[15], line 29\u001b[0m, in \u001b[0;36meliminateSubtours\u001b[0;34m(model, where)\u001b[0m\n\u001b[1;32m     27\u001b[0m \u001b[38;5;28;01mif\u001b[39;00m (\u001b[38;5;28mlen\u001b[39m(subtour_list) \u001b[38;5;241m>\u001b[39m \u001b[38;5;241m1\u001b[39m):\n\u001b[1;32m     28\u001b[0m     \u001b[38;5;28;01mfor\u001b[39;00m subtour \u001b[38;5;129;01min\u001b[39;00m subtour_list:\n\u001b[0;32m---> 29\u001b[0m         model\u001b[38;5;241m.\u001b[39mcbLazy( \u001b[38;5;28msum\u001b[39m(x[i,j] \u001b[38;5;28;01mfor\u001b[39;00m i \u001b[38;5;129;01min\u001b[39;00m subtour \u001b[38;5;28;01mfor\u001b[39;00m j \u001b[38;5;129;01min\u001b[39;00m subtour \u001b[38;5;28;01mif\u001b[39;00m j \u001b[38;5;241m!=\u001b[39m i) \u001b[38;5;241m<\u001b[39m\u001b[38;5;241m=\u001b[39m (\u001b[38;5;28mlen\u001b[39m(subtour) \u001b[38;5;241m-\u001b[39m \u001b[38;5;241m1\u001b[39m))\n",
      "File \u001b[0;32msrc/gurobipy/model.pxi:6992\u001b[0m, in \u001b[0;36mgurobipy.Model.cbLazy\u001b[0;34m()\u001b[0m\n",
      "\u001b[0;31mTypeError\u001b[0m: unsupported operand type(s) for -: 'bool' and 'NoneType'"
     ]
    },
    {
     "name": "stderr",
     "output_type": "stream",
     "text": [
      "Exception ignored in: 'gurobipy.callbackstub'\n",
      "Traceback (most recent call last):\n",
      "  File \"src/gurobipy/callback.pxi\", line 208, in gurobipy.CallbackClass.callback\n",
      "  File \"/var/folders/v0/zsfpxhv11w53vl0c98l6h02m0000gq/T/ipykernel_77557/1865809705.py\", line 29, in eliminateSubtours\n",
      "  File \"src/gurobipy/model.pxi\", line 6992, in gurobipy.Model.cbLazy\n",
      "TypeError: unsupported operand type(s) for -: 'bool' and 'NoneType'\n"
     ]
    },
    {
     "name": "stdout",
     "output_type": "stream",
     "text": [
      "Complete tour:  [117, 32, 5, 58, 1, 84, 103, 90, 31, 33, 41, 98, 16, 71, 0, 20, 95, 73, 43, 25, 63, 74, 21, 15, 52, 83, 19, 68, 28, 6, 112, 65, 70, 116, 24, 78, 62, 17, 96, 55, 114, 12, 9, 51, 45, 57, 108, 35, 4, 48, 14, 69, 89, 111, 80, 11, 26, 34, 27, 42, 23, 61, 46, 86, 37, 53, 110, 30, 18, 113, 13, 40, 8, 85, 109, 36, 66, 101, 88, 22, 87, 115, 3, 82, 7, 81, 50, 104, 59, 100, 49, 102, 97, 99, 39, 64, 107, 67, 47, 76, 94, 92, 38, 44, 79, 60, 54, 77, 93, 29, 75, 2, 105, 106, 91, 56, 10, 72, 117]\n",
      "Total cost:  77578.89999999978\n"
     ]
    }
   ],
   "source": [
    "# Part 2b\n",
    "origin_dest_zipped = list(zip(dist['OriginInd'], dist['DestinationInd']))\n",
    "travel_dist_dict = dict( zip(origin_dest_zipped, dist['Distance']) )\n",
    "od_pairs = travel_dist_dict.keys()\n",
    "nHospitals = len(hosp)\n",
    "\n",
    "def getSubtours(sequence):\n",
    "    subtour_list = []\n",
    "    unvisited = list(range(nHospitals))\n",
    "    while ( len(unvisited) > 0 ):\n",
    "        node = unvisited.pop()\n",
    "        subtour = []\n",
    "        subtour.append(node)\n",
    "        next_node = list(filter(lambda t: t[0] == node, sequence))[0][1]\n",
    "        while (next_node in unvisited):\n",
    "            subtour.append(next_node)\n",
    "            unvisited.remove(next_node)\n",
    "            next_node = list(filter(lambda t: t[0] == next_node, sequence))[0][1]\n",
    "        subtour_list.append(subtour)\n",
    "    return subtour_list\n",
    "\n",
    "def eliminateSubtours(model, where):\n",
    "    if (where == GRB.Callback.MIPSOL):\n",
    "        x_val = model.cbGetSolution(x)\n",
    "        sequence = [ (i,j) for (i,j) in od_pairs if x_val[i,j] > 0.5]\n",
    "        subtour_list = getSubtours(sequence)\n",
    "        if (len(subtour_list) > 1):\n",
    "            for subtour in subtour_list:\n",
    "                model.cbLazy( sum(x[i,j] for i in subtour for j in subtour if j != i) <= (len(subtour) - 1))\n",
    "\n",
    "from gurobipy import *\n",
    "\n",
    "m = Model()\n",
    "m.Params.LogToConsole = 0\n",
    "\n",
    "x = m.addVars(od_pairs, vtype = GRB.BINARY)\n",
    "\n",
    "for i in range(nHospitals):\n",
    "    m.addConstr( sum(x[i,j] for j in range(nHospitals) if j != i ) == 1)\n",
    "    m.addConstr( sum(x[j,i] for j in range(nHospitals) if j != i ) == 1)\n",
    "\n",
    "m.setObjective(sum( travel_dist_dict[i,j] * x[i,j] for (i,j) in od_pairs ), GRB.MINIMIZE)\n",
    "\n",
    "m.update()\n",
    "m.params.LazyConstraints = 1\n",
    "m.optimize(eliminateSubtours)\n",
    "\n",
    "sequence = [ (i,j) for (i,j) in od_pairs if x[i,j].x > 0.5]\n",
    "subtour_list = getSubtours(sequence)\n",
    "complete_tour = subtour_list[0]\n",
    "complete_tour.append( complete_tour[0] )\n",
    "print(\"Complete tour: \", complete_tour)\n",
    "print(\"Total cost: \", transport_cost(m.ObjVal))"
   ]
  },
  {
   "cell_type": "code",
   "execution_count": 16,
   "metadata": {},
   "outputs": [
    {
     "name": "stdout",
     "output_type": "stream",
     "text": [
      "Mission Community Hospital\n",
      "Mission City Community Network Inc\n",
      "Northridge Hospital Medical Center\n",
      "West Hills Hospital and Medical Center\n",
      "Kaiser Permanente - Woodland Hills Medical Center\n"
     ]
    }
   ],
   "source": [
    "# Part 2c\n",
    "for hospital in complete_tour[complete_tour.index(0) + 1 : complete_tour.index(0) + 6]:\n",
    "    print(hosp.loc[hospital, \"Name\"])"
   ]
  }
 ],
 "metadata": {
  "kernelspec": {
   "display_name": "base",
   "language": "python",
   "name": "python3"
  },
  "language_info": {
   "codemirror_mode": {
    "name": "ipython",
    "version": 3
   },
   "file_extension": ".py",
   "mimetype": "text/x-python",
   "name": "python",
   "nbconvert_exporter": "python",
   "pygments_lexer": "ipython3",
   "version": "3.11.5"
  }
 },
 "nbformat": 4,
 "nbformat_minor": 2
}
