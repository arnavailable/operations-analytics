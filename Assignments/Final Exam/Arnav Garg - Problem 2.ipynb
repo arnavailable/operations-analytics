{
 "cells": [
  {
   "cell_type": "markdown",
   "metadata": {},
   "source": [
    "Problem 2"
   ]
  },
  {
   "cell_type": "code",
   "execution_count": 2,
   "metadata": {},
   "outputs": [],
   "source": [
    "import pandas as pd\n",
    "import numpy as np\n",
    "import warnings\n",
    "warnings.filterwarnings(\"ignore\")"
   ]
  },
  {
   "cell_type": "code",
   "execution_count": 3,
   "metadata": {},
   "outputs": [],
   "source": [
    "bikeshare_dock_locations = pd.read_csv('bikeshare_dock_locations.csv')\n",
    "bikeshare_customer_locations = pd.read_csv('bikeshare_customer_locations.csv')\n",
    "bikeshare_time = pd.read_csv('bikeshare_time.csv', header=None).values"
   ]
  },
  {
   "cell_type": "code",
   "execution_count": 4,
   "metadata": {},
   "outputs": [
    {
     "data": {
      "text/html": [
       "<div>\n",
       "<style scoped>\n",
       "    .dataframe tbody tr th:only-of-type {\n",
       "        vertical-align: middle;\n",
       "    }\n",
       "\n",
       "    .dataframe tbody tr th {\n",
       "        vertical-align: top;\n",
       "    }\n",
       "\n",
       "    .dataframe thead th {\n",
       "        text-align: right;\n",
       "    }\n",
       "</style>\n",
       "<table border=\"1\" class=\"dataframe\">\n",
       "  <thead>\n",
       "    <tr style=\"text-align: right;\">\n",
       "      <th></th>\n",
       "      <th>customer</th>\n",
       "      <th>longitude</th>\n",
       "      <th>latitude</th>\n",
       "      <th>walktime</th>\n",
       "    </tr>\n",
       "  </thead>\n",
       "  <tbody>\n",
       "    <tr>\n",
       "      <th>0</th>\n",
       "      <td>1</td>\n",
       "      <td>-118.464515</td>\n",
       "      <td>34.036088</td>\n",
       "      <td>300</td>\n",
       "    </tr>\n",
       "    <tr>\n",
       "      <th>1</th>\n",
       "      <td>2</td>\n",
       "      <td>-118.461880</td>\n",
       "      <td>34.033794</td>\n",
       "      <td>120</td>\n",
       "    </tr>\n",
       "    <tr>\n",
       "      <th>2</th>\n",
       "      <td>3</td>\n",
       "      <td>-118.461481</td>\n",
       "      <td>34.033850</td>\n",
       "      <td>480</td>\n",
       "    </tr>\n",
       "    <tr>\n",
       "      <th>3</th>\n",
       "      <td>4</td>\n",
       "      <td>-118.486521</td>\n",
       "      <td>34.024456</td>\n",
       "      <td>360</td>\n",
       "    </tr>\n",
       "    <tr>\n",
       "      <th>4</th>\n",
       "      <td>5</td>\n",
       "      <td>-118.470259</td>\n",
       "      <td>34.039326</td>\n",
       "      <td>600</td>\n",
       "    </tr>\n",
       "  </tbody>\n",
       "</table>\n",
       "</div>"
      ],
      "text/plain": [
       "   customer   longitude   latitude  walktime\n",
       "0         1 -118.464515  34.036088       300\n",
       "1         2 -118.461880  34.033794       120\n",
       "2         3 -118.461481  34.033850       480\n",
       "3         4 -118.486521  34.024456       360\n",
       "4         5 -118.470259  34.039326       600"
      ]
     },
     "execution_count": 4,
     "metadata": {},
     "output_type": "execute_result"
    }
   ],
   "source": [
    "bikeshare_customer_locations.head()"
   ]
  },
  {
   "cell_type": "code",
   "execution_count": 5,
   "metadata": {},
   "outputs": [
    {
     "data": {
      "text/html": [
       "<div>\n",
       "<style scoped>\n",
       "    .dataframe tbody tr th:only-of-type {\n",
       "        vertical-align: middle;\n",
       "    }\n",
       "\n",
       "    .dataframe tbody tr th {\n",
       "        vertical-align: top;\n",
       "    }\n",
       "\n",
       "    .dataframe thead th {\n",
       "        text-align: right;\n",
       "    }\n",
       "</style>\n",
       "<table border=\"1\" class=\"dataframe\">\n",
       "  <thead>\n",
       "    <tr style=\"text-align: right;\">\n",
       "      <th></th>\n",
       "      <th>candidate</th>\n",
       "      <th>longitude</th>\n",
       "      <th>latitude</th>\n",
       "      <th>capacity</th>\n",
       "    </tr>\n",
       "  </thead>\n",
       "  <tbody>\n",
       "    <tr>\n",
       "      <th>0</th>\n",
       "      <td>1</td>\n",
       "      <td>-118.494089</td>\n",
       "      <td>34.019297</td>\n",
       "      <td>60</td>\n",
       "    </tr>\n",
       "    <tr>\n",
       "      <th>1</th>\n",
       "      <td>2</td>\n",
       "      <td>-118.479515</td>\n",
       "      <td>34.012164</td>\n",
       "      <td>70</td>\n",
       "    </tr>\n",
       "    <tr>\n",
       "      <th>2</th>\n",
       "      <td>3</td>\n",
       "      <td>-118.481021</td>\n",
       "      <td>34.029711</td>\n",
       "      <td>50</td>\n",
       "    </tr>\n",
       "    <tr>\n",
       "      <th>3</th>\n",
       "      <td>4</td>\n",
       "      <td>-118.461908</td>\n",
       "      <td>34.017341</td>\n",
       "      <td>60</td>\n",
       "    </tr>\n",
       "    <tr>\n",
       "      <th>4</th>\n",
       "      <td>5</td>\n",
       "      <td>-118.494246</td>\n",
       "      <td>34.037268</td>\n",
       "      <td>80</td>\n",
       "    </tr>\n",
       "  </tbody>\n",
       "</table>\n",
       "</div>"
      ],
      "text/plain": [
       "   candidate   longitude   latitude  capacity\n",
       "0          1 -118.494089  34.019297        60\n",
       "1          2 -118.479515  34.012164        70\n",
       "2          3 -118.481021  34.029711        50\n",
       "3          4 -118.461908  34.017341        60\n",
       "4          5 -118.494246  34.037268        80"
      ]
     },
     "execution_count": 5,
     "metadata": {},
     "output_type": "execute_result"
    }
   ],
   "source": [
    "bikeshare_dock_locations.head()"
   ]
  },
  {
   "cell_type": "code",
   "execution_count": 6,
   "metadata": {},
   "outputs": [
    {
     "data": {
      "text/plain": [
       "array([[2946, 2987, 1627, ..., 2245, 1278, 2044],\n",
       "       [1320, 2230,  207, ..., 1294, 3257,  552],\n",
       "       [ 784, 2154, 3041, ..., 1540, 1008,  480],\n",
       "       ...,\n",
       "       [ 755, 2252, 1985, ..., 1765, 1721, 2486],\n",
       "       [ 840, 2678,  255, ...,  291, 3512,  369],\n",
       "       [1173, 1567, 3012, ..., 2523, 2370, 2366]])"
      ]
     },
     "execution_count": 6,
     "metadata": {},
     "output_type": "execute_result"
    }
   ],
   "source": [
    "bikeshare_time"
   ]
  },
  {
   "cell_type": "markdown",
   "metadata": {},
   "source": [
    "Part 1a\n",
    "\n",
    "\\begin{align}\n",
    "\n",
    "\\text{minimize} \\quad & \\frac{1}{m} \\sum_{j=1}^m \\sum_{i=1}^n t_{i,j} y_{i,j} \\;\\;\\;\\; \\text{[Objective Function]}\\\\\n",
    "\\text{subject to} \\quad & \\sum_{i=1}^n y_{i,j} = 1, \\quad \\forall j \\in \\{1,\\dots,m\\}, \\;\\;\\;\\; \\text{[Serve each Customer Constraint]}\\\\\n",
    "& y_{i,j} \\leq x_i, \\quad \\forall i \\in \\{1,\\dots,n\\}, \\ j \\in \\{1,\\dots,m\\}, \\;\\;\\;\\; \\text{[Assignment Constraint]}\\\\\n",
    "& \\sum_{i=1}^n x_i \\leq 10, \\;\\;\\;\\; \\text{[10 Stations Constraint]}\\\\\n",
    "& x_{i} \\in \\{0,1\\}, \\quad \\forall i \\in \\{1,\\dots,n\\}, \\;\\;\\;\\; \\text{[Binary Constraint]}\\\\\n",
    "& y_{i,j} \\in \\{0,1\\}, \\quad \\forall i \\in \\{1,\\dots,n\\}, \\ j \\in \\{1,\\dots,m\\}. \\;\\;\\;\\; \\text{[Binary Constraint]}\n",
    "\n",
    "\\end{align}\n",
    "\n",
    "where decision variables are given as follows:\n",
    "\n",
    "$t_{i,j}$ is the walktime from customer $j$ to docking station $i$ in seconds\n",
    "\n",
    "$y_{i,j}$ is a binary variable to decide if customer $j$ is assigned to docking station $i$ or not\n",
    "\n",
    "$x_i$ is a binary variable to decide if docking station $i$ is open or not\n",
    "\n",
    "to minimize average walktime for all customers."
   ]
  },
  {
   "cell_type": "code",
   "execution_count": 8,
   "metadata": {},
   "outputs": [],
   "source": [
    "m = bikeshare_customer_locations.shape[0]\n",
    "n = bikeshare_dock_locations.shape[0]"
   ]
  },
  {
   "cell_type": "code",
   "execution_count": 7,
   "metadata": {},
   "outputs": [
    {
     "name": "stdout",
     "output_type": "stream",
     "text": [
      "Set parameter Username\n",
      "Academic license - for non-commercial use only - expires 2025-05-13\n",
      "\n",
      "Interrupt request received\n",
      "Optimal Objective Value: 492.48714285714243\n"
     ]
    }
   ],
   "source": [
    "# Part 1b\n",
    "\n",
    "m = bikeshare_customer_locations.shape[0]\n",
    "n = bikeshare_dock_locations.shape[0]\n",
    "\n",
    "from gurobipy import *\n",
    "\n",
    "m1 = Model()\n",
    "m1.Params.LogToConsole = 0\n",
    "\n",
    "x = m1.addVars(n, vtype = GRB.BINARY)\n",
    "y = m1.addVars(n, m, vtype = GRB.BINARY)\n",
    "\n",
    "for j in range(m):\n",
    "    m1.addConstr(sum(y[i,j] for i in range(n)) == 1)\n",
    "    for i in range(n):\n",
    "        m1.addConstr(y[i,j] <= x[i])\n",
    "\n",
    "m1.addConstr( sum(x[i] for i in range(n)) <= 10)\n",
    "m1.setObjective(1.0/m * sum( bikeshare_time[i,j] * y[i,j] for i in range(n) for j in range(m)), GRB.MINIMIZE)\n",
    "\n",
    "m1.update()\n",
    "m1.optimize()\n",
    "\n",
    "print('Optimal Objective Value:', m1.objVal)"
   ]
  },
  {
   "cell_type": "code",
   "execution_count": null,
   "metadata": {},
   "outputs": [
    {
     "name": "stdout",
     "output_type": "stream",
     "text": [
      "[4, 8, 9, 11, 19, 24, 25, 27, 28, 38]\n"
     ]
    }
   ],
   "source": [
    "# Part 1c\n",
    "\n",
    "locs = [i+1 for i in range(n) if x[i].x > 0.5]\n",
    "print(locs)"
   ]
  },
  {
   "cell_type": "markdown",
   "metadata": {},
   "source": [
    "Part 2a\n",
    "\n",
    "\\begin{align}\n",
    "\n",
    "\\text{minimize} \\quad & r \\;\\;\\;\\; \\text{[Objective Function]}\\\\\n",
    "\\text{subject to} \\quad & r \\ge \\sum_{i=1}^n t_{i,j} y_{i, j}, \\quad \\forall j \\in \\{1,\\dots,m\\}, \\;\\;\\;\\; \\text{[Maximum Walktime Constraint]}\\\\\n",
    "& y_{i,j} \\leq x_i, \\quad \\forall i \\in \\{1,\\dots,n\\}, \\ j \\in \\{1,\\dots,m\\}, \\;\\;\\;\\; \\text{[Assignment Constraint]}\\\\\n",
    "& \\sum_{i=1}^n x_i = 10, \\;\\;\\;\\; \\text{[10 Stations Constraint]}\\\\\n",
    "& x_{i} \\in \\{0,1\\}, \\quad \\forall i \\in \\{1,\\dots,n\\}, \\;\\;\\;\\; \\text{[Binary Constraint]}\\\\\n",
    "& y_{i,j} \\in \\{0,1\\}, \\quad \\forall i \\in \\{1,\\dots,n\\}, \\ j \\in \\{1,\\dots,m\\}. \\;\\;\\;\\; \\text{[Binary Constraint]}\n",
    "\n",
    "\\end{align}\n",
    "\n",
    "where decision variables are given as follows:\n",
    "\n",
    "$t_{i,j}$ is the walktime from customer $j$ to docking station $i$ in seconds\n",
    "\n",
    "$y_{i,j}$ is a binary variable to decide if customer $j$ is assigned to docking station $i$ or not\n",
    "\n",
    "$x_i$ is a binary variable to decide if docking station $i$ is open or not\n",
    "\n",
    "$r$ is the maximum walktime\n",
    "\n",
    "to minimize maximum walktime for all customers."
   ]
  },
  {
   "cell_type": "code",
   "execution_count": null,
   "metadata": {},
   "outputs": [
    {
     "name": "stdout",
     "output_type": "stream",
     "text": [
      "Optimal Objective Value: 1268.0\n"
     ]
    }
   ],
   "source": [
    "# Part 2b\n",
    "\n",
    "m2 = Model()\n",
    "m2.Params.LogToConsole = 0\n",
    "\n",
    "x = m2.addVars(n, vtype = GRB.BINARY)\n",
    "y = m2.addVars(n,m, vtype = GRB.BINARY)\n",
    "r = m2.addVar()\n",
    "\n",
    "\n",
    "# Add the constraints:\n",
    "for j in range(m):\n",
    "    m2.addConstr(sum(y[i,j] for i in range(n)) == 1) # each customer must be served\n",
    "    for i in range(n):\n",
    "        m2.addConstr(y[i,j] <= x[i]) # a customer j is served by location i only if location i is opened\n",
    "    \n",
    "    m2.addConstr(r >= sum( bikeshare_time[i,j] * y[i,j] for i in range(n)))\n",
    "\n",
    "# Add the constraint that we do not open more than ten docking stations\n",
    "m2.addConstr( sum(x[i] for i in range(n)) <= 10)\n",
    "\n",
    "# Set the objective (minimize average walking distance for all customers)\n",
    "m2.setObjective(r, GRB.MINIMIZE)\n",
    "\n",
    "# Solve the problem!\n",
    "m2.update()\n",
    "m2.optimize()\n",
    "\n",
    "print('Optimal Objective Value:', m2.objVal)"
   ]
  },
  {
   "cell_type": "code",
   "execution_count": null,
   "metadata": {},
   "outputs": [
    {
     "name": "stdout",
     "output_type": "stream",
     "text": [
      "[5, 13, 15, 20, 22, 25, 26, 28, 30, 42]\n"
     ]
    }
   ],
   "source": [
    "# Part 2c\n",
    "\n",
    "locs = [i+1 for i in range(n) if x[i].x > 0.5]\n",
    "print(locs)"
   ]
  },
  {
   "cell_type": "markdown",
   "metadata": {},
   "source": [
    "Part 3a\n",
    "\n",
    "\\begin{align}\n",
    "\n",
    "\\text{maximize} \\quad & \\sum_{j=1}^m z_j \\;\\;\\;\\; \\text{[Objective Function]}\\\\\n",
    "\\text{subject to} \\quad & z_j \\le \\sum_{i=1}^n a_{i,j} x_i, \\quad \\forall j \\in \\{1,\\dots,m\\}, \\;\\;\\;\\; \\text{[Coverage Constraint]}\\\\\n",
    "& \\sum_{i=1}^n x_i = 10, \\;\\;\\;\\; \\text{[10 Stations Constraint]}\\\\\n",
    "& x_{i} \\in \\{0,1\\}, \\quad \\forall i \\in \\{1,\\dots,n\\}, \\;\\;\\;\\; \\text{[Binary Constraint]}\\\\\n",
    "& z_j \\in \\{0,1\\}, \\quad \\forall \\ j \\in \\{1,\\dots,m\\}. \\;\\;\\;\\; \\text{[Binary Constraint]}\n",
    "\n",
    "\\end{align}\n",
    "\n",
    "where decision variables are given as follows:\n",
    "\n",
    "$a_{i,j}$ is the coverage parameter obtained from problem data whether docking station $i$ covers customer $j$ or not\n",
    "\n",
    "$z_j$ is a binary variable to decide if we serve customer $j$ or not\n",
    "\n",
    "$x_i$ is a binary variable to decide if docking station $i$ is open or not\n",
    "\n",
    "to maximize coverage for all customers."
   ]
  },
  {
   "cell_type": "code",
   "execution_count": null,
   "metadata": {},
   "outputs": [
    {
     "name": "stdout",
     "output_type": "stream",
     "text": [
      "Optimal Objective Value: 496.0\n"
     ]
    }
   ],
   "source": [
    "# Part 3b\n",
    "\n",
    "coverage_time = 600\n",
    "a_mat = np.asarray([[int(bikeshare_time[i,j] < coverage_time) for j in range(m)] for i in range(n)])\n",
    "\n",
    "# Create the Gurobi model. \n",
    "m3 = Model()\n",
    "m3.Params.LogToConsole = 0\n",
    "\n",
    "x = m3.addVars(n, vtype = GRB.BINARY)\n",
    "z = m3.addVars(m, vtype = GRB.BINARY)\n",
    "\n",
    "# Create coverage constraints: \n",
    "# if z[j] is 1 then for at least one i that covers j, x[i] must be equal to 1.\n",
    "for j in range(m):\n",
    "    m3.addConstr(z[j] <= sum(a_mat[i, j] * x[i] for i in range(n)))\n",
    "\n",
    "m3.addConstr(sum(x[i] for i in range(n)) == 10) \n",
    "\n",
    "\n",
    "m3.setObjective( sum(z[j] for j in range(m) ), GRB.MAXIMIZE)\n",
    "\n",
    "m3.update()\n",
    "m3.optimize()\n",
    "\n",
    "print('Optimal Objective Value:', m3.objVal)"
   ]
  },
  {
   "cell_type": "code",
   "execution_count": null,
   "metadata": {},
   "outputs": [
    {
     "name": "stdout",
     "output_type": "stream",
     "text": [
      "[8, 9, 12, 15, 19, 24, 25, 28, 34, 37]\n"
     ]
    }
   ],
   "source": [
    "# Part 3c\n",
    "\n",
    "locs = [i+1 for i in range(n) if x[i].x > 0.5]\n",
    "print(locs)"
   ]
  },
  {
   "cell_type": "code",
   "execution_count": null,
   "metadata": {},
   "outputs": [
    {
     "data": {
      "text/plain": [
       "(42, 700)"
      ]
     },
     "execution_count": 26,
     "metadata": {},
     "output_type": "execute_result"
    }
   ],
   "source": [
    "a_mat.shape"
   ]
  },
  {
   "cell_type": "code",
   "execution_count": 15,
   "metadata": {},
   "outputs": [
    {
     "data": {
      "text/plain": [
       "485"
      ]
     },
     "execution_count": 15,
     "metadata": {},
     "output_type": "execute_result"
    }
   ],
   "source": [
    "walktime = bikeshare_customer_locations['walktime'].values\n",
    "closest_mat = bikeshare_time[i, :] * x[i] for i in range(n)\n",
    "closest_mat = np.asarray([bikeshare_time[:, j].argmin() for j in range(m)])\n",
    "closest_mat = np.asarray([int(bikeshare_time[closest_mat[j], j] < walktime[j]) for j in range(m)])\n",
    "closest_mat.sum()"
   ]
  },
  {
   "cell_type": "code",
   "execution_count": 17,
   "metadata": {},
   "outputs": [
    {
     "data": {
      "text/plain": [
       "30.0"
      ]
     },
     "execution_count": 17,
     "metadata": {},
     "output_type": "execute_result"
    }
   ],
   "source": [
    "# From further customer surveys, the company has determined that each customer will in general use the dock location that is \n",
    "# nearest to him/her (requiring the least amount of time to walk to). Each potential customer has indicated to the company the \n",
    "# most amount of time that he/she would be willing to walk to reach a dock location. This time varies between 2 and 10 minutes \n",
    "# for each customer. The file bikeshare-customer-locations-v2.csv contains the maximum amount of time that each customer has \n",
    "# indicated that they would walk (walktime). If the closest dock location is farther in time than this maximum amount, the customer \n",
    "# will give up and not retrieve a bike.\n",
    "# An additional concern that the company has recognized is that the candidate sites for the docking stations are limited in capacity. \n",
    "# The file bikeshare-dock-locations-v2.csv includes how many bikes will be stored at each candidate location (capacity). If the number \n",
    "# of customers who choose to walk to a particular location exceeds the capacity of that location, the customers in excess of the capacity \n",
    "# will not be able to obtain a bike.\n",
    "# The company wishes to minimize an objective that captures the sum of two quantities:\n",
    "# • F1: the number of customers who do not obtain a bike (either because a bike is unavailable at their closest dock location, or because \n",
    "# the closest dock location was too far); and\n",
    "# • F2: the number of bikes at an open docking station that are unused by any customer.\n",
    "# The company determines that F1 is twice as important as F2, and hence wishes to minimize 2F1 + F2.\n",
    "# a) Write down an abstract formulation of the problem as an integer programming problem. Define the decision variables, constraints and \n",
    "# objective function, and any parameters that your formu- lation requires. Explain why your formulation is correct. (Do not formulate any \n",
    "# constraints with actual numbers, with the exception of the requirement that 10 docking stations be selected.)\n",
    "# Formulate and solve your problem in Python using Gurobi.\n",
    "\n",
    "walktime = bikeshare_customer_locations['walktime'].values\n",
    "capacity = bikeshare_dock_locations['capacity'].values\n",
    "\n",
    "# Create the Gurobi model.\n",
    "m4 = Model()\n",
    "m4.Params.LogToConsole = 0\n",
    "\n",
    "x = m4.addVars(n, vtype = GRB.BINARY) # location i is opened\n",
    "z = m4.addVars(m, vtype = GRB.BINARY) # customer j is served\n",
    "\n",
    "\n",
    "\n",
    "for j in range(m):\n",
    "    m3.addConstr(z[j] <= sum(a_mat[i, j] * x[i] * closest_mat for i in range(n)))\n",
    "\n",
    "# Create the constraints\n",
    "for j in range(m):\n",
    "    # m4.addConstr( sum(y[i,j] for i in range(n)) == 1) # each customer must be served\n",
    "    for i in range(n):\n",
    "        m4.addConstr( y[i,j] <= x[i] ) # a customer j is served by location i only if location i is opened\n",
    "        m4.addConstr( a_mat[i,j] * x[i] <= z[i] ) # if a customer j is served by location i, then location i must be opened\n",
    "\n",
    "m4.addConstr( sum(x[i] for i in range(n)) == 10) # we must open 10 locations\n",
    "\n",
    "\n",
    "\n",
    "# Set the objective\n",
    "m4.setObjective( 2 * ((m - sum(z[j] for j in range(m)) + sum(capacity[i] - x[i]* for i in range(n))) + sum( x[i] for i in range(n) ), GRB.MINIMIZE) # minimize the number of customers who do not obtain a bike and the number of unused bikes\n",
    "\n",
    "m4.update()\n",
    "m4.optimize()\n",
    "\n",
    "m4.ObjVal"
   ]
  },
  {
   "cell_type": "code",
   "execution_count": 18,
   "metadata": {},
   "outputs": [
    {
     "name": "stdout",
     "output_type": "stream",
     "text": [
      "[1, 2, 3, 4, 5, 6, 7, 8, 9, 10]\n"
     ]
    }
   ],
   "source": [
    "locs = [i+1 for i in range(n) if x[i].x > 0.5]\n",
    "print(locs)"
   ]
  },
  {
   "cell_type": "code",
   "execution_count": 19,
   "metadata": {},
   "outputs": [
    {
     "data": {
      "text/plain": [
       "700.0"
      ]
     },
     "execution_count": 19,
     "metadata": {},
     "output_type": "execute_result"
    }
   ],
   "source": [
    "# how many customers do not obtain a bike\n",
    "sum(y[i,j].x for i in range(n) for j in range(m) )"
   ]
  },
  {
   "cell_type": "code",
   "execution_count": 20,
   "metadata": {},
   "outputs": [
    {
     "data": {
      "text/plain": [
       "array([[0, 0, 0, ..., 0, 0, 0],\n",
       "       [0, 0, 1, ..., 0, 0, 0],\n",
       "       [0, 0, 0, ..., 0, 0, 1],\n",
       "       ...,\n",
       "       [0, 0, 0, ..., 0, 0, 0],\n",
       "       [0, 0, 1, ..., 1, 0, 1],\n",
       "       [0, 0, 0, ..., 0, 0, 0]])"
      ]
     },
     "execution_count": 20,
     "metadata": {},
     "output_type": "execute_result"
    }
   ],
   "source": [
    "a_mat"
   ]
  },
  {
   "cell_type": "code",
   "execution_count": null,
   "metadata": {},
   "outputs": [],
   "source": []
  }
 ],
 "metadata": {
  "kernelspec": {
   "display_name": "base",
   "language": "python",
   "name": "python3"
  },
  "language_info": {
   "codemirror_mode": {
    "name": "ipython",
    "version": 3
   },
   "file_extension": ".py",
   "mimetype": "text/x-python",
   "name": "python",
   "nbconvert_exporter": "python",
   "pygments_lexer": "ipython3",
   "version": "3.11.5"
  }
 },
 "nbformat": 4,
 "nbformat_minor": 2
}
