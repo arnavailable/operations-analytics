{
 "cells": [
  {
   "cell_type": "markdown",
   "id": "8965143b-9161-4f97-ab0e-ae5d3b49a693",
   "metadata": {},
   "source": [
    "<center>\n",
    "\n",
    "<font size=\"5\">MGMTMSA 408: Operations Analytics</font>\n",
    "\n",
    "</center>\n"
   ]
  },
  {
   "cell_type": "markdown",
   "id": "ce5567c9-e4ac-459c-8809-c165bb65ca00",
   "metadata": {
    "tags": []
   },
   "source": [
    "<center>\n",
    "\n",
    "<font size=\"5\">Assignment 2: Constraint Generation and Assortment Optimization</font>\n",
    "\n",
    "</center>\n"
   ]
  },
  {
   "cell_type": "markdown",
   "id": "485f85a1-3fba-44c1-8e1f-cd0e2be6c7dd",
   "metadata": {},
   "source": [
    "<div style=\"display: flex; justify-content: space-between;\">\n",
    "    <div style=\"text-align: left;\">\n",
    "        Due on BruinLearn by 1:00pm on May 06, 2024.\n",
    "    </div>\n",
    "    <div style=\"text-align: right;\">\n",
    "        Arnav Garg (906310841) <br>\n",
    "    </div>\n",
    "</div>\n"
   ]
  },
  {
   "cell_type": "markdown",
   "id": "4f10955a-4807-4c5a-883c-f391885476f9",
   "metadata": {},
   "source": [
    "**<font size=\"5\">1. Learning Coffee Preferences</font>**"
   ]
  },
  {
   "cell_type": "markdown",
   "id": "267b1cfb-d4dd-49ce-b44d-1fc063a80f60",
   "metadata": {
    "tags": []
   },
   "source": [
    "In this problem, we will be using column / constraint generation to learn about customer preferences\n",
    "through a discrete choice model. In a discrete choice model, there are n distinct products, indexed\n",
    "from 1 to n, as well as a dummy product 0, which represents the outside or no-purchase option\n",
    "(i.e., the customer chooses not to buy any of the products from the assortment). When a customer\n",
    "makes a decision, they choose a product from within the assortment or they choose the no-purchase\n",
    "option. The specific type of discrete choice model we will use is the ranking-based choice model,\n",
    "which will be explained in more detail in Part 1 and Part 2 of this problem.\n",
    "The data set that we have consists of different assortments of coffee brands, which are listed\n",
    "below. For each assortment, we observe how many customers purchased each of those brands, as\n",
    "well as how many customers did not purchase anything when they considered the assortment. The\n",
    "data will be described in more detail in Part 3."
   ]
  },
  {
   "cell_type": "markdown",
   "id": "2de1c1a2-32a6-4e83-a626-b456c0bc7aa1",
   "metadata": {
    "tags": []
   },
   "source": [
    "Product # | Brand|\n",
    "--- | --- |\n",
    "1 | Peets |\n",
    "2 | Folgers |\n",
    "3 | Starbucks |\n",
    "4 | Philz |\n",
    "5 | Blue Bottle |\n",
    "6 | Intelligentsia |\n",
    "7 | Counter Culture |\n",
    "8 | Stumptown |\n",
    "9 | Groundworks |"
   ]
  },
  {
   "cell_type": "markdown",
   "id": "c459a9b1-c550-428e-862a-f538b96cf83e",
   "metadata": {},
   "source": [
    "After introducing the data in Part 3, we will focus on estimating the ranking-based model from\n",
    "data by solving a linear program. Part 4 introduces this linear program and walks through solving\n",
    "it with a fixed set of rankings. Part 5 then involves applying the column randomization approach,\n",
    "while Part 6 involves using the column generation / constraint generation approach to solving the\n",
    "problem. Finally, Part 7 looks at understanding the ranking model obtained from Part 6. A Jupyter\n",
    "Notebook containing code snippets and skeleton code, HW2 - Coffee Code.ipynb, is provided to\n",
    "help you with this problem."
   ]
  },
  {
   "cell_type": "markdown",
   "id": "3291f99f",
   "metadata": {},
   "source": [
    "**<font size=\"4\">Part 1: Modeling preferences through rankings</font>**"
   ]
  },
  {
   "cell_type": "markdown",
   "id": "4b424f16-c7e2-479e-ab74-c6837be88410",
   "metadata": {},
   "source": [
    "a) For the same rankings given in the example, calculate the choice probabilities for the set of\n",
    "products {3, 4}."
   ]
  },
  {
   "cell_type": "markdown",
   "id": "af5c63b8",
   "metadata": {},
   "source": [
    "P(3 | {3, 4}) = $\\lambda_2$ = 0.3\n",
    "\n",
    "P(4 | {3, 4}) = $\\lambda_1$ = 0.1\n",
    "\n",
    "P(0 | {3, 4}) = $\\lambda_3$ = 0.6"
   ]
  },
  {
   "cell_type": "markdown",
   "id": "81b82e97",
   "metadata": {},
   "source": [
    "b) For the same rankings given in the example, calculate the choice probabilities for the set of\n",
    "products {2, 3, 4}."
   ]
  },
  {
   "cell_type": "markdown",
   "id": "b5c5d60e",
   "metadata": {},
   "source": [
    "P(2 | {2, 3, 4}) = $\\lambda_3$ = 0.6\n",
    "\n",
    "P(3 | {2, 3, 4}) = $\\lambda_2$ = 0.3\n",
    "\n",
    "P(4 | {2, 3, 4}) = $\\lambda_1$ = 0.1\n",
    "\n",
    "P(0 | {2, 3, 4}) = 0"
   ]
  },
  {
   "cell_type": "code",
   "execution_count": 31,
   "id": "49876abe",
   "metadata": {},
   "outputs": [],
   "source": [
    "import numpy as np\n",
    "import pandas as pd"
   ]
  },
  {
   "cell_type": "markdown",
   "id": "d2393262",
   "metadata": {},
   "source": [
    "**<font size=\"4\">Part 2: Choice probabilities as a linear system of equations</font>**"
   ]
  },
  {
   "cell_type": "markdown",
   "id": "b3901e78",
   "metadata": {},
   "source": [
    "a) For the M = 3 assortments in Part 1 (S1 = {1, 4, 5}, S2 = {3, 4}, S3 = {2, 3, 4}), and for the\n",
    "K = 3 customer types (rankings) given in Part 1, write down the A matrix. Your matrix should\n",
    "have 30 rows and 3 columns.\n",
    "Hint: if you are having difficulty with this problem, take a look at the function permToA provided\n",
    "in the skeleton code."
   ]
  },
  {
   "cell_type": "code",
   "execution_count": 32,
   "id": "3e95669b",
   "metadata": {},
   "outputs": [],
   "source": [
    "# Assortments\n",
    "M = 3\n",
    "\n",
    "# s = [[1, 4, 5, 0], \n",
    "#      [3, 4, 0], \n",
    "#      [2, 3, 4, 0]]\n",
    "\n",
    "s = [[1, 1, 0, 0, 1, 1, 0, 0, 0, 0],\n",
    "     [1, 0, 0, 1, 1, 0, 0, 0, 0, 0],\n",
    "     [1, 0, 1, 1, 1, 0, 0, 0, 0, 0]]\n",
    "\n",
    "# Customers\n",
    "K = 3\n",
    "N = 9 + 1\n",
    "\n",
    "r = [[4, 3, 0, 1, 5, 6, 8, 7, 9, 2], \n",
    "     [3, 2, 4, 0, 1, 5, 6, 8, 7, 9], \n",
    "     [2, 5, 0, 1, 4, 3, 6, 8, 7, 9]]\n",
    "\n",
    "p = [0.1, 0.3, 0.6]\n",
    "\n",
    "##############################################################################################\n",
    "def sToA(s, r):\n",
    "     M = len(s)\n",
    "     N = len(r[0])\n",
    "     K = len(r)\n",
    "     \n",
    "     A = np.zeros((M*N, K))\n",
    "     for k in range(K):\n",
    "          for m in range(M):\n",
    "               for i in range(N):\n",
    "                    if s[m][i] == 1:\n",
    "                         ele = np.where(np.array(s[m]) == 1)[0]\n",
    "                         A[i + m*N][k] = np.where(all(r[k].index(i) <= r[k].index(e) for e in ele), 1, 0)\n",
    "     return A\n",
    "##############################################################################################\n",
    "\n",
    "A = sToA(s, r)"
   ]
  },
  {
   "cell_type": "markdown",
   "id": "f3357330",
   "metadata": {},
   "source": [
    "b) Using this matrix, compute v = Aλ, where λ = (0.1, 0.3, 0.6). What do you get for v?"
   ]
  },
  {
   "cell_type": "code",
   "execution_count": 33,
   "id": "91a1f5e5",
   "metadata": {},
   "outputs": [
    {
     "data": {
      "text/plain": [
       "array([0. , 0. , 0. , 0. , 0.4, 0.6, 0. , 0. , 0. , 0. , 0.6, 0. , 0. ,\n",
       "       0.3, 0.1, 0. , 0. , 0. , 0. , 0. , 0. , 0. , 0.6, 0.3, 0.1, 0. ,\n",
       "       0. , 0. , 0. , 0. ])"
      ]
     },
     "execution_count": 33,
     "metadata": {},
     "output_type": "execute_result"
    }
   ],
   "source": [
    "# Calculate dot product of A and p\n",
    "\n",
    "v = np.dot(A, p)\n",
    "v"
   ]
  },
  {
   "cell_type": "markdown",
   "id": "5fbdeafe",
   "metadata": {},
   "source": [
    "**<font size=\"4\">Part 3: Understanding the data</font>**"
   ]
  },
  {
   "cell_type": "code",
   "execution_count": 34,
   "id": "aef16357",
   "metadata": {},
   "outputs": [],
   "source": [
    "# read data\n",
    "assortments = pd.read_csv(\"coffee_assortments_v3.csv\", header=None)\n",
    "counts = pd.read_csv(\"coffee_transaction_counts_v3.csv\", header=None)\n",
    "\n",
    "# rename columns\n",
    "assortments.columns = [1,2,3,4,5,6,7,8,9,0]\n",
    "counts.columns = [1,2,3,4,5,6,7,8,9,0]\n",
    "\n",
    "# rearrange columns\n",
    "assortments = assortments[[0,1,2,3,4,5,6,7,8,9]]\n",
    "counts = counts[[0,1,2,3,4,5,6,7,8,9]]"
   ]
  },
  {
   "cell_type": "markdown",
   "id": "15a95a32",
   "metadata": {},
   "source": [
    "a) Which assortment has the most transactions?"
   ]
  },
  {
   "cell_type": "code",
   "execution_count": 35,
   "id": "c411e0a8",
   "metadata": {},
   "outputs": [
    {
     "data": {
      "text/plain": [
       "[0, 5, 7, 9]"
      ]
     },
     "execution_count": 35,
     "metadata": {},
     "output_type": "execute_result"
    }
   ],
   "source": [
    "ind = counts.sum(axis=1).idxmax()\n",
    "list(assortments.loc[ind, assortments.loc[ind] == 1].index)"
   ]
  },
  {
   "cell_type": "markdown",
   "id": "c5f3c7fc",
   "metadata": {},
   "source": [
    "b) Which assortment has the least transactions?"
   ]
  },
  {
   "cell_type": "code",
   "execution_count": 36,
   "id": "32e97c49",
   "metadata": {},
   "outputs": [
    {
     "data": {
      "text/plain": [
       "[0, 2, 7]"
      ]
     },
     "execution_count": 36,
     "metadata": {},
     "output_type": "execute_result"
    }
   ],
   "source": [
    "ind = counts.sum(axis=1).idxmin()\n",
    "list(assortments.loc[ind, assortments.loc[ind] == 1].index)"
   ]
  },
  {
   "cell_type": "markdown",
   "id": "4294b2ec",
   "metadata": {},
   "source": [
    "c) How many assortments include the Starbucks brand?"
   ]
  },
  {
   "cell_type": "code",
   "execution_count": 37,
   "id": "9892faa9",
   "metadata": {},
   "outputs": [
    {
     "data": {
      "text/plain": [
       "18"
      ]
     },
     "execution_count": 37,
     "metadata": {},
     "output_type": "execute_result"
    }
   ],
   "source": [
    "len(assortments.loc[assortments[3] == 1])"
   ]
  },
  {
   "cell_type": "markdown",
   "id": "f66349a9",
   "metadata": {},
   "source": [
    "Convert the matrix in coffee transaction counts.csv into an array of choice probabilities,\n",
    "i.e., divide each row by its row sum. If you performed this step correctly, then the choice probability\n",
    "of the no-purchase option for the first assortment should be 0.450413."
   ]
  },
  {
   "cell_type": "code",
   "execution_count": 38,
   "id": "159cd196",
   "metadata": {},
   "outputs": [
    {
     "data": {
      "text/html": [
       "<div>\n",
       "<style scoped>\n",
       "    .dataframe tbody tr th:only-of-type {\n",
       "        vertical-align: middle;\n",
       "    }\n",
       "\n",
       "    .dataframe tbody tr th {\n",
       "        vertical-align: top;\n",
       "    }\n",
       "\n",
       "    .dataframe thead th {\n",
       "        text-align: right;\n",
       "    }\n",
       "</style>\n",
       "<table border=\"1\" class=\"dataframe\">\n",
       "  <thead>\n",
       "    <tr style=\"text-align: right;\">\n",
       "      <th></th>\n",
       "      <th>0</th>\n",
       "      <th>1</th>\n",
       "      <th>2</th>\n",
       "      <th>3</th>\n",
       "      <th>4</th>\n",
       "      <th>5</th>\n",
       "      <th>6</th>\n",
       "      <th>7</th>\n",
       "      <th>8</th>\n",
       "      <th>9</th>\n",
       "    </tr>\n",
       "  </thead>\n",
       "  <tbody>\n",
       "    <tr>\n",
       "      <th>0</th>\n",
       "      <td>0.506887</td>\n",
       "      <td>0.0</td>\n",
       "      <td>0.399449</td>\n",
       "      <td>0.000000</td>\n",
       "      <td>0.000000</td>\n",
       "      <td>0.000000</td>\n",
       "      <td>0.000000</td>\n",
       "      <td>0.093664</td>\n",
       "      <td>0.000000</td>\n",
       "      <td>0.000000</td>\n",
       "    </tr>\n",
       "    <tr>\n",
       "      <th>1</th>\n",
       "      <td>0.419722</td>\n",
       "      <td>0.0</td>\n",
       "      <td>0.000000</td>\n",
       "      <td>0.163085</td>\n",
       "      <td>0.112516</td>\n",
       "      <td>0.145386</td>\n",
       "      <td>0.068268</td>\n",
       "      <td>0.091024</td>\n",
       "      <td>0.000000</td>\n",
       "      <td>0.000000</td>\n",
       "    </tr>\n",
       "    <tr>\n",
       "      <th>2</th>\n",
       "      <td>0.322196</td>\n",
       "      <td>0.0</td>\n",
       "      <td>0.275656</td>\n",
       "      <td>0.066826</td>\n",
       "      <td>0.125298</td>\n",
       "      <td>0.000000</td>\n",
       "      <td>0.065632</td>\n",
       "      <td>0.096659</td>\n",
       "      <td>0.000000</td>\n",
       "      <td>0.047733</td>\n",
       "    </tr>\n",
       "    <tr>\n",
       "      <th>3</th>\n",
       "      <td>0.297018</td>\n",
       "      <td>0.0</td>\n",
       "      <td>0.344037</td>\n",
       "      <td>0.000000</td>\n",
       "      <td>0.000000</td>\n",
       "      <td>0.152523</td>\n",
       "      <td>0.082569</td>\n",
       "      <td>0.000000</td>\n",
       "      <td>0.123853</td>\n",
       "      <td>0.000000</td>\n",
       "    </tr>\n",
       "    <tr>\n",
       "      <th>4</th>\n",
       "      <td>0.284424</td>\n",
       "      <td>0.0</td>\n",
       "      <td>0.256208</td>\n",
       "      <td>0.083521</td>\n",
       "      <td>0.109481</td>\n",
       "      <td>0.000000</td>\n",
       "      <td>0.066591</td>\n",
       "      <td>0.044018</td>\n",
       "      <td>0.120767</td>\n",
       "      <td>0.034989</td>\n",
       "    </tr>\n",
       "  </tbody>\n",
       "</table>\n",
       "</div>"
      ],
      "text/plain": [
       "          0    1         2         3         4         5         6         7  \\\n",
       "0  0.506887  0.0  0.399449  0.000000  0.000000  0.000000  0.000000  0.093664   \n",
       "1  0.419722  0.0  0.000000  0.163085  0.112516  0.145386  0.068268  0.091024   \n",
       "2  0.322196  0.0  0.275656  0.066826  0.125298  0.000000  0.065632  0.096659   \n",
       "3  0.297018  0.0  0.344037  0.000000  0.000000  0.152523  0.082569  0.000000   \n",
       "4  0.284424  0.0  0.256208  0.083521  0.109481  0.000000  0.066591  0.044018   \n",
       "\n",
       "          8         9  \n",
       "0  0.000000  0.000000  \n",
       "1  0.000000  0.000000  \n",
       "2  0.000000  0.047733  \n",
       "3  0.123853  0.000000  \n",
       "4  0.120767  0.034989  "
      ]
     },
     "execution_count": 38,
     "metadata": {},
     "output_type": "execute_result"
    }
   ],
   "source": [
    "#divide each row with row sum\n",
    "counts = counts.div(counts.sum(axis=1), axis=0)\n",
    "counts.head()"
   ]
  },
  {
   "cell_type": "markdown",
   "id": "3586f151",
   "metadata": {},
   "source": [
    "d) For assortment m = 10, what fraction of customers purchased the Starbucks brand?"
   ]
  },
  {
   "cell_type": "code",
   "execution_count": 39,
   "id": "a484b453",
   "metadata": {},
   "outputs": [
    {
     "data": {
      "text/plain": [
       "0.0"
      ]
     },
     "execution_count": 39,
     "metadata": {},
     "output_type": "execute_result"
    }
   ],
   "source": [
    "counts.loc[9, 3]"
   ]
  },
  {
   "cell_type": "markdown",
   "id": "6fe4e2e8",
   "metadata": {},
   "source": [
    "e) What fraction of customers offered assortment m = 3 chose to not purchase anything?"
   ]
  },
  {
   "cell_type": "code",
   "execution_count": 40,
   "id": "b2590111",
   "metadata": {},
   "outputs": [
    {
     "data": {
      "text/plain": [
       "0.3221957040572792"
      ]
     },
     "execution_count": 40,
     "metadata": {},
     "output_type": "execute_result"
    }
   ],
   "source": [
    "counts.loc[2, 0]"
   ]
  },
  {
   "cell_type": "markdown",
   "id": "9e7c7d25",
   "metadata": {},
   "source": [
    "**<font size=\"4\">Part 4: Estimating the ranking-based model</font>**"
   ]
  },
  {
   "cell_type": "markdown",
   "id": "720447bf",
   "metadata": {},
   "source": [
    "a) Explain why solving problem EST is equivalent to solving the nonlinear problem EST-ℓ1. (Hint:\n",
    "suppose that we have an optimal solution (λ, ε+, ε−) of problem EST. At optimality, what can\n",
    "you say about what the values of ε+\n",
    "m,i and ε−\n",
    "m,i will be? Is it possible for both ε+\n",
    "m,i and ε−\n",
    "m,i to be\n",
    "non-zero?)"
   ]
  },
  {
   "cell_type": "markdown",
   "id": "77883e43",
   "metadata": {},
   "source": [
    "Solving problem EST is equivalent to solving the nonlinear problem EST-ℓ1 because at optimality, "
   ]
  },
  {
   "cell_type": "markdown",
   "id": "2de2f235",
   "metadata": {},
   "source": [
    "b) Formulate and solve problem EST above for these six rankings. What is the optimal objective?\n",
    "What is the optimal solution (λ, ε+, ε−)?"
   ]
  },
  {
   "cell_type": "code",
   "execution_count": 41,
   "id": "60a6e02c",
   "metadata": {},
   "outputs": [
    {
     "name": "stdout",
     "output_type": "stream",
     "text": [
      "Optimal Objective Value: 41.82943992668715\n",
      "Optimal Solution:\n",
      "p[0] = 0.24780157835400227\n",
      "p[1] = 0.12518167609287636\n",
      "p[2] = 0.05740700048172717\n",
      "p[3] = 0.33337267199625975\n",
      "p[4] = 0.18879181760068187\n",
      "p[5] = 0.04744525547445255\n"
     ]
    }
   ],
   "source": [
    "##############################################################################################\n",
    "#Importing necessary libraries\n",
    "from gurobipy import *\n",
    "\n",
    "##############################################################################################\n",
    "# Initialize the model \n",
    "est = Model()\n",
    "\n",
    "# Set the OutputFlag parameter to 0 to disable logging\n",
    "est.Params.outputflag = 0\n",
    "\n",
    "##############################################################################################\n",
    "# Define Input Variables\n",
    "M = 50\n",
    "N = 9 + 1\n",
    "K = 6\n",
    "s = assortments.values.tolist()\n",
    "r = [[1, 2, 7, 0, 6, 8, 9, 3, 5, 4], \n",
    "     [8, 9, 5, 7, 3, 6, 4, 1, 2, 0], \n",
    "     [2, 6, 9, 7, 4, 1, 5, 3, 0, 8], \n",
    "     [6, 3, 2, 1, 0, 5, 4, 7, 9, 8], \n",
    "     [5, 2, 4, 7, 8, 1, 6, 0, 3, 9], \n",
    "     [9, 2, 3, 7, 5, 1, 8, 4, 6, 0]]\n",
    "v = counts.values.tolist()\n",
    "A = sToA(s, r)\n",
    "\n",
    "##############################################################################################\n",
    "# Define Variables\n",
    "e_plus = est.addVars(M, N, lb = 0)\n",
    "e_minus = est.addVars(M, N, lb = 0)\n",
    "p = est.addVars(K, lb = 0)\n",
    "\n",
    "##############################################################################################\n",
    "# Define Constraints\n",
    "## Probability\n",
    "est.addConstr(sum(p[k] for k in range(K)) == 1)\n",
    "\n",
    "## EST\n",
    "for m in range(M):\n",
    "    for i in range(N):\n",
    "        est.addConstr(sum((A[i + m*N][k] * p[k]) for k in range(K)) == v[m][i] + e_plus[m, i] - e_minus[m, i])\n",
    "\n",
    "##############################################################################################\n",
    "# Construct Objective\n",
    "est.setObjective(sum((e_plus[m, i]) for m in range(M) for i in range(N)) + \n",
    "                 sum((e_minus[m, i]) for m in range(M) for i in range(N)), GRB.MINIMIZE)\n",
    "\n",
    "##############################################################################################\n",
    "# Update and solve\n",
    "est.update()\n",
    "est.optimize()\n",
    "\n",
    "##############################################################################################\n",
    "# Print Optimal Solution\n",
    "print(\"Optimal Objective Value:\", est.objVal)\n",
    "print(\"Optimal Solution:\")\n",
    "for k in range(K):\n",
    "    print(f\"p[{k}] = {p[k].X}\")\n",
    "\n",
    "##############################################################################################"
   ]
  },
  {
   "cell_type": "markdown",
   "id": "6a1f3f1a",
   "metadata": {},
   "source": [
    "**<font size=\"4\">Part 5: A random sampling approach</font>**"
   ]
  },
  {
   "cell_type": "markdown",
   "id": "72fbd570",
   "metadata": {},
   "source": [
    "a) Set your random seed to 200 and randomly generate 1000 rankings. Solve problem EST with\n",
    "these 1000 rankings. What is your optimal objective value?"
   ]
  },
  {
   "cell_type": "code",
   "execution_count": 42,
   "id": "622ad8c5",
   "metadata": {},
   "outputs": [
    {
     "name": "stdout",
     "output_type": "stream",
     "text": [
      "Optimal Objective Value: 0.904453739014714\n"
     ]
    }
   ],
   "source": [
    "##############################################################################################\n",
    "#Importing necessary libraries\n",
    "from gurobipy import *\n",
    "\n",
    "##############################################################################################\n",
    "# Initialize the model \n",
    "est = Model()\n",
    "\n",
    "# Set the OutputFlag parameter to 0 to disable logging\n",
    "est.Params.outputflag = 0\n",
    "\n",
    "##############################################################################################\n",
    "# Define Input Variables\n",
    "M = 50\n",
    "N = 9 + 1\n",
    "K = 1000\n",
    "s = assortments.values.tolist()\n",
    "\n",
    "# Generate random permutations\n",
    "np.random.seed(200)\n",
    "r = []\n",
    "for i in range(1000):\n",
    "    r.append(np.random.permutation(10).tolist())\n",
    "\n",
    "v = counts.values.tolist()\n",
    "A = sToA(s, r)\n",
    "\n",
    "##############################################################################################\n",
    "# Define Variables\n",
    "e_plus = est.addVars(M, N, lb = 0)\n",
    "e_minus = est.addVars(M, N, lb = 0)\n",
    "p = est.addVars(K, lb = 0)\n",
    "\n",
    "##############################################################################################\n",
    "# Define Constraints\n",
    "## Probability\n",
    "est.addConstr(sum(p[k] for k in range(K)) == 1)\n",
    "\n",
    "## EST\n",
    "for m in range(M):\n",
    "    for i in range(N):\n",
    "        est.addConstr(sum((A[i + m*N][k] * p[k]) for k in range(K)) == v[m][i] + e_plus[m, i] - e_minus[m, i])\n",
    "\n",
    "##############################################################################################\n",
    "# Construct Objective\n",
    "est.setObjective(sum((e_plus[m, i]) for m in range(M) for i in range(N)) + \n",
    "                 sum((e_minus[m, i]) for m in range(M) for i in range(N)), GRB.MINIMIZE)\n",
    "\n",
    "##############################################################################################\n",
    "# Update and solve\n",
    "est.update()\n",
    "est.optimize()\n",
    "\n",
    "##############################################################################################\n",
    "# Print Optimal Solution\n",
    "print(\"Optimal Objective Value:\", est.objVal)\n",
    "\n",
    "##############################################################################################"
   ]
  },
  {
   "cell_type": "markdown",
   "id": "1226c91c",
   "metadata": {},
   "source": [
    "**<font size=\"4\">Part 6: A column generation approach</font>**"
   ]
  },
  {
   "cell_type": "markdown",
   "id": "eaab9b6f",
   "metadata": {},
   "source": [
    "a) How many possible rankings are there of the n + 1 options?"
   ]
  },
  {
   "cell_type": "markdown",
   "id": "da813473",
   "metadata": {},
   "source": [
    "(n+1)!"
   ]
  },
  {
   "cell_type": "markdown",
   "id": "5a3e8f73",
   "metadata": {},
   "source": [
    "b) Explain the meaning of the zi,j decision variables in problem SEP."
   ]
  },
  {
   "cell_type": "markdown",
   "id": "3cf351ad",
   "metadata": {},
   "source": [
    "$z_{ij}$ is a binary decision variable that tells us the preference between $option_i$ and $option_j$.\n",
    "\n",
    "If $z_{ij} = 1$, $option_i$ is more preferred than $option_j$\n",
    "\n",
    "If $z_{ij} = 0$, $option_i$ is less or equally preferred than $option_j$"
   ]
  },
  {
   "cell_type": "markdown",
   "id": "a5f541dc",
   "metadata": {},
   "source": [
    "c) Explain the meaning of each constraint in problem SEP."
   ]
  },
  {
   "cell_type": "markdown",
   "id": "5cc832de",
   "metadata": {},
   "source": [
    "Constraint (13b): This makes sure that only one of $z_{ij}$ or $z_{ji}$ is 1. This makes sense because we know logically that if one of these conditions is true, the other MUST be false.\n",
    "\n",
    "\n",
    "Constraint (13c): This makes sure that a particular option is not preferred over itself.\n",
    "\n",
    "\n",
    "Constraint (13d): This makes sure that only two of $z_{ij}$ or $z_{jk}$ or $z_{ki}$ is 1. This makes sense because we know logically that if two of these conditions is true, the other MUST be false to maintain sequential ordering.\n",
    "\n",
    "\n",
    "Constraint (13e): This makes sure that the most preferred option belongs to the options provided in the assortment.\n",
    "\n",
    "\n",
    "Constraint (13f): This makes sure that if i is selected, it comes before option j for\n",
    "that particular ranking for assortment m.\n",
    "\n",
    "\n",
    "Constraint (13g): This makes sure that each assortment contains exactly one option chosen by\n",
    "the customer. Essentially, every customer can choose exactly one option from each\n",
    "assortment.\n",
    "\n",
    "\n",
    "Constraint (13h): This makes sure that $z_{ij}$ is a binary decision variable equal to 1 if $option_i$ is more preferred than $option_j$\n",
    "\n",
    "\n",
    "Constraint (13i): This makes sure that $A_{mi}$ is a binary decision variable equal to 1 if the option was chosen by the customer."
   ]
  },
  {
   "cell_type": "markdown",
   "id": "f6292dbb",
   "metadata": {},
   "source": [
    "d) Explain how to determine the ranking σ from the values of the zi,j variables"
   ]
  },
  {
   "cell_type": "markdown",
   "id": "cb82e34d",
   "metadata": {},
   "source": [
    "We can reverse-engineer the decision variable $z_{ij}$ to determine σ. We can rank i for which sum of $z_{ij}$ is maximum in decsending order. The i with maximum sum is most preferred and the i with minimum sum is least preferred."
   ]
  },
  {
   "cell_type": "markdown",
   "id": "8f05a44a",
   "metadata": {},
   "source": [
    "Implement problem SEP in Python, and create a function called separation that solves SEP\n",
    "for two inputs, p val and q val, where p val is a numpy array corresponding to p, and q val is a\n",
    "scalar variable corresponding to q. To check that you have implemented this function correctly, the\n",
    "skeleton code provides example values of p val and q val together with what the optimal objective\n",
    "value of SEP should be for those inputs. (In addition, ensure that your constraint generation\n",
    "procedure saves the ranking corresponding to each solution of SEP, as these will be needed for Part\n",
    "7.)\n",
    "Once you have implemented the separation function, implement the constraint generation\n",
    "procedure. Skeleton code for the procedure is provided in the accompanying Jupyter Notebook.\n",
    "Solve problem EST-DUAL using the constraint generation procedure. Use the six rankings provided\n",
    "in Part 4 as the initial rankings that your constraint generation procedure starts from."
   ]
  },
  {
   "cell_type": "code",
   "execution_count": 43,
   "id": "9548e948",
   "metadata": {},
   "outputs": [
    {
     "name": "stdout",
     "output_type": "stream",
     "text": [
      "Optimal Objective Value: 41.82943992668715\n"
     ]
    }
   ],
   "source": [
    "# =================================================\n",
    "# First, set up your dual problem here:\n",
    "# =================================================\n",
    "\n",
    "##############################################################################################\n",
    "#Importing necessary libraries\n",
    "from gurobipy import *\n",
    "\n",
    "##############################################################################################\n",
    "# Initialize the model\n",
    "m_dual = Model()\n",
    "\n",
    "# Set the OutputFlag parameter to 0 to disable logging\n",
    "m_dual.Params.outputflag = 0\n",
    "\n",
    "##############################################################################################\n",
    "# Define Input Variables\n",
    "M = 50\n",
    "N = 9 + 1\n",
    "K = 6\n",
    "s = assortments.values.tolist()\n",
    "r = [[1, 2, 7, 0, 6, 8, 9, 3, 5, 4], \n",
    "     [8, 9, 5, 7, 3, 6, 4, 1, 2, 0], \n",
    "     [2, 6, 9, 7, 4, 1, 5, 3, 0, 8], \n",
    "     [6, 3, 2, 1, 0, 5, 4, 7, 9, 8], \n",
    "     [5, 2, 4, 7, 8, 1, 6, 0, 3, 9], \n",
    "     [9, 2, 3, 7, 5, 1, 8, 4, 6, 0]]\n",
    "v = counts.values.tolist()\n",
    "A_list = sToA(s, r)\n",
    "\n",
    "##############################################################################################\n",
    "# Define Variables\n",
    "p = m_dual.addVars(M, N, lb = -1, ub = 1) \n",
    "q = m_dual.addVar()\n",
    "\n",
    "##############################################################################################\n",
    "# Add constraints\n",
    "for k in range(K):\n",
    "    m_dual.addConstr(sum(A_list[i + m*N, k] * p[m, i] for i in range(N) for m in range(M)) + q <= 0)\n",
    "# (bounds on p_{m,i}, and constraints corresponding to \n",
    "# initial six rankings.)\n",
    "# You may find it helpful to maintain a list, A_list, which\n",
    "# contains the 2D arrays generated by permToA. \n",
    "# You may also find it helpful to maintain a list, ranking_list,\n",
    "# which contains the rankings corresponding to A_list. \n",
    "\n",
    "##############################################################################################\n",
    "# Add objective function\n",
    "m_dual.setObjective(sum(v[m][i] * p[m, i] for i in range(N) for m in range(M)) + q, GRB.MAXIMIZE)\n",
    "\n",
    "##############################################################################################\n",
    "# Update and solve\n",
    "m_dual.update()\n",
    "m_dual.optimize()\n",
    "\n",
    "##############################################################################################\n",
    "# Print Optimal Solution\n",
    "print(\"Optimal Objective Value:\", m_dual.objVal)\n",
    "\n",
    "##############################################################################################"
   ]
  },
  {
   "cell_type": "code",
   "execution_count": 44,
   "id": "603584be",
   "metadata": {},
   "outputs": [],
   "source": [
    "# =================================================\n",
    "# Set up your separation subproblem in Gurobi here: \n",
    "# =================================================\n",
    "\n",
    "##############################################################################################\n",
    "#Importing necessary libraries\n",
    "from gurobipy import *\n",
    "\n",
    "##############################################################################################\n",
    "# Initialize model\n",
    "m_sub = Model()\n",
    "\n",
    "# Set the OutputFlag parameter to 0 to disable logging\n",
    "m_sub.Params.OutputFlag = 0\n",
    "\n",
    "##############################################################################################\n",
    "# Define Variables\n",
    "A = m_sub.addVars(M, N, vtype = GRB.BINARY)\n",
    "z = m_sub.addVars(N, N, vtype = GRB.BINARY)\n",
    "\n",
    "##############################################################################################\n",
    "# Add constraints\n",
    "for i in range(N):\n",
    "    for j in range(N):\n",
    "        if (i != j):\n",
    "            m_sub.addConstr(z[i, j] + z[j, i] == 1)\n",
    "        else:\n",
    "            m_sub.addConstr(z[i, j] == 0)\n",
    "\n",
    "for i in range(N):\n",
    "    for j in range(N):\n",
    "        for k in range(N):\n",
    "            if (i != j and j != k and i != k):\n",
    "                m_sub.addConstr(z[i, j] + z[j, k] + z[k, i] <= 2)\n",
    "\n",
    "for m in range(M):\n",
    "    for i in range(N):\n",
    "        if (assortments.iloc[m, i] == 0):\n",
    "            m_sub.addConstr(A[m, i] == 0)\n",
    "            \n",
    "for m in range(M):\n",
    "    for i in range(N):\n",
    "        for j in range(N):\n",
    "            if (i != j and assortments.iloc[m, i] == 1 and assortments.iloc[m, j] == 1):\n",
    "                m_sub.addConstr(A[m, i] <= z[i, j])\n",
    "\n",
    "for m in range(M):\n",
    "    m_sub.addConstr(sum(A[m, i] for i in range(N)) == 1)\n",
    "\n",
    "##############################################################################################\n",
    "# Update and solve\n",
    "m_sub.update()\n",
    "\n",
    "##############################################################################################\n"
   ]
  },
  {
   "cell_type": "code",
   "execution_count": 45,
   "id": "f3a2d9a4",
   "metadata": {},
   "outputs": [],
   "source": [
    "# =====================================\n",
    "# Set up your separation function here:\n",
    "# =====================================\n",
    "\n",
    "\n",
    "def separation(p_val, q_val):\n",
    "    m_sub.setObjective(sum(p_val[m, i]*A[m, i] for m in range(M) for i in range(N)) + q_val, GRB.MAXIMIZE)\n",
    "    \n",
    "    m_sub.update()\n",
    "    m_sub.optimize()\n",
    "    \n",
    "    A_val = np.asarray([[A[m,i].x for i in range(N)] for m in range(M)])\n",
    "    z_val = np.asarray([[z[i,j].x for j in range(N)] for i in range(N)])\n",
    "    \n",
    "    # Use z_val to determine the ranking:\n",
    "    ranking = []\n",
    "    row_sums = np.sum(z_val, axis = 1)\n",
    "    \n",
    "    for i in range(N):\n",
    "        index = np.where(row_sums == 9-i)[0][0]\n",
    "        ranking.append(index+1)\n",
    "    \n",
    "    # Retrieve objective value\n",
    "    sub_obj = m_sub.objVal\n",
    "    \n",
    "    return sub_obj, A_val, ranking"
   ]
  },
  {
   "cell_type": "code",
   "execution_count": 46,
   "id": "fd8aa7bb",
   "metadata": {},
   "outputs": [
    {
     "ename": "GurobiError",
     "evalue": "Model too large for size-limited license; visit https://www.gurobi.com/free-trial for a full license",
     "output_type": "error",
     "traceback": [
      "\u001b[0;31m---------------------------------------------------------------------------\u001b[0m",
      "\u001b[0;31mGurobiError\u001b[0m                               Traceback (most recent call last)",
      "Cell \u001b[0;32mIn[46], line 9\u001b[0m\n\u001b[1;32m      6\u001b[0m p_val \u001b[38;5;241m=\u001b[39m np\u001b[38;5;241m.\u001b[39mrandom\u001b[38;5;241m.\u001b[39mrandint(\u001b[38;5;241m-\u001b[39m\u001b[38;5;241m1\u001b[39m,\u001b[38;5;241m1\u001b[39m,size \u001b[38;5;241m=\u001b[39m (M,N))\n\u001b[1;32m      7\u001b[0m q_val \u001b[38;5;241m=\u001b[39m \u001b[38;5;241m0.0\u001b[39m\n\u001b[0;32m----> 9\u001b[0m sub_objval, single_A, single_perm \u001b[38;5;241m=\u001b[39m separation(p_val, q_val)\n\u001b[1;32m     11\u001b[0m \u001b[38;5;28mprint\u001b[39m(sub_objval) \u001b[38;5;66;03m# Should display -13.0\u001b[39;00m\n\u001b[1;32m     12\u001b[0m \u001b[38;5;28mprint\u001b[39m(single_perm)\n",
      "Cell \u001b[0;32mIn[45], line 10\u001b[0m, in \u001b[0;36mseparation\u001b[0;34m(p_val, q_val)\u001b[0m\n\u001b[1;32m      7\u001b[0m m_sub\u001b[38;5;241m.\u001b[39msetObjective(\u001b[38;5;28msum\u001b[39m(p_val[m, i]\u001b[38;5;241m*\u001b[39mA[m, i] \u001b[38;5;28;01mfor\u001b[39;00m m \u001b[38;5;129;01min\u001b[39;00m \u001b[38;5;28mrange\u001b[39m(M) \u001b[38;5;28;01mfor\u001b[39;00m i \u001b[38;5;129;01min\u001b[39;00m \u001b[38;5;28mrange\u001b[39m(N)) \u001b[38;5;241m+\u001b[39m q_val, GRB\u001b[38;5;241m.\u001b[39mMAXIMIZE)\n\u001b[1;32m      9\u001b[0m m_sub\u001b[38;5;241m.\u001b[39mupdate()\n\u001b[0;32m---> 10\u001b[0m m_sub\u001b[38;5;241m.\u001b[39moptimize()\n\u001b[1;32m     12\u001b[0m A_val \u001b[38;5;241m=\u001b[39m np\u001b[38;5;241m.\u001b[39masarray([[A[m,i]\u001b[38;5;241m.\u001b[39mx \u001b[38;5;28;01mfor\u001b[39;00m i \u001b[38;5;129;01min\u001b[39;00m \u001b[38;5;28mrange\u001b[39m(N)] \u001b[38;5;28;01mfor\u001b[39;00m m \u001b[38;5;129;01min\u001b[39;00m \u001b[38;5;28mrange\u001b[39m(M)])\n\u001b[1;32m     13\u001b[0m z_val \u001b[38;5;241m=\u001b[39m np\u001b[38;5;241m.\u001b[39masarray([[z[i,j]\u001b[38;5;241m.\u001b[39mx \u001b[38;5;28;01mfor\u001b[39;00m j \u001b[38;5;129;01min\u001b[39;00m \u001b[38;5;28mrange\u001b[39m(N)] \u001b[38;5;28;01mfor\u001b[39;00m i \u001b[38;5;129;01min\u001b[39;00m \u001b[38;5;28mrange\u001b[39m(N)])\n",
      "File \u001b[0;32msrc/gurobipy/model.pxi:893\u001b[0m, in \u001b[0;36mgurobipy.Model.optimize\u001b[0;34m()\u001b[0m\n",
      "\u001b[0;31mGurobiError\u001b[0m: Model too large for size-limited license; visit https://www.gurobi.com/free-trial for a full license"
     ]
    }
   ],
   "source": [
    "# =======================================================\n",
    "# Test your separation function below:\n",
    "# =======================================================\n",
    "\n",
    "np.random.seed(10)\n",
    "p_val = np.random.randint(-1,1,size = (M,N))\n",
    "q_val = 0.0\n",
    "\n",
    "sub_objval, single_A, single_perm = separation(p_val, q_val)\n",
    "\n",
    "print(sub_objval) # Should display -13.0\n",
    "print(single_perm) # Should display [8 2 5 0 4 3 1 9 7 6]"
   ]
  },
  {
   "cell_type": "code",
   "execution_count": 47,
   "id": "dd880e67",
   "metadata": {},
   "outputs": [
    {
     "name": "stdout",
     "output_type": "stream",
     "text": [
      "Iteration  0 :  41.82943992668715\n"
     ]
    },
    {
     "ename": "GurobiError",
     "evalue": "Model too large for size-limited license; visit https://www.gurobi.com/free-trial for a full license",
     "output_type": "error",
     "traceback": [
      "\u001b[0;31m---------------------------------------------------------------------------\u001b[0m",
      "\u001b[0;31mGurobiError\u001b[0m                               Traceback (most recent call last)",
      "Cell \u001b[0;32mIn[47], line 17\u001b[0m\n\u001b[1;32m     14\u001b[0m q_val \u001b[38;5;241m=\u001b[39m q\u001b[38;5;241m.\u001b[39mx\n\u001b[1;32m     16\u001b[0m \u001b[38;5;66;03m# Solve separation problem for the first time:\u001b[39;00m\n\u001b[0;32m---> 17\u001b[0m sub_objval, single_A, single_ranking \u001b[38;5;241m=\u001b[39m separation(p_val, q_val) \n\u001b[1;32m     19\u001b[0m \u001b[38;5;66;03m# Create the flag isOptimal to decide whether the solution is optimal\u001b[39;00m\n\u001b[1;32m     20\u001b[0m \u001b[38;5;66;03m# or not (does it satisfy all the dual constraints or not):\u001b[39;00m\n\u001b[1;32m     21\u001b[0m tol_eps \u001b[38;5;241m=\u001b[39m \u001b[38;5;241m1e-5\u001b[39m\n",
      "Cell \u001b[0;32mIn[45], line 10\u001b[0m, in \u001b[0;36mseparation\u001b[0;34m(p_val, q_val)\u001b[0m\n\u001b[1;32m      7\u001b[0m m_sub\u001b[38;5;241m.\u001b[39msetObjective(\u001b[38;5;28msum\u001b[39m(p_val[m, i]\u001b[38;5;241m*\u001b[39mA[m, i] \u001b[38;5;28;01mfor\u001b[39;00m m \u001b[38;5;129;01min\u001b[39;00m \u001b[38;5;28mrange\u001b[39m(M) \u001b[38;5;28;01mfor\u001b[39;00m i \u001b[38;5;129;01min\u001b[39;00m \u001b[38;5;28mrange\u001b[39m(N)) \u001b[38;5;241m+\u001b[39m q_val, GRB\u001b[38;5;241m.\u001b[39mMAXIMIZE)\n\u001b[1;32m      9\u001b[0m m_sub\u001b[38;5;241m.\u001b[39mupdate()\n\u001b[0;32m---> 10\u001b[0m m_sub\u001b[38;5;241m.\u001b[39moptimize()\n\u001b[1;32m     12\u001b[0m A_val \u001b[38;5;241m=\u001b[39m np\u001b[38;5;241m.\u001b[39masarray([[A[m,i]\u001b[38;5;241m.\u001b[39mx \u001b[38;5;28;01mfor\u001b[39;00m i \u001b[38;5;129;01min\u001b[39;00m \u001b[38;5;28mrange\u001b[39m(N)] \u001b[38;5;28;01mfor\u001b[39;00m m \u001b[38;5;129;01min\u001b[39;00m \u001b[38;5;28mrange\u001b[39m(M)])\n\u001b[1;32m     13\u001b[0m z_val \u001b[38;5;241m=\u001b[39m np\u001b[38;5;241m.\u001b[39masarray([[z[i,j]\u001b[38;5;241m.\u001b[39mx \u001b[38;5;28;01mfor\u001b[39;00m j \u001b[38;5;129;01min\u001b[39;00m \u001b[38;5;28mrange\u001b[39m(N)] \u001b[38;5;28;01mfor\u001b[39;00m i \u001b[38;5;129;01min\u001b[39;00m \u001b[38;5;28mrange\u001b[39m(N)])\n",
      "File \u001b[0;32msrc/gurobipy/model.pxi:893\u001b[0m, in \u001b[0;36mgurobipy.Model.optimize\u001b[0;34m()\u001b[0m\n",
      "\u001b[0;31mGurobiError\u001b[0m: Model too large for size-limited license; visit https://www.gurobi.com/free-trial for a full license"
     ]
    }
   ],
   "source": [
    "# =======================================================\n",
    "# Finally, put your constraint generation procedure here.\n",
    "# =======================================================\n",
    "\n",
    "m_dual.Params.OutputFlag = 0\n",
    "m_dual.update()\n",
    "m_dual.optimize()\n",
    "\n",
    "dual_obj = m_dual.objval\n",
    "CG_iter = 0\n",
    "print(\"Iteration \", CG_iter, \": \", dual_obj)\n",
    "\n",
    "p_val = np.asarray( [ [p[i,j].x for j in range(N)] for i in range(M)] )\n",
    "q_val = q.x\n",
    "\n",
    "# Solve separation problem for the first time:\n",
    "sub_objval, single_A, single_ranking = separation(p_val, q_val) \n",
    "\n",
    "# Create the flag isOptimal to decide whether the solution is optimal\n",
    "# or not (does it satisfy all the dual constraints or not):\n",
    "tol_eps = 1e-5\n",
    "isOptimal = (sub_objval <= 0 + tol_eps)\n",
    "\n",
    "while (not isOptimal):\n",
    "    # Add the column of single_A to A_list:\n",
    "    A_list.append(single_A)\n",
    "    \n",
    "    # Add the ranking of single_ranking to r:\n",
    "    r = np.append(r, [single_ranking], axis = 0)\n",
    "    \n",
    "    # Add constraint corresponding to this single_A / single_ranking\n",
    "    # to dual:\n",
    "    m_dual.addConstr(sum(A_list[-1][m][n]*p[m, n] for m in range(M) for n in range(N)) + q <= 0)\n",
    "    \n",
    "    # Update and re-solve the dual:\n",
    "    m_dual.update()\n",
    "    m_dual.optimize()\n",
    "    \n",
    "    # Retrieve values of dual variables p and q, and dual objective\n",
    "    # value: \n",
    "    dual_obj = m_dual.objVal\n",
    "    p_val = np.asarray( [ [p[i,j].x for j in range(N)] for i in range(M)] )\n",
    "    q_val = q.x\n",
    "    \n",
    "    # Print information about this iteration:\n",
    "    CG_iter += 1 \n",
    "    print()\n",
    "    print(\"Iteration \", CG_iter, \": \", dual_obj)\n",
    "    \n",
    "    # Solve separation problem, and update the isOptimal flag.\n",
    "    sub_objval, single_A, single_ranking = separation(p_val, q_val) \n",
    "    isOptimal = (sub_objval <= 0 + tol_eps)\n",
    "    print(\"sub_objval = \", sub_objval)\n",
    "    print(\"isOptimal = \", isOptimal)"
   ]
  },
  {
   "cell_type": "markdown",
   "id": "6571d7ee",
   "metadata": {},
   "source": [
    "e) What is the optimal objective value?"
   ]
  },
  {
   "cell_type": "code",
   "execution_count": 48,
   "id": "a3f4bb8c",
   "metadata": {},
   "outputs": [
    {
     "ename": "NameError",
     "evalue": "name 'sub_objval' is not defined",
     "output_type": "error",
     "traceback": [
      "\u001b[0;31m---------------------------------------------------------------------------\u001b[0m",
      "\u001b[0;31mNameError\u001b[0m                                 Traceback (most recent call last)",
      "Cell \u001b[0;32mIn[48], line 1\u001b[0m\n\u001b[0;32m----> 1\u001b[0m sub_objval\n",
      "\u001b[0;31mNameError\u001b[0m: name 'sub_objval' is not defined"
     ]
    }
   ],
   "source": [
    "sub_objval"
   ]
  },
  {
   "cell_type": "markdown",
   "id": "5766a6dd",
   "metadata": {},
   "source": [
    "f) How many rankings are generated by your constraint generation procedure?"
   ]
  },
  {
   "cell_type": "code",
   "execution_count": 49,
   "id": "df49349a",
   "metadata": {},
   "outputs": [
    {
     "data": {
      "text/plain": [
       "6"
      ]
     },
     "execution_count": 49,
     "metadata": {},
     "output_type": "execute_result"
    }
   ],
   "source": [
    "len(A_list)"
   ]
  },
  {
   "cell_type": "markdown",
   "id": "2b544992",
   "metadata": {},
   "source": [
    "**<font size=\"4\">Part 7: Understanding the column generation solution</font>** -- Couldn't attempt"
   ]
  },
  {
   "cell_type": "markdown",
   "id": "924df224",
   "metadata": {},
   "source": [
    "a) How many rankings have a non-zero value of λk associated with them?"
   ]
  },
  {
   "cell_type": "markdown",
   "id": "9655fc07",
   "metadata": {},
   "source": [
    "b) What are the top three rankings in terms of λk? For these three rankings, which are the top\n",
    "three most preferred options?"
   ]
  },
  {
   "cell_type": "markdown",
   "id": "16df6633",
   "metadata": {},
   "source": [
    "c) What is the average rank of each of the ten options (the n = 9 products plus the no-purchase\n",
    "option), where the average is taken with respect to the rankings and the probability distribution\n",
    "λ in your constraint generation solution? (Lower rank values correspond to more preferred\n",
    "options.)"
   ]
  },
  {
   "cell_type": "markdown",
   "id": "d2ecc3ee",
   "metadata": {},
   "source": [
    "d) Suppose that we offer the assortment S = {2, 4, 5, 6}. This corresponds to offering Folgers, Philz,\n",
    "Blue Bottle and Intelligentsia. What are the predicted choice probabilities for the products in\n",
    "this assortment? What is the predicted probability of customers not purchasing anything?\n"
   ]
  },
  {
   "cell_type": "markdown",
   "id": "0c16ac34",
   "metadata": {},
   "source": [
    "**<font size=\"5\">2. Designing a Sushi Menu</font>**"
   ]
  },
  {
   "cell_type": "code",
   "execution_count": 2,
   "id": "d8d742ba",
   "metadata": {},
   "outputs": [],
   "source": [
    "util = pd.read_csv(\"sushi_utilities_mat.csv\", header=None)\n",
    "info = pd.read_csv(\"sushi_info.csv\", header=None)\n",
    "info.columns = ['sushi', 'category', 'price']\n",
    "desc = pd.read_csv(\"sushi_descriptions.csv\", header = None, index_col = False).drop(0, axis = 1)\n",
    "desc.columns = ['sushi']\n",
    "desc['desc'] = desc['sushi'].str.extract(r'\\((.*?)\\)')\n",
    "desc['sushi'] = desc['sushi'].str.split(' ').str[0]\n",
    "\n",
    "util.columns = info['sushi']"
   ]
  },
  {
   "cell_type": "markdown",
   "id": "248807ee",
   "metadata": {},
   "source": [
    "**<font size=\"4\">Part 1: Understanding the data</font>**"
   ]
  },
  {
   "cell_type": "markdown",
   "id": "bfae11a3",
   "metadata": {},
   "source": [
    "a) What are the five most preferred sushis for customer 1? Hint: use the command argsort from\n",
    "numpy on a particular row of the utility matrix."
   ]
  },
  {
   "cell_type": "code",
   "execution_count": 3,
   "id": "9fe0a94d",
   "metadata": {},
   "outputs": [
    {
     "name": "stdout",
     "output_type": "stream",
     "text": [
      "negi_toro\n",
      "ika\n",
      "maguro\n",
      "samon\n",
      "inari\n"
     ]
    }
   ],
   "source": [
    "answer = (util.iloc[0]).sort_values(ascending = False).head().index\n",
    "for ans in answer:\n",
    "    print(ans)"
   ]
  },
  {
   "cell_type": "markdown",
   "id": "8687207f",
   "metadata": {},
   "source": [
    "b) What are the five least preferred sushis for customer 2?"
   ]
  },
  {
   "cell_type": "code",
   "execution_count": 4,
   "id": "b4c13d64",
   "metadata": {},
   "outputs": [
    {
     "name": "stdout",
     "output_type": "stream",
     "text": [
      "karasumi\n",
      "komochi_konbu\n",
      "kyabia\n",
      "awabi\n",
      "kazunoko\n"
     ]
    }
   ],
   "source": [
    "answer = (util.iloc[1]).sort_values(ascending = True).head(5).index\n",
    "for ans in answer:\n",
    "    print(ans)"
   ]
  },
  {
   "cell_type": "markdown",
   "id": "a4a89e68",
   "metadata": {},
   "source": [
    "c) For each customer, compute the rank of each of the 100 sushis according to their utilities. Which sushis are the top five, i.e., the five with the best average rank over the 500 customers? What do you notice about the sushi (specifically, the type of fish)?"
   ]
  },
  {
   "cell_type": "code",
   "execution_count": 16,
   "id": "0942bcab",
   "metadata": {},
   "outputs": [
    {
     "name": "stdout",
     "output_type": "stream",
     "text": [
      "4 sarada_maki\n",
      "1 mekabu\n",
      "3 kujira\n",
      "0 karei\n",
      "2 shishamo\n"
     ]
    }
   ],
   "source": [
    "a = np.argsort(np.argsort(np.argsort(util, axis=1), axis=1).mean(axis = 0))\n",
    "for key, value in enumerate(a):\n",
    "    if value in [0, 1, 2, 3, 4]:\n",
    "        print(value, info.iloc[key]['sushi'])"
   ]
  },
  {
   "cell_type": "markdown",
   "id": "4340d17f",
   "metadata": {},
   "source": [
    "d) Which sushi has the worst average rank over the 500 customers?"
   ]
  },
  {
   "cell_type": "code",
   "execution_count": 256,
   "id": "9c7b1ceb",
   "metadata": {},
   "outputs": [
    {
     "name": "stdout",
     "output_type": "stream",
     "text": [
      "akagai\n"
     ]
    }
   ],
   "source": [
    "a = np.argsort(np.argsort(util, axis = 1).mean(axis = 0))\n",
    "for key, value in enumerate(a):\n",
    "    if value in [99]:\n",
    "        print(info.iloc[key]['sushi'])"
   ]
  },
  {
   "cell_type": "markdown",
   "id": "ce5827af",
   "metadata": {},
   "source": [
    "e) Which sushi is the most controversial, as measured by the standard deviation of its rank over the 500 customers?"
   ]
  },
  {
   "cell_type": "code",
   "execution_count": 257,
   "id": "eb6fbbed",
   "metadata": {},
   "outputs": [
    {
     "name": "stdout",
     "output_type": "stream",
     "text": [
      "tai\n"
     ]
    }
   ],
   "source": [
    "a = np.argsort(np.argsort(util, axis = 1).var(axis = 0))\n",
    "for key, value in enumerate(a):\n",
    "    if value in [0]:\n",
    "        print(info.iloc[key]['sushi'])"
   ]
  },
  {
   "cell_type": "markdown",
   "id": "cd33f14b",
   "metadata": {},
   "source": [
    "**<font size=\"4\">Part 2: Common-sense solutions</font>**"
   ]
  },
  {
   "cell_type": "code",
   "execution_count": 258,
   "id": "655f7a97",
   "metadata": {},
   "outputs": [],
   "source": [
    "util.columns = list(range(1,101))"
   ]
  },
  {
   "cell_type": "code",
   "execution_count": 259,
   "id": "cebbdd4a",
   "metadata": {},
   "outputs": [
    {
     "data": {
      "text/plain": [
       "14.239619999999999"
      ]
     },
     "execution_count": 259,
     "metadata": {},
     "output_type": "execute_result"
    }
   ],
   "source": [
    "assortment = [1, 2, 3, 4, 5]\n",
    "\n",
    "def pick(assortment, no_purchase = 3):\n",
    "    df = util[assortment]\n",
    "    df = df[df > no_purchase]\n",
    "    df = pd.DataFrame(df.idxmax(axis = 1).value_counts())\n",
    "    df.index = df.index - 1\n",
    "    df = pd.merge(df, info.dropna(), how = 'left', left_index = True, right_index = True)\n",
    "    df['revenue'] = df['price'] * df['count']\n",
    "    df = df.revenue.sum()/len(util)\n",
    "    return df\n",
    "\n",
    "pick(assortment)"
   ]
  },
  {
   "cell_type": "markdown",
   "id": "a512a8c9",
   "metadata": {},
   "source": [
    "a) Suppose that we simply offer all sushi products, that is, we set S = {1, 2, . . . , n}. What is the\n",
    "expected revenue in this case?"
   ]
  },
  {
   "cell_type": "code",
   "execution_count": 260,
   "id": "880b8acb",
   "metadata": {},
   "outputs": [
    {
     "data": {
      "text/plain": [
       "21.509720000000005"
      ]
     },
     "execution_count": 260,
     "metadata": {},
     "output_type": "execute_result"
    }
   ],
   "source": [
    "assortment = list(range(1, 101))\n",
    "pick(assortment)"
   ]
  },
  {
   "cell_type": "markdown",
   "id": "038ed7d2",
   "metadata": {},
   "source": [
    "b) Suppose that we offer the ten highest revenue sushis, that is, we set S = {i1, . . . , i10}, where\n",
    "ri1 ≥ ri2 ≥ · · · ≥ rin . Which are the ten highest revenue sushis? What is the expected revenue\n",
    "in this case?"
   ]
  },
  {
   "cell_type": "code",
   "execution_count": 261,
   "id": "7026d924",
   "metadata": {},
   "outputs": [
    {
     "data": {
      "text/plain": [
       "25.63944"
      ]
     },
     "execution_count": 261,
     "metadata": {},
     "output_type": "execute_result"
    }
   ],
   "source": [
    "assortment = list(info['price'].sort_values(ascending = False).head(10).index + 1)\n",
    "pick(assortment)"
   ]
  },
  {
   "cell_type": "markdown",
   "id": "18d792a0",
   "metadata": {},
   "source": [
    "c) Suppose that for every customer k, we determine his/her most preferred sushi, i∗\n",
    "k = arg max1≤i≤n uk,i.\n",
    "We then offer all of the most preferred sushis, that is, we set S = {i∗\n",
    "1, i∗\n",
    "2, . . . , i∗\n",
    "K }. (Note that\n",
    "some sushis may be the top choice of more than one customer.)\n",
    "What is the expected revenue in this case? What do you notice about this value?"
   ]
  },
  {
   "cell_type": "code",
   "execution_count": 262,
   "id": "ce057075",
   "metadata": {},
   "outputs": [
    {
     "data": {
      "text/plain": [
       "21.509720000000005"
      ]
     },
     "execution_count": 262,
     "metadata": {},
     "output_type": "execute_result"
    }
   ],
   "source": [
    "assortment = list(util.idxmax(axis = 1).value_counts().index)\n",
    "pick(assortment)"
   ]
  },
  {
   "cell_type": "markdown",
   "id": "bd8581a1",
   "metadata": {},
   "source": [
    "I observe that this value is exactly equal to when we offer all sushi products and each customer picks their highest utility sushi. (answer in part a)"
   ]
  },
  {
   "cell_type": "markdown",
   "id": "c3015570",
   "metadata": {},
   "source": [
    "d) Explain why the solution in (a) may be suboptimal."
   ]
  },
  {
   "cell_type": "markdown",
   "id": "41a318df",
   "metadata": {},
   "source": [
    "The solution in (a) may be suboptimal because customers choose their highest utility sushi, ut that doesn't necessarily translate into higher revenue for the restaurant. We want to design a menu that will offer customers higher utility than the no-purchase option, and also generate high revenue for the resturant. There needs to be a perfect balance of utility and revenue."
   ]
  },
  {
   "cell_type": "markdown",
   "id": "041193e1",
   "metadata": {},
   "source": [
    "e) Explain why the solution in (b) may be suboptimal."
   ]
  },
  {
   "cell_type": "markdown",
   "id": "ccacc43a",
   "metadata": {},
   "source": [
    "The solution in (b) may be suboptimal because restaurant chooses their highest revenue sushis, but that doesn't necessarily mean the customers buy those sushis due to their utility. We want to design a menu that will offer customers higher utility than the no-purchase option, and also generate high revenue for the resturant. There needs to be a perfect balance of utility and revenue."
   ]
  },
  {
   "cell_type": "markdown",
   "id": "ecf6de1a",
   "metadata": {},
   "source": [
    "**<font size=\"4\">Part 3: An integer optimization model</font>**"
   ]
  },
  {
   "cell_type": "markdown",
   "id": "d4a9163b",
   "metadata": {},
   "source": [
    "a) Explain how constraints (14b) – (14e) correctly model the preferences of each customer."
   ]
  },
  {
   "cell_type": "markdown",
   "id": "ab0bbefa",
   "metadata": {},
   "source": [
    "Constraint (14b): This makes sure that every customer can have exactly one most preferred sushi.\n",
    "\n",
    "Constraint (14c): This makes sure that the utility of the most preferred sushi for each customer greater than or equal to the utility of any other sushi in the assortment offered (including the no purchase option)\n",
    "\n",
    "Constraint (14d): This makes sure that the utility of the most preferred sushi for customer must be greater\n",
    "than or equal to the utility of not purchasing any sushi\n",
    "\n",
    "Constraint (14e): This makes sures that the most preferred option is included in the offered\n",
    "assortment."
   ]
  },
  {
   "cell_type": "markdown",
   "id": "69ce5e32",
   "metadata": {},
   "source": [
    "b) Implement the linear optimization relaxation of the above problem in Python. The relaxation is\n",
    "obtained by relaxing x and y to be continuous decision variables as opposed to binary decision\n",
    "variables – that is, we replace constraints (14f) and (14g) with:\n",
    "0 ≤ xi ≤ 1, ∀ i ∈ {1, . . . , n}, (15)\n",
    "0 ≤ yk,i ≤ 1, ∀ k ∈ {1, . . . , K}, i ∈ {1, . . . , n}. (16)\n",
    "What is the optimal objective value of the relaxation?"
   ]
  },
  {
   "cell_type": "code",
   "execution_count": 269,
   "id": "8e96ac55",
   "metadata": {},
   "outputs": [
    {
     "ename": "KeyboardInterrupt",
     "evalue": "",
     "output_type": "error",
     "traceback": [
      "\u001b[0;31m---------------------------------------------------------------------------\u001b[0m",
      "\u001b[0;31mKeyboardInterrupt\u001b[0m                         Traceback (most recent call last)",
      "Cell \u001b[0;32mIn[269], line 32\u001b[0m\n\u001b[1;32m     30\u001b[0m \u001b[38;5;28;01mfor\u001b[39;00m k \u001b[38;5;129;01min\u001b[39;00m \u001b[38;5;28mrange\u001b[39m(K):\n\u001b[1;32m     31\u001b[0m     \u001b[38;5;28;01mfor\u001b[39;00m i \u001b[38;5;129;01min\u001b[39;00m \u001b[38;5;28mrange\u001b[39m(\u001b[38;5;241m1\u001b[39m, N\u001b[38;5;241m+\u001b[39m\u001b[38;5;241m1\u001b[39m):\n\u001b[0;32m---> 32\u001b[0m         relax\u001b[38;5;241m.\u001b[39maddConstr(\u001b[38;5;28msum\u001b[39m(u\u001b[38;5;241m.\u001b[39miloc[k, j]\u001b[38;5;241m*\u001b[39my[k, j] \u001b[38;5;28;01mfor\u001b[39;00m j \u001b[38;5;129;01min\u001b[39;00m \u001b[38;5;28mrange\u001b[39m(N\u001b[38;5;241m+\u001b[39m\u001b[38;5;241m1\u001b[39m)) \u001b[38;5;241m>\u001b[39m\u001b[38;5;241m=\u001b[39m u\u001b[38;5;241m.\u001b[39miloc[k, i]\u001b[38;5;241m*\u001b[39mx[i\u001b[38;5;241m-\u001b[39m\u001b[38;5;241m1\u001b[39m] \u001b[38;5;241m+\u001b[39m u\u001b[38;5;241m.\u001b[39miloc[k, \u001b[38;5;241m0\u001b[39m]\u001b[38;5;241m*\u001b[39m(\u001b[38;5;241m1\u001b[39m \u001b[38;5;241m-\u001b[39m x[i\u001b[38;5;241m-\u001b[39m\u001b[38;5;241m1\u001b[39m]))\n\u001b[1;32m     34\u001b[0m \u001b[38;5;28;01mfor\u001b[39;00m k \u001b[38;5;129;01min\u001b[39;00m \u001b[38;5;28mrange\u001b[39m(K):\n\u001b[1;32m     35\u001b[0m     relax\u001b[38;5;241m.\u001b[39maddConstr(\u001b[38;5;28msum\u001b[39m(u\u001b[38;5;241m.\u001b[39miloc[k, j]\u001b[38;5;241m*\u001b[39my[k, j] \u001b[38;5;28;01mfor\u001b[39;00m j \u001b[38;5;129;01min\u001b[39;00m \u001b[38;5;28mrange\u001b[39m(N\u001b[38;5;241m+\u001b[39m\u001b[38;5;241m1\u001b[39m)) \u001b[38;5;241m>\u001b[39m\u001b[38;5;241m=\u001b[39m u\u001b[38;5;241m.\u001b[39miloc[k, \u001b[38;5;241m0\u001b[39m])\n",
      "File \u001b[0;32msrc/gurobipy/linexpr.pxi:480\u001b[0m, in \u001b[0;36mgurobipy.LinExpr.__add__\u001b[0;34m()\u001b[0m\n",
      "File \u001b[0;32msrc/gurobipy/linexpr.pxi:48\u001b[0m, in \u001b[0;36mgurobipy.LinExpr.__init__\u001b[0;34m()\u001b[0m\n",
      "File \u001b[0;32m<frozen abc>:117\u001b[0m, in \u001b[0;36m__instancecheck__\u001b[0;34m(cls, instance)\u001b[0m\n",
      "\u001b[0;31mKeyboardInterrupt\u001b[0m: "
     ]
    }
   ],
   "source": [
    "##############################################################################################\n",
    "#Importing necessary libraries\n",
    "from gurobipy import *\n",
    "\n",
    "##############################################################################################\n",
    "# Initialize the model \n",
    "relax = Model()\n",
    "\n",
    "# Set the OutputFlag parameter to 0 to disable logging\n",
    "relax.Params.outputflag = 0\n",
    "\n",
    "##############################################################################################\n",
    "# Define Input Variables\n",
    "K = 500\n",
    "N = 100\n",
    "u = util.copy()\n",
    "u[0] = 3 # outside option\n",
    "u = u[list(range(101))]\n",
    "info = np.insert(info, 0, ('no purchase', -1, 0), axis = 0)\n",
    "\n",
    "##############################################################################################\n",
    "# Define Variables\n",
    "y = relax.addVars(K, N+1, lb = 0, ub = 1, vtype = GRB.CONTINUOUS)\n",
    "x = relax.addVars(N+1, lb = 0, ub = 1, vtype = GRB.CONTINUOUS)\n",
    "\n",
    "##############################################################################################\n",
    "# Define Constraints\n",
    "for k in range(K):\n",
    "    relax.addConstr(sum(y[k, i] for i in range(N+1)) == 1)\n",
    "\n",
    "for k in range(K):\n",
    "    for i in range(1, N+1):\n",
    "        relax.addConstr(sum(u.iloc[k, j]*y[k, j] for j in range(N+1)) >= u.iloc[k, i]*x[i-1] + u.iloc[k, 0]*(1 - x[i-1]))\n",
    " \n",
    "for k in range(K):\n",
    "    relax.addConstr(sum(u.iloc[k, j]*y[k, j] for j in range(N+1)) >= u.iloc[k, 0])\n",
    "\n",
    "for k in range(K):\n",
    "    for i in range(1, N+1):\n",
    "        relax.addConstr(y[k, i] <= x[i-1])\n",
    "\n",
    "##############################################################################################\n",
    "# Construct Objective\n",
    "relax.setObjective(sum((info.price[i-1]*y[k, i]) for i in range(1, N+1) for k in range(K))/K, GRB.MAXIMIZE)\n",
    "\n",
    "##############################################################################################\n",
    "# Update and solve\n",
    "relax.update()\n",
    "relax.optimize()\n",
    "\n",
    "##############################################################################################\n",
    "# Print Optimal Solution\n",
    "print(\"Optimal Objective Value:\", relax.objVal)\n",
    "\n",
    "##############################################################################################"
   ]
  },
  {
   "cell_type": "markdown",
   "id": "4be755aa",
   "metadata": {},
   "source": [
    "c) A manager claims that it should be possible to obtain an assortment with an expected per customer revenue of $32. Explain why this is impossible based on your answer to (b)."
   ]
  },
  {
   "cell_type": "markdown",
   "id": "fda4213b",
   "metadata": {},
   "source": [
    "We achieve an optimal solution of $30.59 in our linear relaxation. This means we cannot obtain an expected per customer revenue of more than $30.59 without violating at least one of the constraints."
   ]
  },
  {
   "cell_type": "markdown",
   "id": "74242bc6",
   "metadata": {},
   "source": [
    "d) Now, implement the integer version of the above problem (i.e., the binary constraints (14f) and\n",
    "(14g) are enforced) in Python. Solve the problem. What is the expected per-customer revenue\n",
    "of the optimal assortment? How much does this improve over the assortments from Part 2?"
   ]
  },
  {
   "cell_type": "code",
   "execution_count": null,
   "id": "54d6860c",
   "metadata": {},
   "outputs": [],
   "source": [
    "##############################################################################################\n",
    "#Importing necessary libraries\n",
    "from gurobipy import *\n",
    "\n",
    "##############################################################################################\n",
    "# Initialize the model \n",
    "relax = Model()\n",
    "\n",
    "# Set the OutputFlag parameter to 0 to disable logging\n",
    "relax.Params.outputflag = 0\n",
    "\n",
    "##############################################################################################\n",
    "# Define Input Variables\n",
    "K = 500\n",
    "N = 100\n",
    "u = util.copy()\n",
    "u[0] = 3 # outside option\n",
    "u = u[list(range(101))]\n",
    "info = np.insert(info, 0, ('no purchase', -1, 0), axis = 0)\n",
    "\n",
    "##############################################################################################\n",
    "# Define Variables\n",
    "y = relax.addVars(K, N+1, lb = 0, ub = 1, vtype = GRB.BINARY)\n",
    "x = relax.addVars(N+1, lb = 0, ub = 1, vtype = GRB.BINARY)\n",
    "\n",
    "##############################################################################################\n",
    "# Define Constraints\n",
    "for k in range(K):\n",
    "    relax.addConstr(sum(y[k, i] for i in range(N+1)) == 1)\n",
    "\n",
    "for k in range(K):\n",
    "    for i in range(1, N+1):\n",
    "        relax.addConstr(sum(u.iloc[k, j]*y[k, j] for j in range(N+1)) >= u.iloc[k, i]*x[i-1] + u.iloc[k, 0]*(1 - x[i-1]))\n",
    " \n",
    "for k in range(K):\n",
    "    relax.addConstr(sum(u.iloc[k, j]*y[k, j] for j in range(N+1)) >= u.iloc[k, 0])\n",
    "\n",
    "for k in range(K):\n",
    "    for i in range(1, N+1):\n",
    "        relax.addConstr(y[k, i] <= x[i-1])\n",
    "\n",
    "##############################################################################################\n",
    "# Construct Objective\n",
    "relax.setObjective(sum((info.price[i-1]*y[k, i]) for i in range(1, N+1) for k in range(K))/K, GRB.MAXIMIZE)\n",
    "\n",
    "##############################################################################################\n",
    "# Update and solve\n",
    "relax.update()\n",
    "relax.optimize()\n",
    "\n",
    "##############################################################################################\n",
    "# Print Optimal Solution\n",
    "print(\"Optimal Objective Value:\", relax.objVal)\n",
    "\n",
    "##############################################################################################"
   ]
  },
  {
   "cell_type": "markdown",
   "id": "b8b14e83",
   "metadata": {},
   "source": [
    "e) What is the optimal set of sushis the restaurant should offer?"
   ]
  },
  {
   "cell_type": "code",
   "execution_count": null,
   "id": "f752d797",
   "metadata": {},
   "outputs": [],
   "source": []
  }
 ],
 "metadata": {
  "kernelspec": {
   "display_name": "Python 3 (ipykernel)",
   "language": "python",
   "name": "python3"
  },
  "language_info": {
   "codemirror_mode": {
    "name": "ipython",
    "version": 3
   },
   "file_extension": ".py",
   "mimetype": "text/x-python",
   "name": "python",
   "nbconvert_exporter": "python",
   "pygments_lexer": "ipython3",
   "version": "3.11.5"
  }
 },
 "nbformat": 4,
 "nbformat_minor": 5
}
