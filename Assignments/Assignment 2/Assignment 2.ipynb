{
 "cells": [
  {
   "cell_type": "markdown",
   "id": "8965143b-9161-4f97-ab0e-ae5d3b49a693",
   "metadata": {},
   "source": [
    "<center>\n",
    "\n",
    "<font size=\"5\">MGMTMSA 408: Operations Analytics</font>\n",
    "\n",
    "</center>\n"
   ]
  },
  {
   "cell_type": "markdown",
   "id": "ce5567c9-e4ac-459c-8809-c165bb65ca00",
   "metadata": {
    "tags": []
   },
   "source": [
    "<center>\n",
    "\n",
    "<font size=\"5\">Assignment 2: Constraint Generation and Assortment Optimization</font>\n",
    "\n",
    "</center>\n"
   ]
  },
  {
   "cell_type": "markdown",
   "id": "485f85a1-3fba-44c1-8e1f-cd0e2be6c7dd",
   "metadata": {},
   "source": [
    "<div style=\"display: flex; justify-content: space-between;\">\n",
    "    <div style=\"text-align: left;\">\n",
    "        Due on BruinLearn by 1:00pm on May 06, 2024.\n",
    "    </div>\n",
    "    <div style=\"text-align: right;\">\n",
    "        Arnav Garg (906310841) <br>\n",
    "    </div>\n",
    "</div>\n"
   ]
  },
  {
   "cell_type": "markdown",
   "id": "4f10955a-4807-4c5a-883c-f391885476f9",
   "metadata": {},
   "source": [
    "**<font size=\"5\">1. Learning Coffee Preferences</font>**"
   ]
  },
  {
   "cell_type": "markdown",
   "id": "267b1cfb-d4dd-49ce-b44d-1fc063a80f60",
   "metadata": {
    "tags": []
   },
   "source": [
    "In this problem, we will be using column / constraint generation to learn about customer preferences\n",
    "through a discrete choice model. In a discrete choice model, there are n distinct products, indexed\n",
    "from 1 to n, as well as a dummy product 0, which represents the outside or no-purchase option\n",
    "(i.e., the customer chooses not to buy any of the products from the assortment). When a customer\n",
    "makes a decision, they choose a product from within the assortment or they choose the no-purchase\n",
    "option. The specific type of discrete choice model we will use is the ranking-based choice model,\n",
    "which will be explained in more detail in Part 1 and Part 2 of this problem.\n",
    "The data set that we have consists of different assortments of coffee brands, which are listed\n",
    "below. For each assortment, we observe how many customers purchased each of those brands, as\n",
    "well as how many customers did not purchase anything when they considered the assortment. The\n",
    "data will be described in more detail in Part 3."
   ]
  },
  {
   "cell_type": "markdown",
   "id": "2de1c1a2-32a6-4e83-a626-b456c0bc7aa1",
   "metadata": {
    "tags": []
   },
   "source": [
    "Product # | Brand|\n",
    "--- | --- |\n",
    "1 | Peets |\n",
    "2 | Folgers |\n",
    "3 | Starbucks |\n",
    "4 | Philz |\n",
    "5 | Blue Bottle |\n",
    "6 | Intelligentsia |\n",
    "7 | Counter Culture |\n",
    "8 | Stumptown |\n",
    "9 | Groundworks |"
   ]
  },
  {
   "cell_type": "markdown",
   "id": "c459a9b1-c550-428e-862a-f538b96cf83e",
   "metadata": {},
   "source": [
    "After introducing the data in Part 3, we will focus on estimating the ranking-based model from\n",
    "data by solving a linear program. Part 4 introduces this linear program and walks through solving\n",
    "it with a fixed set of rankings. Part 5 then involves applying the column randomization approach,\n",
    "while Part 6 involves using the column generation / constraint generation approach to solving the\n",
    "problem. Finally, Part 7 looks at understanding the ranking model obtained from Part 6. A Jupyter\n",
    "Notebook containing code snippets and skeleton code, HW2 - Coffee Code.ipynb, is provided to\n",
    "help you with this problem."
   ]
  },
  {
   "cell_type": "markdown",
   "id": "3291f99f",
   "metadata": {},
   "source": [
    "**<font size=\"4\">Part 1: Modeling preferences through rankings</font>**"
   ]
  },
  {
   "cell_type": "markdown",
   "id": "61431195",
   "metadata": {},
   "source": [
    "In the ranking-based model, we assume that the customer population consists of K different cus-\n",
    "tomer types. We let k denote the index of the customer type, which ranges from 1 to K.\n",
    "Each customer type k chooses according to a ranking σk of the products.\n",
    "As an example, suppose that n = 9. Suppose that we have three customer types, which are\n",
    "given by the rankings"
   ]
  },
  {
   "cell_type": "markdown",
   "id": "8b44f2d7",
   "metadata": {},
   "source": []
  },
  {
   "cell_type": "markdown",
   "id": "e95a3e56",
   "metadata": {},
   "source": [
    "where the notation i ≺ j means that we prefer option i to option j.\n",
    "The first ranking σ1 represents customers who prefer product 4 the most, followed by product\n",
    "3, followed by product 0 (the no-purchase option), then followed by the remaining products. The\n",
    "second ranking σ2 represents customers who prefer product 3 the most, followed by product 2,\n",
    "followed by product 4, followed by the no-purchase option, then followed by the remaining products.\n",
    "The third ranking σ3 represents customers who prefer product 2 the most, followed by product 5,\n",
    "followed by the no-purchase option, followed by all of the other products.\n",
    "Each customer type k also has a probability λk associated with it; we can think of λk as the\n",
    "probability that a randomly drawn customer will be of type k, or equivalently, what fraction of\n",
    "customers in the population are of type k (i.e., they will choose according to the ranking σk).\n",
    "Suppose that the probabilities of the three rankings are λ1 = 0.1, λ2 = 0.3, λ3 = 0.6. Then the\n",
    "choice probabilities of the products are"
   ]
  },
  {
   "cell_type": "markdown",
   "id": "1a048169",
   "metadata": {},
   "source": []
  },
  {
   "cell_type": "markdown",
   "id": "e6e8aeb8",
   "metadata": {},
   "source": [
    "In this example, customer types 1 and 2 both choose product 4, because it is their most preferred\n",
    "option out of products 1, 4 and 5 and the no-purchase option 0. As a result, the probability that a\n",
    "random customer chooses product 4 is 0.4. Customer type 3 chooses product 5, because it is their\n",
    "most preferred option. Therefore, the probability that a random customer chooses product 5 is 0.6.\n",
    "None of the three customer types choose either product 1 or the no-purchase option, and hence\n",
    "their choice probabilities are 0."
   ]
  },
  {
   "cell_type": "markdown",
   "id": "4b424f16-c7e2-479e-ab74-c6837be88410",
   "metadata": {},
   "source": [
    "a) For the same rankings given in the example, calculate the choice probabilities for the set of\n",
    "products {3, 4}."
   ]
  },
  {
   "cell_type": "markdown",
   "id": "4213e59a",
   "metadata": {},
   "source": [
    "\\begin{align}\n",
    "\\text{maximize} \\;\\; & 500x_1 + 800x_2 + 1000x_3 \\;\\;\\;\\; \\text{[Objective Function]}\\\\\n",
    "\\text{s.t.} \\;\\; & 14x_1 + 20x_2 + 40x_3 \\le 300 \\;\\;\\;\\; \\text{[Germanium Constraint]}\\\\\n",
    "            & 30x_1 + 20x_2 + 15x_3 \\le 200 \\;\\;\\;\\; \\text{[Silicon Constraint]}\\\\\n",
    "            & 20x_1 + 30x_2 + 50x_3 \\le 1080 \\;\\;\\;\\; \\text{[Time Constraint]}\\\\\n",
    "            & x_i \\ge 0 \\quad i = 1 \\ldots 3 \\;\\;\\;\\; \\text{[Non-Negativity Constraint]}\\\\\n",
    "\\end{align}\n",
    "\n",
    "\n",
    "where decision variables are given as follows:\n",
    "\n",
    "$x_1$ is the number of chips produced of type 1\n",
    "\n",
    "$x_2$ is the number of chips produced of type 1\n",
    "\n",
    "$x_3$ is the number of chips produced of type 1\n",
    "\n",
    "to maximize revenue"
   ]
  },
  {
   "cell_type": "markdown",
   "id": "81b82e97",
   "metadata": {},
   "source": [
    "b) For the same rankings given in the example, calculate the choice probabilities for the set of\n",
    "products {2, 3, 4}."
   ]
  },
  {
   "cell_type": "code",
   "execution_count": 17,
   "id": "a617a926",
   "metadata": {},
   "outputs": [
    {
     "name": "stdout",
     "output_type": "stream",
     "text": [
      "Maximum Profit(Optimal Objective Value): $ 9600.0\n"
     ]
    }
   ],
   "source": [
    "##############################################################################################\n",
    "#Importing necessary libraries\n",
    "from gurobipy import *\n",
    "import numpy as np\n",
    "import pandas as pd\n",
    "\n",
    "##############################################################################################\n",
    "# Initialize the model \n",
    "primal = Model()\n",
    "\n",
    "# Set the OutputFlag parameter to 0 to disable logging\n",
    "primal.Params.outputflag = 0\n",
    "\n",
    "##############################################################################################\n",
    "# Define Variables\n",
    "x1 = primal.addVar(lb = 0)\n",
    "x2 = primal.addVar(lb = 0)\n",
    "x3 = primal.addVar(lb = 0)\n",
    "\n",
    "##############################################################################################\n",
    "# Define Constraints\n",
    "## Germanium Transistors\n",
    "Ge_constr = primal.addConstr(14 * x1 + 20 * x2 + 40 * x3 <= 300)\n",
    "\n",
    "## Silicon Transistors\n",
    "Si_constr = primal.addConstr(30 * x1 + 20 * x2 + 15 * x3 <= 200)\n",
    "\n",
    "## Time Constraint\n",
    "t_constr = primal.addConstr(20 * x1 + 30 * x2 + 50 * x3 <= 1080)\n",
    "\n",
    "##############################################################################################\n",
    "# Construct Objective\n",
    "primal.setObjective(500 * x1 + 800 * x2 + 1000 * x3, GRB.MAXIMIZE)\n",
    "\n",
    "##############################################################################################\n",
    "# Update and solve\n",
    "primal.update()\n",
    "primal.optimize()\n",
    "\n",
    "##############################################################################################\n",
    "# Print Optimal Solution\n",
    "print(\"Maximum Profit(Optimal Objective Value): $\", primal.objVal)\n",
    "\n",
    "##############################################################################################"
   ]
  },
  {
   "cell_type": "markdown",
   "id": "d2393262",
   "metadata": {},
   "source": [
    "**<font size=\"4\">Part 2: Choice probabilities as a linear system of equations</font>**"
   ]
  },
  {
   "cell_type": "markdown",
   "id": "b3901e78",
   "metadata": {},
   "source": [
    "a) For the M = 3 assortments in Part 1 (S1 = {1, 4, 5}, S2 = {3, 4}, S3 = {2, 3, 4}), and for the\n",
    "K = 3 customer types (rankings) given in Part 1, write down the A matrix. Your matrix should\n",
    "have 30 rows and 3 columns.\n",
    "Hint: if you are having difficulty with this problem, take a look at the function permToA provided\n",
    "in the skeleton code."
   ]
  },
  {
   "cell_type": "markdown",
   "id": "21f4d156",
   "metadata": {},
   "source": [
    "\\begin{align}\n",
    "\\text{minimize} \\;\\; & 300w_{Ge} + 200w_{Si} + 1080w_t \\;\\;\\;\\; \\text{[Objective Function]} \\\\\n",
    "\\text{s.t.} \\;\\; & 14w_{Ge} + 30w_{Si} + 20w_t \\ge 500 \\;\\;\\;\\; \\text{[Weight of ChipType1 Constraint]} \\\\\n",
    "            & 20w_{Ge} + 20w_{Si} + 30w_t \\ge 800 \\;\\;\\;\\; \\text{[Weight of ChipType2 Constraint]} \\\\\n",
    "            & 40w_{Ge} + 15w_{Si} + 50w_t \\ge 1000 \\;\\;\\;\\; \\text{[Weight of ChipType3 Constraint]} \\\\\n",
    "            & w_{Ge}, w_{Si}, w_t \\ge 0 \\;\\;\\;\\; \\text{[Non-Negativity Constraint]}\\\\\n",
    "\\end{align}\n",
    "\n",
    "\n",
    "where decision variables are given as follows:\n",
    "\n",
    "$w_{Ge}$ is the weight of the Germanium constraint\n",
    "\n",
    "$w_{Si}$ is the weight of the Germanium constraint\n",
    "\n",
    "$w_{t}$ is the weight of the Germanium constraint\n",
    "\n",
    "to get the lowest bound on revenue"
   ]
  },
  {
   "cell_type": "markdown",
   "id": "f3357330",
   "metadata": {},
   "source": [
    "b) Using this matrix, compute v = Aλ, where λ = (0.1, 0.3, 0.6). What do you get for v?"
   ]
  },
  {
   "cell_type": "code",
   "execution_count": 19,
   "id": "e0bcb0d5",
   "metadata": {},
   "outputs": [
    {
     "name": "stdout",
     "output_type": "stream",
     "text": [
      "Lowest Bound on Profit(Optimal Objective Value): $ 9600.0\n"
     ]
    }
   ],
   "source": [
    "##############################################################################################\n",
    "#Importing necessary libraries\n",
    "from gurobipy import *\n",
    "import numpy as np\n",
    "import pandas as pd\n",
    "\n",
    "##############################################################################################\n",
    "# Initialize the model \n",
    "dual = Model()\n",
    "\n",
    "# Set the OutputFlag parameter to 0 to disable logging\n",
    "dual.Params.outputflag = 0\n",
    "\n",
    "##############################################################################################\n",
    "# Define Variables\n",
    "w_Ge = dual.addVar(lb = 0)\n",
    "w_Si = dual.addVar(lb = 0)\n",
    "w_t = dual.addVar(lb = 0)\n",
    "\n",
    "##############################################################################################\n",
    "# Define Constraints\n",
    "## Weight of chip type 1 constraint\n",
    "chip1_constr = dual.addConstr(14 * w_Ge + 30 * w_Si + 20 * w_t >= 500)\n",
    "\n",
    "## Weight of chip type 2 constraint\n",
    "chip2_constr = dual.addConstr(20 * w_Ge + 20 * w_Si + 30 * w_t >= 800)\n",
    "\n",
    "## Weight of chip type 3 constraint\n",
    "chip3_constr = dual.addConstr(40 * w_Ge + 15 * w_Si + 50 * w_t >= 1000)\n",
    "\n",
    "##############################################################################################\n",
    "# Construct Objective\n",
    "dual.setObjective(300 * w_Ge + 200 * w_Si + 1080 * w_t, GRB.MINIMIZE)\n",
    "\n",
    "##############################################################################################\n",
    "# Update and solve\n",
    "dual.update()\n",
    "dual.optimize()\n",
    "\n",
    "##############################################################################################\n",
    "# Print Optimal Solution\n",
    "print(\"Lowest Bound on Profit(Optimal Objective Value): $\", dual.objVal)\n",
    "\n",
    "##############################################################################################"
   ]
  },
  {
   "cell_type": "markdown",
   "id": "5fbdeafe",
   "metadata": {},
   "source": [
    "**<font size=\"4\">Part 3: Understanding the data</font>**"
   ]
  },
  {
   "cell_type": "markdown",
   "id": "15a95a32",
   "metadata": {},
   "source": [
    "a) Which assortment has the most transactions?"
   ]
  },
  {
   "cell_type": "markdown",
   "id": "c5f3c7fc",
   "metadata": {},
   "source": [
    "b) Which assortment has the least transactions?"
   ]
  },
  {
   "cell_type": "markdown",
   "id": "4294b2ec",
   "metadata": {},
   "source": [
    "c) How many assortments include the Starbucks brand? Convert the matrix in coffee transaction counts.csv into an array of choice probabilities,\n",
    "i.e., divide each row by its row sum. If you performed this step correctly, then the choice probability\n",
    "of the no-purchase option for the first assortment should be 0.450413."
   ]
  },
  {
   "cell_type": "markdown",
   "id": "3586f151",
   "metadata": {},
   "source": [
    "d) For assortment m = 10, what fraction of customers purchased the Starbucks brand?"
   ]
  },
  {
   "cell_type": "markdown",
   "id": "6fe4e2e8",
   "metadata": {},
   "source": [
    "e) What fraction of customers offered assortment m = 3 chose to not purchase anything?"
   ]
  },
  {
   "cell_type": "markdown",
   "id": "9e7c7d25",
   "metadata": {},
   "source": [
    "**<font size=\"4\">Part 4: Estimating the ranking-based model</font>**"
   ]
  },
  {
   "cell_type": "markdown",
   "id": "6b140833",
   "metadata": {},
   "source": [
    "**<font size=\"5\">2. Cloud Computing</font>**"
   ]
  },
  {
   "cell_type": "markdown",
   "id": "ed56da9f",
   "metadata": {},
   "source": [
    "Cirrus is a cloud computing provider that offers its users the ability to reserve computational\n",
    "capacity on its cloud. In this problem, we will analyze how Cirrus should allocate its capacity.\n",
    "Cirrus sells its computational resources in units called instances. These are virtual computers\n",
    "that a user can reserve for a whole day. Each instance consist of three components:\n",
    "\n",
    "• Central processing units (CPUs): each instance reserves some number of CPUs, range from 1\n",
    "CPU to 64 CPUs. \\\n",
    "• Memory: each instance reserves some amount of memory, ranging from 1 GB to 128GB, in\n",
    "increments of 1 GB. \\\n",
    "• Graphical processing units (GPUs): each instance reserves some amount of GPU memory,\n",
    "ranging from 1 GB to 8 GB.\n",
    "\n",
    "In total, on a given day, Cirrus has 512 CPUs, 1024 GB of memory and 64 GB of GPU memory\n",
    "available.\n",
    "Based on its user requirements, offers the following instances:"
   ]
  },
  {
   "cell_type": "markdown",
   "id": "745b8b12",
   "metadata": {},
   "source": [
    "Instance | Name | CPU(#) | Memory(GB) | GPU(GB) | Price | Rate (#/day)\n",
    "--- | --- | --- | --- | --- | --- | ---\n",
    "1 | C1 | 16 | 8 | 1 | $7 | 5.0\n",
    "2 | C2 | 32 | 16 | 1 | $12 | 5.0\n",
    "3 | C3 | 64 | 32 | 1 | $24 | 1.8\n",
    "4 | M1 | 8 | 32 | 1 | $22 | 3.0\n",
    "5 | M2 | 16 | 64 | 1 | $44 | 2.6\n",
    "6 | M3 | 32 | 128 | 1 | $88 | 1.0\n",
    "7 | G1 | 16 | 16 | 2 | $30 | 0.8\n",
    "8 | G2 | 32 | 32 | 6 | $90 | 0.4\n",
    "9 | G3 | 64 | 64 | 8 | $120 | 0.3"
   ]
  },
  {
   "cell_type": "markdown",
   "id": "cfbffd2c",
   "metadata": {},
   "source": [
    "Columns 3 - 5 specify the hardware requirements of each instance type. Column 6 specifies the\n",
    "price for activating the instance. We will also assume that an instance is reserved for a whole day.\n",
    "\n",
    "Column 7 specifies the arrival rate. This is the number of users requesting an instance of this\n",
    "type each day. In this problem, we’ll assume that the demand for each type of instance follows\n",
    "a Poisson arrival process, with the arrival rate as given in the table above. We will assume that\n",
    "Cirrus only allows reservations for a period of 5 days. We will also assume that this period of 5 days\n",
    "precedes the day for which the instance is reserved and is exclusive of this day (i.e., the requests\n",
    "are not fulfilled during the reservation period). For example, instance requests can come in on\n",
    "Monday, Tuesday, Wednesday, Thursday and Friday, at any time on those days; the instances that\n",
    "are accepted are then reserved for the whole day of Saturday. Instances are not reserved during the\n",
    "5 day reservation period.\n",
    "\n",
    "Cirrus is interested in understanding how it should allocate its limited capacity to the different\n",
    "types of instances. Cirrus currently accepts requests in a first-come first-serve fashion. In this\n",
    "problem, we will approach Cirrus’s problem from a revenue management lens."
   ]
  },
  {
   "cell_type": "markdown",
   "id": "41e49e9e",
   "metadata": {},
   "source": [
    "**<font size=\"4\">Part 1: Capacity control formulationn</font>**"
   ]
  },
  {
   "cell_type": "markdown",
   "id": "9aadaff4",
   "metadata": {},
   "source": [
    "In this first part of the problem, we need to mathematically formulate the capacity control problem\n",
    "for Cirrus as a linear optimization problem. Let x1, . . . , x9 be the number of instances that are\n",
    "reserved of each instance type. These will be the decision variables of our problem."
   ]
  },
  {
   "cell_type": "markdown",
   "id": "720447bf",
   "metadata": {},
   "source": [
    "a) Based on the prices given in the table earlier, what is the objective function of the problem?"
   ]
  },
  {
   "cell_type": "markdown",
   "id": "1fa1fa7f",
   "metadata": {},
   "source": [
    "\\begin{align}\n",
    "\\text{maximize} \\;\\; & 7x_1 + 12x_2 + 24x_3 + 22x_4 + 44x_5 + 88x_6 + 30x_7 + 90x_8 + 120x_9 \\\\\n",
    "\\end{align}\n"
   ]
  },
  {
   "cell_type": "markdown",
   "id": "2de2f235",
   "metadata": {},
   "source": [
    "b) In terms of x1, . . . , x9, what is the constraint on the total memory usage of the instances that\n",
    "are reserved?"
   ]
  },
  {
   "cell_type": "markdown",
   "id": "040e3f09",
   "metadata": {},
   "source": [
    "\\begin{align}\n",
    "\\text{s.t.} \\;\\; & 8x_1 + 16x_2 + 32x_3 + 32x_4 + 64x_5 + 128x_6 + 16x_7 + 32x_8 + 64x_9 \\le 1024\\\\\n",
    "\\end{align}\n"
   ]
  },
  {
   "cell_type": "markdown",
   "id": "6a1f3f1a",
   "metadata": {},
   "source": [
    "c) Let’s now consider the forecasted demand for each instance type. Recall that for a Poisson\n",
    "arrival process with rate λ per unit time, the total number of arrivals in a period of length T is\n",
    "a Poisson random variable Y with mean λT .\n",
    "Over the five day period, what is the expected number of requests of instance type 5? Assuming\n",
    "there will be exactly this many requests over the T = 5 day period, what is the constraint on\n",
    "the number of requests of instance type 5 we may accept?"
   ]
  },
  {
   "cell_type": "markdown",
   "id": "72fbd570",
   "metadata": {},
   "source": [
    "Over the five day period, the expected number of requests of instance type 5 is 13. The constraint on the number of requests of instance type 5 we may accept is given as follows:\n",
    "\n",
    "$\\text{Expected Number of Requests} = \\lambda_5T = \\text{Rate} \\times \\text{Time} = 2.6 \\times 5 = 13$\n",
    "\n",
    "$\\text{s.t.} \\;\\; x_5 \\le 13 \\;\\;\\;\\; \\text{[Constraint]}$"
   ]
  },
  {
   "cell_type": "markdown",
   "id": "6c58c8c9",
   "metadata": {},
   "source": [
    "d) Using the logic in (a) – (c), write down the mathematical formulation of the T = 5 day capacity\n",
    "control problem as a linear optimization problem."
   ]
  },
  {
   "cell_type": "markdown",
   "id": "17b19d69",
   "metadata": {},
   "source": [
    "\\begin{align}\n",
    "\\text{maximize} \\;\\; & 7x_1 + 12x_2 + 24x_3 + 22x_4 + 44x_5 + 88x_6 + 30x_7 + 90x_8 + 120x_9 \\\\\n",
    "\\text{s.t.} \\;\\; & 16x_1 + 32x_2 + 64x_3 + 8x_4 + 16x_5 + 32x_6 + 16x_7 + 32x_8 + 64x_9 \\le 512 \\\\\n",
    "& 8x_1 + 16x_2 + 32x_3 + 32x_4 + 64x_5 + 128x_6 + 16x_7 + 32x_8 + 64x_9 \\le 1024 \\\\\n",
    "& 1x_1 + 1x_2 + 1x_3 + 1x_4 + 1x_5 + 1x_6 + 2x_7 + 6x_8 + 8x_9 \\le 64 \\\\\n",
    "& x_1 \\ge 0, x_1 \\le 25 \\\\\n",
    "& x_2 \\ge 0, x_2 \\le 25 \\\\\n",
    "& x_3 \\ge 0, x_3 \\le 9 \\\\\n",
    "& x_4 \\ge 0, x_4 \\le 15 \\\\\n",
    "& x_5 \\ge 0, x_5 \\le 13 \\\\\n",
    "& x_6 \\ge 0, x_6 \\le 5 \\\\\n",
    "& x_7 \\ge 0, x_7 \\le 4 \\\\\n",
    "& x_8 \\ge 0, x_8 \\le 2 \\\\\n",
    "& x_9 \\ge 0, x_9 \\le 1.5\n",
    "\\end{align}\n"
   ]
  },
  {
   "cell_type": "markdown",
   "id": "1226c91c",
   "metadata": {},
   "source": [
    "**<font size=\"4\">Part 2: Solving the capacity control problem in Python/Gurobi</font>**"
   ]
  },
  {
   "cell_type": "markdown",
   "id": "ac8a3798",
   "metadata": {},
   "source": [
    "Now, implement your formulation in Part 1(d) using Python and Gurobi."
   ]
  },
  {
   "cell_type": "markdown",
   "id": "eaab9b6f",
   "metadata": {},
   "source": [
    "a) Solve the problem. What is the optimal objective value?"
   ]
  },
  {
   "cell_type": "code",
   "execution_count": 25,
   "id": "748549b2",
   "metadata": {},
   "outputs": [
    {
     "name": "stdout",
     "output_type": "stream",
     "text": [
      "Maximum Revenue(Optimal Objective Value): $ 1039.4285714285716\n"
     ]
    }
   ],
   "source": [
    "##############################################################################################\n",
    "#Importing necessary libraries\n",
    "from gurobipy import *\n",
    "import numpy as np\n",
    "import pandas as pd\n",
    "\n",
    "##############################################################################################\n",
    "# Initialize the model \n",
    "m = Model()\n",
    "\n",
    "# Set the OutputFlag parameter to 0 to disable logging\n",
    "m.Params.outputflag = 0\n",
    "\n",
    "##############################################################################################\n",
    "# Define Variables\n",
    "x = m.addVars(9, lb = 0)\n",
    "\n",
    "##############################################################################################\n",
    "# Define Constraints\n",
    "## CPU Constraint\n",
    "cpu = np.array([16, 32, 64, 8, 16, 32, 16, 32, 64])\n",
    "CPU_constr = m.addConstr(sum(cpu[i]*x[i] for i in range(len(cpu))) <= 512)\n",
    "\n",
    "## Memory Constraint\n",
    "memory = np.array([8, 16, 32, 32, 64, 128, 16, 32, 64])\n",
    "Mem_constr = m.addConstr(sum(memory[i]*x[i] for i in range(len(memory))) <= 1024)\n",
    "\n",
    "## GPU Constraint\n",
    "gpu = np.array([1, 1, 1, 1, 1, 1, 2, 6, 8])\n",
    "GPU_constr = m.addConstr(sum(gpu[i]*x[i] for i in range(len(gpu))) <= 64)\n",
    "\n",
    "## Rate Constraint\n",
    "rate = np.array([25, 25, 9, 15, 13, 5, 4, 2, 1.5])\n",
    "for i in range(len(rate)):\n",
    "    m.addConstr(x[i] <= rate[i])\n",
    "\n",
    "##############################################################################################\n",
    "# Construct Objective\n",
    "revenue = np.array([7, 12, 24, 22, 44, 88, 30, 90, 120])\n",
    "m.setObjective(sum(revenue[i]*x[i] for i in range(len(revenue))), GRB.MAXIMIZE)\n",
    "\n",
    "##############################################################################################\n",
    "# Update and solve\n",
    "m.update()\n",
    "m.optimize()\n",
    "\n",
    "##############################################################################################\n",
    "# Print Optimal Solution\n",
    "print(\"Maximum Revenue(Optimal Objective Value): $\", m.objVal)\n",
    "\n",
    "##############################################################################################"
   ]
  },
  {
   "cell_type": "markdown",
   "id": "5a3e8f73",
   "metadata": {},
   "source": [
    "b) In the optimal allocation, how many requests of instance type C1 are accepted?"
   ]
  },
  {
   "cell_type": "code",
   "execution_count": 26,
   "id": "f1e9c952",
   "metadata": {},
   "outputs": [
    {
     "name": "stdout",
     "output_type": "stream",
     "text": [
      "Optimal Allocation:\n",
      "Instance Type 1 : 6.285714285714286\n",
      "Instance Type 2 : 0.0\n",
      "Instance Type 3 : 0.0\n",
      "Instance Type 4 : 3.428571428571429\n",
      "Instance Type 5 : 0.0\n",
      "Instance Type 6 : 5.0\n",
      "Instance Type 7 : 4.0\n",
      "Instance Type 8 : 2.0\n",
      "Instance Type 9 : 1.5\n"
     ]
    }
   ],
   "source": [
    "print(\"Optimal Allocation:\")\n",
    "for i in range(len(revenue)):\n",
    "    print(\"Instance Type\", i+1, \":\", x[i].x)"
   ]
  },
  {
   "cell_type": "markdown",
   "id": "a5f541dc",
   "metadata": {},
   "source": [
    "We observe that in the optimal allocation, ~6.29 requests of instance type C1 are accepted."
   ]
  },
  {
   "cell_type": "markdown",
   "id": "0c16ac34",
   "metadata": {},
   "source": [
    "**<font size=\"4\">Part 3: Simulating current practice</font>**"
   ]
  },
  {
   "cell_type": "markdown",
   "id": "fa7d836c",
   "metadata": {},
   "source": [
    "Cirrus would like to understand how well its current policy does. Currently, Cirrus simply accepts\n",
    "requests in a first-come first-serve fashion, without considering the revenue of the requests. In this\n",
    "part of the problem, we will simulate Cirrus’s current policy.\n",
    "\n",
    "Set your random seed to 10 using the random.seed() function in numpy. Using the provided\n",
    "function generateArrivalSequences in the HW1 - Cloud Code.ipynb notebook, generate 100 se-\n",
    "quences of request arrivals, using the rates provided in the table above, over a period of T = 5 days.\n",
    "This function will generate an array of arrays:\n",
    "\n",
    "• arrival sequence times: This contains the time at which each request arrives, in the interval\n",
    "[0, 5]. For example, arrival sequence times[0][1] is the time at which the second request\n",
    "arrives in the first sequence. \\\n",
    "• arrival sequence types: The instance type of each request. (Note: the instance types in\n",
    "this array are numbered from 0 to 8, in accordance with how Python’s numbering starts at\n",
    "zero. Thus, for example, a value of 5 in this array indicates instance type 6 / M3.)\n",
    "\n",
    "If you have done this step correctly, the first three times in arrival sequences times[0] should\n",
    "be 0.07414243 0.1246028 0.15928449."
   ]
  },
  {
   "cell_type": "code",
   "execution_count": 27,
   "id": "50e8fc40",
   "metadata": {},
   "outputs": [
    {
     "data": {
      "text/plain": [
       "80.71"
      ]
     },
     "execution_count": 27,
     "metadata": {},
     "output_type": "execute_result"
    }
   ],
   "source": [
    "# Preconditions:\n",
    "# nSimulations = integer specifying number of simulations to run\n",
    "# rates = array containing arrival rate (# / day) for each of the instance\n",
    "# types (should be an array with 9 elements)\n",
    "# T = length of horizon in days.\n",
    "\n",
    "def generateArrivalSequences( nSimulations, rates, T ):\n",
    "    total_rate = sum(rates)\n",
    "    nTypes = len(rates)\n",
    "\n",
    "    arrival_sequences_times = []\n",
    "    arrival_sequences_types = [];\n",
    "\n",
    "    for s in range(nSimulations):\n",
    "        single_arrival_sequence_time = [];\n",
    "        single_arrival_sequence_type = [];\n",
    "        t = 0;\n",
    "        while (t < T):\n",
    "            single_time = np.random.exponential(1.0/total_rate)\n",
    "            single_type = np.random.choice(nTypes, p = rates/total_rate)\n",
    "\n",
    "            t += single_time;\n",
    "\n",
    "            if (t < T):\n",
    "                single_arrival_sequence_time.append(t)\n",
    "                single_arrival_sequence_type.append(single_type)\n",
    "            else:\n",
    "                break\n",
    "\n",
    "        arrival_sequences_times.append(np.array(single_arrival_sequence_time))\n",
    "        arrival_sequences_types.append(np.array(single_arrival_sequence_type))\n",
    "    return arrival_sequences_times, arrival_sequences_types\n",
    "\n",
    "\n",
    "\n",
    "# Code to test out above function\n",
    "np.random.seed(1)\n",
    "nSimulations_test = 100\n",
    "rates_test = np.array([5.0, 2.0, 3.0])\n",
    "T_test = 8\n",
    "times, types = generateArrivalSequences(nSimulations_test, rates_test, T_test)\n",
    "\n",
    "# If code above is working correctly, code below should show\n",
    "# value of 80.71:\n",
    "counts = np.array([len(types[i]) for i in range(nSimulations_test)] )\n",
    "counts.mean()"
   ]
  },
  {
   "cell_type": "code",
   "execution_count": 28,
   "id": "a2dca970",
   "metadata": {},
   "outputs": [
    {
     "data": {
      "text/plain": [
       "array([0.07414243, 0.1246028 , 0.15928449, 0.1703762 , 0.17968569,\n",
       "       0.23779251, 0.23799131, 0.32214315, 0.38642729, 0.51196926,\n",
       "       0.55126954, 0.57475458, 0.60405595, 0.65238384, 0.70519578,\n",
       "       0.78740185, 0.90765536, 0.91241996, 0.9185014 , 0.92091505,\n",
       "       0.96077223, 0.97191941, 0.99369472, 1.01132902, 1.03111801,\n",
       "       1.05616581, 1.14264621, 1.16700269, 1.38771201, 1.47562187,\n",
       "       1.52133751, 1.55976805, 1.56178183, 1.56595073, 1.58612921,\n",
       "       1.58817843, 1.60718495, 1.62855072, 1.73506112, 1.84081623,\n",
       "       1.88756662, 1.93334033, 1.95132628, 1.96946998, 2.01044946,\n",
       "       2.04284187, 2.04617896, 2.06703689, 2.25677443, 2.27602698,\n",
       "       2.3193975 , 2.32294156, 2.39947557, 2.44379428, 2.46549244,\n",
       "       2.48339641, 2.53963883, 2.54224165, 2.54798842, 2.65703572,\n",
       "       2.66944199, 2.67512209, 2.70700517, 2.71503145, 2.76708375,\n",
       "       2.78144725, 2.79437102, 2.92271451, 2.96474668, 2.96549902,\n",
       "       3.0082648 , 3.04969828, 3.09379581, 3.10187596, 3.16136395,\n",
       "       3.19046515, 3.22600297, 3.2307481 , 3.27259231, 3.28368639,\n",
       "       3.30131655, 3.30288265, 3.3715238 , 3.39596188, 3.48750828,\n",
       "       3.56421906, 3.61066276, 3.65872446, 3.72848097, 3.75930702,\n",
       "       3.79255772, 3.80221332, 3.89713363, 3.92779137, 3.93402875,\n",
       "       3.93902592, 3.943057  , 3.98591081, 4.03949471, 4.061236  ,\n",
       "       4.14557461, 4.17069607, 4.19504574, 4.28391231, 4.31951361,\n",
       "       4.33156205, 4.50140201, 4.6022353 , 4.60352115, 4.61377791,\n",
       "       4.62873767, 4.65950208, 4.74292726, 4.74417028, 4.76028141,\n",
       "       4.78237704, 4.87593856, 4.91708965, 4.94092079, 4.97689162,\n",
       "       4.9948301 ])"
      ]
     },
     "execution_count": 28,
     "metadata": {},
     "output_type": "execute_result"
    }
   ],
   "source": [
    "np.random.seed(10)\n",
    "nSimulations = 100\n",
    "rates = np.array([5, 5, 1.8, 3, 2.6, 1, 0.8, 0.4, 0.3])\n",
    "T = 5\n",
    "times, types = generateArrivalSequences(nSimulations, rates, T)\n",
    "times[0]"
   ]
  },
  {
   "cell_type": "markdown",
   "id": "ff12f011",
   "metadata": {},
   "source": [
    "a) What is the average number of arrivals of type C1 in the set of simulated sequences?"
   ]
  },
  {
   "cell_type": "code",
   "execution_count": 29,
   "id": "0eeb5824",
   "metadata": {},
   "outputs": [
    {
     "name": "stdout",
     "output_type": "stream",
     "text": [
      "Average number of arrivals of type C1 = 26.63\n"
     ]
    }
   ],
   "source": [
    "f = 0\n",
    "for i in range(nSimulations):\n",
    "    f += sum(types[i] == 0) #c1 is 0\n",
    "print(\"Average number of arrivals of type C1 =\", f/nSimulations)"
   ]
  },
  {
   "cell_type": "markdown",
   "id": "784331bd",
   "metadata": {},
   "source": [
    "b) What is the average number of arrivals, of all types, over the set of simulated sequences? Does\n",
    "this make sense? (Hint: What is the expected value of the sum of Poisson random variables?)"
   ]
  },
  {
   "cell_type": "code",
   "execution_count": 30,
   "id": "8ca44afd",
   "metadata": {},
   "outputs": [
    {
     "name": "stdout",
     "output_type": "stream",
     "text": [
      "Average number of arrivals of type C1 = 26.63\n",
      "Average number of arrivals of type C2 = 24.38\n",
      "Average number of arrivals of type C3 = 9.01\n",
      "Average number of arrivals of type M1 = 14.88\n",
      "Average number of arrivals of type M2 = 13.32\n",
      "Average number of arrivals of type M3 = 4.93\n",
      "Average number of arrivals of type G1 = 4.2\n",
      "Average number of arrivals of type G2 = 2.27\n",
      "Average number of arrivals of type G3 = 1.38\n",
      "Average number of arrivals of all types = 101.0\n"
     ]
    }
   ],
   "source": [
    "instance_types = ['C1', 'C2', 'C3', 'M1', 'M2', 'M3', 'G1', 'G2', 'G3']\n",
    "avg_arrivals = np.zeros(len(instance_types))\n",
    "\n",
    "for j in range(len(instance_types)):\n",
    "    for i in range(nSimulations):\n",
    "        avg_arrivals[j] += sum(types[i] == j)\n",
    "    print(\"Average number of arrivals of type\", instance_types[j], \"=\", avg_arrivals[j]/nSimulations)\n",
    "print(\"Average number of arrivals of all types =\", sum(avg_arrivals)/nSimulations)"
   ]
  },
  {
   "cell_type": "markdown",
   "id": "8c844848",
   "metadata": {},
   "source": [
    "The average number of arrivals, of all types, over the set of simulated sequences is 101.\n",
    "The expected value of the sum of Poisson random variables is the sum of the expected values of the individual random variables. The expected value of a Poisson random variable is its rate parameter, so the expected value of the sum of Poisson random variables is the sum of individual rate parameters which comes out to be 19.9 in this case. Hence, over a period of 5 days, the expected value for average number of arrivals of all types is 99.5 which is approximately what we get.\n",
    "\n",
    "$\\lambda_{all} = \\sum_{i=0}^{9}\\lambda_i = 19.9$ \\\n",
    "$\\text{Expected Value} = \\lambda_{all} * T = 19.9*5 = 99.5$"
   ]
  },
  {
   "cell_type": "markdown",
   "id": "5e62a467",
   "metadata": {},
   "source": [
    "c) Next, implement Cirrus’s current policy. This policy accepts any request, so long as there is\n",
    "capacity for it. You may use the code skeleton given in HW1 - Cloud Code.ipynb as a starting\n",
    "point.\n",
    "What is the average revenue garnered by this policy over the 100 simulated sequences?"
   ]
  },
  {
   "cell_type": "code",
   "execution_count": 31,
   "id": "f5f8562f",
   "metadata": {},
   "outputs": [
    {
     "name": "stdout",
     "output_type": "stream",
     "text": [
      "Average Revenue: $ 528.28\n"
     ]
    }
   ],
   "source": [
    "# Preconditions for code below:\n",
    "nSimulations = 100\n",
    "nResources = 3\n",
    "B = np.array([512, 1024, 64])\n",
    "arrival_sequences_times = times\n",
    "arrival_sequences_types = types\n",
    "\n",
    "results_myopic_revenue = np.zeros(nSimulations)\n",
    "results_myopic_remaining_capacity = np.zeros((nResources, nSimulations))\n",
    "\n",
    "for s in range(nSimulations):\n",
    "    b = B.copy()\n",
    "    single_revenue = 0.0 # will contain the revenue of this simulation\n",
    "    nArrivals = len(arrival_sequences_times[s])\n",
    "\n",
    "    # Go through the arrivals in sequence\n",
    "    for j in range(nArrivals):\n",
    "        # Obtain the time of the arrival, and its type (i)\n",
    "        arrival_time = arrival_sequences_times[s][j]\n",
    "        i = arrival_sequences_types[s][j]\n",
    "\n",
    "        # Check if there is sufficient capacity for the request\n",
    "        if (b[0] >= cpu[i]) and (b[1] >= memory[i]) and (b[2] >= gpu[i]):\n",
    "            # If there is sufficient capacity, accrue the revenue\n",
    "            single_revenue += revenue[i]\n",
    "            # and remove the cpu capacity\n",
    "            b[0] -= cpu[i]\n",
    "            # and remove the memory capacity\n",
    "            b[1] -= memory[i]\n",
    "            # and remove the gpu capacity\n",
    "            b[2] -= gpu[i]\n",
    "\n",
    "    # Save the results of this simulation here\n",
    "    results_myopic_revenue[s] = single_revenue\n",
    "    results_myopic_remaining_capacity[:, s] = b\n",
    "\n",
    "# Find the average revenue\n",
    "revenue_myopic = results_myopic_revenue.mean()\n",
    "\n",
    "# Find the average remaining quantity of each resource\n",
    "remaining_cpu_myopic = results_myopic_remaining_capacity[0, :].mean()\n",
    "remaining_memory_myopic = results_myopic_remaining_capacity[1, :].mean()\n",
    "remaining_gpu_myopic = results_myopic_remaining_capacity[2, :].mean()\n",
    "\n",
    "# Print results\n",
    "print(\"Average Revenue: $\", revenue_myopic)"
   ]
  },
  {
   "cell_type": "markdown",
   "id": "65b41d92",
   "metadata": {},
   "source": [
    "d) What is the average remaining capacity (of CPUs, memory and GPUs) of this policy?"
   ]
  },
  {
   "cell_type": "code",
   "execution_count": 32,
   "id": "0264dcf3",
   "metadata": {},
   "outputs": [
    {
     "name": "stdout",
     "output_type": "stream",
     "text": [
      "Average Remaining CPU Capacity:  0.24\n",
      "Average Remaining Memory Capacity:  371.52\n",
      "Average Remaining GPU Capacity:  37.42\n"
     ]
    }
   ],
   "source": [
    "# Print results\n",
    "print(\"Average Remaining CPU Capacity: \", remaining_cpu_myopic)\n",
    "print(\"Average Remaining Memory Capacity: \", remaining_memory_myopic)\n",
    "print(\"Average Remaining GPU Capacity: \", remaining_gpu_myopic)"
   ]
  },
  {
   "cell_type": "markdown",
   "id": "37851b9b",
   "metadata": {},
   "source": [
    "**<font size=\"4\">Part 4: A bid-price control policy</font>**"
   ]
  },
  {
   "cell_type": "markdown",
   "id": "f2388fba",
   "metadata": {},
   "source": [
    "Let’s now develop a bid-price control policy, using the solution of the LP."
   ]
  },
  {
   "cell_type": "markdown",
   "id": "37eb082c",
   "metadata": {},
   "source": [
    "a) As a warm-up, suppose that we receive a request for instance type 5 (M2). Let π1, π2, π3 be the\n",
    "shadow prices / dual values of the constraints for CPUs, memory and GPUs at a particular point\n",
    "in time. In terms of the shadow prices, what is the approximate opportunity cost of accepting\n",
    "this request?"
   ]
  },
  {
   "cell_type": "markdown",
   "id": "06a5c7b5",
   "metadata": {},
   "source": [
    "Opportunity Cost = $16\\pi_1 + 64\\pi_2 + 1\\pi_3$"
   ]
  },
  {
   "cell_type": "markdown",
   "id": "b8437f9a",
   "metadata": {},
   "source": [
    "b) As a further warm-up, suppose that we receive a request at time t. What is the expected number\n",
    "of requests of type i we will receive from time t to time T (including both t and T )?"
   ]
  },
  {
   "cell_type": "markdown",
   "id": "59180ce0",
   "metadata": {},
   "source": [
    "Expected # of Requests = $\\lambda_i(T-t+1)$"
   ]
  },
  {
   "cell_type": "markdown",
   "id": "a277f5a0",
   "metadata": {},
   "source": [
    "c) Next, implement Cirrus’s current policy. This policy accepts any request, so long as there is\n",
    "capacity for it. You may use the code skeleton given in HW1 - Cloud Code.ipynb as a starting\n",
    "point.\n",
    "What is the average revenue garnered by this policy over the 100 simulated sequences?"
   ]
  },
  {
   "cell_type": "code",
   "execution_count": 33,
   "id": "f1f515f4",
   "metadata": {},
   "outputs": [
    {
     "name": "stdout",
     "output_type": "stream",
     "text": [
      "Average Revenue: $ 925.59\n"
     ]
    }
   ],
   "source": [
    "# Preconditions for code below:\n",
    "nSimulations = 100\n",
    "nInstances = 9\n",
    "nResources = 3\n",
    "B = np.array([512, 1024, 64])\n",
    "arrival_sequences_times = times\n",
    "arrival_sequences_types = types\n",
    "\n",
    "# As we did in-class, define a function bpc() to re-solve the LO each time:\n",
    "def bpc(b, t):\n",
    "    # for r in range(nResources):\n",
    "    #     # Set the RHS of the resource constraint to b[r] here\n",
    "    CPU_constr.rhs = b[0]\n",
    "    Mem_constr.rhs = b[1]\n",
    "    GPU_constr.rhs = b[2]\n",
    "\n",
    "    for k in range(nInstances):\n",
    "        # Set the RHS of the forecast constraint for each instance\n",
    "        # type to the expected number of requests over the duration\n",
    "        # of the remaining horizon (T - t).\n",
    "        # ...\n",
    "        x[k].ub = rates[k] * (5 - t)\n",
    "\n",
    "    # Re-solve the model:\n",
    "    m.update()\n",
    "    m.optimize()\n",
    "\n",
    "    # Obtain the dual values/shadow prices\n",
    "    dual_val = cpu[g]*CPU_constr.pi + memory[g]*Mem_constr.pi + gpu[g]*GPU_constr.pi\n",
    "\n",
    "    # Return the dual values:\n",
    "    return dual_val\n",
    "\n",
    "\n",
    "results_bpc_revenue = np.zeros(nSimulations)\n",
    "results_bpc_remaining_capacity = np.zeros((nResources, nSimulations))\n",
    "\n",
    "for s in range(nSimulations):\n",
    "    b = B.copy()\n",
    "    single_revenue = 0.0 # will contain the revenue of this simulation\n",
    "    nArrivals = len(arrival_sequences_times[s])\n",
    "\n",
    "    # Go through the arrivals in sequence\n",
    "    for j in range(nArrivals):\n",
    "        # Obtain the time of the arrival, and its type (g)\n",
    "        arrival_time = arrival_sequences_times[s][j]\n",
    "        g = arrival_sequences_types[s][j]\n",
    "\n",
    "        # Check if there is enough capacity\n",
    "        if (b[0] >= cpu[g]) and (b[1] >= memory[g]) and (b[2] >= gpu[g]):\n",
    "            # Re-solve the LO and obtain the dual values\n",
    "            dual_val = bpc(b, arrival_time)\n",
    "\n",
    "            # Check if the revenue is at least the sum of the bid prices:\n",
    "            if (revenue[g] >= dual_val):\n",
    "                # If there is sufficient capacity, accrue the revenue\n",
    "                single_revenue += revenue[g]\n",
    "                # and remove the cpu capacity\n",
    "                b[0] -= cpu[g]\n",
    "                # and remove the memory capacity\n",
    "                b[1] -= memory[g]\n",
    "                # and remove the gpu capacity\n",
    "                b[2] -= gpu[g]\n",
    "\n",
    "    # Save the results of this simulation here:\n",
    "    results_bpc_revenue[s] = single_revenue\n",
    "    results_bpc_remaining_capacity[:, s] = b\n",
    "\n",
    "\n",
    "# Find the average revenue\n",
    "revenue_bpc = results_bpc_revenue.mean()\n",
    "\n",
    "# Find the average remaining quantity of each resource\n",
    "remaining_cpu_bpc = results_bpc_remaining_capacity[0, :].mean()\n",
    "remaining_memory_bpc = results_bpc_remaining_capacity[1, :].mean()\n",
    "remaining_gpu_bpc = results_bpc_remaining_capacity[2, :].mean()\n",
    "\n",
    "# Print results\n",
    "print(\"Average Revenue: $\", revenue_bpc)"
   ]
  },
  {
   "cell_type": "markdown",
   "id": "8ab7e4c7",
   "metadata": {},
   "source": [
    "d) What is the average remaining capacity (of CPUs, memory and GPUs) of this policy?"
   ]
  },
  {
   "cell_type": "code",
   "execution_count": 34,
   "id": "c4839ba9",
   "metadata": {},
   "outputs": [
    {
     "name": "stdout",
     "output_type": "stream",
     "text": [
      "Average Remaining CPU Capacity:  27.2\n",
      "Average Remaining Memory Capacity:  4.88\n",
      "Average Remaining GPU Capacity:  20.62\n"
     ]
    }
   ],
   "source": [
    "# Print results\n",
    "print(\"Average Remaining CPU Capacity: \", remaining_cpu_bpc)\n",
    "print(\"Average Remaining Memory Capacity: \", remaining_memory_bpc)\n",
    "print(\"Average Remaining GPU Capacity: \", remaining_gpu_bpc)"
   ]
  }
 ],
 "metadata": {
  "kernelspec": {
   "display_name": "Python 3 (ipykernel)",
   "language": "python",
   "name": "python3"
  },
  "language_info": {
   "codemirror_mode": {
    "name": "ipython",
    "version": 3
   },
   "file_extension": ".py",
   "mimetype": "text/x-python",
   "name": "python",
   "nbconvert_exporter": "python",
   "pygments_lexer": "ipython3",
   "version": "3.11.5"
  }
 },
 "nbformat": 4,
 "nbformat_minor": 5
}
