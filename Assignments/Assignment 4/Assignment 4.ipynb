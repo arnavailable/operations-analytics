{
 "cells": [
  {
   "cell_type": "markdown",
   "id": "8965143b-9161-4f97-ab0e-ae5d3b49a693",
   "metadata": {},
   "source": [
    "<center>\n",
    "\n",
    "<font size=\"5\">MGMTMSA 408: Operations Analytics</font>\n",
    "\n",
    "</center>\n"
   ]
  },
  {
   "cell_type": "markdown",
   "id": "ce5567c9-e4ac-459c-8809-c165bb65ca00",
   "metadata": {
    "tags": []
   },
   "source": [
    "<center>\n",
    "\n",
    "<font size=\"5\">Assignment 3: Inventory Optimization and Traveling Salesman Problem</font>\n",
    "\n",
    "</center>\n"
   ]
  },
  {
   "cell_type": "markdown",
   "id": "485f85a1-3fba-44c1-8e1f-cd0e2be6c7dd",
   "metadata": {},
   "source": [
    "<div style=\"display: flex; justify-content: space-between;\">\n",
    "    <div style=\"text-align: left;\">\n",
    "        Due on BruinLearn by 1:00pm on May 24, 2024.\n",
    "    </div>\n",
    "    <div style=\"text-align: right;\">\n",
    "        Arnav Garg (906310841) <br>\n",
    "    </div>\n",
    "</div>\n"
   ]
  },
  {
   "cell_type": "markdown",
   "id": "4f10955a-4807-4c5a-883c-f391885476f9",
   "metadata": {},
   "source": [
    "**<font size=\"5\">1. Hospital Staffing</font>**"
   ]
  },
  {
   "cell_type": "markdown",
   "id": "267b1cfb-d4dd-49ce-b44d-1fc063a80f60",
   "metadata": {
    "tags": []
   },
   "source": [
    "A large hospital faces uncertainty in the number of daily emergency department (ED) cases. Each ED case that occurs requires a single nurse. Ideally, the hospital would be able to handle such an ED case with a “regular” nurse, who is compensated at $2160 per day. However, if the number of ED cases exceeds the number of regular nurses scheduled, the hospital can call in agency nurses, who are employed outside of the hospital, who are each compensated at $5400 per day.\n",
    "The hospital needs to decide how many regular nurses to staff for each day, so as to minimize its daily expected cost. In order to do so, a data set (nurse.csv) is available spanning 300 days and with the following variables:"
   ]
  },
  {
   "cell_type": "markdown",
   "id": "2de1c1a2-32a6-4e83-a626-b456c0bc7aa1",
   "metadata": {
    "tags": []
   },
   "source": [
    "Variable | Description|\n",
    "--- | --- |\n",
    "Day | Number between 1 and 300 indicating the day |\n",
    "DailyED | Number of ED cases on the given day |\n",
    "IsWeekend | 0/1 variable to indicate whether the day is a weekend |\n",
    "IsHoliday | 0/1 variable to indicate whether the day is a public holiday |\n",
    "DailyEDLag1 | Number of ED cases one day ago |\n",
    "DailyEDLag2 | Number of ED cases two days ago |\n",
    "PriorSurgeries | Average number of surgeries per day over the preceding week |"
   ]
  },
  {
   "cell_type": "code",
   "execution_count": 133,
   "id": "2d0cb6d9",
   "metadata": {},
   "outputs": [],
   "source": [
    "import pandas as pd\n",
    "import numpy as np\n",
    "import warnings\n",
    "warnings.filterwarnings('ignore')\n",
    "from sklearn.tree import DecisionTreeRegressor\n",
    "from sklearn.tree import plot_tree\n",
    "import matplotlib.pyplot as plt\n",
    "\n",
    "nurse = pd.read_csv('nurse.csv')"
   ]
  },
  {
   "cell_type": "markdown",
   "id": "3291f99f",
   "metadata": {},
   "source": [
    "**<font size=\"4\">Part 1: Formulating a basic newsvendor model</font>**"
   ]
  },
  {
   "cell_type": "markdown",
   "id": "ecb1d233",
   "metadata": {},
   "source": [
    "Consider the problem of deciding a nurse staffing level without incorporating the contextual information."
   ]
  },
  {
   "cell_type": "markdown",
   "id": "4b424f16-c7e2-479e-ab74-c6837be88410",
   "metadata": {},
   "source": [
    "a) As a warmup, suppose that on a given day, there are 12 ED cases, and we have staffed 18 regular nurses. What would be the staffing cost incurred by the hospital?\n"
   ]
  },
  {
   "cell_type": "code",
   "execution_count": 134,
   "id": "c67629e2",
   "metadata": {},
   "outputs": [],
   "source": [
    "def staffing(cases, nurses):\n",
    "    if cases >= nurses:\n",
    "        return nurses*2160 + (cases-nurses)*5400\n",
    "    else:\n",
    "        return nurses*2160"
   ]
  },
  {
   "cell_type": "code",
   "execution_count": 135,
   "id": "bf81627e",
   "metadata": {},
   "outputs": [
    {
     "name": "stdout",
     "output_type": "stream",
     "text": [
      "The hospital would incur a staffing cost of $38880.00\n"
     ]
    }
   ],
   "source": [
    "print(f'The hospital would incur a staffing cost of ${staffing(12, 18):.2f}')"
   ]
  },
  {
   "cell_type": "markdown",
   "id": "81b82e97",
   "metadata": {},
   "source": [
    "b) Now, suppose that there are 8 ED cases, and we have staffed 5 regular nurses. What would be the staffing cost incurred by the hospital in this case?"
   ]
  },
  {
   "cell_type": "code",
   "execution_count": 136,
   "id": "f24ed6bb",
   "metadata": {},
   "outputs": [
    {
     "name": "stdout",
     "output_type": "stream",
     "text": [
      "The hospital would incur a staffing cost of $27000.00\n"
     ]
    }
   ],
   "source": [
    "print(f'The hospital would incur a staffing cost of ${staffing(8, 5):.2f}')"
   ]
  },
  {
   "cell_type": "markdown",
   "id": "4255e310",
   "metadata": {},
   "source": [
    "c) Formulate the problem of deciding the daily regular nurse staffing level so as to minimize daily expected cost as a cost-based newsvendor problem. What does the “order quantity” Q correspond to? What does the “demand” D correspond to? What are the overage cost $c_o$ and underage cost $c_u$?"
   ]
  },
  {
   "cell_type": "markdown",
   "id": "60069516",
   "metadata": {},
   "source": [
    "We can formulate the problem of deciding the daily regular nurse staffing level so as to minimize daily expected cost as a cost-based newsvendor problem, as below:\n",
    "\n",
    "$\\underset{Q}{minimize} \\quad \\mathbb{E}[c_u(D-Q)^+ + c_o(Q-D)^+]$\n",
    "\n",
    "where\n",
    "\n",
    "Q = order quantity = number of regular nurses scheduled on a given day\n",
    "\n",
    "D = demand = number of ED cases on a given day\n",
    "\n",
    "$c_o$ = overage cost = cost of scheduling a single extra nurse per day = $2160\n",
    "\n",
    "$c_u$ = underage cost = difference in cost of scheduling a single extra agency nurse vs regular nurse = $5400 - $2160 = $3240"
   ]
  },
  {
   "cell_type": "markdown",
   "id": "8283972f",
   "metadata": {},
   "source": [
    "d) In part (c), the cost-based newsvendor problem you have formulated is missing one more “unavoidable” cost component. What is it? Express this cost using the random variable D. (Hint: suppose that there are 8 ED cases, and we have staffed 8 regular nurses. What does the total staffing cost end up being? What if there are 10 ED cases and 10 regular nurses?)"
   ]
  },
  {
   "cell_type": "markdown",
   "id": "0d0e24cb",
   "metadata": {},
   "source": [
    "The unavoidable cost component is the cost that the hospital has to pay regular nurses for treating their share of ED cases. If there is underage, the hospital pays extra to agency nurses. If there is overage, the hospital pays extra to the extra regular nurses. But in both cases, the hospital pays a fixed unavoidable cost to the regular nurses that attend to ED cases.\n",
    "\n",
    "If there are 8 ED cases and 8 regular nurses, unavoidable cost = $2160 \\times 8 = 17280$\n",
    "\n",
    "If there are 8 ED cases and 8 regular nurses, unavoidable cost = $2160 \\times 10 = 21600$"
   ]
  },
  {
   "cell_type": "markdown",
   "id": "d2393262",
   "metadata": {},
   "source": [
    "**<font size=\"4\">Part 2: Solving the basic newsvendor model</font>**"
   ]
  },
  {
   "cell_type": "markdown",
   "id": "bca07dc1",
   "metadata": {},
   "source": [
    "For this part of the problem, we will use the data to determine a context-free nurse staffing level, i.e., a staffing level that does not incorporate the contextual information. Split the data into a training set and a test set, so that the training set consists of the first 200 days of data, and the test set consists of the last 100 days of data."
   ]
  },
  {
   "cell_type": "code",
   "execution_count": 137,
   "id": "0bd8d9b3",
   "metadata": {},
   "outputs": [],
   "source": [
    "train = nurse[:200]\n",
    "test = nurse[200:]"
   ]
  },
  {
   "cell_type": "markdown",
   "id": "b3901e78",
   "metadata": {},
   "source": [
    "a) Based on the overage and underage costs from Part 1, what quantile (i.e., a probability between 0 and 1) of the empirical distribution of DailyED should the optimal staffing level correspond to?"
   ]
  },
  {
   "cell_type": "markdown",
   "id": "bdfda4ba",
   "metadata": {},
   "source": [
    "We know optimal staffing level quantile is given by the following formula:\n",
    "\n",
    "$q = \\frac{c_u}{c_u+c_o}$\n",
    "\n",
    "$\\implies q = \\frac{3240}{2160+3240}$\n",
    "\n",
    "$\\implies q = 0.6$\n"
   ]
  },
  {
   "cell_type": "markdown",
   "id": "30132746",
   "metadata": {},
   "source": [
    "b) Based on the empirical distribution of DailyED in the training set, determine the optimal staffing level. You may round your answer to the nearest integer, if necessary."
   ]
  },
  {
   "cell_type": "code",
   "execution_count": 138,
   "id": "e9e9a8c0",
   "metadata": {},
   "outputs": [
    {
     "name": "stdout",
     "output_type": "stream",
     "text": [
      "The optimal staffing level for training data is 16\n"
     ]
    }
   ],
   "source": [
    "print(f'The optimal staffing level for training data is {train.DailyED.quantile(0.6):.0f}')"
   ]
  },
  {
   "cell_type": "markdown",
   "id": "9f4a1448",
   "metadata": {},
   "source": [
    "c) Based on the training set, what is the average cost, where the average is taken over the 200 days in the training set, that this staffing level would incur? (Make sure your calculation accounts for the unavoidable cost component from Part 1 (d).)"
   ]
  },
  {
   "cell_type": "code",
   "execution_count": 139,
   "id": "646ad9ea",
   "metadata": {},
   "outputs": [
    {
     "name": "stdout",
     "output_type": "stream",
     "text": [
      "The average staffing cost for the training data is $41256.00\n"
     ]
    }
   ],
   "source": [
    "train['Cost'] = train.apply(lambda row: staffing(row.DailyED, 16), axis=1)\n",
    "print(f'The average staffing cost for the training data is ${train.Cost.mean():.2f}')"
   ]
  },
  {
   "cell_type": "markdown",
   "id": "4453b10c",
   "metadata": {},
   "source": [
    "d) Based on the test set, what is the average cost, where the average is taken over the 100 days in the test set, that this staffing level would incur? (Make sure your cost accounts for the unavoidable cost component from Part 1 (d).)"
   ]
  },
  {
   "cell_type": "code",
   "execution_count": 140,
   "id": "972efabb",
   "metadata": {},
   "outputs": [
    {
     "name": "stdout",
     "output_type": "stream",
     "text": [
      "The average staffing cost for the testing data is $39528.00\n"
     ]
    }
   ],
   "source": [
    "test['Cost'] = test.apply(lambda row: staffing(row.DailyED, 16), axis=1)\n",
    "print(f'The average staffing cost for the testing data is ${test.Cost.mean():.2f}')"
   ]
  },
  {
   "cell_type": "markdown",
   "id": "5fbdeafe",
   "metadata": {},
   "source": [
    "**<font size=\"4\">Part 3: Solving the contextual newsvendor model</font>**"
   ]
  },
  {
   "cell_type": "markdown",
   "id": "19571a15",
   "metadata": {},
   "source": [
    "Using the same training and test set as Part 2, we will now develop a contextual newsvendor model. Using the training set, build a regression tree using the sklearn.tree.DecisionTreeRegressor function to predict DailyED. Be sure to omit the variable Day from your independent variables. Set the maximum depth parameter (max depth) of your tree to 2."
   ]
  },
  {
   "cell_type": "code",
   "execution_count": 141,
   "id": "b3817a0f",
   "metadata": {},
   "outputs": [
    {
     "data": {
      "image/png": "[encoded data removed]",
      "text/plain": [
       "<Figure size 2000x1000 with 1 Axes>"
      ]
     },
     "metadata": {},
     "output_type": "display_data"
    }
   ],
   "source": [
    "X_train = train.drop(columns=['Day', 'DailyED', 'Cost'])\n",
    "y_train = train['DailyED']\n",
    "tree = DecisionTreeRegressor(max_depth=2)\n",
    "tree.fit(X_train, y_train)\n",
    "tree_features = X_train.columns[tree.tree_.feature]\n",
    "plt.figure(figsize=(20, 10))\n",
    "plot_tree(tree, feature_names=list(X_train.columns), filled=True, rounded=True, fontsize=10)\n",
    "plt.show()"
   ]
  },
  {
   "cell_type": "markdown",
   "id": "40115596",
   "metadata": {},
   "source": [
    "a) What variables does your tree split on?"
   ]
  },
  {
   "cell_type": "markdown",
   "id": "3e71c155",
   "metadata": {},
   "source": [
    "My tree splits on the variables 'PriorSurgeries' and 'DailyEDLag2'"
   ]
  },
  {
   "cell_type": "markdown",
   "id": "15a95a32",
   "metadata": {},
   "source": [
    "b) For each leaf of the tree, calculate the optimal staffing level (rounded to the nearest integer) for the corresponding conditional distribution of DailyED given the training set. What is the optimal staffing level for each leaf of your tree?\n"
   ]
  },
  {
   "cell_type": "code",
   "execution_count": 142,
   "id": "3af07cc2",
   "metadata": {},
   "outputs": [
    {
     "name": "stdout",
     "output_type": "stream",
     "text": [
      "Leaf 5 has an optimal staffing level of 18\n",
      "Leaf 6 has an optimal staffing level of 17\n",
      "Leaf 3 has an optimal staffing level of 15\n",
      "Leaf 2 has an optimal staffing level of 13\n"
     ]
    }
   ],
   "source": [
    "train['leaf'] = tree.apply(X_train)\n",
    "train['optimal_staffing'] = train.groupby('leaf').DailyED.transform(lambda x: x.quantile(0.6))\n",
    "for leaf in train.leaf.unique():\n",
    "    print(f'Leaf {leaf} has an optimal staffing level of {train[train.leaf == leaf].DailyED.quantile(0.6):.0f}')"
   ]
  },
  {
   "cell_type": "markdown",
   "id": "c5836d9d",
   "metadata": {},
   "source": [
    "c) Based on the training set, what is the average cost, where the average is taken over the 200 days in the training set, that this staffing rule would incur? (Make sure your cost accounts for the unavoidable cost component from Part 1 (d).)"
   ]
  },
  {
   "cell_type": "code",
   "execution_count": 143,
   "id": "71a0eb15",
   "metadata": {},
   "outputs": [
    {
     "name": "stdout",
     "output_type": "stream",
     "text": [
      "The average staffing cost for the training data is $40556.16\n"
     ]
    }
   ],
   "source": [
    "train['Cost'] = train.apply(lambda row: staffing(row.DailyED, row.optimal_staffing), axis=1)\n",
    "print(f'The average staffing cost for the training data is ${train.Cost.mean():.2f}')"
   ]
  },
  {
   "cell_type": "markdown",
   "id": "c5f3c7fc",
   "metadata": {},
   "source": [
    "d) Based on the test set, what is the average cost, where the average is taken over the 100 days in the test set, that this staffing rule would incur? (Make sure your cost accounts for the unavoidable cost component from Part 1 (d).)"
   ]
  },
  {
   "cell_type": "code",
   "execution_count": 144,
   "id": "4527631e",
   "metadata": {},
   "outputs": [
    {
     "name": "stdout",
     "output_type": "stream",
     "text": [
      "The average staffing cost for the testing data is $38765.52\n"
     ]
    }
   ],
   "source": [
    "X_test = test.drop(columns=['Day', 'DailyED', 'Cost'])\n",
    "y_test = test['DailyED']\n",
    "test['leaf'] = tree.apply(X_test)\n",
    "test['optimal_staffing'] = test.leaf.map(train.groupby('leaf').optimal_staffing.first())\n",
    "test['Cost'] = test.apply(lambda row: staffing(row.DailyED, row.optimal_staffing), axis=1)\n",
    "print(f'The average staffing cost for the testing data is ${test.Cost.mean():.2f}')"
   ]
  },
  {
   "cell_type": "markdown",
   "id": "0c16ac34",
   "metadata": {},
   "source": [
    "**<font size=\"5\">2. Cargo freight scheduling</font>**"
   ]
  },
  {
   "cell_type": "code",
   "execution_count": 145,
   "id": "f5c5a3e3",
   "metadata": {},
   "outputs": [],
   "source": [
    "cargo_locations = pd.read_csv('cargo_locations.csv')"
   ]
  },
  {
   "cell_type": "markdown",
   "id": "d8d742ba",
   "metadata": {},
   "source": [
    "A freight company operating out of Los Angeles, CA needs to make a number of deliveries by air to a set of cities in the continental United States. Each city corresponds to one delivery.\n",
    "The company has a single DC-10-30 aircraft available to make these deliveries, and needs to decide in what order to make deliveries (i.e., in what order to visit these cities) so as to minimize the time traveled. The aircraft departs from Los Angeles, and must return to Los Angeles after visiting all of the remaining 67 cities. Each city must be visited exactly once.\n",
    "You are provided a data set (cargo-city-locations.csv) consisting of the locations of the cities by their latitude and longitude coordinates. There are 68 cities, including Los Angeles."
   ]
  },
  {
   "cell_type": "markdown",
   "id": "248807ee",
   "metadata": {},
   "source": [
    "**<font size=\"4\">Part 1: Building our data</font>**"
   ]
  },
  {
   "cell_type": "markdown",
   "id": "f324ce85",
   "metadata": {},
   "source": [
    "In order to solve the problem, we will need to calculate the flight time between each pair of cities in the data set. We will do this by applying a little bit of geometry.\n",
    "\n",
    "For each pair of cities i and j, first convert the latitudes lati and longitudes loni, which are given in degrees, to radians:\n",
    "\n",
    "$LAT_{r, i} = \\frac{LAT_i}{360} \\times 2\\pi$ \n",
    "\n",
    "$LON{r, i} = \\frac{LON_i}{360} \\times 2\\pi$ \n",
    "\n",
    "$LAT_{r, j} = \\frac{LAT_j}{360} \\times 2\\pi$ \n",
    "\n",
    "$LON{r, j} = \\frac{LON_j}{360} \\times 2\\pi$\n",
    "\n",
    "Then, we will use the haversine formula to calculate the angle corresponding to the great circle distance (see Figure 1 below) between cities i and j. The haversine Hi,j of cities i and j can be calculated as\n",
    "\n",
    "where r is the radius of the earth, which we can assume to be 6378.137 km.\n",
    "\n",
    "Lastly, you can use the fact that the average cruise speed of a DC-10 aircraft is 908 km / hour to convert these distances into travel times. This will yield us an approximate travel time between\n",
    "each pair of cities.\n",
    "\n",
    "To help you with these calculations you can use the numpy functions cos, sin, arcsin (the arcsine function, which is just the inverse sine function sin−1(·)) and sqrt (the square root).\n",
    "\n",
    "To verify that you have implemented your distance calculations correctly, you should find that the travel time from Des Moines, IA to Baton Rouge, LA is 1.3857 hours, corresponding to a distance of 1258.226 kilometers."
   ]
  },
  {
   "cell_type": "code",
   "execution_count": 146,
   "id": "dddb0644",
   "metadata": {},
   "outputs": [],
   "source": [
    "cargo_locations.Latitude = cargo_locations.Latitude/360*2*np.pi\n",
    "cargo_locations.Longitude = cargo_locations.Longitude/360*2*np.pi"
   ]
  },
  {
   "cell_type": "code",
   "execution_count": 147,
   "id": "066f6927",
   "metadata": {},
   "outputs": [],
   "source": [
    "## Defining functions\n",
    "# Haversine formula\n",
    "def haversine(lat1, lon1, lat2, lon2):\n",
    "    dlat = lat2 - lat1\n",
    "    dlon = lon2 - lon1\n",
    "    h = (1-np.cos(dlat))/2 + np.cos(lat1)*np.cos(lat2)*(1-np.cos(dlon))/2\n",
    "    return h\n",
    "\n",
    "# Distance formula\n",
    "def distance(lat1, lon1, lat2, lon2, r = 6378.137):\n",
    "    h = haversine(lat1, lon1, lat2, lon2)\n",
    "    return 2*r*np.arcsin(np.sqrt(h))\n",
    "\n",
    "# Travel time formula\n",
    "def travel_time(lat1, lon1, lat2, lon2, speed = 908):\n",
    "    return distance(lat1, lon1, lat2, lon2)/speed"
   ]
  },
  {
   "cell_type": "code",
   "execution_count": 148,
   "id": "08a05982",
   "metadata": {},
   "outputs": [
    {
     "data": {
      "text/plain": [
       "(1258.2261386316286, 1.3857116064224984)"
      ]
     },
     "execution_count": 148,
     "metadata": {},
     "output_type": "execute_result"
    }
   ],
   "source": [
    "# Des Moines to Baton Rouge\n",
    "lat1 = cargo_locations.loc[cargo_locations.City == 'Des Moines'].Latitude.values[0]\n",
    "lon1 = cargo_locations.loc[cargo_locations.City == 'Des Moines'].Longitude.values[0]\n",
    "lat2 = cargo_locations.loc[cargo_locations.City == 'Baton Rouge'].Latitude.values[0]\n",
    "lon2 = cargo_locations.loc[cargo_locations.City == 'Baton Rouge'].Longitude.values[0]\n",
    "distance(lat1, lon1, lat2, lon2), travel_time(lat1, lon1, lat2, lon2)"
   ]
  },
  {
   "cell_type": "markdown",
   "id": "bfae11a3",
   "metadata": {},
   "source": [
    "a) Which two cities have the highest travel travel time?"
   ]
  },
  {
   "cell_type": "code",
   "execution_count": 149,
   "id": "32c75991",
   "metadata": {},
   "outputs": [],
   "source": [
    "matrix = pd.DataFrame(np.zeros((len(cargo_locations), len(cargo_locations))), index = cargo_locations.City, columns = cargo_locations.City)\n",
    "for i in range(len(cargo_locations)):\n",
    "    for j in range(len(cargo_locations)):\n",
    "        if i == j:\n",
    "            matrix.iloc[i, j] = np.nan\n",
    "        else:\n",
    "            lat1 = cargo_locations.iloc[i].Latitude\n",
    "            lon1 = cargo_locations.iloc[i].Longitude\n",
    "            lat2 = cargo_locations.iloc[j].Latitude\n",
    "            lon2 = cargo_locations.iloc[j].Longitude\n",
    "            matrix.iloc[i, j] = travel_time(lat1, lon1, lat2, lon2)"
   ]
  },
  {
   "cell_type": "code",
   "execution_count": 150,
   "id": "74cdbb2d",
   "metadata": {},
   "outputs": [
    {
     "name": "stdout",
     "output_type": "stream",
     "text": [
      "The longest travel time is 9.07 hours from Honolulu to Augusta\n"
     ]
    }
   ],
   "source": [
    "# Find maximum travel time\n",
    "max_time = np.nanmax(matrix.values)\n",
    "start = matrix.loc[matrix.values == max_time].index[0]\n",
    "end = matrix.loc[matrix.values == max_time].index[1]\n",
    "print(f'The longest travel time is {max_time:.2f} hours from {start} to {end}')"
   ]
  },
  {
   "cell_type": "markdown",
   "id": "8687207f",
   "metadata": {},
   "source": [
    "b) Which two cities have the smallest travel time?"
   ]
  },
  {
   "cell_type": "code",
   "execution_count": 151,
   "id": "7339050b",
   "metadata": {},
   "outputs": [
    {
     "name": "stdout",
     "output_type": "stream",
     "text": [
      "The shortest travel time is 0.05 hours from Trenton to Philadelphia\n"
     ]
    }
   ],
   "source": [
    "# Find maximum travel time\n",
    "min_time = np.nanmin(matrix.values)\n",
    "start = matrix.loc[matrix.values == min_time].index[0]\n",
    "end = matrix.loc[matrix.values == min_time].index[1]\n",
    "print(f'The shortest travel time is {min_time:.2f} hours from {start} to {end}')"
   ]
  },
  {
   "cell_type": "markdown",
   "id": "a4a89e68",
   "metadata": {},
   "source": [
    "c) Which city has the smallest average travel time to all of the other cities? (Here, the average is taken over the other 67 cities.)"
   ]
  },
  {
   "cell_type": "code",
   "execution_count": 152,
   "id": "8ebd2115",
   "metadata": {},
   "outputs": [
    {
     "name": "stdout",
     "output_type": "stream",
     "text": [
      "The city with shortest average travel time to all other cities is Springfield\n"
     ]
    }
   ],
   "source": [
    "print(f'The city with shortest average travel time to all other cities is {matrix.mean().idxmin()}')"
   ]
  },
  {
   "cell_type": "markdown",
   "id": "cd33f14b",
   "metadata": {},
   "source": [
    "**<font size=\"4\">Part 2: Finding a schedule</font>**"
   ]
  },
  {
   "cell_type": "markdown",
   "id": "a512a8c9",
   "metadata": {},
   "source": [
    "a) Suppose that we randomly selected a sequence of cities. In numpy, you can construct a random sequence by using the commands\n",
    "\n",
    "       import numpy as np\n",
    "       nCities = 68\n",
    "       temp = np.random.permutation(nCities)\n",
    "\n",
    "which will generate a list with the integers from 0 to 67 in random order. You can then calculate the travel time by iterating through the list and looking up the travel time of consecutive cities in the list, and adding them up. At the end, you would finally add the travel time corresponding to traveling from city temp[67] to city temp[0].\n",
    "\n",
    "\n",
    "Set your seed to 50. Randomly generate 100 sequences of the 68 cities, and calculate the total travel time required to visit the cities according to each sequence. What is the average of the total travel times of these 100 randomly generated sequences, in hours?"
   ]
  },
  {
   "cell_type": "code",
   "execution_count": 153,
   "id": "ef66c536",
   "metadata": {},
   "outputs": [
    {
     "name": "stdout",
     "output_type": "stream",
     "text": [
      "The average travel time is 149.46 hours\n"
     ]
    }
   ],
   "source": [
    "# Generating 100 random permutations\n",
    "nCities = len(cargo_locations)\n",
    "np.random.seed(50)\n",
    "total_times = []\n",
    "for i in range(100):\n",
    "    temp = np.random.permutation(nCities)\n",
    "    temp = np.append(temp, temp[0])\n",
    "    time = 0\n",
    "    # Calculating travel times\n",
    "    for j in range(len(temp) - 1):\n",
    "        time += matrix.iloc[temp[j], temp[j+1]]\n",
    "    total_times.append(time)\n",
    "\n",
    "print(f'The average travel time is {np.mean(total_times):.2f} hours')\n"
   ]
  },
  {
   "cell_type": "markdown",
   "id": "038ed7d2",
   "metadata": {},
   "source": [
    "b) Suppose that we design the sequence of cities using the following heuristic. Starting from Los Angeles, the next city in the schedule is the one that is closest to the current city in travel time and has not been visited yet. What is the total travel time of this sequence, in hours?"
   ]
  },
  {
   "cell_type": "code",
   "execution_count": 154,
   "id": "c0fdf394",
   "metadata": {},
   "outputs": [
    {
     "name": "stdout",
     "output_type": "stream",
     "text": [
      "The heuristic tour has a total travel time of 35.85 hours\n"
     ]
    }
   ],
   "source": [
    "# Algorithm\n",
    "def heuristic_tour(matrix):\n",
    "    cities = list(matrix.index)\n",
    "    current = cities.pop(cities.index('Los Angeles'))\n",
    "    tour = [current]\n",
    "    time = 0\n",
    "\n",
    "    while cities:\n",
    "        next = matrix.loc[tour[-1], matrix.columns.isin(cities)].idxmin(skipna=True)\n",
    "        current = cities.pop(cities.index(next))\n",
    "        time += matrix.loc[tour[-1], next]\n",
    "        tour.append(next)\n",
    "\n",
    "    time += matrix.loc[tour[-1], tour[0]]\n",
    "    return tour, time\n",
    "\n",
    "tour, time = heuristic_tour(matrix)\n",
    "\n",
    "print(f'The heuristic tour has a total travel time of {time:.2f} hours')"
   ]
  },
  {
   "cell_type": "markdown",
   "id": "18d792a0",
   "metadata": {},
   "source": [
    "c) Solve an optimization problem to find the order in which the cities should be visited, so as to minimize the total travel time. What is the total travel time of this sequence, in hours?"
   ]
  },
  {
   "cell_type": "code",
   "execution_count": 155,
   "id": "020c0a15",
   "metadata": {},
   "outputs": [
    {
     "name": "stdout",
     "output_type": "stream",
     "text": [
      "The optimal tour has a total travel time of 30.55 hours\n"
     ]
    }
   ],
   "source": [
    "######################################################\n",
    "# Input Variables\n",
    "nCities = 68\n",
    "od = [(i, j) for i in range(len(matrix.index)) for j in range(len(matrix.columns)) if i != j]\n",
    "times = {(i, j): matrix.iloc[i, j] for i, j in od}\n",
    "od_pairs = list(times.keys())\n",
    "\n",
    "######################################################\n",
    "# Necessary Functions\n",
    "def getSubtours(sequence):\n",
    "    subtour_list = []\n",
    "    unvisited = list(range(nCities))\n",
    "    \n",
    "    while ( len(unvisited) > 0 ):\n",
    "        node = unvisited.pop()\n",
    "        \n",
    "        subtour = []\n",
    "        subtour.append(node)\n",
    "        \n",
    "        next_node = list(filter(lambda t: t[0] == node, sequence))[0][1]\n",
    "        \n",
    "        while (next_node in unvisited):\n",
    "            subtour.append(next_node)\n",
    "            unvisited.remove(next_node)\n",
    "            next_node = list(filter(lambda t: t[0] == next_node, sequence))[0][1]\n",
    "            \n",
    "        subtour_list.append(subtour)\n",
    "    \n",
    "    return subtour_list\n",
    "\n",
    "def eliminateSubtours(model, where):\n",
    "    if (where == GRB.Callback.MIPSOL):\n",
    "        x_val = model.cbGetSolution(x)\n",
    "        sequence = [ (i,j) for (i,j) in od_pairs if x_val[i,j] > 0.5]\n",
    "        subtour_list = getSubtours(sequence)\n",
    "        if (len(subtour_list) > 1):\n",
    "            for subtour in subtour_list:\n",
    "                model.cbLazy( sum(x[i,j] for i in subtour for j in subtour if i != j) <= len(subtour) - 1)\n",
    "\n",
    "######################################################\n",
    "# Optimization Model       \n",
    "from gurobipy import *\n",
    "m = Model()\n",
    "m.setParam('OutputFlag', 0)\n",
    "\n",
    "# Decision Variables\n",
    "x = m.addVars(od_pairs, vtype = GRB.BINARY)\n",
    "\n",
    "# Constraints\n",
    "for i in range(nCities):\n",
    "    m.addConstr( sum(x[i,j] for j in range(nCities) if i != j ) == 1)\n",
    "    m.addConstr( sum(x[j,i] for j in range(nCities) if i != j ) == 1)\n",
    "\n",
    "# Objective Function\n",
    "m.setObjective(sum( times[i,j] * x[i,j] for (i,j) in od_pairs ), GRB.MINIMIZE)\n",
    "\n",
    "# Optimize\n",
    "m.update()\n",
    "\n",
    "# Enable lazy constraints\n",
    "m.params.LazyConstraints = 1\n",
    "\n",
    "# Supply the callback to Gurobi:\n",
    "m.optimize(eliminateSubtours)\n",
    "\n",
    "######################################################\n",
    "# Extracting the optimal time\n",
    "print(f'The optimal tour has a total travel time of {m.ObjVal:.2f} hours')"
   ]
  }
 ],
 "metadata": {
  "kernelspec": {
   "display_name": "Python 3 (ipykernel)",
   "language": "python",
   "name": "python3"
  },
  "language_info": {
   "codemirror_mode": {
    "name": "ipython",
    "version": 3
   },
   "file_extension": ".py",
   "mimetype": "text/x-python",
   "name": "python",
   "nbconvert_exporter": "python",
   "pygments_lexer": "ipython3",
   "version": "3.11.5"
  }
 },
 "nbformat": 4,
 "nbformat_minor": 5
}
