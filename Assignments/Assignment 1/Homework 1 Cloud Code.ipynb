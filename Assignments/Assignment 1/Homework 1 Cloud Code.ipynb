{
 "cells": [
  {
   "cell_type": "markdown",
   "metadata": {},
   "source": [
    "# Homework 1 - Cloud Code"
   ]
  },
  {
   "cell_type": "markdown",
   "metadata": {},
   "source": [
    "All of the functions below require numpy:"
   ]
  },
  {
   "cell_type": "code",
   "execution_count": 2,
   "metadata": {},
   "outputs": [],
   "source": [
    "import numpy as np"
   ]
  },
  {
   "cell_type": "markdown",
   "metadata": {},
   "source": [
    "## Function to generate arrival sequences (Q2, Part 3)"
   ]
  },
  {
   "cell_type": "code",
   "execution_count": 3,
   "metadata": {},
   "outputs": [
    {
     "data": {
      "text/plain": [
       "80.71"
      ]
     },
     "execution_count": 3,
     "metadata": {},
     "output_type": "execute_result"
    }
   ],
   "source": [
    "# Preconditions:\n",
    "# nSimulations = integer specifying number of simulations to run\n",
    "# rates = array containing arrival rate (# / day) for each of the instance\n",
    "# types (should be an array with 9 elements)\n",
    "# T = length of horizon in days.\n",
    "\n",
    "def generateArrivalSequences( nSimulations, rates, T ):\n",
    "    total_rate = sum(rates)\n",
    "    nTypes = len(rates)\n",
    "\n",
    "    arrival_sequences_times = []\n",
    "    arrival_sequences_types = [];\n",
    "\n",
    "    for s in range(nSimulations):\n",
    "        single_arrival_sequence_time = [];\n",
    "        single_arrival_sequence_type = [];\n",
    "        t = 0;\n",
    "        while (t < T):\n",
    "            single_time = np.random.exponential(1.0/total_rate)\n",
    "            single_type = np.random.choice(nTypes, p= rates/total_rate )\n",
    "\n",
    "            t += single_time;\n",
    "\n",
    "            if (t < T):\n",
    "                single_arrival_sequence_time.append(t)\n",
    "                single_arrival_sequence_type.append(single_type)\n",
    "            else:\n",
    "                break\n",
    "\n",
    "        arrival_sequences_times.append(np.array(single_arrival_sequence_time))\n",
    "        arrival_sequences_types.append(np.array(single_arrival_sequence_type))\n",
    "    return arrival_sequences_times, arrival_sequences_types\n",
    "\n",
    "\n",
    "\n",
    "# Code to test out above function\n",
    "np.random.seed(1)\n",
    "nSimulations_test = 100\n",
    "rates_test = np.array([5.0, 2.0, 3.0])\n",
    "T_test = 8\n",
    "x, y = generateArrivalSequences(nSimulations_test, rates_test, T_test)\n",
    "\n",
    "# If code above is working correctly, code below should show\n",
    "# value of 80.71:\n",
    "counts = np.array([len(y[i]) for i in range(nSimulations_test)] )\n",
    "counts.mean()"
   ]
  },
  {
   "cell_type": "markdown",
   "metadata": {},
   "source": [
    "## Skeleton code for function to run myopic policy (Q2, Part 3)"
   ]
  },
  {
   "cell_type": "code",
   "execution_count": null,
   "metadata": {},
   "outputs": [],
   "source": [
    "# Preconditions for code below:\n",
    "# nSimulations = number of simulations to run\n",
    "# nResources = number of different types of resources (= 3)\n",
    "# B = numpy array of initial capacities of the resources\n",
    "# arrival_sequences_times = array where each entry is arrival time sequence for that\n",
    "# simulation\n",
    "# arrival_sequences_types = array where each entry is sequence of request types for\n",
    "# that simulation\n",
    "\n",
    "# Note: code will not run; parts with ... need to be filled in.\n",
    "\n",
    "results_myopic_revenue = np.zeros(nSimulations)\n",
    "results_myopic_remaining_capacity = np.zeros(nResources, nSimulations)\n",
    "\n",
    "for s in range(nSimulations)\n",
    "    b = B.copy();\n",
    "    single_revenue = 0.0; # will contain the revenue of this simulation\n",
    "    nArrivals = len(arrival_sequences_times[s]);\n",
    "\n",
    "    # Go through the arrivals in sequence\n",
    "    for j in range(nArrivals)\n",
    "        # Obtain the time of the arrival, and its type (i)\n",
    "        arrival_time = arrival_sequences_times[s][j]\n",
    "        i = arrival_sequences_types[s][j]\n",
    "\n",
    "        # Check if there is sufficient capacity for the request\n",
    "        if ( ... )\n",
    "            # If there is sufficient capacity, accrue the revenue\n",
    "            # and remove the capacity.\n",
    "            # ...\n",
    "            # ...\n",
    "\n",
    "    # Save the results of this simulation here ...\n",
    "    # ...\n",
    "    # ...\n",
    "\n",
    "# Find the average revenue\n",
    "# ...\n",
    "# Find the average remaining quantity of each resource\n",
    "# ..."
   ]
  },
  {
   "cell_type": "markdown",
   "metadata": {},
   "source": [
    "## Skeleton code for function to run bid-price control policy (Q2, Part 4)"
   ]
  },
  {
   "cell_type": "code",
   "execution_count": null,
   "metadata": {},
   "outputs": [],
   "source": [
    "# Preconditions for code below:\n",
    "# nSimulations = number of simulations to run\n",
    "# nResources = number of different types of resources (= 3)\n",
    "# B = numpy array of initial capacities of the resources\n",
    "# arrival_sequences_times = array where each entry is arrival time sequence for that\n",
    "# simulation\n",
    "# arrival_sequences_types = array where each entry is sequence of request types for\n",
    "# that simulation\n",
    "\n",
    "# Your LP formulation should be defined here\n",
    "# (or somewhere before the definition of bpc()...)\n",
    "# ...\n",
    "\n",
    "\n",
    "# As we did in-class, define a function bpc() to re-solve the LO each time:\n",
    "def bpc(b, t):\n",
    "    for r in range(nResources):\n",
    "        # Set the RHS of the resource constraint to b[r] here\n",
    "        # ...\n",
    "\n",
    "    for i in range(nInstances):\n",
    "        # Set the RHS of the forecast constraint for each instance\n",
    "        # type to the expected number of requests over the duration\n",
    "        # of the remaining horizon (T - t).\n",
    "        # ...\n",
    "\n",
    "    # Re-solve the model:\n",
    "    # ...\n",
    "\n",
    "    # Obtain the dual values/shadow prices\n",
    "    dual_val = ...\n",
    "\n",
    "    # Return the dual values:\n",
    "    return dual_val\n",
    "\n",
    "\n",
    "\n",
    "results_revenue = np.zeros(nSimulations)\n",
    "results_remaining_capacity = np.zeros(nResources, nSimulations)\n",
    "for s in range(nSimulations):\n",
    "    b = B.copy() #Initialize the current capacity\n",
    "    single_revenue = 0.0 #Initialize the revenue garnered in this simulation\n",
    "    nArrivals = len(arrival_sequences_times[s])\n",
    "    for j in range(nArrivals):\n",
    "        # Take the next arrival time and type from the sequence\n",
    "        arrival_time = arrival_sequences_times[s][j]\n",
    "        i = arrival_sequences_types[s][j]\n",
    "\n",
    "        # Check if there is enough capacity\n",
    "        if ( ... ):\n",
    "            # Re-solve the LO and obtain the dual values\n",
    "            dual_val = bpc(b, arrival_time)\n",
    "\n",
    "            # Check if the revenue is at least the sum of the bid prices:\n",
    "            if ( ... ):\n",
    "                # If there is sufficient capacity, accrue the revenue\n",
    "                # and remove the capacity.\n",
    "                # ...\n",
    "                # ...\n",
    "\n",
    "    # Save the results of this simulation here:\n",
    "    # ...\n",
    "    # ...\n",
    "\n",
    "\n",
    "# Find the average revenue:\n",
    "# ...\n",
    "# Find the average remaining quantity of each resource\n",
    "# ..."
   ]
  },
  {
   "cell_type": "code",
   "execution_count": null,
   "metadata": {},
   "outputs": [],
   "source": []
  }
 ],
 "metadata": {
  "kernelspec": {
   "display_name": "Python 3 (ipykernel)",
   "language": "python",
   "name": "python3"
  },
  "language_info": {
   "codemirror_mode": {
    "name": "ipython",
    "version": 3
   },
   "file_extension": ".py",
   "mimetype": "text/x-python",
   "name": "python",
   "nbconvert_exporter": "python",
   "pygments_lexer": "ipython3",
   "version": "3.11.5"
  }
 },
 "nbformat": 4,
 "nbformat_minor": 2
}
