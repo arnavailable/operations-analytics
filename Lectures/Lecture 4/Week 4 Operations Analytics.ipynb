{
 "cells": [
  {
   "cell_type": "markdown",
   "metadata": {},
   "source": [
    "# MGMTMSA 408 -- Lecture 4: Assortment Optimization\n",
    "\n",
    "In this notebook, we will be exploring the topic of assortment/product line optimization using a data set from Timbuk2.\n",
    "\n",
    "## Setting up the data\n",
    "First, let's extract the customer information. "
   ]
  },
  {
   "cell_type": "code",
   "execution_count": 1,
   "metadata": {},
   "outputs": [
    {
     "name": "stdout",
     "output_type": "stream",
     "text": [
      "Number of customers:  330\n",
      "Shape:  (330, 10)\n"
     ]
    }
   ],
   "source": [
    "# First, let's import some packages.\n",
    "import numpy as np\n",
    "import pandas as pd\n",
    "\n",
    "# Read the partworth matrix:\n",
    "partworths = pd.read_csv(\"partworths_small_v2.csv\",  header=None)\n",
    "\n",
    "# Convert to a numpy array to make life easier: \n",
    "partworths = np.asarray(partworths)\n",
    "nCustomers = partworths.shape[0]\n",
    "print(\"Number of customers: \", nCustomers)\n",
    "print(\"Shape: \", partworths.shape)"
   ]
  },
  {
   "cell_type": "markdown",
   "metadata": {},
   "source": [
    "The partworth array contains information about the partworths (attribute level utilities) for the 330 customers in our sample. The rows correspond to different customers, while the columns correspond to different attributes. The attributes in this problem are as follows:\n",
    "\n",
    "|Attribute Num.|Attribute|\n",
    "|-|-|\n",
    "|1|Price|\n",
    "|2|Size (0 = normal, 1 = large)|\n",
    "|3|Color (0 = black, 1 = red)|\n",
    "|4|Logo (0 = no logo, 1 = logo)|\n",
    "|5|Handle (0 = no handle, 1 = has handle)|\n",
    "|6|PDA holder (0 = no holder, 1 = has holder)|\n",
    "|7|Cellphone holder (0 = no holder, 1 = has holder)|\n",
    "|8|Mesh pocket (0 = no pocket, 1 = has pocket)|\n",
    "|9|Velcro flap (0 = no flap, 1 = has flap)|\n",
    "|10|Protective boot (0 = no boot, 1 = has boot)|\n",
    "\n",
    "\n",
    "The columns in partworths indicate the following about the customer utilities for these attributes:\n",
    "\n",
    "|Column|Meaning\n",
    "| :--- | :--- |\n",
    "|1|Difference in utility of a price of \\\\$ $x$ + 1 to a price of \\\\$ $x$|\n",
    "|2|\" \" \" of large bag relative to normal size bag|\n",
    "|3|\" \" \" of red bag relative to black bag|\n",
    "|4|\" \" \" of bag with logo relative to bag with no logo|\n",
    "|5|\" \" \" of bag with handle relative to bag with no handle|\n",
    "|6|\" \" \" of bag with PDA holder relative to bag with no PDA holder|\n",
    "|7|\" \" \" of bag with cellphone holder relative to bag with no cellphone holder|\n",
    "|8|\" \" \" of bag with mesh pocket relative to bag with no pocket|\n",
    "|9|\" \" \" of bag with velcro flap relative to bag with no flap|\n",
    "|10|\" \" \" of bag with protective boot relative to bag with no boot|\n",
    "\n",
    "Some examples:"
   ]
  },
  {
   "cell_type": "code",
   "execution_count": 17,
   "metadata": {},
   "outputs": [
    {
     "name": "stdout",
     "output_type": "stream",
     "text": [
      "Customer 10: \n",
      "11.79\n",
      "-4.45\n",
      "Customer 20: \n",
      "-17.41\n",
      "46.25\n",
      "-1.67833333333333\n",
      "-0.327333333333333\n",
      "[-1.         21.1876862  15.29493545 40.4448858  24.45283019  7.02482622\n",
      " 11.88083416 23.21350546 -2.65143992 34.83813307]\n"
     ]
    }
   ],
   "source": [
    "# Utility of customer 10 for attribute 6 (PDA holder) and attribute 9 (velcro flap):\n",
    "print(\"Customer 10: \")\n",
    "print(partworths[9,5])\n",
    "print(partworths[9,8])\n",
    "\n",
    "# Utility of customer 20 for attribute 6 (PDA holder):\n",
    "print(\"Customer 20: \")\n",
    "print(partworths[19,5])\n",
    "print(partworths[19,8])\n",
    "\n",
    "# The above hopefully gives you a taste of why this problem is going to be difficult!\n",
    "\n",
    "# Customer's sensitivity to price: (always negative)\n",
    "print(partworths[9,0])\n",
    "print(partworths[19,0])\n",
    "\n",
    "\n",
    "print( partworths[9,] / np.abs(partworths[9,0]))"
   ]
  },
  {
   "cell_type": "markdown",
   "metadata": {},
   "source": [
    "Now that we have the partworth information, let's load the candidate products that we are going to consider. The columns correspond to products, while the rows indicate the attributes. In the set of products that we will consider, the price is discretized between \\\\$70 and \\\\$100 in \\\\$5 increments (i.e., the price can be \\\\$70, \\\\$75, ..., \\\\$100). With this discretization, the file grand_product_matrix_small_v2.csv contains only a subset of 100 products. (Note that the total number of attribute combinations, with this discretization of price, is 3584; using all 3584 products renders the problem extremely difficult, so we will restrict ourselves to only 100 product.)"
   ]
  },
  {
   "cell_type": "code",
   "execution_count": 3,
   "metadata": {},
   "outputs": [
    {
     "name": "stdout",
     "output_type": "stream",
     "text": [
      "Shape:  (10, 100)\n",
      "Product 1 attributes: \n",
      "[70  0  0  0  0  0  0  0  1  0]\n",
      "Product 20 attributes: \n",
      "[100   0   0   1   1   0   0   0   0   1]\n"
     ]
    }
   ],
   "source": [
    "# Load the product matrix\n",
    "grand_product_matrix = pd.read_csv(\"grand_product_matrix_small_v2.csv\", header = None)\n",
    "grand_product_matrix = np.asarray(grand_product_matrix)\n",
    "\n",
    "# Get the number of products\n",
    "nProducts = grand_product_matrix.shape[1]\n",
    "\n",
    "print(\"Shape: \", grand_product_matrix.shape)\n",
    "\n",
    "# Check product 1 \n",
    "print(\"Product 1 attributes: \")\n",
    "print(grand_product_matrix[:,0])\n",
    "# Bag priced at $70, normal size black bag with a velcro flap\n",
    "\n",
    "# Check product 20\n",
    "print(\"Product 20 attributes: \")\n",
    "print(grand_product_matrix[:,19])\n",
    "# Bag priced at $100, normal size black bag, with logo, handle and protective boot"
   ]
  },
  {
   "cell_type": "markdown",
   "metadata": {},
   "source": [
    "To make our lives easier, let's define a simple function that can take an attribute array and output a nice English description of the product:"
   ]
  },
  {
   "cell_type": "code",
   "execution_count": 18,
   "metadata": {},
   "outputs": [
    {
     "name": "stdout",
     "output_type": "stream",
     "text": [
      "Product 1 attributes: \n",
      "Bag: $70, Normal, Black, Velcro Flap\n",
      "Product 20 attributes: \n",
      "Bag: $100, Normal, Black, Logo, Handle, Boot\n"
     ]
    }
   ],
   "source": [
    "# print_attributes function to return string with product attributes.\n",
    "def print_attributes(attr_vec):\n",
    "    attr_string = \"Bag: \";\n",
    "    attr_string += \"$\" + str(attr_vec[0])\n",
    "    attr_string += (\", Large\" if attr_vec[1] == 1 else \", Normal\")\n",
    "    attr_string += (\", Grey/Red\" if attr_vec[2] == 1 else \", Black\")\n",
    "    attr_string += (\", Logo\" if attr_vec[3] == 1 else \"\")\n",
    "    attr_string += (\", Handle\" if attr_vec[4] == 1 else \"\")\n",
    "    attr_string += (\", PDA Holder\" if attr_vec[5] == 1 else \"\")\n",
    "    attr_string += (\", Cellphone Holder\" if attr_vec[6] == 1 else \"\")\n",
    "    attr_string += (\", Mesh Pocket\" if attr_vec[7] == 1 else \"\")\n",
    "    attr_string += (\", Velcro Flap\" if attr_vec[8] == 1 else \"\")\n",
    "    attr_string += (\", Boot\" if attr_vec[9] == 1 else \"\")\n",
    "    return attr_string\n",
    "\n",
    "# Test it out:\n",
    "print(\"Product 1 attributes: \")\n",
    "print( print_attributes(grand_product_matrix[:,0]) )\n",
    "\n",
    "print(\"Product 20 attributes: \")\n",
    "print( print_attributes(grand_product_matrix[:,19]) )"
   ]
  },
  {
   "cell_type": "markdown",
   "metadata": {},
   "source": [
    "We still have a couple of things that we need to do before we can move on to testing out sets of products. We need to obtain the marginal profit of each product and we need to obtain the utilities of the products.\n",
    "\n",
    "The following is known about the marginal incremental cost of each attribute:\n",
    "\n",
    "|Attribute Num.|Attribute|Marginal incremental cost|\n",
    "|-|-|-|\n",
    "|2|Size (0 = normal, 1 = large)| \\$3.50|\n",
    "|3|Color (0 = black, 1 = red)| \\$0.00|\n",
    "|4|Logo (0 = no logo, 1 = logo)| \\$2.00|\n",
    "|5|Handle (0 = no handle, 1 = has handle)| \\$3.50 |\n",
    "|6|PDA holder (0 = no holder, 1 = has holder)| \\$3.00|\n",
    "|7|Cellphone holder (0 = no holder, 1 = has holder)| \\$3.00|\n",
    "|8|Mesh pocket (0 = no pocket, 1 = has pocket)| \\$2.00|\n",
    "|9|Velcro flap (0 = no flap, 1 = has flap)| \\$3.50|\n",
    "|10|Protective boot (0 = no boot, 1 = has boot)| \\$4.50|\n",
    "\n",
    "Let's now calculate the marginal profit of each of the 100 candidate products."
   ]
  },
  {
   "cell_type": "code",
   "execution_count": 19,
   "metadata": {},
   "outputs": [
    {
     "name": "stdout",
     "output_type": "stream",
     "text": [
      "[66.5 62.  60.5 53.5 61.5 48.5 61.5 55.5 59.  58.5 59.5 61.  53.5 53.5\n",
      " 63.5 60.  96.5 90.5 88.5 90.  89.5 94.  89.  83.5 88.  80.5 88.  84.5\n",
      " 91.  88.  88.  88.5 84.  83.  94.5 85.5 85.  86.5 84.5 84.5 90.  80.5\n",
      " 86.5 87.  92.  75.5 85.5 86.  80.  73.  89.5 73.5 70.  85.5 81.5 84.5\n",
      " 82.5 77.  79.  83.5 79.  79.5 77.  67.  72.  80.  76.5 65.  73.  63.5\n",
      " 64.  66.5 72.5 64.  65.5 73.5 70.  71.5 78.  68.5 57.  66.5 62.5 71.\n",
      " 68.  60.5 68.5 65.  62.  75.  68.5 67.5 66.5 72.  63.  62.  58.5 61.5\n",
      " 61.5 57. ]\n",
      "[75  1  0  0  1  1  0  0  1  1]\n",
      "57.0\n",
      "57.0\n"
     ]
    }
   ],
   "source": [
    "# Incremental costs of the non-price attributes:\n",
    "incremental_cost = np.array([3.5, 0, 2, 3.5, 3, 3, 2, 3.5, 4.5])\n",
    "\n",
    "# Calculate the marginal profit\n",
    "marginal_profit = grand_product_matrix[0,:] - np.dot(incremental_cost, grand_product_matrix[1:,:] )\n",
    "print(marginal_profit)\n",
    "\n",
    "# Let's take an example just to make sure this worked correctly:\n",
    "print(grand_product_matrix[:,99])\n",
    "print(marginal_profit[99])\n",
    "print(75 - 3.5 - 3.5 - 3 - 3.5 - 4.5)"
   ]
  },
  {
   "cell_type": "markdown",
   "metadata": {},
   "source": [
    "Great! We have the marginal profits. Now let's get the utility of each product. We need a matrix where the rows correspond to customers, and the columns correspond to products. Numpy can again help us with this."
   ]
  },
  {
   "cell_type": "code",
   "execution_count": 6,
   "metadata": {
    "scrolled": true
   },
   "outputs": [
    {
     "name": "stdout",
     "output_type": "stream",
     "text": [
      "Dimensions:  (330, 100)\n",
      "[75  1  0  0  1  1  0  0  1  1]\n",
      "[-5.000e-03  5.009e+01 -9.985e+01 -8.659e+01  7.140e+01 -2.410e+01\n",
      " -1.100e-01  2.800e-01 -2.427e+01  3.400e-01]\n",
      "73.08500000000002\n",
      "73.08500000000002\n"
     ]
    }
   ],
   "source": [
    "# Calculate the utilities matrix:\n",
    "utilities_mat = np.dot(partworths, grand_product_matrix)\n",
    "# Inspect the dimensions:\n",
    "print(\"Dimensions: \",utilities_mat.shape)\n",
    "\n",
    "# Again, let's take an example to make sure things worked ok:\n",
    "print(grand_product_matrix[:,99])\n",
    "print(partworths[49,])\n",
    "print(75 * (-0.005) + 1*(50.09) + 0 *(-99.85) + 0 * (-86.59) + 1 * 71.4 + 1 * (-24.1) + 0*(-0.11) + 0*(0.28) + 1 * (-24.27) + 1 * 0.34)\n",
    "print(utilities_mat[49,99])"
   ]
  },
  {
   "cell_type": "markdown",
   "metadata": {},
   "source": [
    "So we now have our utilities!\n",
    "\n",
    "We need one final thing before we move on to computing some expected profits. Our model of customer choice assumes that customers can always choose to not purchase any of the products. The data we have does not explicitly have a utility for this possibility. \n",
    "\n",
    "A common approach to dealing with this is to assume that the customers can choose certain competitive offerings. As mentioned in the slides, we will assume that we have 3 competitive offerings: a low-end bag, a mid-range bag and a high-end bag. The no-purchase utility for a given customer will thus correspond to the highest utility of these three."
   ]
  },
  {
   "cell_type": "code",
   "execution_count": 7,
   "metadata": {},
   "outputs": [
    {
     "name": "stdout",
     "output_type": "stream",
     "text": [
      "[[ 70  85 100]\n",
      " [  0   0   1]\n",
      " [  0   0   1]\n",
      " [  0   0   1]\n",
      " [  0   0   1]\n",
      " [  0   1   1]\n",
      " [  0   1   1]\n",
      " [  0   1   1]\n",
      " [  0   1   1]\n",
      " [  0   1   1]]\n",
      "[[-1.57406667e+02 -1.17536667e+02 -2.84296667e+02]\n",
      " [-2.32096667e+02 -4.77601667e+02 -6.88626667e+02]\n",
      " [-1.77846667e+02 -7.31666667e+01  4.62733333e+01]\n",
      " [-1.21566667e+01  1.03138333e+02  2.03593333e+02]\n",
      " [-1.08243333e+02  1.60816667e+01  1.45936667e+02]\n",
      " [-2.31490000e+02 -1.45445000e+02 -1.15370000e+02]\n",
      " [-5.49500000e+01 -1.01850000e+01  1.22840000e+02]\n",
      " [-5.42266667e+01  3.12933333e+01  1.08743333e+02]\n",
      " [-2.13290000e+02 -1.40975000e+02 -2.94300000e+01]\n",
      " [-1.17483333e+02 -1.79483333e+01  1.27026667e+02]\n",
      " [-1.25300000e+02  1.67070000e+02  1.21930000e+02]\n",
      " [-4.26300000e+01  4.19850000e+01  1.06040000e+02]\n",
      " [-2.07200000e+02 -4.95860000e+02 -4.19930000e+02]\n",
      " [-9.06266667e+01 -4.18166667e+01 -5.82766667e+01]\n",
      " [-2.15996667e+02 -2.01991667e+02 -1.56616667e+02]\n",
      " [-2.82333333e+01 -9.58533333e+01 -1.88633333e+01]\n",
      " [-1.32136667e+02  1.10883333e+01  1.50423333e+02]\n",
      " [-1.41866667e+01  8.32333333e+00 -5.21666667e+00]\n",
      " [-2.32726667e+02 -2.90576667e+02 -3.38816667e+02]\n",
      " [-2.29133333e+01  8.42366667e+01  2.54856667e+02]\n",
      " [-3.90366667e+01  5.81183333e+01 -1.55796667e+02]\n",
      " [-1.51573333e+02  2.36466667e+01  1.09256667e+02]\n",
      " [-1.34446667e+02 -3.87266667e+01 -2.46766667e+01]\n",
      " [-1.16410000e+02 -1.45150000e+01 -1.80000000e-01]\n",
      " [-8.85033333e+01 -4.43783333e+01 -1.56633333e+01]\n",
      " [-2.92600000e+01  2.91800000e+01  7.87600000e+01]\n",
      " [-7.17266667e+01 -5.17466667e+01  5.33333333e-02]\n",
      " [-2.32890000e+02 -2.61815000e+02 -2.44650000e+02]\n",
      " [-1.98030000e+02 -4.54885000e+02 -5.35160000e+02]\n",
      " [-1.44386667e+02 -7.04466667e+01  7.11133333e+01]\n",
      " [-1.67836667e+02  3.02833333e+00  2.76433333e+01]\n",
      " [-2.00106667e+02 -9.22066667e+01 -1.04626667e+02]\n",
      " [-9.21900000e+01 -6.87250000e+01 -5.98400000e+01]\n",
      " [-9.91433333e+01  5.75416667e+01  1.11946667e+02]\n",
      " [-1.12793333e+02 -3.54333333e+00 -1.27523333e+02]\n",
      " [-1.17366667e+02  9.09633333e+01  2.17273333e+02]\n",
      " [-8.90166667e+01 -1.76166667e+00  7.82233333e+01]\n",
      " [-5.12166667e+01  9.55083333e+01  1.90613333e+02]\n",
      " [-2.32866667e+02 -1.30016667e+02 -2.88316667e+02]\n",
      " [-1.16036667e+02 -4.06316667e+01 -1.89516667e+02]\n",
      " [-1.53323333e+02 -1.84618333e+02 -5.95533333e+01]\n",
      " [-2.33006667e+02 -1.93726667e+02 -1.56276667e+02]\n",
      " [-9.44533333e+01 -4.18733333e+01 -1.93393333e+02]\n",
      " [-1.58923333e+02 -1.50483333e+01  9.53866667e+01]\n",
      " [-1.69703333e+02 -2.21218333e+02 -3.68953333e+02]\n",
      " [-1.38296667e+02 -1.21681667e+02 -1.33696667e+02]\n",
      " [-2.00876667e+02 -2.08481667e+02 -6.53966667e+01]\n",
      " [-2.32773333e+02 -1.88703333e+02 -1.66003333e+02]\n",
      " [-1.43593333e+02 -1.13783333e+02 -3.07493333e+02]\n",
      " [-3.50000000e-01 -4.82850000e+01 -1.13310000e+02]\n",
      " [-3.80566667e+01  1.13418333e+02  1.64713333e+02]\n",
      " [-6.62200000e+01  6.31700000e+01  1.39500000e+01]\n",
      " [-4.43333333e-01  5.29016667e+01 -3.24633333e+01]\n",
      " [-1.63660000e+02 -2.55360000e+02 -3.91690000e+02]\n",
      " [-6.86466667e+01 -2.75166667e+01 -1.78826667e+02]\n",
      " [-3.26666667e-01  4.03033333e+01  1.90203333e+02]\n",
      " [-3.30400000e+01  4.38400000e+01  4.95300000e+01]\n",
      " [-1.26140000e+02  3.10400000e+01  1.10920000e+02]\n",
      " [-2.32190000e+02 -2.54665000e+02 -1.26890000e+02]\n",
      " [-5.18700000e+01  3.86650000e+01  1.25780000e+02]\n",
      " [-5.69566667e+01 -2.58016667e+01 -5.71166667e+01]\n",
      " [-5.43666667e+01  3.09133333e+01  1.12443333e+02]\n",
      " [-8.03600000e+01  9.25800000e+01  2.65980000e+02]\n",
      " [-5.13333333e-01  1.92806667e+02  3.67196667e+02]\n",
      " [-4.34933333e+01  2.90166667e+01  1.37276667e+02]\n",
      " [-2.80000000e-01 -6.75700000e+01  3.29700000e+01]\n",
      " [-3.50000000e-01  1.43575000e+02 -1.69000000e+00]\n",
      " [-7.33833333e+01 -2.90883333e+01 -2.83663333e+02]\n",
      " [-6.24400000e+01 -3.94000000e+00 -1.62200000e+02]\n",
      " [-1.29663333e+02 -1.36568333e+02 -1.49003333e+02]\n",
      " [-2.29670000e+02 -1.56715000e+02 -1.21180000e+02]\n",
      " [-6.47500000e+01  7.18500000e+00  2.30400000e+01]\n",
      " [-4.30966667e+01  1.81383333e+01 -3.62966667e+01]\n",
      " [-1.87926667e+02 -1.10726667e+02 -1.97236667e+02]\n",
      " [-1.91380000e+02 -2.85890000e+02 -2.88170000e+02]\n",
      " [-1.71126667e+02 -1.13916667e+02 -7.28366667e+01]\n",
      " [-1.57920000e+02 -1.24640000e+02  7.07700000e+01]\n",
      " [-2.14853333e+02 -3.22673333e+02 -3.34843333e+02]\n",
      " [-1.31786667e+02 -1.91426667e+02 -1.40626667e+02]\n",
      " [-7.65100000e+01 -1.32150000e+01  1.03840000e+02]\n",
      " [-1.95416667e+02 -2.94001667e+02 -2.84046667e+02]\n",
      " [-1.79666667e+00 -1.01031667e+02 -1.26696667e+02]\n",
      " [-2.23626667e+02 -1.51376667e+02 -1.77446667e+02]\n",
      " [-9.60633333e+01  6.46916667e+01  2.08996667e+02]\n",
      " [-1.63753333e+02 -1.65553333e+02 -1.75493333e+02]\n",
      " [-4.66666667e-01  5.31433333e+01  5.37633333e+01]\n",
      " [-9.39166667e+01 -4.02916667e+01  9.43233333e+01]\n",
      " [-2.32936667e+02 -2.97271667e+02 -2.24226667e+02]\n",
      " [-9.56666667e-01  1.18318333e+02  1.38773333e+02]\n",
      " [-1.10576667e+02 -1.70641667e+02 -1.76066667e+02]\n",
      " [-2.42200000e+01  1.52070000e+02  1.42460000e+02]\n",
      " [-6.30000000e-01  6.01500000e+00 -3.94100000e+01]\n",
      " [-7.28700000e+01 -3.78850000e+01  9.24700000e+01]\n",
      " [-4.29100000e+01  5.37450000e+01  1.10630000e+02]\n",
      " [-1.84846667e+02 -2.12236667e+02 -1.92246667e+02]\n",
      " [-7.34066667e+01  7.12833333e+01  1.67623333e+02]\n",
      " [-2.19450000e+02 -1.26265000e+02 -1.20410000e+02]\n",
      " [-1.09573333e+02  1.97066667e+01  1.27206667e+02]\n",
      " [-1.76633333e+01 -1.62283333e+01 -7.91933333e+01]\n",
      " [-8.66833333e+01  1.14131667e+02  1.98976667e+02]\n",
      " [-7.67200000e+01  8.74500000e+01  1.37880000e+02]\n",
      " [-2.32493333e+02 -1.42553333e+02 -1.28783333e+02]\n",
      " [-2.94700000e+01  1.50415000e+02  1.67880000e+02]\n",
      " [-3.02633333e+01 -9.87833333e+00  9.47866667e+01]\n",
      " [-9.72300000e+01  8.60550000e+01 -1.14200000e+02]\n",
      " [-3.08700000e+01  1.20675000e+02  2.74430000e+02]\n",
      " [-8.75000000e+01 -1.61390000e+02 -1.32500000e+02]\n",
      " [-3.88033333e+01 -2.31798333e+02 -9.15633333e+01]\n",
      " [-1.82000000e+00  9.91100000e+01  1.61770000e+02]\n",
      " [-1.16690000e+02 -5.46500000e+00 -4.53000000e+01]\n",
      " [-1.43430000e+02 -7.95500000e+00 -1.26850000e+02]\n",
      " [-2.17466667e+01  1.02493333e+02  5.72933333e+01]\n",
      " [-2.01740000e+02 -2.14920000e+02 -2.34850000e+02]\n",
      " [-7.72333333e+00  1.34241667e+02  2.86676667e+02]\n",
      " [-4.11366667e+01 -1.34816667e+01 -6.11766667e+01]\n",
      " [-8.71266667e+01 -1.19066667e+02 -6.17966667e+01]\n",
      " [-6.34433333e+01 -6.40983333e+01 -2.90633333e+01]\n",
      " [-9.52933333e+01 -3.03133333e+01  5.25766667e+01]\n",
      " [-1.79573333e+02 -1.02193333e+02 -7.07633333e+01]\n",
      " [-9.33333333e-01  1.50116667e+02  1.57916667e+02]\n",
      " [-1.55866667e+02 -1.69356667e+02 -3.45546667e+02]\n",
      " [-1.14123333e+02 -4.12383333e+01 -9.09533333e+01]\n",
      " [-1.48026667e+02 -6.31666667e+01 -1.51366667e+01]\n",
      " [-1.36500000e+01  6.28650000e+01 -4.99400000e+01]\n",
      " [-1.05770000e+02 -1.54650000e+01 -6.31100000e+01]\n",
      " [-1.34330000e+02 -1.31665000e+02 -9.55600000e+01]\n",
      " [-2.29973333e+02 -2.05343333e+02 -3.30003333e+02]\n",
      " [-4.83000000e+01  1.08760000e+02  3.48040000e+02]\n",
      " [-7.50633333e+01 -3.63483333e+01  1.19066667e+02]\n",
      " [-1.04556667e+02  6.76983333e+01  1.72133333e+02]\n",
      " [-1.74253333e+02 -1.07613333e+02 -1.13523333e+02]\n",
      " [-2.22296667e+02 -2.47221667e+02 -1.85206667e+02]\n",
      " [-1.07730000e+02  4.61350000e+01 -7.68200000e+01]\n",
      " [-1.16176667e+02 -2.17716667e+01  6.20633333e+01]\n",
      " [-4.60133333e+01 -9.09333333e+00 -1.68793333e+02]\n",
      " [-6.30000000e-01  2.09535000e+02  2.68250000e+02]\n",
      " [-8.63333333e-01  3.98416667e+01  5.33866667e+01]\n",
      " [-7.46666667e-01 -1.99376667e+02 -1.85366667e+02]\n",
      " [-7.80733333e+01 -3.57833333e+01 -7.07633333e+01]\n",
      " [-5.37366667e+01 -4.09516667e+01 -2.06096667e+02]\n",
      " [-9.47566667e+01  1.28348333e+02  3.52683333e+02]\n",
      " [-1.52506667e+02 -3.31466667e+01  4.68333333e+00]\n",
      " [-1.90446667e+02 -1.97736667e+02 -2.52236667e+02]\n",
      " [-1.05233333e+01  1.80651667e+02  2.28326667e+02]\n",
      " [-2.87700000e+01 -5.17850000e+01  2.26700000e+01]\n",
      " [-1.25230000e+02 -4.84550000e+01 -8.93300000e+01]\n",
      " [-1.02363333e+02 -5.20983333e+01 -1.13033333e+02]\n",
      " [-4.15333333e+00  3.90266667e+01 -5.39833333e+01]\n",
      " [-2.14456667e+02 -1.47251667e+02 -1.16086667e+02]\n",
      " [-3.96666667e-01 -1.70411667e+02 -1.62816667e+02]\n",
      " [-9.33333333e-01  2.03576667e+02  2.57166667e+02]\n",
      " [-2.15156667e+02 -2.26831667e+02 -3.22006667e+02]\n",
      " [-3.53266667e+01  1.23103333e+02  1.43813333e+02]\n",
      " [-1.63403333e+02 -1.45728333e+02 -1.64283333e+02]\n",
      " [-1.56963333e+02 -8.65083333e+01 -2.17753333e+02]\n",
      " [-5.70033333e+01 -9.98483333e+01 -8.74433333e+01]\n",
      " [-1.44200000e+02 -1.31550000e+02 -6.87500000e+01]\n",
      " [-4.20000000e-01  8.69700000e+01  1.87950000e+02]\n",
      " [-7.09100000e+01  9.95500000e+00 -1.09180000e+02]\n",
      " [-2.31350000e+02 -1.77305000e+02 -8.32500000e+01]\n",
      " [-1.16270000e+02 -3.72650000e+01 -1.59700000e+01]\n",
      " [-1.15756667e+02 -1.97341667e+02 -4.17646667e+02]\n",
      " [-1.16620000e+02  1.17800000e+01  3.64400000e+01]\n",
      " [-7.30800000e+01  4.93900000e+01  3.59800000e+01]\n",
      " [-6.56366667e+01 -6.25166667e+00  8.80033333e+01]\n",
      " [-1.33583333e+02 -1.45778333e+02 -5.59633333e+01]\n",
      " [-2.82333333e+00  1.21931667e+02  2.38386667e+02]\n",
      " [-1.72900000e+01  1.31550000e+01  6.78400000e+01]\n",
      " [-1.58666667e+00  8.18033333e+01  9.53533333e+01]\n",
      " [-2.09696667e+02 -2.42181667e+02 -4.04656667e+02]\n",
      " [-9.81633333e+01  1.43016667e+01  1.59226667e+02]\n",
      " [-2.32143333e+02 -6.62883333e+01 -6.74433333e+01]\n",
      " [-2.16626667e+02 -2.19746667e+02 -2.66466667e+02]\n",
      " [-1.12956667e+02 -1.57821667e+02 -3.08216667e+02]\n",
      " [-1.47000000e+00  6.67500000e+00  9.63300000e+01]\n",
      " [-1.80110000e+02 -6.27500000e+00 -6.36300000e+01]\n",
      " [-1.39533333e+01  6.98666667e+00  2.00346667e+02]\n",
      " [-6.57766667e+01  6.83683333e+01  5.46533333e+01]\n",
      " [-1.70310000e+02 -8.00750000e+01 -5.58000000e+01]\n",
      " [-1.04650000e+02 -9.73350000e+01 -1.51980000e+02]\n",
      " [-2.32516667e+02 -1.02931667e+02 -6.50166667e+01]\n",
      " [-5.61400000e+01  6.62300000e+01 -8.96000000e+01]\n",
      " [-9.61566667e+01 -7.45016667e+01 -1.04776667e+02]\n",
      " [-1.28940000e+02  5.45800000e+01  2.13180000e+02]\n",
      " [-1.28683333e+02 -9.35483333e+01  1.53046667e+02]\n",
      " [-2.94000000e+01  1.61350000e+02  3.14300000e+02]\n",
      " [-1.03996667e+02 -1.09691667e+02 -2.88246667e+02]\n",
      " [-1.42543333e+02 -1.16418333e+02 -1.17963333e+02]\n",
      " [-7.00000000e-01  1.92900000e+02  3.51750000e+02]\n",
      " [-2.14760000e+02 -2.50940000e+02 -2.52810000e+02]\n",
      " [-4.42166667e+01  7.56883333e+01  1.70323333e+02]\n",
      " [-2.30533333e+02 -5.01433333e+01  1.21066667e+02]\n",
      " [-2.28083333e+02 -2.05438333e+02 -2.25963333e+02]\n",
      " [-1.85453333e+02 -1.90863333e+02 -1.17983333e+02]\n",
      " [-1.35380000e+02 -1.07210000e+02  3.86100000e+01]\n",
      " [-2.25376667e+02 -2.79181667e+02 -3.72866667e+02]\n",
      " [-2.32820000e+02 -1.89840000e+02 -2.67510000e+02]\n",
      " [-2.01880000e+02 -6.86600000e+01  1.69600000e+01]\n",
      " [-8.66133333e+01 -5.48433333e+01 -1.61393333e+02]\n",
      " [-1.72223333e+02 -6.38083333e+01 -3.51933333e+01]\n",
      " [-1.35706667e+02 -3.77076667e+02 -2.87396667e+02]\n",
      " [-7.25433333e+01 -2.46783333e+01  9.96866667e+01]\n",
      " [-8.63800000e+01  1.27180000e+02  2.16520000e+02]\n",
      " [-1.87156667e+02 -1.70731667e+02 -3.63266667e+02]\n",
      " [-1.08733333e+01  1.46666667e+00  1.38076667e+02]\n",
      " [-1.45156667e+02 -1.35521667e+02 -3.44966667e+01]\n",
      " [-7.33133333e+01 -3.98333333e+01  6.06966667e+01]\n",
      " [-1.00566667e+02  7.58533333e+01  1.86663333e+02]\n",
      " [-2.33333333e-01 -1.96683333e+02 -2.01703333e+02]\n",
      " [-7.00000000e-01  1.40040000e+02  2.77930000e+02]\n",
      " [-4.25600000e+01 -7.81400000e+01 -1.19720000e+02]\n",
      " [-2.14200000e+02 -1.71720000e+02 -2.43840000e+02]\n",
      " [-2.19496667e+02 -2.31041667e+02 -2.80256667e+02]\n",
      " [-1.11930000e+02 -6.17950000e+01 -7.38900000e+01]\n",
      " [-9.86766667e+01 -6.79616667e+01  1.78933333e+01]\n",
      " [-1.17250000e+02 -8.96150000e+01 -2.65440000e+02]\n",
      " [-2.90966667e+01  2.53583333e+01 -1.09206667e+02]\n",
      " [-1.93666667e+00  1.05883333e+01  2.74433333e+01]\n",
      " [-1.04580000e+02 -1.08630000e+02 -1.08190000e+02]\n",
      " [-2.32586667e+02 -1.70216667e+02 -2.08176667e+02]\n",
      " [-9.97266667e+01 -1.85366667e+02 -2.66356667e+02]\n",
      " [-1.26163333e+02 -8.42383333e+01  1.54036667e+02]\n",
      " [-1.27050000e+02 -1.82475000e+02 -8.31600000e+01]\n",
      " [-5.81233333e+01 -6.29583333e+01  3.75966667e+01]\n",
      " [-5.46933333e+01  6.31266667e+01  1.59706667e+02]\n",
      " [-5.81000000e+01  3.00800000e+01  1.84900000e+02]\n",
      " [-2.32540000e+02 -3.24040000e+02 -4.83740000e+02]\n",
      " [-2.32726667e+02 -2.95226667e+02 -2.79736667e+02]\n",
      " [-8.01500000e+01  3.95500000e+00 -1.43130000e+02]\n",
      " [-2.31676667e+02 -2.81721667e+02 -7.24966667e+01]\n",
      " [-2.13803333e+02 -1.48628333e+02 -1.58053333e+02]\n",
      " [-1.16200000e+01  2.01730000e+02  2.45450000e+02]\n",
      " [-2.19543333e+02 -1.18148333e+02 -6.01033333e+01]\n",
      " [-2.30416667e+02 -3.76411667e+02 -5.91116667e+02]\n",
      " [-5.86366667e+01  2.53383333e+01 -7.60766667e+01]\n",
      " [-1.34493333e+02  1.44996667e+02  1.93926667e+02]\n",
      " [-9.09533333e+01 -1.36933333e+01  9.66666667e-02]\n",
      " [-5.88000000e+01  4.59400000e+01  1.20840000e+02]\n",
      " [-2.22740000e+02 -1.32930000e+02 -1.24050000e+02]\n",
      " [-1.37666667e+00  7.99283333e+01  1.62093333e+02]\n",
      " [-1.13960000e+02 -3.03400000e+01  6.45100000e+01]\n",
      " [-1.67230000e+02 -1.61615000e+02 -1.05500000e+02]\n",
      " [-3.03333333e-01  2.12201667e+02  3.25206667e+02]\n",
      " [-1.08430000e+02  6.72150000e+01  9.39400000e+01]\n",
      " [-6.68500000e+01 -3.83450000e+01 -5.73000000e+00]\n",
      " [-1.67720000e+02 -2.11930000e+02 -2.74070000e+02]\n",
      " [-1.16456667e+02 -2.11016667e+01  4.85733333e+01]\n",
      " [-3.11266667e+01  1.65683333e+02  1.59403333e+02]\n",
      " [-6.97666667e+01  1.28313333e+02  1.41273333e+02]\n",
      " [-1.73016667e+02 -1.38831667e+02 -1.26906667e+02]\n",
      " [-1.67650000e+02 -1.04625000e+02 -8.82500000e+01]\n",
      " [-2.32656667e+02 -2.57341667e+02 -1.97846667e+02]\n",
      " [-1.92803333e+02 -2.07058333e+02 -2.69303333e+02]\n",
      " [-1.16550000e+02 -1.37765000e+02 -1.51140000e+02]\n",
      " [-1.18136667e+02 -1.30131667e+02 -1.64806667e+02]\n",
      " [-1.52646667e+02 -1.05856667e+02 -5.44966667e+01]\n",
      " [-4.43333333e+01  1.54406667e+02  2.16136667e+02]\n",
      " [-7.90533333e+01 -2.37393333e+02 -1.76393333e+02]\n",
      " [-1.57313333e+02 -1.07633333e+02 -1.17073333e+02]\n",
      " [-2.06360000e+02 -1.47530000e+02 -1.35210000e+02]\n",
      " [-1.42076667e+02 -8.37116667e+01 -1.82256667e+02]\n",
      " [-7.52266667e+01 -1.91886667e+02 -2.62096667e+02]\n",
      " [-8.60533333e+01 -4.33233333e+01 -8.26933333e+01]\n",
      " [-9.09300000e+01 -1.01005000e+02 -5.30500000e+01]\n",
      " [-1.25976667e+02 -1.66116667e+01 -7.33666667e+01]\n",
      " [-1.55143333e+02 -1.19458333e+02 -9.71533333e+01]\n",
      " [-1.72620000e+02 -8.97600000e+01 -1.83300000e+02]\n",
      " [-4.43333333e-01  3.65516667e+01  1.37096667e+02]\n",
      " [-7.70000000e-01  1.32625000e+02  3.03110000e+02]\n",
      " [-1.37456667e+02  1.53183333e+01  1.02523333e+02]\n",
      " [-1.40093333e+02 -1.02733333e+02 -1.81923333e+02]\n",
      " [-1.50476667e+02 -1.08231667e+02 -2.14486667e+02]\n",
      " [-1.45646667e+02 -8.40566667e+01  2.19033333e+01]\n",
      " [-1.75070000e+02 -1.64785000e+02 -3.44200000e+01]\n",
      " [-2.14410000e+02 -4.14485000e+02 -5.70570000e+02]\n",
      " [-1.13026667e+02 -3.49766667e+01  1.22023333e+02]\n",
      " [-1.89420000e+02 -3.85710000e+02 -4.98350000e+02]\n",
      " [-1.77683333e+02 -3.66583333e+01 -7.56333333e+00]\n",
      " [-1.16573333e+02 -1.09203333e+02 -6.61533333e+01]\n",
      " [-1.08196667e+02  5.62583333e+01  5.67233333e+01]\n",
      " [-6.56133333e+01 -7.96233333e+01 -6.12933333e+01]\n",
      " [-1.70870000e+02 -3.05585000e+02 -3.77150000e+02]\n",
      " [-1.33000000e+00  6.52950000e+01  1.25310000e+02]\n",
      " [-2.01016667e+02 -2.31561667e+02 -2.94476667e+02]\n",
      " [-8.63333333e+01  6.56766667e+01 -6.00333333e+00]\n",
      " [-1.50056667e+02 -1.26241667e+02 -1.20586667e+02]\n",
      " [-1.29733333e+02 -6.75533333e+01 -7.79733333e+01]\n",
      " [-1.78056667e+02 -2.04641667e+02 -2.79776667e+02]\n",
      " [-8.30900000e+01 -7.63500000e+00 -3.87400000e+01]\n",
      " [-5.80766667e+01  1.04698333e+02  6.05333333e+01]\n",
      " [-2.01273333e+02 -1.82743333e+02 -3.00473333e+02]\n",
      " [-4.43333333e-01  5.21416667e+01  1.78186667e+02]\n",
      " [-2.16393333e+02 -2.22763333e+02 -2.54673333e+02]\n",
      " [-1.97890000e+02 -3.24085000e+02 -5.38620000e+02]\n",
      " [-1.65386667e+02 -1.38996667e+02 -2.03586667e+02]\n",
      " [-1.34890000e+02 -2.80550000e+01  6.96000000e+00]\n",
      " [-1.91310000e+02 -1.70955000e+02 -2.25660000e+02]\n",
      " [-1.49870000e+02 -7.13250000e+01 -8.01700000e+01]\n",
      " [-4.24200000e+01  6.91500000e+01  1.63340000e+02]\n",
      " [-1.58340000e+02 -8.16700000e+01 -2.40800000e+01]\n",
      " [-2.07666667e+00  1.37398333e+02  1.94493333e+02]\n",
      " [-2.10793333e+02 -2.08213333e+02 -2.57983333e+02]\n",
      " [-1.81976667e+02 -1.35221667e+02 -1.03646667e+02]\n",
      " [-1.31296667e+02 -2.18051667e+02 -1.55256667e+02]\n",
      " [-7.55766667e+01  3.48983333e+01  2.37173333e+02]\n",
      " [-1.77030000e+02 -9.41350000e+01 -2.15500000e+01]\n",
      " [-1.55120000e+02 -1.40660000e+02 -3.42000000e+00]\n",
      " [-1.38600000e+02 -5.65700000e+01 -7.06700000e+01]\n",
      " [-1.21636667e+02 -5.05416667e+01 -5.81066667e+01]\n",
      " [-1.95766667e+02 -1.60406667e+02 -1.72716667e+02]\n",
      " [-2.17326667e+02 -2.35236667e+02 -3.69576667e+02]\n",
      " [-2.30183333e+02 -2.82988333e+02 -4.36183333e+02]\n",
      " [-1.16293333e+02  9.16666667e+00  5.93066667e+01]\n",
      " [-4.90000000e-01  5.91950000e+01  1.07460000e+02]\n",
      " [-8.89700000e+01 -5.37050000e+01  3.75000000e+00]\n",
      " [-1.99850000e+02 -2.09085000e+02 -2.78230000e+02]\n",
      " [-1.02456667e+02 -3.08701667e+02 -5.20886667e+02]\n",
      " [-3.26666667e-01  5.11333333e+00  7.88633333e+01]\n",
      " [-1.19770000e+02 -8.51450000e+01 -1.32690000e+02]\n",
      " [-1.74323333e+02 -9.14083333e+01 -3.02333333e+01]\n",
      " [-1.53136667e+02 -1.80101667e+02 -2.30396667e+02]\n",
      " [-1.19443333e+02 -6.95383333e+01 -1.15273333e+02]\n",
      " [-1.15150000e+02 -1.31205000e+02 -1.29540000e+02]\n",
      " [-9.77200000e+01  1.16660000e+02  1.46880000e+02]\n",
      " [-1.55330000e+02 -1.57095000e+02 -1.73230000e+02]\n",
      " [-1.14263333e+02  1.90716667e+01  8.20766667e+01]\n",
      " [-1.25813333e+02 -8.64833333e+01 -5.15933333e+01]\n",
      " [-7.47600000e+01  1.09600000e+02 -2.09000000e+00]\n",
      " [-1.05396667e+02  6.38283333e+01 -1.34366667e+01]\n",
      " [-2.12216667e+02 -2.24471667e+02 -3.30856667e+02]]\n",
      "(330, 101)\n",
      "-117.53666666666695\n",
      "-117.53666666666695\n"
     ]
    }
   ],
   "source": [
    "# Create the attributes for the no-purchase options:\n",
    "competitive_products = np.array([[70, 0, 0, 0, 0, 0, 0, 0, 0, 0],\n",
    "                                 [85, 0, 0, 0, 0, 1, 1, 1, 1, 1],\n",
    "                                 [100, 1, 1, 1, 1, 1, 1, 1 ,1, 1]])\n",
    "# Take the transpose to make it compatible with our partworths matrix:\n",
    "competitive_products = competitive_products.transpose()\n",
    "print(competitive_products)\n",
    "\n",
    "# Compute the utility of each of these competitive products for each customer:\n",
    "competitive_utilities = np.dot(partworths, competitive_products)\n",
    "print(competitive_utilities)\n",
    "\n",
    "# To get the no-purchase utilities, take the max along the product dimension:\n",
    "nopurchase_utilities = competitive_utilities.max(axis = 1)\n",
    "\n",
    "# Finally, let us tack these no-purchase utilities to the main utility matrix:\n",
    "utilities_mat = np.concatenate( (utilities_mat, nopurchase_utilities[:,None]) , axis = 1)\n",
    "\n",
    "# Check that this worked:\n",
    "print(utilities_mat.shape)\n",
    "print(utilities_mat[0,100])\n",
    "print(nopurchase_utilities[0])"
   ]
  },
  {
   "cell_type": "markdown",
   "metadata": {},
   "source": [
    "## Computing first-choice expected profits and choice probabilities\n",
    "\n",
    "Now that we have figured out the marginal profits and utilities of all of the products, let's now move on to calculating the expected profit of different product lines, as well as the choice probabilities.\n",
    "\n",
    "Our first function below will compute the expected profit of a given product line (an array of products)."
   ]
  },
  {
   "cell_type": "code",
   "execution_count": 8,
   "metadata": {
    "scrolled": true
   },
   "outputs": [
    {
     "name": "stdout",
     "output_type": "stream",
     "text": [
      "Expected profit:  9.874242424242427\n",
      "Choice probabilities:  {0: 0.14848484848484853, 100: 0.8515151515151551}\n",
      "Expected profit:  32.289393939393946\n",
      "Choice probabilities:  {19: 0.15454545454545457, 29: 0.08484848484848487, 51: 0.14848484848484853, 100: 0.6121212121212142}\n"
     ]
    }
   ],
   "source": [
    "# Function to compute expected profit\n",
    "# S - the product line, represented as an array of integers\n",
    "# Precondition: S is an array of integers containing only numbers between 0 and 99, with no repetitions.\n",
    "def expected_profit(S):\n",
    "    # Add the no-purchase option:\n",
    "    # NB: the products are numbered from 0 to 99. Index 100 ( = nProducts) will correspond to the no-purchase option. \n",
    "    S2 = np.append(S, nProducts)\n",
    "    \n",
    "    choice_probabilities = {}\n",
    "    for i in S2:\n",
    "        choice_probabilities[i] = 0.0;\n",
    "    \n",
    "    for k in range(nCustomers):\n",
    "        ind = np.argmax( utilities_mat[k,S2])\n",
    "        choice_probabilities[ S2[ind] ] += 1.0/nCustomers\n",
    "        \n",
    "    exp_profit = sum( [choice_probabilities[i] * marginal_profit[i] for i in S])\n",
    "        \n",
    "    return exp_profit, choice_probabilities\n",
    "\n",
    "\n",
    "# Let's see one simple example -- we only offer product 1.\n",
    "exp_profit, choice_probabilities = expected_profit( [0] )\n",
    "print(\"Expected profit: \", exp_profit)\n",
    "print(\"Choice probabilities: \", choice_probabilities)\n",
    "\n",
    "# Another example: we offer 20, 30, 52:\n",
    "exp_profit, choice_probabilities = expected_profit( [19, 29, 51] )\n",
    "print(\"Expected profit: \", exp_profit)\n",
    "print(\"Choice probabilities: \", choice_probabilities)"
   ]
  },
  {
   "cell_type": "markdown",
   "metadata": {},
   "source": [
    "## Testing common-sense product lines\n",
    "\n",
    "Let's now try to see how different product lines will do in terms of profit.\n",
    "\n",
    "Our first product line will be to offer everything. Let's see what happens when we do this:"
   ]
  },
  {
   "cell_type": "code",
   "execution_count": 9,
   "metadata": {},
   "outputs": [
    {
     "name": "stdout",
     "output_type": "stream",
     "text": [
      "Expected profit (offer everything):  59.72878787878786\n"
     ]
    }
   ],
   "source": [
    "S_all = np.array([i for i in range(nProducts)])\n",
    "exp_profit_all, choice_probabilities_all = expected_profit( S_all )\n",
    "print(\"Expected profit (offer everything): \", exp_profit_all)"
   ]
  },
  {
   "cell_type": "markdown",
   "metadata": {},
   "source": [
    "If we offer all the 100 products, we will get an expected per-customer profit of \\\\$59.73. \n",
    "\n",
    "Let's see a different product line. Suppose that for every customer, we could offer their most preferred product. How much would we get with this product line?"
   ]
  },
  {
   "cell_type": "code",
   "execution_count": 10,
   "metadata": {
    "scrolled": true
   },
   "outputs": [
    {
     "name": "stdout",
     "output_type": "stream",
     "text": [
      "[ 0  1  2  3  4  5  6  7  9 10 11 12 13 18 19 20 22 25 33 39 41 49 51 52\n",
      " 58 59 62 63 64 66 67 69 70 71 73 74 76 79 80 81 82 84 85 87 88 89 90 92\n",
      " 94 95 96 97 98 99]\n",
      "Expected profit (offer most preferred):  59.72878787878786\n"
     ]
    }
   ],
   "source": [
    "# Use numpy's function argmax to obtain the element with the highest value.\n",
    "# Note: 0:nProducts will leave out column nProducts (= 100, which is where we are storing\n",
    "# the no-purchase option.)\n",
    "S_mostpref = np.argmax(utilities_mat[:,0:nProducts], axis = 1)\n",
    "\n",
    "S_mostpref = np.unique(S_mostpref)\n",
    "print(S_mostpref)\n",
    "\n",
    "exp_profit_mostpref, choice_probabilities_mostpref = expected_profit( S_mostpref )\n",
    "print(\"Expected profit (offer most preferred): \", exp_profit_mostpref)"
   ]
  },
  {
   "cell_type": "markdown",
   "metadata": {},
   "source": [
    "**Question:** Why did this happen?\n",
    "\n",
    "Let's see some more. A reasonable suggestion might be to restrict ourselves to all products with a price of \\\\$100."
   ]
  },
  {
   "cell_type": "code",
   "execution_count": 11,
   "metadata": {},
   "outputs": [
    {
     "name": "stdout",
     "output_type": "stream",
     "text": [
      "Expected profit (offer all priced at $100):  53.37575757575755\n"
     ]
    }
   ],
   "source": [
    "# Get all products priced at $100:\n",
    "S_price100 = [i for i in range(100) if grand_product_matrix[0,i] == 100 ]\n",
    "\n",
    "exp_profit_price100, choice_probabilities_price100 = expected_profit( S_price100 )\n",
    "print(\"Expected profit (offer all priced at $100): \", exp_profit_price100)"
   ]
  },
  {
   "cell_type": "markdown",
   "metadata": {},
   "source": [
    "This does slightly worse than offering all the products. \n",
    "\n",
    "One final option: let's suppose we offer the 10 products with the highest marginal profit."
   ]
  },
  {
   "cell_type": "code",
   "execution_count": 12,
   "metadata": {
    "scrolled": true
   },
   "outputs": [
    {
     "name": "stdout",
     "output_type": "stream",
     "text": [
      "profit_order:  [ 5  3 12 13  7 99 80 96  9  8 10 15  2 85 11 97 98  6  4 95  1 88 82 94\n",
      " 14 69 73 70 87 67 74 92 81 71  0 63 91 84 90 86 79 52 76 83 77 93 64 72\n",
      " 49 68 75 51 89 45 66 62 57 78 60 58 61 65 48 25 41 54 56 33 23 59 32 27\n",
      " 38 55 39 36 35 53 46 47 37 42 43 24 26 29 30 31 18 22 50 20 40 19 17 28\n",
      " 44 21 34 16]\n",
      "profit_order:  [16 34 21 44 28 17 19 40 20 50 22 18 31 30 29 26 24 43 42 37 47 46 53 35\n",
      " 36 39 55 38 27 32 59 23 33 56 54 41 25 48 65 61 58 60 78 57 62 66 45 89\n",
      " 51 75 68 49 72 64 93 77 83 76 52 79 86 90 84 91 63  0 71 81 92 74 67 87\n",
      " 70 73 69 14 94 82 88  1 95  4  6 98 97 11 85  2 15 10  8  9 96 80 99  7\n",
      " 13 12  3  5]\n",
      "Top 10 products in profit:  [16 34 21 44 28 17 19 40 20 50]\n",
      "Their profits:  [96.5 94.5 94.  92.  91.  90.5 90.  90.  89.5 89.5]\n",
      "Expected profit (offer top 10 profit products):  27.26060606060607\n",
      "Min utility for price:  -3.32866666666667\n",
      "Max utility for price:  -0.0033333333333333\n",
      "Bag: $100, Normal, Black, Velcro Flap\n"
     ]
    }
   ],
   "source": [
    "# Use the numpy function argsort to sort the array of marginal profits:\n",
    "profit_order = np.argsort(marginal_profit)\n",
    "\n",
    "# Print the indices that order the profits:\n",
    "print(\"profit_order: \", profit_order)\n",
    "\n",
    "# See what happens when we index marginal_profit according to profit_order:\n",
    "marginal_profit[profit_order]\n",
    "\n",
    "# Profits are sorted in increasing order.\n",
    "# Let's flip them:\n",
    "profit_order = np.flip(profit_order, axis = 0)\n",
    "print(\"profit_order: \", profit_order)\n",
    "\n",
    "# The top 10 products in marginal profit can be obtained by using negative indices:\n",
    "S_topprofit = profit_order[0:10]\n",
    "print(\"Top 10 products in profit: \", S_topprofit)\n",
    "print(\"Their profits: \", marginal_profit[S_topprofit])\n",
    "\n",
    "# # Calculate expected profit:\n",
    "exp_profit_topprofit, choice_probabilities_topprofit = expected_profit( S_topprofit )\n",
    "print(\"Expected profit (offer top 10 profit products): \", exp_profit_topprofit)\n",
    "\n",
    "print(\"Min utility for price: \", partworths[:,0].min())\n",
    "print(\"Max utility for price: \", partworths[:,0].max())\n",
    "\n",
    "print( print_attributes( grand_product_matrix[:,16]))"
   ]
  },
  {
   "cell_type": "markdown",
   "metadata": {},
   "source": [
    "This does the worst out of all of the solutions we've seen so far!\n",
    "\n",
    "To summarize: the best solution so far is to offer either all the products (or equivalently, the set of products which are most preferred by at least one customer), which achieves an expected per-customer profit of \\$59.73.\n",
    "\n",
    "Can we do better than this?"
   ]
  },
  {
   "cell_type": "markdown",
   "metadata": {},
   "source": [
    "## Using integer programming to find optimal product lines\n",
    "\n",
    "We will now see how to formulate an integer programming problem to make this decision."
   ]
  },
  {
   "cell_type": "code",
   "execution_count": 14,
   "metadata": {
    "scrolled": true
   },
   "outputs": [
    {
     "name": "stdout",
     "output_type": "stream",
     "text": [
      "Creating constraints...\n",
      "Creating objective...\n",
      "Update completed\n",
      "Gurobi Optimizer version 11.0.0 build v11.0.0rc2 (mac64[arm] - Darwin 23.2.0 23C71)\n",
      "\n",
      "CPU model: Apple M1\n",
      "Thread count: 8 physical cores, 8 logical processors, using up to 8 threads\n",
      "\n"
     ]
    },
    {
     "ename": "GurobiError",
     "evalue": "Model too large for size-limited license; visit https://www.gurobi.com/free-trial for a full license",
     "output_type": "error",
     "traceback": [
      "\u001b[0;31m---------------------------------------------------------------------------\u001b[0m",
      "\u001b[0;31mGurobiError\u001b[0m                               Traceback (most recent call last)",
      "Cell \u001b[0;32mIn[14], line 28\u001b[0m\n\u001b[1;32m     25\u001b[0m m\u001b[38;5;241m.\u001b[39mupdate()\n\u001b[1;32m     27\u001b[0m \u001b[38;5;28mprint\u001b[39m(\u001b[38;5;124m\"\u001b[39m\u001b[38;5;124mUpdate completed\u001b[39m\u001b[38;5;124m\"\u001b[39m)\n\u001b[0;32m---> 28\u001b[0m m\u001b[38;5;241m.\u001b[39moptimize()\n\u001b[1;32m     31\u001b[0m S_optimal \u001b[38;5;241m=\u001b[39m [i \u001b[38;5;28;01mfor\u001b[39;00m i \u001b[38;5;129;01min\u001b[39;00m \u001b[38;5;28mrange\u001b[39m(nProducts) \u001b[38;5;28;01mif\u001b[39;00m x[i]\u001b[38;5;241m.\u001b[39mx \u001b[38;5;241m>\u001b[39m \u001b[38;5;241m0.5\u001b[39m]\n\u001b[1;32m     32\u001b[0m \u001b[38;5;28mprint\u001b[39m(\u001b[38;5;124m\"\u001b[39m\u001b[38;5;124mOptimal set of products: \u001b[39m\u001b[38;5;124m\"\u001b[39m, S_optimal)\n",
      "File \u001b[0;32msrc/gurobipy/model.pxi:893\u001b[0m, in \u001b[0;36mgurobipy.Model.optimize\u001b[0;34m()\u001b[0m\n",
      "\u001b[0;31mGurobiError\u001b[0m: Model too large for size-limited license; visit https://www.gurobi.com/free-trial for a full license"
     ]
    }
   ],
   "source": [
    "from gurobipy import *\n",
    "\n",
    "m = Model()\n",
    "\n",
    "# Create the decision variables\n",
    "x = m.addVars(nProducts, vtype = GRB.BINARY )\n",
    "y = m.addVars(nCustomers, nProducts+1, vtype = GRB.BINARY)\n",
    "\n",
    "# Create the constraints:\n",
    "print(\"Creating constraints...\")\n",
    "for k in range(nCustomers):\n",
    "    m.addConstr( sum(y[k,i] for i in range(nProducts+1)) == 1)\n",
    "    for i in range(nProducts):\n",
    "        m.addConstr( y[k,i] <= x[i] )\n",
    "        m.addConstr( quicksum( utilities_mat[k,j] * y[k,j] for j in range(nProducts+1)) >= utilities_mat[k,i] * x[i] + utilities_mat[k,nProducts]*(1 - x[i]))\n",
    "    m.addConstr( quicksum( utilities_mat[k,j] * y[k,j] for j in range(nProducts+1)) >= utilities_mat[k,nProducts] )\n",
    "\n",
    "\n",
    "\n",
    "# Create the objective:\n",
    "print(\"Creating objective...\")\n",
    "m.setObjective( quicksum(marginal_profit[i] * 1.0/nCustomers * y[k,i] for k in range(nCustomers) for i in range(nProducts)), GRB.MAXIMIZE)\n",
    "\n",
    "# Update and solve\n",
    "m.update()\n",
    "\n",
    "print(\"Update completed\")\n",
    "m.optimize()\n",
    "\n",
    "\n",
    "S_optimal = [i for i in range(nProducts) if x[i].x > 0.5]\n",
    "print(\"Optimal set of products: \", S_optimal)\n",
    "\n",
    "optimal_profit = m.objval\n",
    "print(\"Optimal profit: \",optimal_profit)\n",
    "\n",
    "# Verify that optimal profit is correct:\n",
    "exp_profit_S_optimal, choice_probabilities_S_optimal = expected_profit( S_optimal )\n",
    "print(\"Optimal profit (via expected_profit): \", exp_profit_S_optimal)"
   ]
  },
  {
   "cell_type": "code",
   "execution_count": 15,
   "metadata": {
    "scrolled": true
   },
   "outputs": [
    {
     "ename": "AttributeError",
     "evalue": "Unable to retrieve attribute 'x'",
     "output_type": "error",
     "traceback": [
      "\u001b[0;31m---------------------------------------------------------------------------\u001b[0m",
      "\u001b[0;31mAttributeError\u001b[0m                            Traceback (most recent call last)",
      "Cell \u001b[0;32mIn[15], line 1\u001b[0m\n\u001b[0;32m----> 1\u001b[0m x_val \u001b[38;5;241m=\u001b[39m [x[i]\u001b[38;5;241m.\u001b[39mx \u001b[38;5;28;01mfor\u001b[39;00m i \u001b[38;5;129;01min\u001b[39;00m \u001b[38;5;28mrange\u001b[39m(nProducts)]\n\u001b[1;32m      2\u001b[0m \u001b[38;5;28mprint\u001b[39m(x_val)\n\u001b[1;32m      5\u001b[0m \u001b[38;5;66;03m# Verify that optimal profit is correct:\u001b[39;00m\n",
      "Cell \u001b[0;32mIn[15], line 1\u001b[0m, in \u001b[0;36m<listcomp>\u001b[0;34m(.0)\u001b[0m\n\u001b[0;32m----> 1\u001b[0m x_val \u001b[38;5;241m=\u001b[39m [x[i]\u001b[38;5;241m.\u001b[39mx \u001b[38;5;28;01mfor\u001b[39;00m i \u001b[38;5;129;01min\u001b[39;00m \u001b[38;5;28mrange\u001b[39m(nProducts)]\n\u001b[1;32m      2\u001b[0m \u001b[38;5;28mprint\u001b[39m(x_val)\n\u001b[1;32m      5\u001b[0m \u001b[38;5;66;03m# Verify that optimal profit is correct:\u001b[39;00m\n",
      "File \u001b[0;32msrc/gurobipy/var.pxi:125\u001b[0m, in \u001b[0;36mgurobipy.Var.__getattr__\u001b[0;34m()\u001b[0m\n",
      "File \u001b[0;32msrc/gurobipy/var.pxi:153\u001b[0m, in \u001b[0;36mgurobipy.Var.getAttr\u001b[0;34m()\u001b[0m\n",
      "File \u001b[0;32msrc/gurobipy/attrutil.pxi:103\u001b[0m, in \u001b[0;36mgurobipy._getattr\u001b[0;34m()\u001b[0m\n",
      "\u001b[0;31mAttributeError\u001b[0m: Unable to retrieve attribute 'x'"
     ]
    }
   ],
   "source": [
    "x_val = [x[i].x for i in range(nProducts)]\n",
    "print(x_val)\n",
    "\n",
    "\n",
    "# Verify that optimal profit is correct:\n",
    "exp_profit_S_optimal, choice_probabilities_S_optimal = expected_profit( S_optimal )\n",
    "print(\"Optimal profit (via expected_profit): \", exp_profit_S_optimal)\n",
    "\n",
    "rel_improvement = 100*(exp_profit_S_optimal - exp_profit_mostpref)/exp_profit_mostpref\n",
    "print(\"Relative improvement: \", rel_improvement)\n",
    "\n",
    "for i in choice_probabilities_S_optimal.keys():\n",
    "    print(\"Prod \" + str(i) + \": \" + str(choice_probabilities_S_optimal[i]) )"
   ]
  },
  {
   "cell_type": "markdown",
   "metadata": {},
   "source": [
    "## Solving the relaxation \n",
    "\n",
    "Another valuable piece of information that we can obtain from this model is the optimal value of the relaxation:\n"
   ]
  },
  {
   "cell_type": "code",
   "execution_count": 16,
   "metadata": {},
   "outputs": [
    {
     "name": "stdout",
     "output_type": "stream",
     "text": [
      "Gurobi Optimizer version 11.0.0 build v11.0.0rc2 (mac64[arm] - Darwin 23.2.0 23C71)\n",
      "\n",
      "CPU model: Apple M1\n",
      "Thread count: 8 physical cores, 8 logical processors, using up to 8 threads\n",
      "\n"
     ]
    },
    {
     "ename": "GurobiError",
     "evalue": "Model too large for size-limited license; visit https://www.gurobi.com/free-trial for a full license",
     "output_type": "error",
     "traceback": [
      "\u001b[0;31m---------------------------------------------------------------------------\u001b[0m",
      "\u001b[0;31mGurobiError\u001b[0m                               Traceback (most recent call last)",
      "Cell \u001b[0;32mIn[16], line 3\u001b[0m\n\u001b[1;32m      1\u001b[0m m_relaxed \u001b[38;5;241m=\u001b[39m m\u001b[38;5;241m.\u001b[39mrelax()\n\u001b[0;32m----> 3\u001b[0m m_relaxed\u001b[38;5;241m.\u001b[39moptimize()\n\u001b[1;32m      5\u001b[0m relaxation_bound \u001b[38;5;241m=\u001b[39m m_relaxed\u001b[38;5;241m.\u001b[39mobjval\n\u001b[1;32m      7\u001b[0m \u001b[38;5;28mprint\u001b[39m(\u001b[38;5;124m\"\u001b[39m\u001b[38;5;124mRelaxation bound: \u001b[39m\u001b[38;5;124m\"\u001b[39m, relaxation_bound)\n",
      "File \u001b[0;32msrc/gurobipy/model.pxi:893\u001b[0m, in \u001b[0;36mgurobipy.Model.optimize\u001b[0;34m()\u001b[0m\n",
      "\u001b[0;31mGurobiError\u001b[0m: Model too large for size-limited license; visit https://www.gurobi.com/free-trial for a full license"
     ]
    }
   ],
   "source": [
    "m_relaxed = m.relax()\n",
    "\n",
    "m_relaxed.optimize()\n",
    "\n",
    "relaxation_bound = m_relaxed.objval\n",
    "\n",
    "print(\"Relaxation bound: \", relaxation_bound)\n",
    "\n"
   ]
  },
  {
   "cell_type": "markdown",
   "metadata": {},
   "source": [
    "The relaxation bound is \\\\$81.69. This tells us that no product line can obtain a per-customer expected profit greater than \\\\$81.69. This is valuable because earlier, when we were testing simple product lines, we could have compared their value to this bound to see how far away from optimality we were. (The best value was \\\\$59.73, which is quite a bit lower; this would suggest that it is worth investing some effort to try to find a better product line.)"
   ]
  },
  {
   "cell_type": "markdown",
   "metadata": {},
   "source": [
    "## Constraining the model\n",
    "\n",
    "Knowing the optimal product line is useful, but one feature of this product line that is perhaps unattractive is that it is large -- it has ..."
   ]
  },
  {
   "cell_type": "code",
   "execution_count": null,
   "metadata": {},
   "outputs": [],
   "source": [
    "len(S_optimal)"
   ]
  },
  {
   "cell_type": "markdown",
   "metadata": {},
   "source": [
    "... 39 products in it. Timbuk2 may be interested in understanding if a similar per-customer profit can be achieved with fewer products. \n",
    "\n",
    "(NB: the number you see here will be machine dependent. On my 2017 era Macbook this was 37.)\n",
    "\n",
    "To see this, let's add a constraint to the model, update and solve:"
   ]
  },
  {
   "cell_type": "code",
   "execution_count": null,
   "metadata": {},
   "outputs": [],
   "source": [
    "m.addConstr( sum(x[i] for i in range(nProducts)) <= 5) # no more than 5 products\n",
    "\n",
    "m.update()\n",
    "m.optimize()\n",
    "\n",
    "# Retrieve the optimal solution and objective value:\n",
    "S_optimal_constrained = [i for i in range(nProducts) if x[i].x > 0.5]\n",
    "print(\"Optimal set of products (width of product line at most 5): \", S_optimal_constrained)\n",
    "\n",
    "optimal_profit_constrained = m.objval\n",
    "print(\"Optimal profit (width of product line at most 5): \", optimal_profit_constrained)"
   ]
  },
  {
   "cell_type": "markdown",
   "metadata": {},
   "source": [
    "We thus obtain a product line of 5 products, that achieves a per-customer profit of \\\\$72.82 -- still significantly higher than \\\\$59.73 from before.\n",
    "\n",
    "It is interesting to see what these products are:"
   ]
  },
  {
   "cell_type": "code",
   "execution_count": null,
   "metadata": {},
   "outputs": [],
   "source": [
    "# Print the new product line\n",
    "print(\"Optimal product line (width = 5):\")\n",
    "for i in S_optimal_constrained:\n",
    "    print(str(i)+ \" : \" +print_attributes(grand_product_matrix[:,i]))\n",
    "    \n",
    "# Compare this to competitive products:\n",
    "print(\"\")\n",
    "print(\"Competitive offerings:\")\n",
    "for i in range(competitive_products.shape[1]):\n",
    "    print(\"Competitor \" + str(i) + \" : \" + print_attributes(competitive_products[:,i]) )"
   ]
  },
  {
   "cell_type": "markdown",
   "metadata": {},
   "source": [
    "Do you see what the optimal product line is doing? \n",
    "\n",
    "(It will be easier to see in the slides...)"
   ]
  },
  {
   "cell_type": "code",
   "execution_count": null,
   "metadata": {},
   "outputs": [],
   "source": [
    "print(partworths[:,8].mean())\n",
    "print(partworths[:,8].min())\n",
    "print(partworths[:,8].max())\n",
    "\n",
    "print( (partworths[:,8] >= 0).sum() )"
   ]
  },
  {
   "cell_type": "code",
   "execution_count": null,
   "metadata": {},
   "outputs": [],
   "source": []
  }
 ],
 "metadata": {
  "kernelspec": {
   "display_name": "Python 3 (ipykernel)",
   "language": "python",
   "name": "python3"
  },
  "language_info": {
   "codemirror_mode": {
    "name": "ipython",
    "version": 3
   },
   "file_extension": ".py",
   "mimetype": "text/x-python",
   "name": "python",
   "nbconvert_exporter": "python",
   "pygments_lexer": "ipython3",
   "version": "3.11.5"
  }
 },
 "nbformat": 4,
 "nbformat_minor": 2
}
