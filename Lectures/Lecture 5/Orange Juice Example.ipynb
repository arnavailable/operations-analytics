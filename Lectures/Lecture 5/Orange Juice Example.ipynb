{
 "cells": [
  {
   "cell_type": "markdown",
   "metadata": {},
   "source": [
    "# Lecture 5 - Contextual Newsvendor / Orange Juice Example\n",
    "\n",
    "In the previous notebook, we saw the \"basic\" newsvendor problem, where our data consists simply of previous demand observations. We are now going to turn our attention to the contextual newsvendor problem, where we have to solve the newsvendor problem in the presence of auxiliary contextual information.\n",
    "\n",
    "The specific dataset that we are going to see is a data set on orange juice sales. This dataset comes from Dominick's Finer Foods, a now defunct chain of grocery stores in the greater Chicago, IL area. (You may have encountered this dataset in Prof. Rossi's class; it is a part of a larger dataset included with the `bayesm` package for R.)\n",
    "\n",
    "The contextual newsvendor problem that we wish to solve here is to determine a weekly, store-level order quantity decision for a single product. The product is Tropicana Premium Orange Juice, in 64oz size. The product retails for $p = $ \\\\$3 per unit, and the order cost is $c = 0.7p = $ \\\\$2.10 per unit.\n",
    "\n",
    "There are 83 different stores in this chain. These stores differ in a number of demographic covariates:\n",
    "\n",
    "|Attribute|Description|\n",
    "|-|-|\n",
    "|AGE60|Percentage of the population aged 60 or older|\n",
    "|EDUC|Percentage of the population that has a college degree|\n",
    "|ETHNIC|Percentage of the population that is black or hispanic|\n",
    "|INCOME|Median income of the ZIP code of the store|\n",
    "|HHLARGE|Percentage of households with 5 or more persons|\n",
    "|WORKWOM|Percentage of women with full-time jobs|\n",
    "|HVAL150|Percentage of households worth more than $150,000|\n",
    "|SSTRDIST|Distance to the nearest warehouse store|\n",
    "|SSTRVOL|Ratio of sales of this store to the nearest warehouse store|\n",
    "|CPDIST5|Average distance in miles to the nearest 5 supermarkets|\n",
    "|CPWVOL5|Ratio of sales of this store to the average of the nearest five stores|\n",
    "\n",
    "Our goal is to be able to take the demographic attributes of a store, and come up with a recommendation of the weekly order quantity. \n",
    "\n",
    "We will use the conditional quantile method, which requires us to first build a model to predict demand as a function of these covariates, use that model to create a conditional distribution of demand given a specific set of covariates, and to finally use the conditional distribution to get the optimal newsvendor order quantity. \n"
   ]
  },
  {
   "cell_type": "markdown",
   "metadata": {},
   "source": [
    "## Setting up the data\n",
    "\n",
    "The first thing we will do is load the data. The following commands will load pandas and numpy for us, and then separate the data into an X and a y array, which we will later use to build the machine learning model."
   ]
  },
  {
   "cell_type": "code",
   "execution_count": 1,
   "metadata": {},
   "outputs": [
    {
     "name": "stdout",
     "output_type": "stream",
     "text": [
      "Index(['store', 'week', 'demand', 'AGE60', 'EDUC', 'ETHNIC', 'INCOME',\n",
      "       'HHLARGE', 'WORKWOM', 'HVAL150', 'SSTRDIST', 'SSTRVOL', 'CPDIST5',\n",
      "       'CPWVOL5'],\n",
      "      dtype='object')\n",
      "Index(['AGE60', 'EDUC', 'ETHNIC', 'INCOME', 'HHLARGE', 'WORKWOM', 'HVAL150',\n",
      "       'SSTRDIST', 'SSTRVOL', 'CPDIST5', 'CPWVOL5'],\n",
      "      dtype='object')\n"
     ]
    }
   ],
   "source": [
    "import pandas as pd\n",
    "import numpy as np\n",
    "\n",
    "OJ_df = pd.read_csv(\"OJ.csv\")\n",
    "\n",
    "# print(OJ_df.head())\n",
    "\n",
    "OJ_columns = OJ_df.columns\n",
    "print(OJ_columns)\n",
    "\n",
    "OJ_columns = OJ_columns[3:] # leave off the store id, week and demand.\n",
    "X = OJ_df[ OJ_columns ]\n",
    "X = np.asarray(X)\n",
    "\n",
    "y = OJ_df[ \"demand\" ]\n",
    "y = np.asarray(y)\n",
    "\n",
    "print(OJ_columns)"
   ]
  },
  {
   "cell_type": "code",
   "execution_count": 2,
   "metadata": {},
   "outputs": [
    {
     "data": {
      "image/png": "[encoded data removed]",
      "text/plain": [
       "<Figure size 640x480 with 1 Axes>"
      ]
     },
     "metadata": {},
     "output_type": "display_data"
    }
   ],
   "source": [
    "temp = np.asarray(OJ_df)\n",
    "relinds = temp[:,0] == 3 \n",
    "temp2 = temp[relinds,2]\n",
    "\n",
    "import matplotlib.pyplot as plt\n",
    "plt.hist(temp2, bins = 30)\n",
    "plt.show()"
   ]
  },
  {
   "cell_type": "markdown",
   "metadata": {},
   "source": [
    "Next, we are going to load a particular module of scikit-learn to split the data. \n",
    "\n",
    "Recall from your earlier courses that when building an ML model, we typically split the data into a _training_ set and a _testing_ set. The goal of the training set is to use it to build the model, whereas the test set is used for testing the model, and evaluating how well the model does on new, unseen data. \n",
    "\n",
    "You have probably seen this type of idea in the context of evaluating predictive performance (e.g., calculating the out-of-sample $R^2$ of a linear regression model). You will see shortly that the same idea can be used to evaluate the quality of data-driven decisions. In our case, we wish to evaluate the average out-of-sample profit. "
   ]
  },
  {
   "cell_type": "code",
   "execution_count": 3,
   "metadata": {},
   "outputs": [
    {
     "name": "stdout",
     "output_type": "stream",
     "text": [
      "(6754, 11)\n",
      "(2895, 11)\n",
      "(6754,)\n",
      "(2895,)\n"
     ]
    }
   ],
   "source": [
    "# Load the model_selection module\n",
    "import sklearn.model_selection as ms\n",
    "\n",
    "# Set the random seed\n",
    "np.random.seed(101)\n",
    "\n",
    "# Split the data. \n",
    "# train_size specifies what fraction of the data is allotted to the training set.\n",
    "# It is common to see about 50% - 80% of the data being used for training, and the \n",
    "# remaining 20-50% being used for testing. \n",
    "X_train, X_test, y_train, y_test = ms.train_test_split(X, y, train_size = 0.7)\n",
    "\n",
    "print(X_train.shape)\n",
    "print(X_test.shape)\n",
    "print(y_train.shape)\n",
    "print(y_test.shape)"
   ]
  },
  {
   "cell_type": "markdown",
   "metadata": {},
   "source": [
    "We will now estimate a machine learning model on this training set. We will use a regression tree model. For this, we will use the `tree` module of scikit-learn."
   ]
  },
  {
   "cell_type": "code",
   "execution_count": 4,
   "metadata": {},
   "outputs": [
    {
     "data": {
      "text/plain": [
       "DecisionTreeRegressor(max_depth=2)"
      ]
     },
     "execution_count": 4,
     "metadata": {},
     "output_type": "execute_result"
    }
   ],
   "source": [
    "# Load the tree module\n",
    "import sklearn.tree as tree\n",
    "\n",
    "# Estimate the regression tree model\n",
    "oj_tree = tree.DecisionTreeRegressor(max_depth = 2)\n",
    "oj_tree = oj_tree.fit(X_train,y_train)\n",
    "\n",
    "# Inspect the oj_tree object\n",
    "oj_tree"
   ]
  },
  {
   "cell_type": "markdown",
   "metadata": {},
   "source": [
    "The output we see from looking at `oj_tree` is not particularly informative. It is more helpful to plot the tree, which we can do using the `graphviz` package. "
   ]
  },
  {
   "cell_type": "code",
   "execution_count": 5,
   "metadata": {},
   "outputs": [
    {
     "data": {
      "image/svg+xml": [
       "<?xml version=\"1.0\" encoding=\"UTF-8\" standalone=\"no\"?>\n",
       "<!DOCTYPE svg PUBLIC \"-//W3C//DTD SVG 1.1//EN\"\n",
       " \"http://www.w3.org/Graphics/SVG/1.1/DTD/svg11.dtd\">\n",
       "<!-- Generated by graphviz version 2.50.0 (0)\n",
       " -->\n",
       "<!-- Title: Tree Pages: 1 -->\n",
       "<svg width=\"570pt\" height=\"224pt\"\n",
       " viewBox=\"0.00 0.00 570.00 224.00\" xmlns=\"http://www.w3.org/2000/svg\" xmlns:xlink=\"http://www.w3.org/1999/xlink\">\n",
       "<g id=\"graph0\" class=\"graph\" transform=\"scale(1 1) rotate(0) translate(4 220)\">\n",
       "<title>Tree</title>\n",
       "<polygon fill=\"white\" stroke=\"transparent\" points=\"-4,4 -4,-220 566,-220 566,4 -4,4\"/>\n",
       "<!-- 0 -->\n",
       "<g id=\"node1\" class=\"node\">\n",
       "<title>0</title>\n",
       "<path fill=\"none\" stroke=\"black\" d=\"M334,-216C334,-216 230,-216 230,-216 224,-216 218,-210 218,-204 218,-204 218,-175 218,-175 218,-169 224,-163 230,-163 230,-163 334,-163 334,-163 340,-163 346,-169 346,-175 346,-175 346,-204 346,-204 346,-210 340,-216 334,-216\"/>\n",
       "<text text-anchor=\"start\" x=\"238\" y=\"-200.8\" font-family=\"Helvetica,sans-Serif\" font-size=\"14.00\">EDUC ≤ 0.449</text>\n",
       "<text text-anchor=\"start\" x=\"233.5\" y=\"-185.8\" font-family=\"Helvetica,sans-Serif\" font-size=\"14.00\">samples = 6754</text>\n",
       "<text text-anchor=\"start\" x=\"226\" y=\"-170.8\" font-family=\"Helvetica,sans-Serif\" font-size=\"14.00\">value = 13649.919</text>\n",
       "</g>\n",
       "<!-- 1 -->\n",
       "<g id=\"node2\" class=\"node\">\n",
       "<title>1</title>\n",
       "<path fill=\"none\" stroke=\"black\" d=\"M261.5,-127C261.5,-127 154.5,-127 154.5,-127 148.5,-127 142.5,-121 142.5,-115 142.5,-115 142.5,-86 142.5,-86 142.5,-80 148.5,-74 154.5,-74 154.5,-74 261.5,-74 261.5,-74 267.5,-74 273.5,-80 273.5,-86 273.5,-86 273.5,-115 273.5,-115 273.5,-121 267.5,-127 261.5,-127\"/>\n",
       "<text text-anchor=\"start\" x=\"150.5\" y=\"-111.8\" font-family=\"Helvetica,sans-Serif\" font-size=\"14.00\">HHLARGE ≤ 0.102</text>\n",
       "<text text-anchor=\"start\" x=\"159.5\" y=\"-96.8\" font-family=\"Helvetica,sans-Serif\" font-size=\"14.00\">samples = 6520</text>\n",
       "<text text-anchor=\"start\" x=\"152\" y=\"-81.8\" font-family=\"Helvetica,sans-Serif\" font-size=\"14.00\">value = 13061.418</text>\n",
       "</g>\n",
       "<!-- 0&#45;&gt;1 -->\n",
       "<g id=\"edge1\" class=\"edge\">\n",
       "<title>0&#45;&gt;1</title>\n",
       "<path fill=\"none\" stroke=\"black\" d=\"M260.2,-162.87C252.81,-154.18 244.45,-144.35 236.61,-135.14\"/>\n",
       "<polygon fill=\"black\" stroke=\"black\" points=\"239.05,-132.6 229.9,-127.25 233.72,-137.13 239.05,-132.6\"/>\n",
       "<text text-anchor=\"middle\" x=\"227.89\" y=\"-148.47\" font-family=\"Helvetica,sans-Serif\" font-size=\"14.00\">True</text>\n",
       "</g>\n",
       "<!-- 4 -->\n",
       "<g id=\"node5\" class=\"node\">\n",
       "<title>4</title>\n",
       "<path fill=\"none\" stroke=\"black\" d=\"M408,-127C408,-127 304,-127 304,-127 298,-127 292,-121 292,-115 292,-115 292,-86 292,-86 292,-80 298,-74 304,-74 304,-74 408,-74 408,-74 414,-74 420,-80 420,-86 420,-86 420,-115 420,-115 420,-121 414,-127 408,-127\"/>\n",
       "<text text-anchor=\"start\" x=\"306\" y=\"-111.8\" font-family=\"Helvetica,sans-Serif\" font-size=\"14.00\">HVAL150 ≤ 0.87</text>\n",
       "<text text-anchor=\"start\" x=\"311\" y=\"-96.8\" font-family=\"Helvetica,sans-Serif\" font-size=\"14.00\">samples = 234</text>\n",
       "<text text-anchor=\"start\" x=\"300\" y=\"-81.8\" font-family=\"Helvetica,sans-Serif\" font-size=\"14.00\">value = 30047.453</text>\n",
       "</g>\n",
       "<!-- 0&#45;&gt;4 -->\n",
       "<g id=\"edge4\" class=\"edge\">\n",
       "<title>0&#45;&gt;4</title>\n",
       "<path fill=\"none\" stroke=\"black\" d=\"M303.8,-162.87C311.19,-154.18 319.55,-144.35 327.39,-135.14\"/>\n",
       "<polygon fill=\"black\" stroke=\"black\" points=\"330.28,-137.13 334.1,-127.25 324.95,-132.6 330.28,-137.13\"/>\n",
       "<text text-anchor=\"middle\" x=\"336.11\" y=\"-148.47\" font-family=\"Helvetica,sans-Serif\" font-size=\"14.00\">False</text>\n",
       "</g>\n",
       "<!-- 2 -->\n",
       "<g id=\"node3\" class=\"node\">\n",
       "<title>2</title>\n",
       "<path fill=\"none\" stroke=\"black\" d=\"M116,-38C116,-38 12,-38 12,-38 6,-38 0,-32 0,-26 0,-26 0,-12 0,-12 0,-6 6,0 12,0 12,0 116,0 116,0 122,0 128,-6 128,-12 128,-12 128,-26 128,-26 128,-32 122,-38 116,-38\"/>\n",
       "<text text-anchor=\"start\" x=\"15.5\" y=\"-22.8\" font-family=\"Helvetica,sans-Serif\" font-size=\"14.00\">samples = 2108</text>\n",
       "<text text-anchor=\"start\" x=\"8\" y=\"-7.8\" font-family=\"Helvetica,sans-Serif\" font-size=\"14.00\">value = 16213.131</text>\n",
       "</g>\n",
       "<!-- 1&#45;&gt;2 -->\n",
       "<g id=\"edge2\" class=\"edge\">\n",
       "<title>1&#45;&gt;2</title>\n",
       "<path fill=\"none\" stroke=\"black\" d=\"M161.64,-73.91C143.72,-64.01 123.36,-52.77 105.88,-43.12\"/>\n",
       "<polygon fill=\"black\" stroke=\"black\" points=\"107.48,-40.01 97.04,-38.24 104.1,-46.14 107.48,-40.01\"/>\n",
       "</g>\n",
       "<!-- 3 -->\n",
       "<g id=\"node4\" class=\"node\">\n",
       "<title>3</title>\n",
       "<path fill=\"none\" stroke=\"black\" d=\"M262,-38C262,-38 158,-38 158,-38 152,-38 146,-32 146,-26 146,-26 146,-12 146,-12 146,-6 152,0 158,0 158,0 262,0 262,0 268,0 274,-6 274,-12 274,-12 274,-26 274,-26 274,-32 268,-38 262,-38\"/>\n",
       "<text text-anchor=\"start\" x=\"161.5\" y=\"-22.8\" font-family=\"Helvetica,sans-Serif\" font-size=\"14.00\">samples = 4412</text>\n",
       "<text text-anchor=\"start\" x=\"154\" y=\"-7.8\" font-family=\"Helvetica,sans-Serif\" font-size=\"14.00\">value = 11555.568</text>\n",
       "</g>\n",
       "<!-- 1&#45;&gt;3 -->\n",
       "<g id=\"edge3\" class=\"edge\">\n",
       "<title>1&#45;&gt;3</title>\n",
       "<path fill=\"none\" stroke=\"black\" d=\"M208.64,-73.91C208.85,-65.74 209.08,-56.65 209.29,-48.3\"/>\n",
       "<polygon fill=\"black\" stroke=\"black\" points=\"212.79,-48.32 209.54,-38.24 205.79,-48.15 212.79,-48.32\"/>\n",
       "</g>\n",
       "<!-- 5 -->\n",
       "<g id=\"node6\" class=\"node\">\n",
       "<title>5</title>\n",
       "<path fill=\"none\" stroke=\"black\" d=\"M403.5,-38C403.5,-38 306.5,-38 306.5,-38 300.5,-38 294.5,-32 294.5,-26 294.5,-26 294.5,-12 294.5,-12 294.5,-6 300.5,0 306.5,0 306.5,0 403.5,0 403.5,0 409.5,0 415.5,-6 415.5,-12 415.5,-12 415.5,-26 415.5,-26 415.5,-32 409.5,-38 403.5,-38\"/>\n",
       "<text text-anchor=\"start\" x=\"314\" y=\"-22.8\" font-family=\"Helvetica,sans-Serif\" font-size=\"14.00\">samples = 75</text>\n",
       "<text text-anchor=\"start\" x=\"302.5\" y=\"-7.8\" font-family=\"Helvetica,sans-Serif\" font-size=\"14.00\">value = 38420.48</text>\n",
       "</g>\n",
       "<!-- 4&#45;&gt;5 -->\n",
       "<g id=\"edge5\" class=\"edge\">\n",
       "<title>4&#45;&gt;5</title>\n",
       "<path fill=\"none\" stroke=\"black\" d=\"M355.68,-73.91C355.58,-65.74 355.46,-56.65 355.36,-48.3\"/>\n",
       "<polygon fill=\"black\" stroke=\"black\" points=\"358.86,-48.19 355.23,-38.24 351.86,-48.28 358.86,-48.19\"/>\n",
       "</g>\n",
       "<!-- 6 -->\n",
       "<g id=\"node7\" class=\"node\">\n",
       "<title>6</title>\n",
       "<path fill=\"none\" stroke=\"black\" d=\"M550,-38C550,-38 446,-38 446,-38 440,-38 434,-32 434,-26 434,-26 434,-12 434,-12 434,-6 440,0 446,0 446,0 550,0 550,0 556,0 562,-6 562,-12 562,-12 562,-26 562,-26 562,-32 556,-38 550,-38\"/>\n",
       "<text text-anchor=\"start\" x=\"453\" y=\"-22.8\" font-family=\"Helvetica,sans-Serif\" font-size=\"14.00\">samples = 159</text>\n",
       "<text text-anchor=\"start\" x=\"442\" y=\"-7.8\" font-family=\"Helvetica,sans-Serif\" font-size=\"14.00\">value = 26097.912</text>\n",
       "</g>\n",
       "<!-- 4&#45;&gt;6 -->\n",
       "<g id=\"edge6\" class=\"edge\">\n",
       "<title>4&#45;&gt;6</title>\n",
       "<path fill=\"none\" stroke=\"black\" d=\"M401.71,-73.91C419.22,-64.1 439.1,-52.98 456.22,-43.39\"/>\n",
       "<polygon fill=\"black\" stroke=\"black\" points=\"458.41,-46.18 465.42,-38.24 454.99,-40.07 458.41,-46.18\"/>\n",
       "</g>\n",
       "</g>\n",
       "</svg>\n"
      ],
      "text/plain": [
       "<graphviz.sources.Source at 0x7fbf59847dc0>"
      ]
     },
     "execution_count": 5,
     "metadata": {},
     "output_type": "execute_result"
    }
   ],
   "source": [
    "# We will use the graphviz library to plot the tree:\n",
    "import graphviz \n",
    "dot_data = tree.export_graphviz(oj_tree, out_file=None,\n",
    "                                feature_names=OJ_columns, impurity = False, \n",
    "                                   rounded=True,  \n",
    "                                  special_characters=True) \n",
    "graph = graphviz.Source(dot_data) \n",
    "graph.render(\"OJ\") \n",
    "graph"
   ]
  },
  {
   "cell_type": "markdown",
   "metadata": {},
   "source": [
    "## Looking Under the Hood\n",
    "\n",
    "Have you ever wondered how a regression or classification tree is internally stored? \n",
    "\n",
    "The topology of a regression or a classification tree, such as the one above, is a _binary_ tree: each node in the tree has at most two child nodes. To specify it, we need to specify for each node what the left and right child nodes are. \n",
    "\n",
    "When you fit a tree using `DecisionTreeRegressor`, you can access the `.tree_.children_left` and `.tree_.children_right` attributes to extract the topology:"
   ]
  },
  {
   "cell_type": "code",
   "execution_count": 6,
   "metadata": {},
   "outputs": [
    {
     "name": "stdout",
     "output_type": "stream",
     "text": [
      "[ 1  2 -1 -1  5 -1 -1]\n",
      "[ 4  3 -1 -1  6 -1 -1]\n"
     ]
    }
   ],
   "source": [
    "# oj_tree.tree_.children_left\n",
    "# oj_tree.tree_.\n",
    "\n",
    "print(oj_tree.tree_.children_left)\n",
    "print(oj_tree.tree_.children_right)"
   ]
  },
  {
   "cell_type": "markdown",
   "metadata": {},
   "source": [
    "What do these numbers mean? \n",
    "\n",
    "Notice that each array is of size 7:"
   ]
  },
  {
   "cell_type": "code",
   "execution_count": 7,
   "metadata": {},
   "outputs": [
    {
     "name": "stdout",
     "output_type": "stream",
     "text": [
      "7\n",
      "7\n"
     ]
    }
   ],
   "source": [
    "print(len(oj_tree.tree_.children_left))\n",
    "print(len(oj_tree.tree_.children_right))"
   ]
  },
  {
   "cell_type": "markdown",
   "metadata": {},
   "source": [
    "The number 7 is the number of nodes in the tree. The first node, node 0, is the root of the tree. The numbers in `tree_.children_left` give the index of the node that is the left child. For example:"
   ]
  },
  {
   "cell_type": "code",
   "execution_count": 8,
   "metadata": {},
   "outputs": [
    {
     "name": "stdout",
     "output_type": "stream",
     "text": [
      "1\n",
      "2\n",
      "-1\n"
     ]
    }
   ],
   "source": [
    "print(oj_tree.tree_.children_left[0]) # index of left child of node 0 => 1\n",
    "print(oj_tree.tree_.children_left[1]) # index of left child of node 1 => 2\n",
    "print(oj_tree.tree_.children_left[2]) # index of left child of node 2 => -1"
   ]
  },
  {
   "cell_type": "markdown",
   "metadata": {},
   "source": [
    "In the above, -1 shows up because node 2 has no children -- it is a leaf!\n",
    "\n",
    "The numbers in `tree_.children_right` have a similar meaning."
   ]
  },
  {
   "cell_type": "code",
   "execution_count": 9,
   "metadata": {},
   "outputs": [
    {
     "name": "stdout",
     "output_type": "stream",
     "text": [
      "4\n",
      "3\n",
      "-1\n"
     ]
    }
   ],
   "source": [
    "print(oj_tree.tree_.children_right[0]) # index of right child of node 0 => 4\n",
    "print(oj_tree.tree_.children_right[1]) # index of right child of node 1 => 3\n",
    "print(oj_tree.tree_.children_right[2]) # index of right child of node 2 => -1"
   ]
  },
  {
   "cell_type": "markdown",
   "metadata": {},
   "source": [
    "It is perhaps easier to understand it if we draw out how the node indices are connected together:\n",
    "\n",
    "<!-- ![tree_example.png](attachment:tree_example.png) -->\n",
    "\n",
    "<img src=\"http://vvmisic.github.io/msba408/tree_example.png\" alt=\"Tree topology\" style=\"width: 200px;\"/>\n"
   ]
  },
  {
   "cell_type": "markdown",
   "metadata": {},
   "source": [
    "This is useful to know, because now we know the indices of the leaves. We will use this to construct our newsvendor quantiles for each leaf."
   ]
  },
  {
   "cell_type": "markdown",
   "metadata": {},
   "source": [
    "## Getting the decision for each leaf\n",
    "\n",
    "Now that we know how the leaves are numbered we can make sense of the `apply` function:\n"
   ]
  },
  {
   "cell_type": "code",
   "execution_count": 10,
   "metadata": {},
   "outputs": [
    {
     "name": "stdout",
     "output_type": "stream",
     "text": [
      "[2, 3, 2, 3, 3, 3, 3, 2, 2, 2, 2, 2, 3, 3, 2, 3, 3, 3, 3, 2, 3, 2, 3, 3, 3, 2, 3, 2, 2, 3, 3, 3, 2, 3, 3, 3, 3, 3, 3, 3, 2, 6, 3, 3, 2, 2, 3, 3, 5, 3, 3, 3, 3, 3, 2, 2, 3, 3, 2, 2, 3, 3, 5, 2, 3, 3, 2, 3, 2, 3, 3, 3, 3, 3, 3, 3, 3, 3, 3, 2, 3, 2, 3, 2, 3, 3, 3, 3, 3, 2, 3, 3, 3, 2, 3, 3, 2, 3, 3, 3, 3, 2, 3, 3, 3, 3, 3, 3, 3, 3, 3, 2, 3, 2, 2, 3, 3, 2, 3, 3, 3, 3, 3, 2, 3, 3, 3, 3, 2, 3, 3, 2, 3, 3, 2, 3, 2, 2, 3, 2, 3, 3, 2, 3, 2, 3, 3, 3, 3, 2, 3, 3, 3, 6, 2, 6, 3, 3, 2, 3, 3, 2, 2, 3, 3, 3, 3, 3, 3, 2, 3, 2, 3, 3, 2, 3, 2, 3, 3, 3, 3, 3, 3, 3, 3, 3, 2, 3, 3, 3, 3, 3, 3, 3, 3, 2, 2, 3, 3, 2, 3, 2, 3, 2, 3, 3, 2, 3, 6, 3, 2, 3, 3, 3, 2, 2, 3, 3, 2, 2, 3, 3, 2, 3, 2, 2, 2, 2, 3, 2, 3, 2, 3, 3, 2, 3, 3, 3, 3, 3, 3, 2, 3, 3, 2, 3, 3, 3, 3, 3, 3, 3, 2, 2, 3, 3, 2, 3, 2, 3, 2, 3, 3, 3, 3, 3, 2, 2, 3, 3, 3, 2, 3, 3, 2, 3, 3, 5, 3, 3, 3, 3, 3, 2, 3, 3, 3, 2, 3, 2, 5, 3, 2, 3, 3, 2, 3, 3, 3, 3, 2, 3, 3, 3, 3, 3, 2, 2, 3, 3, 3, 3, 3, 3, 3, 2, 3, 3, 3, 3, 2, 2, 2, 3, 2, 3, 3, 3, 2, 3, 3, 3, 2, 3, 3, 3, 3, 3, 3, 3, 3, 2, 3, 3, 3, 3, 3, 3, 3, 2, 3, 2, 2, 3, 2, 3, 3, 3, 3, 3, 3, 3, 3, 6, 3, 6, 3, 2, 3, 3, 2, 3, 3, 3, 3, 3, 2, 3, 3, 3, 3, 3, 3, 3, 6, 2, 3, 3, 3, 6, 3, 2, 5, 2, 2, 5, 5, 3, 3, 3, 6, 3, 2, 2, 3, 3, 3, 3, 3, 3, 3, 3, 3, 3, 2, 3, 3, 2, 3, 3, 3, 3, 3, 2, 3, 2, 2, 3, 3, 3, 2, 3, 3, 2, 3, 3, 3, 3, 3, 3, 3, 3, 2, 3, 3, 3, 3, 3, 3, 3, 3, 3, 2, 3, 2, 2, 2, 2, 3, 3, 3, 2, 3, 2, 3, 3, 3, 2, 3, 3, 2, 3, 3, 3, 3, 2, 3, 2, 2, 3, 3, 3, 3, 3, 3, 2, 2, 5, 2, 3, 2, 3, 3, 2, 3, 2, 6, 3, 2, 2, 3, 3, 2, 2, 2, 3, 3, 3, 3, 3, 3, 3, 3, 2, 3, 3, 3, 3, 2, 2, 3, 3, 3, 3, 2, 2, 2, 3, 3, 2, 3, 3, 3, 2, 3, 3, 3, 2, 3, 3, 3, 3, 2, 3, 3, 3, 2, 2, 3, 3, 3, 3, 3, 3, 3, 3, 3, 2, 3, 2, 2, 2, 3, 3, 3, 3, 2, 3, 2, 3, 3, 3, 3, 2, 3, 2, 3, 3, 3, 3, 3, 3, 2, 3, 3, 2, 2, 3, 2, 3, 3, 3, 6, 2, 3, 3, 3, 3, 3, 2, 2, 2, 3, 3, 3, 3, 3, 2, 2, 2, 3, 3, 3, 3, 3, 3, 3, 3, 3, 3, 2, 3, 3, 3, 3, 3, 3, 2, 3, 2, 2, 3, 2, 2, 2, 3, 3, 3, 3, 3, 2, 3, 3, 3, 3, 3, 2, 3, 2, 2, 2, 3, 3, 3, 2, 3, 3, 2, 3, 3, 3, 3, 3, 2, 2, 6, 2, 2, 2, 2, 3, 3, 3, 3, 2, 3, 3, 3, 2, 2, 3, 2, 3, 2, 3, 3, 3, 3, 2, 2, 3, 3, 3, 3, 3, 3, 3, 6, 3, 3, 2, 3, 3, 3, 3, 2, 3, 3, 3, 2, 3, 3, 3, 2, 3, 2, 3, 2, 2, 2, 3, 3, 3, 3, 3, 3, 2, 3, 2, 2, 2, 3, 3, 3, 2, 3, 3, 3, 2, 2, 3, 3, 2, 3, 2, 2, 3, 2, 2, 2, 2, 3, 3, 3, 5, 3, 3, 2, 3, 2, 3, 3, 3, 3, 2, 3, 2, 3, 3, 6, 2, 3, 2, 3, 2, 3, 2, 2, 2, 3, 3, 2, 3, 3, 3, 3, 3, 3, 3, 2, 2, 3, 3, 2, 2, 3, 3, 3, 3, 3, 3, 3, 3, 3, 3, 3, 3, 2, 2, 3, 2, 2, 3, 3, 2, 2, 6, 3, 3, 3, 3, 2, 3, 3, 3, 2, 2, 6, 3, 2, 2, 3, 3, 2, 3, 3, 2, 2, 3, 2, 3, 3, 3, 3, 3, 3, 3, 2, 2, 3, 3, 2, 2, 3, 3, 3, 2, 2, 3, 3, 3, 3, 2, 3, 2, 3, 2, 3, 3, 3, 3, 3, 3, 3, 3, 3, 3, 2, 2, 3, 2, 3, 3, 3, 2, 3, 3, 3, 2, 3, 2, 3, 3, 2, 3, 3, 2, 6, 2, 3, 3, 2, 3, 3, 3, 3, 3, 3, 2, 2, 3, 2, 3, 2, 2, 3, 2, 3, 3, 2, 3, 3, 3, 3, 3, 3, 2, 3, 3, 3, 3, 3, 2, 3, 2, 6, 3, 3, 3, 2, 3, 3, 3, 3, 3, 2, 2, 3, 2, 3, 2, 3, 3, 2, 2, 2, 3, 2, 2, 3, 3, 3, 3, 2, 3, 2, 3, 3, 3, 3, 3, 3, 3, 2, 2, 3, 3, 3, 3, 3, 2, 6, 3, 3, 6, 3, 3, 3, 3, 3, 2, 2, 3, 3, 2, 6, 3, 3, 2, 3, 3, 2, 3, 3, 3, 3, 3, 3, 3, 5, 3, 3, 3, 2, 3, 3, 3, 2, 2, 3, 3, 3, 3, 3, 3, 2, 3, 3, 3, 3, 2, 2, 3, 3, 3, 2, 3, 2, 2, 3, 3, 3, 3, 2, 3, 2, 3, 3, 3, 2, 2, 3, 3, 2, 3, 3, 3, 2, 3, 2, 3, 3, 2, 3, 3, 3, 3, 2, 2, 6, 2, 3, 2, 3, 3, 2, 3, 3, 3, 3, 2, 3, 3, 3, 2, 3, 3, 2, 2, 3, 2, 3, 3, 3, 3, 3, 2, 2, 2, 2, 2, 3, 2, 3, 3, 3, 2, 3, 2, 3, 2, 2, 3, 2, 3, 3, 2, 2, 2, 3, 3, 3, 3, 3, 3, 3, 2, 2, 3, 3, 2, 6, 2, 3, 3, 3, 2, 3, 3, 3, 3, 3, 3, 2, 2, 2, 2, 2, 3, 2, 3, 3, 3, 3, 2, 3, 3, 3, 3, 3, 2, 3, 2, 3, 3, 3, 3, 3, 2, 3, 3, 3, 3, 2, 2, 3, 3, 6, 5, 3, 2, 3, 2, 3, 2, 2, 2, 3, 3, 3, 3, 3, 3, 2, 3, 3, 3, 3, 3, 2, 3, 2, 2, 3, 3, 3, 3, 3, 3, 3, 2, 3, 3, 3, 3, 3, 3, 3, 3, 2, 3, 3, 3, 3, 3, 3, 3, 2, 3, 3, 3, 2, 3, 3, 3, 3, 3, 3, 3, 2, 3, 3, 3, 3, 3, 2, 3, 2, 3, 3, 3, 3, 3, 3, 3, 2, 3, 3, 2, 3, 3, 3, 3, 3, 3, 2, 3, 3, 3, 3, 3, 2, 3, 3, 6, 2, 2, 3, 3, 3, 3, 6, 3, 2, 3, 3, 5, 3, 3, 3, 2, 3, 3, 3, 2, 3, 3, 2, 3, 3, 2, 3, 2, 2, 3, 3, 2, 3, 2, 2, 2, 2, 3, 2, 3, 2, 3, 3, 3, 2, 3, 2, 2, 6, 2, 2, 3, 3, 3, 3, 3, 2, 3, 3, 2, 3, 3, 3, 2, 3, 2, 3, 3, 3, 3, 2, 3, 2, 3, 3, 3, 3, 2, 3, 2, 3, 2, 3, 2, 3, 3, 2, 3, 3, 3, 3, 3, 3, 3, 2, 3, 3, 3, 3, 5, 6, 2, 3, 3, 3, 3, 3, 3, 5, 3, 3, 2, 3, 3, 3, 3, 3, 2, 3, 3, 3, 3, 3, 3, 3, 2, 3, 3, 3, 3, 3, 2, 3, 2, 3, 3, 3, 2, 2, 2, 2, 2, 2, 3, 2, 3, 3, 3, 3, 3, 3, 3, 2, 2, 3, 3, 2, 3, 3, 3, 2, 3, 2, 3, 3, 3, 3, 3, 3, 2, 2, 3, 3, 2, 3, 3, 3, 3, 2, 2, 2, 2, 3, 3, 3, 3, 3, 2, 2, 2, 3, 3, 3, 6, 3, 3, 2, 3, 3, 6, 2, 3, 3, 3, 2, 3, 2, 3, 2, 2, 3, 3, 3, 3, 3, 3, 2, 3, 3, 3, 3, 3, 2, 3, 2, 3, 3, 3, 2, 2, 2, 3, 2, 2, 3, 2, 2, 3, 3, 2, 3, 3, 3, 3, 2, 2, 2, 2, 3, 2, 2, 3, 3, 2, 2, 3, 3, 3, 3, 3, 3, 6, 6, 2, 2, 2, 3, 3, 2, 3, 2, 2, 3, 3, 2, 2, 3, 3, 3, 2, 2, 3, 2, 2, 3, 3, 3, 3, 3, 3, 2, 2, 2, 3, 3, 3, 3, 2, 3, 3, 2, 3, 3, 2, 3, 2, 3, 3, 2, 2, 3, 3, 2, 3, 3, 3, 3, 3, 3, 2, 3, 3, 2, 2, 3, 2, 3, 3, 3, 2, 2, 3, 3, 3, 3, 3, 3, 3, 3, 2, 3, 2, 2, 6, 3, 3, 2, 2, 3, 3, 3, 2, 3, 5, 3, 2, 3, 2, 3, 3, 2, 3, 2, 3, 3, 3, 3, 3, 6, 3, 6, 3, 3, 2, 3, 3, 3, 3, 3, 3, 3, 3, 3, 3, 3, 3, 6, 2, 3, 3, 3, 3, 3, 2, 3, 3, 3, 2, 2, 3, 3, 2, 3, 3, 3, 3, 2, 2, 3, 3, 3, 2, 2, 2, 3, 3, 3, 3, 3, 2, 3, 3, 2, 3, 3, 3, 2, 3, 2, 2, 2, 3, 3, 3, 3, 3, 3, 3, 2, 3, 5, 3, 2, 3, 3, 3, 2, 3, 3, 2, 3, 3, 3, 3, 2, 3, 3, 2, 3, 3, 3, 3, 3, 3, 3, 3, 3, 3, 2, 2, 3, 3, 2, 3, 3, 2, 3, 2, 3, 3, 5, 2, 3, 2, 6, 3, 2, 3, 2, 2, 3, 3, 3, 2, 3, 3, 3, 6, 2, 3, 2, 2, 2, 2, 2, 3, 2, 3, 3, 3, 3, 3, 3, 2, 3, 3, 3, 3, 6, 3, 2, 3, 3, 3, 3, 3, 2, 3, 3, 3, 3, 3, 3, 3, 6, 2, 3, 2, 3, 2, 3, 3, 3, 3, 2, 3, 2, 3, 3, 3, 3, 3, 3, 3, 2, 3, 3, 3, 2, 3, 3, 2, 3, 2, 2, 3, 3, 3, 3, 3, 3, 3, 3, 3, 2, 3, 2, 3, 2, 2, 2, 2, 3, 2, 3, 2, 2, 3, 3, 2, 3, 2, 3, 3, 2, 3, 2, 3, 3, 2, 2, 3, 2, 3, 3, 2, 3, 2, 2, 3, 3, 3, 3, 3, 3, 2, 3, 2, 3, 3, 3, 3, 2, 2, 3, 3, 3, 3, 3, 2, 5, 3, 3, 2, 3, 3, 2, 2, 2, 3, 2, 3, 3, 3, 3, 2, 3, 3, 3, 2, 3, 3, 2, 2, 3, 3, 2, 3, 3, 3, 6, 2, 3, 3, 2, 2, 2, 2, 2, 3, 2, 5, 3, 2, 3, 2, 2, 3, 3, 2, 2, 3, 3, 3, 2, 3, 3, 2, 6, 3, 3, 3, 2, 3, 2, 3, 3, 6, 2, 3, 3, 3, 2, 3, 3, 3, 3, 3, 3, 3, 2, 3, 2, 3, 2, 3, 3, 2, 3, 3, 3, 3, 3, 3, 2, 5, 2, 3, 3, 3, 3, 2, 3, 3, 3, 2, 2, 3, 3, 2, 3, 3, 2, 3, 3, 3, 3, 2, 2, 3, 3, 2, 2, 3, 3, 3, 2, 3, 3, 3, 3, 6, 2, 3, 5, 3, 2, 3, 3, 3, 3, 3, 3, 3, 3, 2, 3, 3, 3, 3, 2, 3, 3, 3, 3, 3, 3, 3, 3, 3, 2, 3, 3, 3, 3, 2, 3, 3, 3, 6, 2, 3, 3, 3, 3, 3, 3, 3, 3, 3, 3, 3, 3, 3, 2, 3, 3, 3, 3, 3, 3, 3, 2, 3, 3, 3, 2, 3, 2, 2, 5, 2, 3, 3, 3, 3, 2, 2, 2, 3, 3, 3, 3, 3, 2, 3, 2, 2, 3, 3, 2, 3, 6, 2, 6, 3, 3, 6, 3, 3, 3, 2, 3, 3, 3, 3, 3, 2, 2, 6, 2, 3, 2, 3, 2, 2, 3, 3, 3, 3, 3, 6, 3, 3, 3, 3, 5, 2, 6, 3, 3, 3, 3, 3, 2, 2, 3, 2, 3, 3, 3, 2, 3, 2, 3, 3, 2, 3, 3, 3, 3, 3, 3, 2, 3, 2, 3, 3, 2, 3, 3, 3, 3, 6, 3, 3, 3, 3, 2, 3, 3, 2, 2, 3, 3, 3, 3, 2, 3, 3, 2, 3, 2, 3, 3, 2, 3, 3, 2, 3, 3, 3, 3, 2, 3, 3, 2, 2, 2, 3, 3, 2, 3, 6, 2, 3, 3, 3, 3, 2, 2, 3, 3, 2, 3, 3, 2, 3, 2, 2, 2, 3, 3, 3, 5, 3, 2, 3, 3, 3, 3, 6, 2, 3, 2, 3, 3, 3, 3, 3, 2, 3, 3, 3, 2, 2, 3, 3, 3, 3, 2, 3, 2, 3, 3, 3, 3, 3, 3, 2, 3, 3, 6, 3, 3, 2, 3, 3, 2, 3, 3, 2, 2, 6, 2, 3, 3, 3, 2, 3, 3, 2, 3, 3, 2, 2, 3, 2, 3, 3, 5, 3, 3, 3, 3, 3, 3, 3, 5, 2, 2, 3, 3, 2, 2, 3, 3, 2, 2, 2, 3, 3, 3, 3, 2, 3, 3, 2, 2, 3, 2, 3, 2, 2, 3, 2, 3, 2, 2, 3, 3, 3, 2, 3, 3, 3, 3, 3, 3, 3, 2, 6, 3, 3, 2, 3, 2, 3, 2, 3, 3, 3, 2, 3, 2, 6, 3, 3, 3, 3, 3, 2, 3, 3, 3, 3, 3, 2, 2, 3, 2, 3, 3, 3, 3, 3, 3, 3, 2, 3, 2, 2, 2, 3, 3, 3, 3, 3, 3, 3, 3, 3, 3, 2, 2, 3, 2, 3, 3, 6, 3, 3, 2, 3, 3, 3, 3, 3, 3, 3, 3, 3, 2, 3, 3, 3, 3, 2, 3, 3, 3, 3, 3, 3, 2, 3, 3, 3, 3, 3, 3, 3, 3, 3, 2, 3, 2, 2, 3, 3, 3, 3, 3, 3, 2, 3, 3, 3, 3, 3, 2, 3, 2, 3, 3, 2, 2, 3, 3, 2, 3, 3, 3, 3, 2, 6, 3, 2, 3, 3, 3, 3, 3, 2, 3, 3, 3, 3, 2, 2, 3, 2, 3, 3, 3, 3, 2, 2, 5, 2, 3, 2, 2, 3, 3, 3, 2, 2, 6, 3, 3, 3, 3, 3, 3, 3, 2, 2, 3, 2, 2, 3, 3, 3, 3, 2, 3, 3, 3, 3, 2, 6, 2, 3, 3, 3, 6, 2, 3, 3, 2, 3, 3, 2, 3, 2, 2, 2, 3, 2, 2, 3, 3, 2, 3, 3, 3, 3, 3, 3, 3, 3, 3, 2, 3, 3, 2, 3, 3, 2, 2, 3, 3, 3, 3, 2, 2, 2, 3, 3, 3, 2, 3, 2, 3, 2, 3, 3, 3, 3, 3, 3, 3, 2, 6, 3, 3, 3, 3, 3, 3, 3, 3, 2, 2, 2, 3, 2, 3, 2, 2, 3, 3, 2, 3, 2, 2, 2, 3, 3, 3, 3, 3, 3, 3, 2, 3, 2, 3, 2, 3, 2, 3, 3, 2, 6, 2, 3, 3, 2, 3, 3, 3, 2, 2, 3, 3, 3, 3, 3, 3, 3, 3, 2, 2, 3, 3, 3, 2, 3, 2, 2, 3, 3, 3, 3, 3, 2, 3, 2, 2, 3, 2, 3, 6, 2, 3, 3, 3, 2, 3, 3, 2, 2, 3, 2, 3, 2, 2, 2, 3, 3, 3, 3, 3, 3, 3, 3, 3, 6, 3, 2, 3, 3, 3, 3, 3, 2, 3, 2, 2, 2, 2, 2, 3, 3, 2, 3, 3, 3, 3, 3, 3, 2, 3, 3, 3, 3, 3, 3, 3, 3, 3, 2, 2, 2, 2, 2, 3, 3, 5, 2, 2, 2, 2, 3, 2, 2, 3, 3, 3, 2, 3, 2, 3, 2, 3, 3, 3, 3, 3, 2, 2, 3, 5, 2, 3, 3, 2, 3, 3, 3, 3, 2, 3, 2, 2, 3, 3, 3, 3, 3, 6, 3, 3, 3, 2, 3, 2, 2, 3, 3, 3, 3, 2, 3, 3, 2, 2, 2, 6, 3, 3, 3, 3, 3, 3, 3, 3, 3, 3, 3, 3, 3, 3, 3, 3, 2, 3, 3, 3, 3, 2, 2, 3, 3, 3, 2, 6, 3, 3, 3, 3, 3, 3, 3, 2, 3, 3, 3, 3, 3, 3, 3, 2, 3, 3, 2, 3, 3, 3, 3, 2, 3, 2, 3, 3, 3, 3, 2, 3, 3, 3, 6, 3, 3, 3, 3, 3, 2, 3, 2, 2, 2, 2, 3, 3, 2, 3, 3, 3, 2, 3, 3, 2, 3, 2, 3, 3, 3, 2, 3, 3, 3, 3, 3, 3, 3, 2, 3, 3, 2, 2, 2, 6, 3, 3, 2, 3, 2, 3, 2, 3, 3, 3, 3, 3, 2, 2, 2, 3, 3, 3, 3, 3, 2, 2, 2, 3, 2, 3, 2, 3, 3, 3, 2, 3, 3, 3, 3, 3, 3, 3, 2, 3, 3, 3, 3, 2, 2, 2, 3, 3, 3, 3, 3, 3, 3, 6, 3, 3, 3, 3, 3, 3, 2, 3, 3, 3, 2, 2, 3, 2, 6, 3, 2, 3, 3, 2, 2, 3, 2, 3, 3, 3, 2, 3, 3, 3, 3, 2, 3, 3, 3, 3, 2, 2, 3, 3, 3, 2, 2, 3, 2, 3, 3, 2, 3, 3, 3, 3, 3, 3, 3, 3, 6, 3, 3, 6, 3, 3, 5, 3, 2, 3, 2, 3, 3, 3, 2, 3, 3, 3, 3, 3, 3, 2, 3, 2, 2, 2, 2, 2, 3, 3, 3, 3, 2, 3, 3, 3, 2, 3, 2, 2, 3, 3, 3, 3, 3, 3, 3, 6, 3, 2, 3, 3, 3, 3, 3, 3, 3, 2, 2, 2, 2, 2, 3, 2, 2, 3, 2, 2, 3, 3, 3, 2, 3, 3, 3, 2, 2, 3, 3, 2, 6, 3, 3, 3, 3, 3, 3, 3, 2, 3, 3, 2, 2, 3, 3, 2, 6, 2, 2, 3, 3, 3, 3, 2, 3, 3, 2, 2, 3, 2, 2, 6, 3, 3, 3, 3, 3, 2, 3, 2, 3, 6, 3, 5, 3, 3, 2, 2, 2, 2, 2, 3, 3, 3, 2, 2, 6, 2, 3, 3, 3, 2, 2, 3, 2, 3, 3, 3, 2, 3, 2, 2, 2, 2, 3, 2, 3, 3, 3, 3, 3, 3, 3, 2, 2, 3, 3, 2, 3, 3, 3, 2, 3, 3, 3, 3, 3, 2, 2, 3, 3, 3, 3, 3, 3, 3, 3, 2, 3, 3, 2, 2, 2, 3, 3, 2, 2, 3, 3, 3, 3, 3, 3, 3, 3, 2, 3, 2, 3, 3, 3, 3, 3, 2, 2, 2, 3, 2, 3, 3, 2, 3, 2, 6, 2, 3, 3, 2, 3, 3, 2, 3, 3, 3, 2, 3, 3, 3, 3, 5, 3, 2, 2, 3, 3, 3, 3, 2, 3, 3, 3, 3, 3, 3, 3, 3, 2, 3, 2, 3, 3, 2, 3, 3, 3, 3, 2, 3, 3, 2, 3, 3, 2, 3, 3, 3, 3, 5, 3, 3, 3, 3, 3, 3, 3, 3, 2, 2, 3, 3, 3, 3, 3, 3, 2, 2, 2, 3, 3, 3, 3, 3, 3, 3, 2, 2, 2, 3, 2, 2, 3, 2, 3, 3, 3, 3, 2, 3, 2, 3, 3, 2, 3, 2, 3, 6, 3, 2, 2, 2, 3, 3, 2, 3, 3, 3, 2, 3, 2, 3, 2, 3, 3, 3, 2, 2, 2, 3, 3, 3, 3, 6, 3, 3, 2, 6, 3, 2, 3, 2, 3, 2, 3, 2, 2, 3, 2, 2, 3, 3, 3, 3, 3, 2, 3, 3, 3, 3, 2, 2, 2, 2, 3, 3, 2, 2, 2, 2, 2, 3, 3, 3, 3, 3, 3, 3, 2, 3, 3, 3, 3, 3, 3, 6, 2, 3, 2, 3, 3, 3, 2, 3, 3, 2, 6, 2, 2, 3, 3, 2, 2, 3, 2, 3, 2, 3, 3, 2, 3, 3, 2, 3, 5, 3, 3, 3, 3, 3, 3, 2, 5, 3, 2, 3, 2, 3, 3, 3, 3, 3, 3, 3, 3, 3, 5, 2, 3, 3, 3, 2, 3, 3, 2, 2, 3, 3, 3, 2, 3, 3, 3, 2, 3, 2, 2, 2, 3, 3, 3, 3, 5, 3, 2, 3, 2, 3, 2, 6, 3, 3, 3, 2, 2, 2, 3, 3, 3, 3, 2, 2, 3, 3, 3, 5, 2, 2, 2, 3, 2, 3, 3, 2, 2, 3, 3, 2, 3, 3, 2, 3, 3, 3, 3, 3, 2, 3, 2, 2, 2, 3, 3, 3, 3, 2, 2, 3, 2, 3, 2, 2, 3, 2, 2, 3, 2, 2, 3, 3, 3, 2, 3, 2, 2, 3, 3, 2, 2, 3, 3, 3, 2, 3, 3, 2, 3, 3, 2, 2, 6, 2, 2, 2, 2, 3, 3, 2, 3, 3, 3, 3, 2, 3, 3, 3, 3, 3, 3, 3, 3, 3, 2, 3, 2, 2, 2, 3, 3, 2, 6, 3, 2, 3, 3, 3, 2, 3, 3, 3, 3, 3, 3, 3, 3, 3, 2, 3, 3, 3, 3, 3, 3, 3, 3, 6, 3, 2, 2, 2, 3, 2, 3, 3, 2, 3, 2, 3, 2, 3, 3, 3, 3, 2, 3, 2, 3, 2, 3, 3, 2, 3, 3, 3, 3, 3, 2, 3, 3, 3, 5, 3, 3, 5, 3, 6, 3, 3, 3, 3, 3, 3, 3, 2, 3, 3, 6, 3, 3, 3, 2, 6, 3, 3, 3, 3, 3, 3, 3, 3, 3, 2, 2, 3, 3, 3, 3, 3, 2, 5, 3, 3, 2, 3, 2, 3, 3, 3, 2, 3, 3, 3, 2, 2, 3, 3, 3, 3, 3, 2, 3, 3, 3, 3, 3, 3, 3, 3, 2, 2, 6, 3, 2, 3, 3, 3, 3, 2, 2, 2, 2, 3, 3, 3, 2, 3, 2, 2, 3, 3, 2, 2, 2, 2, 3, 2, 3, 3, 3, 3, 2, 3, 3, 3, 2, 2, 3, 3, 2, 3, 2, 3, 3, 3, 3, 3, 3, 3, 3, 3, 3, 3, 2, 2, 3, 3, 2, 3, 3, 2, 2, 3, 3, 3, 2, 3, 2, 3, 3, 2, 2, 2, 2, 3, 3, 2, 2, 3, 3, 2, 3, 2, 3, 2, 3, 2, 2, 3, 3, 3, 3, 3, 2, 3, 3, 3, 3, 3, 3, 3, 3, 2, 3, 3, 3, 2, 2, 2, 3, 3, 2, 3, 2, 3, 2, 2, 3, 2, 3, 2, 2, 3, 3, 3, 2, 3, 2, 2, 2, 3, 3, 3, 3, 2, 2, 3, 3, 2, 3, 3, 3, 3, 2, 3, 2, 3, 3, 2, 3, 3, 3, 3, 3, 3, 3, 3, 6, 3, 3, 2, 3, 3, 3, 2, 2, 2, 2, 2, 2, 3, 3, 3, 2, 3, 3, 3, 3, 2, 2, 3, 6, 2, 2, 2, 2, 3, 3, 3, 2, 3, 3, 2, 2, 2, 2, 3, 3, 3, 3, 5, 3, 2, 3, 3, 3, 3, 2, 2, 3, 2, 3, 3, 3, 3, 3, 2, 3, 3, 3, 2, 3, 3, 6, 3, 3, 2, 3, 3, 2, 2, 3, 2, 3, 2, 3, 3, 2, 3, 2, 3, 3, 3, 3, 3, 2, 3, 3, 3, 2, 3, 3, 3, 3, 3, 3, 3, 2, 3, 2, 3, 3, 6, 2, 3, 3, 3, 3, 2, 2, 2, 3, 3, 2, 3, 3, 2, 3, 3, 3, 3, 3, 3, 3, 2, 3, 3, 3, 6, 3, 3, 3, 3, 2, 2, 2, 3, 3, 3, 2, 3, 3, 3, 2, 3, 3, 2, 2, 2, 2, 2, 2, 3, 2, 3, 3, 2, 3, 3, 3, 3, 3, 2, 3, 3, 3, 3, 3, 3, 3, 2, 2, 2, 3, 3, 3, 2, 3, 3, 3, 3, 3, 2, 3, 3, 3, 3, 3, 3, 3, 3, 3, 3, 3, 3, 2, 3, 2, 3, 2, 3, 3, 2, 2, 3, 2, 2, 2, 3, 3, 3, 3, 3, 3, 6, 5, 3, 3, 3, 3, 3, 3, 3, 3, 3, 2, 3, 3, 2, 3, 3, 3, 3, 3, 3, 3, 6, 3, 3, 3, 3, 2, 3, 3, 2, 3, 3, 3, 3, 3, 2, 3, 3, 3, 5, 3, 3, 3, 3, 2, 2, 3, 2, 3, 3, 2, 3, 3, 3, 2, 3, 3, 3, 3, 3, 3, 2, 2, 2, 3, 2, 3, 3, 3, 2, 3, 2, 2, 2, 3, 3, 2, 3, 2, 3, 3, 3, 3, 2, 3, 3, 3, 3, 2, 2, 3, 3, 3, 3, 3, 3, 2, 3, 3, 3, 3, 3, 2, 2, 3, 2, 2, 3, 3, 2, 3, 3, 3, 3, 2, 3, 5, 3, 3, 2, 3, 3, 3, 2, 3, 3, 2, 5, 3, 3, 3, 3, 2, 3, 2, 3, 2, 3, 2, 3, 3, 3, 3, 3, 3, 3, 3, 3, 2, 3, 3, 2, 2, 2, 3, 2, 3, 3, 3, 3, 3, 3, 2, 2, 3, 3, 3, 3, 2, 2, 6, 3, 2, 2, 3, 2, 2, 3, 3, 3, 3, 3, 2, 2, 3, 3, 3, 3, 3, 3, 2, 3, 2, 6, 3, 3, 2, 3, 3, 3, 2, 3, 3, 3, 3, 3, 2, 2, 5, 2, 3, 3, 3, 2, 6, 3, 3, 3, 3, 3, 3, 3, 3, 2, 3, 2, 2, 3, 3, 3, 2, 5, 2, 2, 3, 3, 2, 2, 2, 3, 3, 3, 3, 2, 3, 3, 3, 3, 2, 2, 3, 2, 3, 3, 2, 3, 2, 3, 2, 3, 3, 2, 3, 3, 2, 3, 2, 3, 3, 3, 3, 3, 3, 3, 3, 3, 3, 2, 3, 2, 3, 3, 2, 3, 3, 2, 3, 2, 3, 3, 2, 3, 2, 2, 3, 2, 3, 2, 3, 3, 2, 2, 3, 3, 6, 3, 3, 3, 2, 2, 3, 3, 3, 3, 3, 3, 3, 3, 3, 2, 3, 2, 2, 3, 2, 3, 3, 2, 3, 2, 2, 5, 2, 2, 2, 3, 3, 2, 2, 3, 2, 3, 3, 3, 3, 3, 2, 3, 3, 3, 2, 2, 3, 3, 3, 3, 3, 3, 3, 3, 3, 2, 2, 2, 3, 2, 3, 2, 3, 2, 3, 3, 3, 3, 3, 3, 2, 3, 3, 3, 3, 3, 2, 2, 3, 3, 3, 3, 3, 3, 2, 2, 2, 2, 3, 3, 3, 3, 2, 3, 3, 3, 2, 2, 2, 2, 3, 3, 2, 3, 3, 3, 3, 2, 2, 3, 2, 2, 3, 2, 2, 5, 3, 2, 3, 3, 2, 3, 3, 2, 2, 3, 3, 3, 3, 3, 2, 6, 3, 3, 2, 2, 3, 6, 3, 3, 3, 3, 3, 2, 3, 3, 3, 3, 2, 3, 2, 3, 3, 3, 3, 2, 3, 3, 3, 3, 6, 3, 3, 2, 3, 2, 2, 2, 2, 3, 2, 2, 3, 3, 3, 3, 2, 3, 2, 3, 3, 3, 3, 2, 3, 2, 2, 3, 3, 3, 2, 2, 3, 3, 3, 2, 3, 3, 3, 2, 3, 3, 3, 2, 3, 3, 3, 3, 3, 3, 2, 6, 2, 3, 3, 6, 3, 3, 3, 3, 3, 3, 3, 2, 3, 3, 3, 3, 2, 3, 2, 2, 3, 2, 3, 3, 3, 3, 3, 3, 3, 3, 6, 3, 2, 3, 3, 2, 3, 3, 3, 3, 2, 3, 2, 3, 3, 2, 3, 2, 3, 2, 2, 3, 3, 3, 3, 3, 3, 3, 3, 3, 2, 3, 3, 2, 2, 3, 3, 2, 2, 3, 3, 2, 3, 3, 2, 2, 3, 3, 3, 3, 2, 3, 5, 3, 2, 2, 3, 3, 3, 2, 3, 3, 3, 3, 3, 3, 3, 2, 6, 2, 3, 2, 3, 3, 3, 3, 2, 3, 3, 3, 3, 3, 2, 3, 6, 2, 3, 2, 2, 3, 3, 3, 3, 3, 3, 3, 3, 3, 2, 2, 2, 5, 2, 3, 3, 3, 3, 3, 6, 3, 3, 2, 3, 2, 3, 3, 2, 3, 2, 2, 2, 3, 3, 2, 3, 2, 2, 3, 3, 2, 2, 3, 3, 3, 3, 3, 3, 3, 5, 3, 3, 3, 2, 3, 3, 3, 2, 3, 3, 3, 3, 2, 2, 3, 2, 2, 3, 3, 2, 2, 3, 2, 3, 3, 2, 3, 2, 3, 3, 3, 2, 3, 3, 3, 3, 3, 3, 3, 3, 3, 3, 3, 3, 3, 2, 3, 3, 3, 3, 3, 3, 3, 3, 3, 3, 6, 2, 3, 3, 3, 2, 3, 2, 3, 3, 2, 3, 2, 3, 3, 2, 2, 3, 5, 2, 5, 3, 3, 2, 2, 3, 3, 2, 3, 3, 3, 3, 3, 2, 2, 2, 3, 2, 2, 3, 3, 3, 3, 2, 2, 3, 6, 3, 3, 2, 3, 3, 3, 3, 2, 3, 3, 3, 3, 2, 2, 3, 3, 3, 3, 3, 2, 3, 3, 6, 3, 3, 3, 3, 3, 2, 2, 3, 3, 2, 2, 3, 3, 2, 3, 3, 3, 3, 2, 2, 2, 2, 3, 3, 3, 3, 3, 2, 3, 3, 2, 3, 2, 3, 3, 3, 3, 3, 2, 3, 3, 3, 3, 3, 3, 3, 3, 2, 3, 3, 3, 3, 3, 3, 3, 3, 2, 3, 2, 3, 3, 3, 3, 3, 2, 2, 3, 2, 3, 3, 2, 3, 2, 2, 3, 3, 3, 2, 3, 3, 2, 3, 3, 2, 3, 3, 3, 3, 3, 2, 3, 2, 2, 3, 2, 3, 3, 3, 3, 3, 3, 3, 3, 3, 2, 3, 3, 2, 3, 3, 3, 3, 2, 3, 3, 2, 2, 2, 2, 2, 3, 3, 3, 2, 2, 2, 3, 3, 3, 6, 3, 2, 3, 3, 2, 2, 3, 2, 3, 3, 3, 3, 3, 3, 2, 3, 2, 2, 3, 2, 3, 3, 3, 3, 2, 3, 3, 3, 3, 3, 2, 3, 2, 3, 2, 3, 3, 3, 3, 6, 2, 3, 6, 2, 2, 3, 3, 3, 3, 3, 3, 3, 2, 3, 3, 2, 3, 2, 3, 2, 2, 3, 2, 3, 3, 3, 5, 3, 2, 3, 2, 2, 3, 2, 2, 3, 3, 3, 3, 2, 3, 2, 3, 3, 3, 3, 2, 3, 2, 3, 3, 3, 3, 2, 3, 2, 2, 2, 3, 2, 3, 3, 3, 2, 3, 3, 3, 5, 3, 2, 3, 3, 2, 6, 3, 3, 3, 3, 3, 3, 2, 2, 2, 2, 2, 3, 3, 2, 3, 3, 3, 2, 2, 2, 2, 2, 3, 3, 3, 3, 3, 3, 3, 3, 3, 2, 3, 3, 3, 3, 2, 2, 3, 3, 3, 6, 3, 3, 3, 3, 5, 3, 2, 3, 3, 2, 3, 3, 3, 3, 3, 3, 3, 2, 2, 3, 3, 3, 3, 3, 3, 3, 3, 2, 2, 3, 2, 3, 3, 2, 3, 3, 2, 3, 3, 3, 2, 2, 3, 3, 2, 2, 2, 2, 3, 3, 3, 3, 2, 3, 3, 3, 3, 3, 2, 6, 3, 2, 2, 2, 3, 3, 2, 3, 3, 3, 3, 2, 3, 3, 3, 3, 2, 2, 3, 2, 2, 3, 3, 2, 2, 2, 3, 3, 2, 3, 3, 3, 2, 3, 3, 3, 3, 3, 3, 3, 3, 2, 3, 2, 2, 3, 2, 2, 3, 3, 3, 2, 2, 3, 2, 3, 2, 3, 2, 2, 3, 3, 3, 2, 3, 3, 6, 3, 2, 3, 3, 2, 3, 3, 3, 2, 2, 3, 3, 3, 2, 2, 2, 3, 3, 3, 2, 3, 3, 3, 2, 3, 3, 3, 2, 3, 3, 3, 3, 3, 3, 3, 2, 6, 3, 3, 3, 3, 2, 3, 3, 3, 2, 3, 3, 2, 2, 3, 2, 3, 2, 3, 2, 2, 2, 2, 3, 2, 3, 2, 3, 3, 3, 2, 3, 2, 2, 3, 3, 2, 6, 3, 3, 3, 3, 3, 3, 3, 3, 2, 2, 3, 3, 3, 2, 3, 6, 2, 3, 3, 2, 2, 2, 2, 3, 2, 2, 2, 3, 3, 3, 2, 2, 3, 3, 3, 3, 3, 2, 3, 3, 2, 3, 3, 2, 3, 2, 3, 3, 5, 2, 3, 2, 3, 3, 3, 3, 3, 3, 2, 3, 3, 3, 3, 2, 3, 2, 3, 3, 3, 3, 3, 3, 2, 3, 3, 2, 3, 3, 2, 2, 3, 3, 2, 3, 2, 3, 3, 2, 3, 2, 3, 3, 2, 2, 3, 3, 2, 3, 3, 3, 2, 3, 3, 2, 3, 2, 2, 2, 3, 3, 2, 3, 2, 3, 3, 3, 3, 2, 3, 5, 3, 3, 2, 3, 2, 2, 3, 3, 3, 3, 2, 3, 3, 3, 2, 2, 3, 2, 3, 3, 3, 3, 3, 3, 2, 3, 2, 3, 2, 5, 3, 3, 2, 2, 2, 3, 2, 3, 3, 3, 3, 3, 2, 2, 3, 3, 2, 2, 2, 2, 3, 2, 3, 3, 3, 3, 2, 3, 3, 2, 6, 2, 3, 3, 3, 3, 3, 3, 3, 3, 2, 3, 3, 3, 3, 2, 3, 3, 3, 2, 3, 3, 2, 3, 3, 3, 3, 3, 3, 3, 5, 2, 2, 2, 3, 3, 3, 3, 3, 2, 3, 2, 3, 2, 3, 3, 2, 2, 2, 3, 3, 3, 2, 3, 3, 3, 6, 2, 2, 3, 2, 2, 2, 2, 3, 3, 6, 3, 2, 3, 2, 3, 3, 2, 3, 3, 3, 2, 2, 3, 3, 3, 3, 3, 3, 3, 2, 3, 3, 3, 2, 3, 3, 3, 3, 6, 3, 3, 3, 3, 3, 3, 3, 2, 3, 3, 3, 2, 2, 2, 3, 6, 2, 3, 6, 2, 3, 2, 6, 3, 3, 3, 2, 3, 3, 2, 3, 3, 3, 3, 3, 3, 2, 2, 6, 3, 3, 3, 3, 2, 2, 3, 3, 2, 2, 3, 2, 2, 2, 2, 2, 3, 2, 3, 6, 3, 2, 3, 3, 3, 2, 3, 3, 3, 2, 3, 2, 2, 6, 3, 2, 2, 3, 3, 3, 2, 3, 6, 3, 2, 2, 3, 3, 3, 3, 3, 2, 3, 3, 2, 3, 3, 3, 3, 2, 3, 3, 2, 3, 3, 3, 3, 3, 3, 3, 3, 3, 2, 3, 2, 3, 3, 3, 2, 3, 3, 3, 3, 2, 3, 3, 3, 2, 3, 2, 3, 6, 3, 2, 3, 3, 3, 2, 3, 3, 2, 3, 3, 2, 2, 3, 3, 3, 2, 3, 5, 3, 2, 3, 2, 2, 3, 3, 3, 3, 3, 3, 3, 2, 3, 3, 3, 3, 2, 3, 6, 2, 3, 3, 2, 3, 2, 3, 2, 3, 3, 3, 2, 3, 2, 3, 2, 3, 3, 3, 2, 3, 2, 3, 3, 2, 3, 6, 3, 2, 3, 3, 2, 3, 3, 3, 3, 3, 3, 3, 3, 3, 3, 3, 2, 2, 3, 5, 3, 2, 2, 3, 3, 3, 2, 3, 6, 2, 2, 3, 3, 3, 3, 2, 3, 3, 2, 3, 3, 3, 2, 3, 2, 3, 2, 3, 3, 3, 2, 3, 3, 2, 3, 3, 2, 3, 3, 3, 3, 2, 3, 2, 2, 3, 3, 3, 2, 3, 3, 3, 3, 6, 3, 2, 3, 3, 3, 2, 3, 3, 2, 3, 3, 3, 2, 2, 3, 3, 3, 3, 2, 2, 3, 2, 2, 5, 3, 3, 2, 3, 2, 2, 3, 3, 2, 2, 3, 3, 3, 5, 3, 2, 3, 3, 3, 2, 3, 3, 2, 3, 3, 3, 3, 2, 3, 3, 2, 3, 3, 3, 3, 3, 3, 3, 2, 3, 3, 5, 3, 3, 3, 3, 2, 3, 3, 3, 3, 2, 3, 2, 5, 2, 3, 2, 3, 3, 2, 3, 2, 3, 3, 3, 3, 3, 3, 3, 2, 3, 3, 3, 3, 3, 3, 3, 3, 2, 2, 3, 3, 3, 3, 3, 3, 3, 3, 3, 2, 3, 2, 3, 3, 3, 3, 3, 3, 3, 3, 3, 3, 3, 2, 3, 3, 2, 3, 3, 2, 2, 3, 3, 3, 2, 3, 2, 2, 3, 2, 3, 2, 3, 3, 3, 3, 3, 3, 3, 3, 3, 2, 3, 3, 3, 6, 3, 3, 3, 2, 3, 3, 5, 2, 3, 3, 2, 3, 2, 3, 3, 3, 3, 6, 3, 2, 3, 3, 2, 3, 3, 2, 3, 3, 2, 3, 2, 2, 3, 2, 2, 3, 2, 3, 3, 2, 3, 3, 2, 3, 3, 3, 3, 3, 3, 3, 3, 3, 2, 3, 3, 2, 2, 3, 3, 3, 3, 3, 3, 2, 3, 3, 3, 3, 6, 3, 3, 3, 3, 2, 3, 3, 3, 2, 3, 3, 3, 3, 2, 2, 2, 2, 3, 3, 2, 3, 2, 3, 2, 3, 3, 3, 2, 2, 2, 3, 2, 3, 2, 3, 6, 2, 3, 3, 3, 3, 3, 3, 2, 3, 3, 3, 2, 5, 2, 3, 2, 3, 3, 3, 3, 3, 2, 2, 2, 2, 2, 3, 3, 3, 2, 3, 3, 2, 2, 3, 6, 2, 2, 3, 3, 2, 2, 3, 3, 3, 3, 3, 3, 3, 3, 5, 3, 2, 3, 3, 2, 2, 3, 2, 2, 3, 2, 2, 3, 3, 2, 2, 3, 3, 3, 3, 3, 3, 3, 2, 3, 2, 3, 3, 2, 2, 3, 2, 6, 2, 3, 2, 2, 3, 3, 3, 3, 2, 5, 2, 2, 3, 2, 3, 3, 2, 6, 2, 3, 3, 3, 2, 3, 3, 3, 5, 3, 3, 2, 3, 2, 6, 2, 6, 2, 3, 2, 3, 3, 3, 3, 3, 3, 3, 6, 3, 3, 3, 2, 2, 6, 3, 2, 2, 2, 3, 3, 2, 3, 3, 2, 2, 2, 3, 3, 3, 3, 2, 2, 3, 2, 3, 2, 3, 3, 3, 3, 3, 2, 2, 3, 3, 3, 3, 3, 3, 3, 2, 2, 2, 3, 3, 3, 3, 3, 3, 3, 2, 3, 3, 2, 2, 2, 3, 3, 2, 3, 3, 2, 3, 2, 3, 3, 3, 3, 3, 2, 3, 3, 3, 3, 2, 3, 2, 3, 2, 2, 3, 3, 3, 2, 3, 2, 3, 3, 2, 5, 3, 3, 3, 2, 2, 3, 3, 5, 2, 3, 3, 3, 3, 3, 2, 3, 2, 3, 3, 3, 3, 3, 2, 2, 3, 3, 3, 3, 2, 2, 3, 2, 3, 2, 2, 3, 2, 3, 3, 3, 3, 3, 3, 3, 3, 2, 2, 2, 2, 3, 2, 3, 3, 2, 2, 3, 3, 3, 3, 3, 2, 2, 2, 2, 3, 3, 3, 2, 3, 3, 3, 2, 2, 3, 3, 2, 3, 2, 3, 3, 2, 3, 6, 2, 3, 3, 3, 3, 3, 3, 3, 3, 3, 2, 2, 3, 2, 3, 3, 2, 2, 3, 2, 3, 3, 3, 2, 3, 3, 3, 3, 3, 2, 3, 3, 3, 3, 2, 3, 2, 2, 2, 3, 3, 3, 3, 3, 3, 3, 3, 3, 3, 3, 3, 3, 3, 2, 2, 3, 3, 3, 2, 3, 3, 2, 2, 3, 3, 2, 3, 3, 3, 3, 3, 3, 3, 2, 3, 3, 6, 3, 3, 3, 3, 3, 2, 3, 3, 2, 2, 3, 3, 3, 3, 2, 2, 3, 2, 3, 2, 2, 2, 3, 2, 2, 2, 3, 3, 6, 3, 2, 3, 3, 3, 3, 3, 3, 3, 3, 3, 2, 3, 3, 3, 3, 3, 3, 2, 3, 3, 2, 3, 3, 3, 3, 3, 3, 2, 3, 3, 3, 3, 2, 3, 2, 3, 2, 3, 2, 2, 3, 3, 2, 2, 3, 2, 2, 2, 3, 3, 3, 3, 3, 3, 2, 3, 3, 2, 3, 2, 3, 3, 2, 2, 3, 3, 3, 2, 3, 2, 3, 3, 3, 3, 3, 3, 3, 3, 3, 3, 3, 3, 3, 3, 3, 3, 2]\n"
     ]
    }
   ],
   "source": [
    "# temp = oj_tree.predict(X_train)\n",
    "# print(temp)\n",
    "leaf_mapping = oj_tree.apply(X_train)\n",
    "leaf_mapping\n",
    "print([leaf_mapping[i] for i in range(len(leaf_mapping))])"
   ]
  },
  {
   "cell_type": "markdown",
   "metadata": {},
   "source": [
    "What this function does is that it basically runs each observation in `X` down the tree, and returns the index of the leaf in which it lands. For example, observation 50 is mapped to leaf 3:"
   ]
  },
  {
   "cell_type": "code",
   "execution_count": 11,
   "metadata": {},
   "outputs": [
    {
     "name": "stdout",
     "output_type": "stream",
     "text": [
      "3\n",
      "Index(['AGE60', 'EDUC', 'ETHNIC', 'INCOME', 'HHLARGE', 'WORKWOM', 'HVAL150',\n",
      "       'SSTRDIST', 'SSTRVOL', 'CPDIST5', 'CPWVOL5'],\n",
      "      dtype='object')\n",
      "[ 0.13699514  0.04955029  0.5640868  10.0365751   0.21635434  0.26723395\n",
      "  0.01111797  8.36953499  1.11538462  2.10982435  0.19768396]\n"
     ]
    }
   ],
   "source": [
    "print(leaf_mapping[49])\n",
    "\n",
    "print(OJ_columns)\n",
    "print(X_train[49,])\n",
    "# EDUC = 0.04955\n",
    "# HHLARGE = 0.216\n",
    "# HVAL150 = 0.01111"
   ]
  },
  {
   "cell_type": "markdown",
   "metadata": {},
   "source": [
    "For each leaf, we can use this to determine the corresponding newsvendor quantile:"
   ]
  },
  {
   "cell_type": "code",
   "execution_count": 12,
   "metadata": {},
   "outputs": [
    {
     "name": "stdout",
     "output_type": "stream",
     "text": [
      "[2, 3, 5, 6]\n",
      "0.3000000000000001\n"
     ]
    },
    {
     "data": {
      "text/plain": [
       "array([    0.,     0.,  7424.,  4800.,     0., 17203., 13376.])"
      ]
     },
     "execution_count": 12,
     "metadata": {},
     "output_type": "execute_result"
    }
   ],
   "source": [
    "leaves = [i for i in range(oj_tree.tree_.node_count) if oj_tree.tree_.children_left[i] == -1 ]\n",
    "print(leaves)\n",
    "\n",
    "leaf_to_quantile = np.zeros( oj_tree.tree_.node_count )\n",
    "\n",
    "p = 3.00\n",
    "c = 0.7 * p # 2.10\n",
    "nv_quantile = (p - c)/p \n",
    "print(nv_quantile)\n",
    "\n",
    "for ell in leaves: # for each leaf, calculate quantile value of conditional distribution\n",
    "    ind = leaf_mapping == ell #boolean list \n",
    "    y_ell = y_train[ind] # only the y values that are in the leaf node\n",
    "    leaf_to_quantile[ell] = round(np.quantile(y_ell, nv_quantile))\n",
    "    \n",
    "leaf_to_quantile"
   ]
  },
  {
   "cell_type": "code",
   "execution_count": 13,
   "metadata": {},
   "outputs": [
    {
     "data": {
      "image/png": "[encoded data removed]",
      "text/plain": [
       "<Figure size 640x480 with 1 Axes>"
      ]
     },
     "metadata": {},
     "output_type": "display_data"
    }
   ],
   "source": [
    "ell = 5 # try 2, 3, 5, 6 #plotting conditional distributions for each leaf node\n",
    "ind = leaf_mapping == ell \n",
    "y_ell = y_train[ind]\n",
    "\n",
    "import matplotlib.pyplot as plt \n",
    "plt.hist(y_ell, bins = 30)\n",
    "plt.show()"
   ]
  },
  {
   "cell_type": "code",
   "execution_count": 2,
   "metadata": {},
   "outputs": [],
   "source": [
    "# Some stores are going to be similar, we will pool their \n",
    "# conditional distributions together and calculate the percentile of the pooled data."
   ]
  },
  {
   "cell_type": "markdown",
   "metadata": {},
   "source": [
    "This now gives us an implementable rule!\n",
    "\n",
    "<!-- :\n",
    "- For a given store, if its covariates are such that it gets mapped to leaf 2, then order 7424 units;\n",
    "- If it is mapped to leaf 3, order 4800 units;\n",
    "- If it is mapped to leaf 5, order 17203 units;\n",
    "- If it is mapped to leaf 6, order 13376 units. -->"
   ]
  },
  {
   "cell_type": "markdown",
   "metadata": {},
   "source": [
    "## Out of sample evaluation\n",
    "\n",
    "Let's now see what our out-of-sample profit would be; this is where we can use the test data.\n",
    "\n",
    "Recall that our test data consists of 2895 week-store demand observations. What we need to do is the following:\n",
    "- Map each test set observation using our tree (`oj_tree`) to the corresponding leaf.\n",
    "- Look up the quantile corresponding to that leaf.\n",
    "- Calculate the profit using the formula $p \\min(Q, D) - cQ$.\n",
    "- Average over all of the test set observations."
   ]
  },
  {
   "cell_type": "code",
   "execution_count": 14,
   "metadata": {},
   "outputs": [
    {
     "name": "stdout",
     "output_type": "stream",
     "text": [
      "[6 3 2 2 3 2 3 3 2 3]\n",
      "[13376.  4800.  7424. ...  4800. 13376.  4800.]\n",
      "Average out-of-sample profit (contextual newvendor): 4028.04113990718\n"
     ]
    }
   ],
   "source": [
    "test_set_leaves = oj_tree.apply(X_test)\n",
    "print(test_set_leaves[0:10])\n",
    "\n",
    "test_set_decisions = leaf_to_quantile[test_set_leaves]\n",
    "print(test_set_decisions)\n",
    "\n",
    "test_set_profit = p * np.minimum(test_set_decisions, y_test) - c * test_set_decisions #element-wise minimum, \n",
    "avg_test_set_profit = test_set_profit.mean(axis = 0)\n",
    "print(\"Average out-of-sample profit (contextual newvendor):\", avg_test_set_profit) #per store, per week"
   ]
  },
  {
   "cell_type": "markdown",
   "metadata": {},
   "source": [
    "So we on average have a profit of \\\\$4028 (per week, per store) where we are averaging over the 2895 week-store observations in the test set. \n",
    "\n",
    "As a comparison, let's see see what happens if we just treat all the stores as the same, and choose the same order quantity for all of them, using the ordinary newsvendor model from the previous notebook."
   ]
  },
  {
   "cell_type": "code",
   "execution_count": 15,
   "metadata": {},
   "outputs": [
    {
     "name": "stdout",
     "output_type": "stream",
     "text": [
      "Optimal ordinary newsvendor order quantity is:  5696.00000004664\n",
      "Average out-of-sample profit (ordinary newsvendor): 3639.7430051667343\n"
     ]
    }
   ],
   "source": [
    "# Find the optimal ordinary newsvendor order quantity:\n",
    "optimal_Q_nv = np.quantile(y_train, nv_quantile)\n",
    "print(\"Optimal ordinary newsvendor order quantity is: \", optimal_Q_nv) #assuming all data is the same, ignoring all demographics\n",
    "\n",
    "# Now calculate what our profit would be, for each store and week combination in the test data:\n",
    "# Profit = p * min(Q,D) - cQ\n",
    "test_set_profit_ordinary = p * np.minimum(optimal_Q_nv, y_test) - c * optimal_Q_nv\n",
    "avg_test_set_profit_ordinary = test_set_profit_ordinary.mean(axis = 0)\n",
    "print(\"Average out-of-sample profit (ordinary newsvendor):\", avg_test_set_profit_ordinary) \n",
    "#makes sense it is lower tham 4028 because if you consider all of them to be the same, \n",
    "#you find one order quantity that fits all which might not be optimal, \n",
    "#but when you find different order quantities for different stores, \n",
    "#there is more leeway for customised fitting."
   ]
  },
  {
   "cell_type": "markdown",
   "metadata": {},
   "source": [
    "Notice that if we select one order quantity for all of the stores, our profits suffer. The reason for this is that the stores are different. As we saw from the regression tree, the average demand varies with the demographic attributes. "
   ]
  }
 ],
 "metadata": {
  "kernelspec": {
   "display_name": "Python 3 (ipykernel)",
   "language": "python",
   "name": "python3"
  },
  "language_info": {
   "codemirror_mode": {
    "name": "ipython",
    "version": 3
   },
   "file_extension": ".py",
   "mimetype": "text/x-python",
   "name": "python",
   "nbconvert_exporter": "python",
   "pygments_lexer": "ipython3",
   "version": "3.11.5"
  }
 },
 "nbformat": 4,
 "nbformat_minor": 4
}
