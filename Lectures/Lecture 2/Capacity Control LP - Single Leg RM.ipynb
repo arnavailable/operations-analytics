{
 "cells": [
  {
   "cell_type": "markdown",
   "metadata": {},
   "source": [
    "# MGMTSA408 -- Lecture 2: Single-Leg Revenue Management\n",
    "\n",
    "In this notebook, we will explore how to formulate the single-leg capacity control problem using linear programming.\n",
    "\n",
    "## Formulating the static single-leg capacity control problem\n",
    "\n",
    "Let us assume that we are managing seats on a flight on a Boeing 737-800, with ten fare types. The flight departs in 200 days from now. \n",
    "\n",
    "Here is the data we are given:\n",
    "\n",
    "\n",
    "|Fare|Price|Probability|\n",
    "|-|-|-|\n",
    "|1|100|0.16|\n",
    "|2|115|0.16| \n",
    "|3|120|0.14| \n",
    "|4|140|0.10| \n",
    "|5|150|0.10|\n",
    "|6|210|0.08|\n",
    "|7|220|0.06| \n",
    "|8|400|0.05| \n",
    "|9|450|0.04| \n",
    "|10|500|0.02|\n",
    "\n",
    "The column labelled \"Price\" tells us how much one ticket of the given fare type costs, while the column labeled \"Probability\" tells us the probability of a customer requesting a fare of each type in a given period. We assume that we will observe at most one customer arrival in each period. \n",
    "\n",
    "Note that the probabilities do not add up to 1; they add up to 0.91. The remaining probability of 0.09 corresponds to not having any customer request in a period. \n",
    "\n",
    "Let's first create this data:"
   ]
  },
  {
   "cell_type": "code",
   "execution_count": 3,
   "metadata": {},
   "outputs": [
    {
     "name": "stdout",
     "output_type": "stream",
     "text": [
      "[32. 32. 28. 20. 20. 16. 12. 10.  8.  4.]\n"
     ]
    },
    {
     "data": {
      "text/plain": [
       "182.0"
      ]
     },
     "execution_count": 3,
     "metadata": {},
     "output_type": "execute_result"
    }
   ],
   "source": [
    "import numpy as np\n",
    "\n",
    "# The number of fares\n",
    "nFares = 10\n",
    "\n",
    "# Revenue for each fare type:\n",
    "revenue = np.array([100, 115, 120, 140, 150, 210, 220, 400, 450, 500])\n",
    "\n",
    "# Probability of each fare type: \n",
    "probability = np.array([0.16, 0.16, 0.14, 0.1, 0.1, 0.08, 0.06, 0.05, 0.04, 0.02])\n",
    "\n",
    "# Capacity of the flight: \n",
    "B = 160\n",
    "\n",
    "# Time horizon:\n",
    "T = 200\n",
    "\n",
    "# Finally, let us compute the forecasted demand for each fare type:\n",
    "forecast = T * probability\n",
    "print(forecast)\n",
    "\n",
    "sum(probability)\n",
    "sum(forecast)"
   ]
  },
  {
   "cell_type": "markdown",
   "metadata": {},
   "source": [
    "Now, let's go ahead with formulating the LP:"
   ]
  },
  {
   "cell_type": "code",
   "execution_count": 4,
   "metadata": {},
   "outputs": [
    {
     "name": "stdout",
     "output_type": "stream",
     "text": [
      "Gurobi Optimizer version 11.0.0 build v11.0.0rc2 (mac64[arm] - Darwin 23.2.0 23C71)\n",
      "\n",
      "CPU model: Apple M1\n",
      "Thread count: 8 physical cores, 8 logical processors, using up to 8 threads\n",
      "\n",
      "Optimize a model with 1 rows, 10 columns and 10 nonzeros\n",
      "Model fingerprint: 0x3e59c441\n",
      "Coefficient statistics:\n",
      "  Matrix range     [1e+00, 1e+00]\n",
      "  Objective range  [1e+02, 5e+02]\n",
      "  Bounds range     [4e+00, 3e+01]\n",
      "  RHS range        [2e+02, 2e+02]\n",
      "Presolve time: 0.01s\n",
      "Presolved: 1 rows, 10 columns, 10 nonzeros\n",
      "\n",
      "Iteration    Objective       Primal Inf.    Dual Inf.      Time\n",
      "       0    8.0000000e+04   3.900000e+01   0.000000e+00      0s\n",
      "       1    2.9440000e+04   0.000000e+00   0.000000e+00      0s\n",
      "\n",
      "Solved in 1 iterations and 0.01 seconds (0.00 work units)\n",
      "Optimal objective  2.944000000e+04\n",
      "Allocation, forecast, objective:\n",
      "[10. 32. 28. 20. 20. 16. 12. 10.  8.  4.]\n",
      "[32. 32. 28. 20. 20. 16. 12. 10.  8.  4.]\n",
      "29440.0\n"
     ]
    },
    {
     "data": {
      "text/plain": [
       "182.0"
      ]
     },
     "execution_count": 4,
     "metadata": {},
     "output_type": "execute_result"
    }
   ],
   "source": [
    "from gurobipy import *\n",
    "\n",
    "# Create the model\n",
    "m = Model()\n",
    "\n",
    "# Create variables.\n",
    "x = m.addVars(nFares, lb = 0, ub = forecast)\n",
    "\n",
    "# Create the seat constraint\n",
    "seat_constr = m.addConstr( sum(x[i] for i in range(nFares)) <= B )\n",
    "\n",
    "# Set the objective.\n",
    "m.setObjective(sum( revenue[i] * x[i] for i in range(nFares)), GRB.MAXIMIZE )\n",
    "\n",
    "# Update + solve:\n",
    "m.update()\n",
    "m.optimize()\n",
    "\n",
    "# Get the objective value\n",
    "LP_obj = m.objval\n",
    "\n",
    "# Get the allocation\n",
    "allocation = np.array([x[i].x for i in range(nFares)])\n",
    "\n",
    "# Display the results:\n",
    "print(\"Allocation, forecast, objective:\")\n",
    "print(allocation)\n",
    "print(forecast)\n",
    "print(LP_obj)\n",
    "\n",
    "sum(forecast)"
   ]
  },
  {
   "cell_type": "markdown",
   "metadata": {},
   "source": [
    "In the optimal solution to the static capacity control problem, we obtain a revenue of $29,440. The optimal allocation involves serving all of the demand except for the first fare type, which has the lowest price. "
   ]
  },
  {
   "cell_type": "markdown",
   "metadata": {},
   "source": [
    "## Solving the dynamic capacity control problem\n",
    "\n",
    "In practice, we have to decide whether to accept or reject requests for seats in real time. Let us now see how we can use the capacity control LP above to solve the dynamic capacity control problem.\n",
    "\n",
    "First, let us create a function that will solve the LP with a given number of available seats $b$ and for a given period $t$, and return the shadow price of the seat constraint. "
   ]
  },
  {
   "cell_type": "code",
   "execution_count": 5,
   "metadata": {},
   "outputs": [
    {
     "name": "stdout",
     "output_type": "stream",
     "text": [
      "Gurobi Optimizer version 11.0.0 build v11.0.0rc2 (mac64[arm] - Darwin 23.2.0 23C71)\n",
      "\n",
      "CPU model: Apple M1\n",
      "Thread count: 8 physical cores, 8 logical processors, using up to 8 threads\n",
      "\n",
      "Optimize a model with 1 rows, 10 columns and 10 nonzeros\n",
      "Coefficient statistics:\n",
      "  Matrix range     [1e+00, 1e+00]\n",
      "  Objective range  [1e+02, 5e+02]\n",
      "  Bounds range     [4e+00, 3e+01]\n",
      "  RHS range        [2e+02, 2e+02]\n",
      "LP warm-start: use basis\n",
      "Iteration    Objective       Primal Inf.    Dual Inf.      Time\n",
      "       0    2.9372800e+04   0.000000e+00   0.000000e+00      0s\n",
      "\n",
      "Solved in 0 iterations and 0.00 seconds (0.00 work units)\n",
      "Optimal objective  2.937280000e+04\n",
      "Gurobi Optimizer version 11.0.0 build v11.0.0rc2 (mac64[arm] - Darwin 23.2.0 23C71)\n",
      "\n",
      "CPU model: Apple M1\n",
      "Thread count: 8 physical cores, 8 logical processors, using up to 8 threads\n",
      "\n",
      "Optimize a model with 1 rows, 10 columns and 10 nonzeros\n",
      "Coefficient statistics:\n",
      "  Matrix range     [1e+00, 1e+00]\n",
      "  Objective range  [1e+02, 5e+02]\n",
      "  Bounds range     [2e+00, 2e+01]\n",
      "  RHS range        [2e+02, 2e+02]\n",
      "LP warm-start: use basis\n",
      "Iteration    Objective       Primal Inf.    Dual Inf.      Time\n",
      "       0    2.2720000e+04   3.450000e+01   0.000000e+00      0s\n",
      "       1    1.5820000e+04   0.000000e+00   0.000000e+00      0s\n",
      "\n",
      "Solved in 1 iterations and 0.00 seconds (0.00 work units)\n",
      "Optimal objective  1.582000000e+04\n",
      "Gurobi Optimizer version 11.0.0 build v11.0.0rc2 (mac64[arm] - Darwin 23.2.0 23C71)\n",
      "\n",
      "CPU model: Apple M1\n",
      "Thread count: 8 physical cores, 8 logical processors, using up to 8 threads\n",
      "\n",
      "Optimize a model with 1 rows, 10 columns and 10 nonzeros\n",
      "Coefficient statistics:\n",
      "  Matrix range     [1e+00, 1e+00]\n",
      "  Objective range  [1e+02, 5e+02]\n",
      "  Bounds range     [2e+00, 2e+01]\n",
      "  RHS range        [2e+01, 2e+01]\n",
      "LP warm-start: use basis\n",
      "Iteration    Objective       Primal Inf.    Dual Inf.      Time\n",
      "       0    1.5820000e+04   3.550000e+01   0.000000e+00      0s\n",
      "       1    6.7500000e+03   0.000000e+00   0.000000e+00      0s\n",
      "\n",
      "Solved in 1 iterations and 0.00 seconds (0.00 work units)\n",
      "Optimal objective  6.750000000e+03\n",
      "d1:  100.0\n",
      "d2:  0.0\n",
      "d3:  210.0\n"
     ]
    }
   ],
   "source": [
    "# Create the function bpc (= bid price control):\n",
    "def bpc(b,t):\n",
    "    seat_constr.rhs = b\n",
    "    \n",
    "    for i in range(nFares):\n",
    "        x[i].ub = (T - t)*probability[i] #The -1 is excluded because we are in the 0-indexed world\n",
    "    \n",
    "    m.update()\n",
    "    m.optimize()\n",
    "    \n",
    "    dual_value = seat_constr.pi\n",
    "    \n",
    "    return dual_value\n",
    "\n",
    "\n",
    "# Test it out:\n",
    "d1 = bpc(160, 1)\n",
    "d2 = bpc(160, 100)\n",
    "d3 = bpc(20, 100)\n",
    "\n",
    "print(\"d1: \", d1)\n",
    "print(\"d2: \", d2)\n",
    "print(\"d3: \", d3)"
   ]
  },
  {
   "cell_type": "markdown",
   "metadata": {},
   "source": [
    "Notice that we still see the output from Gurobi. We can turn this off by setting a parameter of the model:"
   ]
  },
  {
   "cell_type": "code",
   "execution_count": 6,
   "metadata": {},
   "outputs": [
    {
     "name": "stdout",
     "output_type": "stream",
     "text": [
      "d1:  100.0\n",
      "d2:  120.0\n",
      "d1:  100.0\n",
      "d2:  0.0\n",
      "d3:  210.0\n"
     ]
    }
   ],
   "source": [
    "# Set the OutputFlag parameter to 0 to disable logging\n",
    "m.Params.outputflag = 0\n",
    "\n",
    "# Now try the above code again:\n",
    "d1 = bpc(160, 2)\n",
    "d2 = bpc(100, 5)\n",
    "\n",
    "print(\"d1: \", d1)\n",
    "print(\"d2: \", d2)\n",
    "\n",
    "# No solver logs anymore!\n",
    "\n",
    "# Test it out:\n",
    "d1 = bpc(160, 1)\n",
    "d2 = bpc(160, 100)\n",
    "d3 = bpc(20, 100)\n",
    "\n",
    "print(\"d1: \", d1)\n",
    "print(\"d2: \", d2)\n",
    "print(\"d3: \", d3)"
   ]
  },
  {
   "cell_type": "markdown",
   "metadata": {},
   "source": [
    "We now need to create a simulation for the policy corresponding to `bpc()`. There are several steps to go through here.\n",
    "\n",
    "First, we will need to sample from a probability mass function to capture what happens in each period -- either we get a request for one of the 10 fares, or we do not get any request. We thus need to set up a proper probability mass function:"
   ]
  },
  {
   "cell_type": "code",
   "execution_count": 7,
   "metadata": {},
   "outputs": [
    {
     "data": {
      "text/plain": [
       "0.9100000000000001"
      ]
     },
     "execution_count": 7,
     "metadata": {},
     "output_type": "execute_result"
    }
   ],
   "source": [
    "sum(probability)"
   ]
  },
  {
   "cell_type": "code",
   "execution_count": 9,
   "metadata": {},
   "outputs": [
    {
     "name": "stdout",
     "output_type": "stream",
     "text": [
      "[0.16 0.16 0.14 0.1  0.1  0.08 0.06 0.05 0.04 0.02]\n",
      "[0.16 0.16 0.14 0.1  0.1  0.08 0.06 0.05 0.04 0.02 0.09]\n",
      "1.0\n"
     ]
    }
   ],
   "source": [
    "# Create a new array, probability_aug, which corresponds to a true probability\n",
    "# mass function:\n",
    "probability_aug = np.zeros(nFares+1)\n",
    "probability_aug[0:nFares] = probability # First nFares elements are the same as probability\n",
    "probability_aug[nFares] = 1 - sum(probability) # Last element is one minus the rest.\n",
    "\n",
    "# Check that it is correct:\n",
    "print(probability)\n",
    "print(probability_aug)\n",
    "print(sum(probability_aug))"
   ]
  },
  {
   "cell_type": "markdown",
   "metadata": {},
   "source": [
    "Next, we need a loop to simulate the request arrivals. "
   ]
  },
  {
   "cell_type": "code",
   "execution_count": 10,
   "metadata": {},
   "outputs": [
    {
     "name": "stdout",
     "output_type": "stream",
     "text": [
      "[ 3  4  0  2  1 10  2  6  4  0  1 10  4  1  2  2  6  0  1  0  7  0  2  0\n",
      "  4  5  2  5  3  0  6  3  5  2  5  2  2 10  0  2  0  3  3  5  6  3  6  0\n",
      "  0 10  1  0  9  3  6  4  4  0  3  7  4  2  7  2 10  2  8  7  8  0 10  3\n",
      "  5  6  6  3  0  3 10  2  7  4  3  3 10 10 10  0 10  3  3  3  9  2  4  2\n",
      "  0  1  0  5  0  2  2 10  7  5  3  1  2  1  1  0  1  2  3  0  3  3  1  5\n",
      " 10  1  3  1  1 10  6  1  3  0  4  1  3  1  8  0  1  0  2  3  8 10  0  1\n",
      "  0  5  0  0 10  0 10  4  3  7  0  8  0  4  3  4  9  3 10  1  7  7  7  6\n",
      "  3  0  1  1 10  0  1  4  8  6  1  2  3  5  1  9  1  2  1  1 10  6  1  4\n",
      "  3  9  1  2  5  8  0  2]\n"
     ]
    }
   ],
   "source": [
    "arrival_sequence = np.random.choice(range(nFares+1), T, p=probability_aug)\n",
    "print(arrival_sequence)"
   ]
  },
  {
   "cell_type": "code",
   "execution_count": 11,
   "metadata": {},
   "outputs": [
    {
     "name": "stdout",
     "output_type": "stream",
     "text": [
      "Mean revenue:  29329.25\n",
      "Mean seats remaining:  0.04\n"
     ]
    }
   ],
   "source": [
    "nSimulations = 100\n",
    "\n",
    "np.random.seed(101)\n",
    "\n",
    "results_revenue = np.zeros(nSimulations)\n",
    "results_remaining_seats = np.zeros(nSimulations)\n",
    "\n",
    "for s in range(nSimulations):\n",
    "    total_revenue = 0.0\n",
    "    b = B\n",
    "    arrival_sequence = np.random.choice(range(nFares+1), T, p=probability_aug)\n",
    "    \n",
    "    for t in range(T):\n",
    "        if (b == 0):\n",
    "            break\n",
    "        \n",
    "        fare = arrival_sequence[t]\n",
    "        \n",
    "        if (fare < nFares):\n",
    "            dual_val = bpc(b,t)\n",
    "            if (revenue[fare] >= dual_val):\n",
    "                # Accept the fare!\n",
    "                b -= 1\n",
    "                total_revenue += revenue[fare]\n",
    "    \n",
    "    results_revenue[s] = total_revenue\n",
    "    results_remaining_seats[s] = b\n",
    "    \n",
    "\n",
    "mean_LP_revenue = results_revenue.mean()\n",
    "mean_LP_remaining_seats = results_remaining_seats.mean()\n",
    "    \n",
    "print(\"Mean revenue: \", mean_LP_revenue)\n",
    "print(\"Mean seats remaining: \", mean_LP_remaining_seats)"
   ]
  },
  {
   "cell_type": "markdown",
   "metadata": {},
   "source": [
    "The optimal expected revenue is upper bounded by the optimal value of the static capacity control LP. We can thus compare the above revenue to the LP objective from earlier to see how close we are to optimality:"
   ]
  },
  {
   "cell_type": "code",
   "execution_count": 9,
   "metadata": {},
   "outputs": [
    {
     "name": "stdout",
     "output_type": "stream",
     "text": [
      "Suboptimality gap:  0.37618885869565216\n"
     ]
    }
   ],
   "source": [
    "suboptimality_gap = 100*( (LP_obj - mean_LP_revenue) / LP_obj)\n",
    "print(\"Suboptimality gap: \", suboptimality_gap)"
   ]
  },
  {
   "cell_type": "markdown",
   "metadata": {},
   "source": [
    "In other words: we are at most 0.4% away from the best possible expected revenue!"
   ]
  },
  {
   "cell_type": "markdown",
   "metadata": {},
   "source": [
    "## Simulating a myopic policy\n",
    "\n",
    "As a comparison, let us consider a different kind of policy. The following policy involves basically accepting any request, so long as there is at least one seat remaining. This type of policy is called a \"myopic\" policy because it does not take into account what types of requests may come in the future. \n",
    "\n",
    "(In contrast, the dual values from our LP-based policy are derived by accounting for how many seats remain, and how many requests of each fare type are expected in the future.)"
   ]
  },
  {
   "cell_type": "code",
   "execution_count": 10,
   "metadata": {},
   "outputs": [
    {
     "name": "stdout",
     "output_type": "stream",
     "text": [
      "Mean revenue (myopic):  27787.7\n",
      "Mean seats remaining (myopic):  0.0\n",
      "Expected number of arrivals of any kind:  182.00000000000003\n"
     ]
    }
   ],
   "source": [
    "nSimulations = 100\n",
    "\n",
    "np.random.seed(101)\n",
    "\n",
    "results_myopic_revenue = np.zeros(nSimulations)\n",
    "results_myopic_remaining_seats = np.zeros(nSimulations)\n",
    "\n",
    "for s in range(nSimulations):\n",
    "    total_revenue = 0\n",
    "    b = B\n",
    "    arrival_sequence = np.random.choice(range(nFares+1), T, p=probability_aug)\n",
    "    \n",
    "    for t in range(T):\n",
    "        if (b == 0):\n",
    "            break\n",
    "        \n",
    "        fare = arrival_sequence[t]\n",
    "        \n",
    "        if (fare < nFares):\n",
    "            # Immediately accept the fare (compare to LP-based policy above)\n",
    "            b -= 1\n",
    "            total_revenue += revenue[fare]\n",
    "    \n",
    "    results_myopic_revenue[s] = total_revenue\n",
    "    results_myopic_remaining_seats[s] = b\n",
    "\n",
    "    \n",
    "mean_myopic_revenue = results_myopic_revenue.mean()\n",
    "mean_myopic_remaining_seats = results_myopic_remaining_seats.mean()\n",
    "    \n",
    "print(\"Mean revenue (myopic): \", mean_myopic_revenue)\n",
    "print(\"Mean seats remaining (myopic): \", mean_myopic_remaining_seats)\n",
    "print(\"Expected number of arrivals of any kind: \", T * sum(probability))"
   ]
  },
  {
   "cell_type": "markdown",
   "metadata": {},
   "source": [
    "Let's compute the improvement in the average revenue:"
   ]
  },
  {
   "cell_type": "code",
   "execution_count": 11,
   "metadata": {},
   "outputs": [
    {
     "name": "stdout",
     "output_type": "stream",
     "text": [
      "Average improvement:  5.5475983978522825\n",
      "Average improvement:  5.547598397852285\n"
     ]
    }
   ],
   "source": [
    "print(\"Average improvement: \", 100*(mean_LP_revenue/mean_myopic_revenue - 1))\n",
    "print(\"Average improvement: \", 100*(mean_LP_revenue - mean_myopic_revenue) / mean_myopic_revenue)"
   ]
  },
  {
   "cell_type": "markdown",
   "metadata": {},
   "source": [
    "Notice that the myopic policy is substantially worse compared to our LP-based policy; our LP-based policy achieves about a 5.5% improvement over the myopic policy."
   ]
  },
  {
   "cell_type": "code",
   "execution_count": 12,
   "metadata": {},
   "outputs": [
    {
     "name": "stdout",
     "output_type": "stream",
     "text": [
      "Exp. profit of LP-based policy:  3329.25\n",
      "Exp. profit of myopic policy:  1787.7000000000007\n",
      "Exp. profit improvement:  86.23091122671582\n"
     ]
    }
   ],
   "source": [
    "cost = 26000\n",
    "expected_profit_LP = mean_LP_revenue - cost\n",
    "expected_profit_myopic = mean_myopic_revenue - cost\n",
    "profit_improvement = (expected_profit_LP - expected_profit_myopic) / expected_profit_myopic * 100\n",
    "print(\"Exp. profit of LP-based policy: \", expected_profit_LP)\n",
    "print(\"Exp. profit of myopic policy: \", expected_profit_myopic)\n",
    "print(\"Exp. profit improvement: \", profit_improvement)"
   ]
  }
 ],
 "metadata": {
  "kernelspec": {
   "display_name": "Python 3 (ipykernel)",
   "language": "python",
   "name": "python3"
  },
  "language_info": {
   "codemirror_mode": {
    "name": "ipython",
    "version": 3
   },
   "file_extension": ".py",
   "mimetype": "text/x-python",
   "name": "python",
   "nbconvert_exporter": "python",
   "pygments_lexer": "ipython3",
   "version": "3.11.5"
  }
 },
 "nbformat": 4,
 "nbformat_minor": 2
}
