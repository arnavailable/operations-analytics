{
 "cells": [
  {
   "cell_type": "markdown",
   "metadata": {},
   "source": [
    "# MGMTMSA 408 Lecture 1: LP Duality\n",
    "\n",
    "In this notebook we will explore the bakery example from class. \n",
    "\n",
    "## Building the model\n",
    "Let us first load Gurobi."
   ]
  },
  {
   "cell_type": "code",
   "execution_count": 1,
   "metadata": {},
   "outputs": [],
   "source": [
    "from gurobipy import *"
   ]
  },
  {
   "cell_type": "markdown",
   "metadata": {},
   "source": [
    "We will now create the model, variables, constraints and the objective."
   ]
  },
  {
   "cell_type": "code",
   "execution_count": 2,
   "metadata": {},
   "outputs": [
    {
     "name": "stdout",
     "output_type": "stream",
     "text": [
      "Set parameter Username\n",
      "Academic license - for non-commercial use only - expires 2024-11-25\n"
     ]
    }
   ],
   "source": [
    "# Create the model. \n",
    "m = Model()\n",
    "\n",
    "# Add the variables. \n",
    "# addVar() will just add a single variable.\n",
    "x_B = m.addVar()\n",
    "x_C = m.addVar()\n",
    "x_M = m.addVar()\n",
    "\n",
    "# Create the constraints. \n",
    "# Resource constraints:\n",
    "butter_constr = m.addConstr( 20*x_B + 100*x_C +  10*x_M  <= 26000)\n",
    "flour_constr =  m.addConstr(100*x_B + 50 *x_C +  0 *x_M  <= 80000)\n",
    "sugar_constr =  m.addConstr(  0*x_B + 50 *x_C + 150*x_M  <= 5000)\n",
    "\n",
    "# Nonnegativity constraints:\n",
    "# NB: we can add these explicitly. However, by default, a decision variable Gurobi is initialized\n",
    "# with a lower bound of 0, so we don't need to add these.\n",
    "# m.addConstr(x_B >= 0.0)\n",
    "# m.addConstr(x_C >= 0.0)\n",
    "# m.addConstr(x_M >= 0.0)\n",
    "\n",
    "# Create the objective function.\n",
    "m.setObjective(3*x_B + 4*x_C + 4.5*x_M, GRB.MAXIMIZE)"
   ]
  },
  {
   "cell_type": "markdown",
   "metadata": {},
   "source": [
    "That's all we need. The last thing we need to do is \"update\" the model; we must do this after we have finished making any changes to the model (e.g., adding variables/constraints or changing the objective)."
   ]
  },
  {
   "cell_type": "code",
   "execution_count": 3,
   "metadata": {},
   "outputs": [],
   "source": [
    "m.update()"
   ]
  },
  {
   "cell_type": "markdown",
   "metadata": {},
   "source": [
    "Finally, we can solve the model."
   ]
  },
  {
   "cell_type": "code",
   "execution_count": 4,
   "metadata": {},
   "outputs": [
    {
     "name": "stdout",
     "output_type": "stream",
     "text": [
      "Gurobi Optimizer version 10.0.1 build v10.0.1rc0 (mac64[rosetta2])\n",
      "\n",
      "CPU model: Apple M1 Max\n",
      "Thread count: 10 physical cores, 10 logical processors, using up to 10 threads\n",
      "\n",
      "Optimize a model with 3 rows, 3 columns and 7 nonzeros\n",
      "Model fingerprint: 0xad1e1882\n",
      "Coefficient statistics:\n",
      "  Matrix range     [1e+01, 2e+02]\n",
      "  Objective range  [3e+00, 4e+00]\n",
      "  Bounds range     [0e+00, 0e+00]\n",
      "  RHS range        [5e+03, 8e+04]\n",
      "Presolve time: 0.01s\n",
      "Presolved: 3 rows, 3 columns, 7 nonzeros\n",
      "\n",
      "Iteration    Objective       Primal Inf.    Dual Inf.      Time\n",
      "       0    7.1875000e+29   2.968750e+30   7.187500e-01      0s\n",
      "       2    2.6500000e+03   0.000000e+00   0.000000e+00      0s\n",
      "\n",
      "Solved in 2 iterations and 0.01 seconds (0.00 work units)\n",
      "Optimal objective  2.650000000e+03\n"
     ]
    }
   ],
   "source": [
    "m.optimize()"
   ]
  },
  {
   "cell_type": "markdown",
   "metadata": {},
   "source": [
    "The above output is the solution log of the Gurobi optimizer. \n",
    "\n",
    "The beginning of this log usually gives you some summary information about the problem.\n",
    "For example, how many constraints (= rows), how many variables (= columns), how sparse is the constraint matrix.\n",
    "The next piece of the output tells you the ranges of different values (the constraint matrix, the objective function coefficients, the variable bounds and the \"right hand side\", i.e., the constant terms in the constraints). We won't worry about this too much for this course (this is sometimes useful for diagnosing numerical issues).\n",
    "\n",
    "The next piece tells you the information about presolving. Solvers like Gurobi will often do some clever pre-processing to remove variables whose values can be deduced before properly solving the problem. \n",
    "\n",
    "The part that is formatted like a table (Iteration Objective ... Time) shows the progress of the solver.\n",
    "\n",
    "The last two lines indicate how long it took to solve, and the optimal objective. "
   ]
  },
  {
   "cell_type": "markdown",
   "metadata": {},
   "source": [
    "After we solve the problem, we will want to extract useful information about the problem. Here is some information we can extract."
   ]
  },
  {
   "cell_type": "code",
   "execution_count": 5,
   "metadata": {},
   "outputs": [
    {
     "name": "stdout",
     "output_type": "stream",
     "text": [
      "2\n",
      "Solved to optimality\n",
      "Number of buns:  750.0\n",
      "Number of croissants:  100.0\n",
      "Number of muffins:  0.0\n",
      "Optimal objective:  2650.0\n"
     ]
    }
   ],
   "source": [
    "# Extract the solution status. \n",
    "status = m.status\n",
    "print(status)\n",
    "if status == GRB.OPTIMAL:\n",
    "    print(\"Solved to optimality\")\n",
    "    \n",
    "# Extract the optimal values of the decision variables.\n",
    "B_value = x_B.x\n",
    "C_value = x_C.x\n",
    "M_value = x_M.x\n",
    "\n",
    "print(\"Number of buns: \", B_value)\n",
    "print(\"Number of croissants: \", C_value)\n",
    "print(\"Number of muffins: \", M_value)\n",
    "\n",
    "# Extract the optimal objective value.\n",
    "optimal_obj = m.objval\n",
    "print(\"Optimal objective: \", optimal_obj)"
   ]
  },
  {
   "cell_type": "markdown",
   "metadata": {},
   "source": [
    "So in summary:\n",
    "- The problem was solved to optimality. \n",
    "- The optimal production plan is to produce 750 buns, 100 croissants, 0 muffins\n",
    "- The total revenue will be $2650.0. "
   ]
  },
  {
   "cell_type": "markdown",
   "metadata": {},
   "source": [
    "## Formulating the dual problem\n",
    "\n",
    "Let's now formulate the dual problem.\n"
   ]
  },
  {
   "cell_type": "code",
   "execution_count": 6,
   "metadata": {},
   "outputs": [
    {
     "name": "stdout",
     "output_type": "stream",
     "text": [
      "Gurobi Optimizer version 10.0.1 build v10.0.1rc0 (mac64[rosetta2])\n",
      "\n",
      "CPU model: Apple M1 Max\n",
      "Thread count: 10 physical cores, 10 logical processors, using up to 10 threads\n",
      "\n",
      "Optimize a model with 3 rows, 3 columns and 7 nonzeros\n",
      "Model fingerprint: 0x07e6afa5\n",
      "Coefficient statistics:\n",
      "  Matrix range     [1e+01, 2e+02]\n",
      "  Objective range  [5e+03, 8e+04]\n",
      "  Bounds range     [0e+00, 0e+00]\n",
      "  RHS range        [3e+00, 4e+00]\n",
      "Presolve time: 0.00s\n",
      "Presolved: 3 rows, 3 columns, 7 nonzeros\n",
      "\n",
      "Iteration    Objective       Primal Inf.    Dual Inf.      Time\n",
      "       0    0.0000000e+00   1.156250e+00   0.000000e+00      0s\n",
      "       2    2.6500000e+03   0.000000e+00   0.000000e+00      0s\n",
      "\n",
      "Solved in 2 iterations and 0.01 seconds (0.00 work units)\n",
      "Optimal objective  2.650000000e+03\n"
     ]
    }
   ],
   "source": [
    "m_dual = Model()\n",
    "\n",
    "p_B = m_dual.addVar()\n",
    "p_F = m_dual.addVar()\n",
    "p_S = m_dual.addVar()\n",
    "\n",
    "# Create the dual constraints\n",
    "m_dual.addConstr( 20*p_B + 100 *p_F >= 3 )\n",
    "m_dual.addConstr( 100*p_B + 50 *p_F + 50 * p_S >= 4 )\n",
    "m_dual.addConstr( 10*p_B + 150 * p_S >= 4.5 )\n",
    "\n",
    "m_dual.setObjective( 26000 * p_B + 80000 * p_F + 5000 * p_S, GRB.MINIMIZE)\n",
    "\n",
    "m_dual.update()\n",
    "\n",
    "m_dual.optimize()"
   ]
  },
  {
   "cell_type": "code",
   "execution_count": 7,
   "metadata": {},
   "outputs": [
    {
     "name": "stdout",
     "output_type": "stream",
     "text": [
      "Dual variable for butter:  0.0\n",
      "Dual variable for flour:  0.03\n",
      "Dual variable for sugar:  0.05\n",
      "Dual optimal objective:  2650.0\n"
     ]
    }
   ],
   "source": [
    "p_B_value = p_B.x\n",
    "p_F_value = p_F.x\n",
    "p_S_value = p_S.x\n",
    "\n",
    "print(\"Dual variable for butter: \", p_B_value)\n",
    "print(\"Dual variable for flour: \", p_F_value)\n",
    "print(\"Dual variable for sugar: \", p_S_value)\n",
    "\n",
    "# Extract the dual optimal objective value.\n",
    "dual_optimal_obj = m_dual.objval\n",
    "print(\"Dual optimal objective: \", dual_optimal_obj)"
   ]
  },
  {
   "cell_type": "markdown",
   "metadata": {},
   "source": [
    "Notice that the optimal objective value of the dual problem is the same as the primal problem!!"
   ]
  },
  {
   "cell_type": "markdown",
   "metadata": {},
   "source": [
    "## Accessing dual information\n",
    "\n",
    "In some of the applications we will see, we will be interested in accessing the optimal dual variables or _shadow prices_ of the constraints. While we can solve the dual, we can actually access it directly from the primal problem. \n",
    "\n",
    "To access the dual variables, we can access the constraint objects we created before:"
   ]
  },
  {
   "cell_type": "code",
   "execution_count": 8,
   "metadata": {},
   "outputs": [
    {
     "name": "stdout",
     "output_type": "stream",
     "text": [
      "[0.0, 0.03, 0.05]\n"
     ]
    }
   ],
   "source": [
    "dual_values = [butter_constr.pi, flour_constr.pi, sugar_constr.pi]\n",
    "print(dual_values)"
   ]
  },
  {
   "cell_type": "markdown",
   "metadata": {},
   "source": [
    "The shadow prices tell us the marginal change in the objective function for a marginal change in the right hand side of the constraint. \n",
    "\n",
    "For example, the shadow price of the flour constraint is \\\\$0.03. Thus, if the total amount of flour in grams increases from 80,000 to 80,000 $+ \\delta$, then the total revenue should increase by \\\\$ $0.03\\delta$. \n",
    "\n",
    "An alternate interpretation is as follows: suppose we are approached by someone who offers to sell us more flour. That person charges us some unit price for the flour. The most we should pay for it, based on the shadow price, is \\\\$0.03 per gram.\n",
    "\n",
    "The shadow price for the sugar constraint has a similar interpretation: the shadow price is \\\\$0.05, so we should not pay more than \\\\$0.05 per gram for any additional quantity of sugar. \n",
    "\n",
    "Notice that the shadow price for butter is zero. In other words, increasing the available butter will not change the optimal revenue. This makes sense; to see why, let us compute how much butter is being used in the optimal solution:"
   ]
  },
  {
   "cell_type": "code",
   "execution_count": 9,
   "metadata": {},
   "outputs": [
    {
     "data": {
      "text/plain": [
       "25000.0"
      ]
     },
     "execution_count": 9,
     "metadata": {},
     "output_type": "execute_result"
    }
   ],
   "source": [
    "# Direct calculation of butter being used\n",
    "20*B_value + 100 * C_value + 10 * M_value"
   ]
  },
  {
   "cell_type": "markdown",
   "metadata": {},
   "source": [
    "Notice that the total amount of butter used in our production plan is 25,000 g -- but we had 26,000 g available! \n",
    "\n",
    "If we are not using all of the available butter, then increasing the butter will not improve our revenue.\n",
    "\n",
    "A different way to approach this is as follows. Instead of directly computing the quantity of butter used, we can compute the _slack_ of each constraint. The slack is the difference between the left and right hand sides of the constraints. In this production planning example, the slack is how much of each ingredient is left over. "
   ]
  },
  {
   "cell_type": "code",
   "execution_count": 10,
   "metadata": {},
   "outputs": [
    {
     "name": "stdout",
     "output_type": "stream",
     "text": [
      "[1000.0, 0.0, 0.0]\n"
     ]
    }
   ],
   "source": [
    "# Access the constraint slacks of the optimal solution.\n",
    "slack_values = [butter_constr.slack, flour_constr.slack, sugar_constr.slack]\n",
    "print(slack_values)"
   ]
  },
  {
   "cell_type": "markdown",
   "metadata": {},
   "source": [
    "**Question:** What do you notice about the slacks and the shadow prices? "
   ]
  },
  {
   "cell_type": "code",
   "execution_count": null,
   "metadata": {},
   "outputs": [],
   "source": []
  }
 ],
 "metadata": {
  "kernelspec": {
   "display_name": "Python 3 (ipykernel)",
   "language": "python",
   "name": "python3"
  },
  "language_info": {
   "codemirror_mode": {
    "name": "ipython",
    "version": 3
   },
   "file_extension": ".py",
   "mimetype": "text/x-python",
   "name": "python",
   "nbconvert_exporter": "python",
   "pygments_lexer": "ipython3",
   "version": "3.9.13"
  }
 },
 "nbformat": 4,
 "nbformat_minor": 2
}
